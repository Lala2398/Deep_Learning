{
 "cells": [
  {
   "cell_type": "markdown",
   "metadata": {},
   "source": [
    "<a href=\"https://www.skills.network/?utm_medium=Exinfluencer&utm_source=Exinfluencer&utm_content=000026UJ&utm_term=10006555&utm_id=NA-SkillsNetwork-Channel-SkillsNetworkCoursesIBMDeveloperSkillsNetworkDL0120ENSkillsNetwork20629446-2022-01-01\"><img src=\"https://cf-courses-data.s3.us.cloud-object-storage.appdomain.cloud/IBM-DL0120ENedX/labs/Template%20for%20Instructional%20Hands-on%20Labs/images/IDSNlogo.png\" width=\"400px\" align=\"center\"></a>\n",
    "\n",
    "<h1 align=\"center\"><font size=\"5\">RESTRICTED BOLTZMANN MACHINES</font></h1>\n"
   ]
  },
  {
   "cell_type": "markdown",
   "metadata": {},
   "source": [
    "Estimated time needed: **25** minutes\n"
   ]
  },
  {
   "cell_type": "markdown",
   "metadata": {},
   "source": [
    "<h3>Introduction</h3>\n",
    "<b>Restricted Boltzmann Machine (RBM):</b>  RBMs are shallow neural nets that learn to reconstruct data by themselves in an unsupervised fashion.  \n",
    "\n",
    "<h4>Why are RBMs important?</h4>\n",
    "An RBM are a basic form of autoencoder.  It can automatically extract <b>meaningful</b> features from a given input.\n",
    "\n",
    "<h4>How does it work?</h4>\n",
    "RBM is a 2 layer neural network. Simply, RBM takes the inputs and translates those into a set of binary values that represents them in the hidden layer. Then, these numbers can be translated back to reconstruct the inputs. Through several forward and backward passes, the RBM will be trained, and a trained RBM can reveal which features are the most important ones when detecting patterns.   \n",
    "\n",
    "<h4>What are the applications of an RBM?</h4>\n",
    "RBM is useful for <a href='http://www.cs.utoronto.ca/~hinton/absps/netflixICML.pdf?utm_medium=Exinfluencer&utm_source=Exinfluencer&utm_content=000026UJ&utm_term=10006555&utm_id=NA-SkillsNetwork-Channel-SkillsNetworkCoursesIBMDeveloperSkillsNetworkDL0120ENSkillsNetwork20629446-2022-01-01'>  Collaborative Filtering</a>, dimensionality reduction, classification, regression, feature learning, topic modeling and even <b>Deep Belief Networks</b>.\n",
    "\n",
    "<h4>Is RBM a generative or Discriminative model?</h4>\n",
    "RBM is a generative model. Let me explain it by first, see what is different between discriminative and generative models: \n",
    "\n",
    "<b>Discriminative:</b> Consider a classification problem where we want to learn to distinguish between Sedan cars (y = 1) and SUV cars (y = 0), based on some features of cars. Given a training set, an algorithm like logistic regression tries to find a straight line, or <i>decision boundary</i>, that separates the suv and sedan.\n",
    "\n",
    "<b>Generative:</b> looking at cars, we can build a model of what Sedan cars look like. Then, looking at SUVs, we can build a separate model of what SUV cars look like. Finally, to classify a new car, we can match the new car against the Sedan model, and match it against the SUV model, to see whether the new car looks more like the SUV or Sedan.\n",
    "\n",
    "Generative Models specify a probability distribution over a dataset of input vectors. We can carry out both supervised and unsupervised tasks with generative models:\n",
    "\n",
    "<ul>\n",
    "    <li>In an unsupervised task, we try to form a model for $P(x)$, where $P$ is the probability given $x$ as an input vector.</li>\n",
    "    <li>In the supervised task, we first form a model for $P(x|y)$, where $P$ is the probability of $x$ given $y$(the label for $x$). For example, if $y = 0$ indicates that a car is an SUV, and $y = 1$ indicates that a car is a sedan, then $p(x|y = 0)$ models the distribution of SUV features, and $p(x|y = 1)$ models the distribution of sedan features. If we manage to find $P(x|y)$ and $P(y)$, then we can use <b>Bayes rule</b> to estimate $P(y|x)$, because:   \n",
    "        $$p(y|x) = \\frac{p(x|y)p(y)}{p(x)}$$</li>\n",
    "</ul>\n",
    "Now the question is, can we build a generative model, and then use it to create synthetic data by directly sampling from the modeled probability distributions? Lets see. \n"
   ]
  },
  {
   "cell_type": "markdown",
   "metadata": {},
   "source": [
    "<h2>Table of Contents</h2>\n",
    "<ol>\n",
    "    <li><a href=\"https://#ref1\">Initialization</a></li>\n",
    "    <li><a href=\"https://#ref2\">RBM layers</a></li>\n",
    "    <li><a href=\"https://#ref3\">What RBM can do after training?</a></li>\n",
    "    <li><a href=\"https://#ref4\">How to train the model?</a></li>\n",
    "    <li><a href=\"https://#ref5\">Learned features</a></li>\n",
    "</ol>\n",
    "<p></p>\n",
    "</div>\n",
    "<br>\n",
    "\n",
    "<hr>\n"
   ]
  },
  {
   "cell_type": "markdown",
   "metadata": {},
   "source": [
    "<a id=\"ref1\"></a>\n",
    "\n",
    "<h3>Initialization</h3>\n",
    "\n",
    "First, we have to load the utility file which contains different utility functions that are not connected\n",
    "in any way to the networks presented in the tutorials, but rather help in\n",
    "processing the outputs into a more understandable way.\n"
   ]
  },
  {
   "cell_type": "code",
   "execution_count": 1,
   "metadata": {
    "tags": []
   },
   "outputs": [],
   "source": [
    "import urllib.request\n",
    "with urllib.request.urlopen(\"https://cf-courses-data.s3.us.cloud-object-storage.appdomain.cloud/IBMDeveloperSkillsNetwork-DL0120EN-SkillsNetwork/labs/Week4/data/utils.py\") as url:\n",
    "    response = url.read()\n",
    "target = open('utils.py', 'w')\n",
    "target.write(response.decode('utf-8'))\n",
    "target.close()"
   ]
  },
  {
   "cell_type": "markdown",
   "metadata": {},
   "source": [
    "<h2>Installing TensorFlow </h2>\n",
    "\n",
    "We will installing TensorFlow version 2.2.0 and its required prerequistes.  Also installing pillow\\...\n"
   ]
  },
  {
   "cell_type": "code",
   "execution_count": 2,
   "metadata": {
    "tags": []
   },
   "outputs": [
    {
     "name": "stdout",
     "output_type": "stream",
     "text": [
      "Collecting grpcio==1.24.3\n",
      "  Downloading grpcio-1.24.3-cp37-cp37m-manylinux2010_x86_64.whl (2.2 MB)\n",
      "\u001b[2K     \u001b[90m━━━━━━━━━━━━━━━━━━━━━━━━━━━━━━━━━━━━━━━━\u001b[0m \u001b[32m2.2/2.2 MB\u001b[0m \u001b[31m78.7 MB/s\u001b[0m eta \u001b[36m0:00:00\u001b[0m\n",
      "\u001b[?25hRequirement already satisfied: six>=1.5.2 in /home/jupyterlab/conda/envs/python/lib/python3.7/site-packages (from grpcio==1.24.3) (1.16.0)\n",
      "Installing collected packages: grpcio\n",
      "  Attempting uninstall: grpcio\n",
      "    Found existing installation: grpcio 1.48.1\n",
      "    Uninstalling grpcio-1.48.1:\n",
      "      Successfully uninstalled grpcio-1.48.1\n",
      "Successfully installed grpcio-1.24.3\n",
      "Collecting tensorflow==2.2.0\n",
      "  Downloading tensorflow-2.2.0-cp37-cp37m-manylinux2010_x86_64.whl (516.2 MB)\n",
      "\u001b[2K     \u001b[90m━━━━━━━━━━━━━━━━━━━━━━━━━━━━━━━━━━━━━\u001b[0m \u001b[32m516.2/516.2 MB\u001b[0m \u001b[31m926.3 kB/s\u001b[0m eta \u001b[36m0:00:00\u001b[0m00:01\u001b[0m00:01\u001b[0m\n",
      "\u001b[?25hRequirement already satisfied: absl-py>=0.7.0 in /home/jupyterlab/conda/envs/python/lib/python3.7/site-packages (from tensorflow==2.2.0) (1.4.0)\n",
      "Collecting astunparse==1.6.3 (from tensorflow==2.2.0)\n",
      "  Downloading astunparse-1.6.3-py2.py3-none-any.whl (12 kB)\n",
      "Collecting gast==0.3.3 (from tensorflow==2.2.0)\n",
      "  Downloading gast-0.3.3-py2.py3-none-any.whl (9.7 kB)\n",
      "Requirement already satisfied: google-pasta>=0.1.8 in /home/jupyterlab/conda/envs/python/lib/python3.7/site-packages (from tensorflow==2.2.0) (0.2.0)\n",
      "Collecting h5py<2.11.0,>=2.10.0 (from tensorflow==2.2.0)\n",
      "  Downloading h5py-2.10.0-cp37-cp37m-manylinux1_x86_64.whl (2.9 MB)\n",
      "\u001b[2K     \u001b[90m━━━━━━━━━━━━━━━━━━━━━━━━━━━━━━━━━━━━━━━━\u001b[0m \u001b[32m2.9/2.9 MB\u001b[0m \u001b[31m78.1 MB/s\u001b[0m eta \u001b[36m0:00:00\u001b[0m:00:01\u001b[0m\n",
      "\u001b[?25hRequirement already satisfied: keras-preprocessing>=1.1.0 in /home/jupyterlab/conda/envs/python/lib/python3.7/site-packages (from tensorflow==2.2.0) (1.1.2)\n",
      "Requirement already satisfied: numpy<2.0,>=1.16.0 in /home/jupyterlab/conda/envs/python/lib/python3.7/site-packages (from tensorflow==2.2.0) (1.21.6)\n",
      "Collecting opt-einsum>=2.3.2 (from tensorflow==2.2.0)\n",
      "  Downloading opt_einsum-3.3.0-py3-none-any.whl (65 kB)\n",
      "\u001b[2K     \u001b[90m━━━━━━━━━━━━━━━━━━━━━━━━━━━━━━━━━━━━━━━━\u001b[0m \u001b[32m65.5/65.5 kB\u001b[0m \u001b[31m16.3 MB/s\u001b[0m eta \u001b[36m0:00:00\u001b[0m\n",
      "\u001b[?25hRequirement already satisfied: protobuf>=3.8.0 in /home/jupyterlab/conda/envs/python/lib/python3.7/site-packages (from tensorflow==2.2.0) (4.21.8)\n",
      "Collecting tensorboard<2.3.0,>=2.2.0 (from tensorflow==2.2.0)\n",
      "  Downloading tensorboard-2.2.2-py3-none-any.whl (3.0 MB)\n",
      "\u001b[2K     \u001b[90m━━━━━━━━━━━━━━━━━━━━━━━━━━━━━━━━━━━━━━━━\u001b[0m \u001b[32m3.0/3.0 MB\u001b[0m \u001b[31m88.0 MB/s\u001b[0m eta \u001b[36m0:00:00\u001b[0m\n",
      "\u001b[?25hCollecting tensorflow-estimator<2.3.0,>=2.2.0 (from tensorflow==2.2.0)\n",
      "  Downloading tensorflow_estimator-2.2.0-py2.py3-none-any.whl (454 kB)\n",
      "\u001b[2K     \u001b[90m━━━━━━━━━━━━━━━━━━━━━━━━━━━━━━━━━━━━━━\u001b[0m \u001b[32m454.6/454.6 kB\u001b[0m \u001b[31m55.7 MB/s\u001b[0m eta \u001b[36m0:00:00\u001b[0m\n",
      "\u001b[?25hRequirement already satisfied: termcolor>=1.1.0 in /home/jupyterlab/conda/envs/python/lib/python3.7/site-packages (from tensorflow==2.2.0) (2.3.0)\n",
      "Requirement already satisfied: wrapt>=1.11.1 in /home/jupyterlab/conda/envs/python/lib/python3.7/site-packages (from tensorflow==2.2.0) (1.14.1)\n",
      "Requirement already satisfied: six>=1.12.0 in /home/jupyterlab/conda/envs/python/lib/python3.7/site-packages (from tensorflow==2.2.0) (1.16.0)\n",
      "Requirement already satisfied: grpcio>=1.8.6 in /home/jupyterlab/conda/envs/python/lib/python3.7/site-packages (from tensorflow==2.2.0) (1.24.3)\n",
      "Requirement already satisfied: wheel>=0.26 in /home/jupyterlab/conda/envs/python/lib/python3.7/site-packages (from tensorflow==2.2.0) (0.40.0)\n",
      "Collecting scipy==1.4.1 (from tensorflow==2.2.0)\n",
      "  Downloading scipy-1.4.1-cp37-cp37m-manylinux1_x86_64.whl (26.1 MB)\n",
      "\u001b[2K     \u001b[90m━━━━━━━━━━━━━━━━━━━━━━━━━━━━━━━━━━━━━━━━\u001b[0m \u001b[32m26.1/26.1 MB\u001b[0m \u001b[31m56.5 MB/s\u001b[0m eta \u001b[36m0:00:00\u001b[0m00:01\u001b[0m00:01\u001b[0m\n",
      "\u001b[?25hCollecting google-auth<2,>=1.6.3 (from tensorboard<2.3.0,>=2.2.0->tensorflow==2.2.0)\n",
      "  Downloading google_auth-1.35.0-py2.py3-none-any.whl (152 kB)\n",
      "\u001b[2K     \u001b[90m━━━━━━━━━━━━━━━━━━━━━━━━━━━━━━━━━━━━━━\u001b[0m \u001b[32m152.9/152.9 kB\u001b[0m \u001b[31m28.8 MB/s\u001b[0m eta \u001b[36m0:00:00\u001b[0m\n",
      "\u001b[?25hCollecting google-auth-oauthlib<0.5,>=0.4.1 (from tensorboard<2.3.0,>=2.2.0->tensorflow==2.2.0)\n",
      "  Downloading google_auth_oauthlib-0.4.6-py2.py3-none-any.whl (18 kB)\n",
      "Requirement already satisfied: markdown>=2.6.8 in /home/jupyterlab/conda/envs/python/lib/python3.7/site-packages (from tensorboard<2.3.0,>=2.2.0->tensorflow==2.2.0) (3.4.3)\n",
      "Requirement already satisfied: requests<3,>=2.21.0 in /home/jupyterlab/conda/envs/python/lib/python3.7/site-packages (from tensorboard<2.3.0,>=2.2.0->tensorflow==2.2.0) (2.29.0)\n",
      "Requirement already satisfied: setuptools>=41.0.0 in /home/jupyterlab/conda/envs/python/lib/python3.7/site-packages (from tensorboard<2.3.0,>=2.2.0->tensorflow==2.2.0) (67.7.2)\n",
      "Collecting tensorboard-plugin-wit>=1.6.0 (from tensorboard<2.3.0,>=2.2.0->tensorflow==2.2.0)\n",
      "  Downloading tensorboard_plugin_wit-1.8.1-py3-none-any.whl (781 kB)\n",
      "\u001b[2K     \u001b[90m━━━━━━━━━━━━━━━━━━━━━━━━━━━━━━━━━━━━━━\u001b[0m \u001b[32m781.3/781.3 kB\u001b[0m \u001b[31m65.9 MB/s\u001b[0m eta \u001b[36m0:00:00\u001b[0m\n",
      "\u001b[?25hRequirement already satisfied: werkzeug>=0.11.15 in /home/jupyterlab/conda/envs/python/lib/python3.7/site-packages (from tensorboard<2.3.0,>=2.2.0->tensorflow==2.2.0) (2.2.3)\n",
      "Collecting cachetools<5.0,>=2.0.0 (from google-auth<2,>=1.6.3->tensorboard<2.3.0,>=2.2.0->tensorflow==2.2.0)\n",
      "  Downloading cachetools-4.2.4-py3-none-any.whl (10 kB)\n",
      "Requirement already satisfied: pyasn1-modules>=0.2.1 in /home/jupyterlab/conda/envs/python/lib/python3.7/site-packages (from google-auth<2,>=1.6.3->tensorboard<2.3.0,>=2.2.0->tensorflow==2.2.0) (0.3.0)\n",
      "Collecting rsa<5,>=3.1.4 (from google-auth<2,>=1.6.3->tensorboard<2.3.0,>=2.2.0->tensorflow==2.2.0)\n",
      "  Downloading rsa-4.9-py3-none-any.whl (34 kB)\n",
      "Collecting requests-oauthlib>=0.7.0 (from google-auth-oauthlib<0.5,>=0.4.1->tensorboard<2.3.0,>=2.2.0->tensorflow==2.2.0)\n",
      "  Downloading requests_oauthlib-2.0.0-py2.py3-none-any.whl (24 kB)\n",
      "Requirement already satisfied: importlib-metadata>=4.4 in /home/jupyterlab/conda/envs/python/lib/python3.7/site-packages (from markdown>=2.6.8->tensorboard<2.3.0,>=2.2.0->tensorflow==2.2.0) (4.11.4)\n",
      "Requirement already satisfied: charset-normalizer<4,>=2 in /home/jupyterlab/conda/envs/python/lib/python3.7/site-packages (from requests<3,>=2.21.0->tensorboard<2.3.0,>=2.2.0->tensorflow==2.2.0) (3.1.0)\n",
      "Requirement already satisfied: idna<4,>=2.5 in /home/jupyterlab/conda/envs/python/lib/python3.7/site-packages (from requests<3,>=2.21.0->tensorboard<2.3.0,>=2.2.0->tensorflow==2.2.0) (3.4)\n",
      "Requirement already satisfied: urllib3<1.27,>=1.21.1 in /home/jupyterlab/conda/envs/python/lib/python3.7/site-packages (from requests<3,>=2.21.0->tensorboard<2.3.0,>=2.2.0->tensorflow==2.2.0) (1.26.15)\n",
      "Requirement already satisfied: certifi>=2017.4.17 in /home/jupyterlab/conda/envs/python/lib/python3.7/site-packages (from requests<3,>=2.21.0->tensorboard<2.3.0,>=2.2.0->tensorflow==2.2.0) (2023.5.7)\n",
      "Requirement already satisfied: MarkupSafe>=2.1.1 in /home/jupyterlab/conda/envs/python/lib/python3.7/site-packages (from werkzeug>=0.11.15->tensorboard<2.3.0,>=2.2.0->tensorflow==2.2.0) (2.1.1)\n",
      "Requirement already satisfied: zipp>=0.5 in /home/jupyterlab/conda/envs/python/lib/python3.7/site-packages (from importlib-metadata>=4.4->markdown>=2.6.8->tensorboard<2.3.0,>=2.2.0->tensorflow==2.2.0) (3.15.0)\n",
      "Requirement already satisfied: typing-extensions>=3.6.4 in /home/jupyterlab/conda/envs/python/lib/python3.7/site-packages (from importlib-metadata>=4.4->markdown>=2.6.8->tensorboard<2.3.0,>=2.2.0->tensorflow==2.2.0) (4.5.0)\n",
      "Requirement already satisfied: pyasn1<0.6.0,>=0.4.6 in /home/jupyterlab/conda/envs/python/lib/python3.7/site-packages (from pyasn1-modules>=0.2.1->google-auth<2,>=1.6.3->tensorboard<2.3.0,>=2.2.0->tensorflow==2.2.0) (0.5.0)\n",
      "Collecting oauthlib>=3.0.0 (from requests-oauthlib>=0.7.0->google-auth-oauthlib<0.5,>=0.4.1->tensorboard<2.3.0,>=2.2.0->tensorflow==2.2.0)\n",
      "  Downloading oauthlib-3.2.2-py3-none-any.whl (151 kB)\n",
      "\u001b[2K     \u001b[90m━━━━━━━━━━━━━━━━━━━━━━━━━━━━━━━━━━━━━━\u001b[0m \u001b[32m151.7/151.7 kB\u001b[0m \u001b[31m32.0 MB/s\u001b[0m eta \u001b[36m0:00:00\u001b[0m\n",
      "\u001b[?25hInstalling collected packages: tensorflow-estimator, tensorboard-plugin-wit, scipy, rsa, opt-einsum, oauthlib, h5py, gast, cachetools, astunparse, requests-oauthlib, google-auth, google-auth-oauthlib, tensorboard, tensorflow\n",
      "  Attempting uninstall: tensorflow-estimator\n",
      "    Found existing installation: tensorflow-estimator 1.14.0\n",
      "    Uninstalling tensorflow-estimator-1.14.0:\n",
      "      Successfully uninstalled tensorflow-estimator-1.14.0\n",
      "  Attempting uninstall: scipy\n",
      "    Found existing installation: scipy 1.7.3\n",
      "    Uninstalling scipy-1.7.3:\n",
      "      Successfully uninstalled scipy-1.7.3\n",
      "  Attempting uninstall: h5py\n",
      "    Found existing installation: h5py 2.8.0\n",
      "    Uninstalling h5py-2.8.0:\n",
      "      Successfully uninstalled h5py-2.8.0\n",
      "  Attempting uninstall: gast\n",
      "    Found existing installation: gast 0.5.3\n",
      "    Uninstalling gast-0.5.3:\n",
      "      Successfully uninstalled gast-0.5.3\n",
      "  Attempting uninstall: tensorboard\n",
      "    Found existing installation: tensorboard 1.14.0\n",
      "    Uninstalling tensorboard-1.14.0:\n",
      "      Successfully uninstalled tensorboard-1.14.0\n",
      "  Attempting uninstall: tensorflow\n",
      "    Found existing installation: tensorflow 1.14.0\n",
      "    Uninstalling tensorflow-1.14.0:\n",
      "      Successfully uninstalled tensorflow-1.14.0\n",
      "Successfully installed astunparse-1.6.3 cachetools-4.2.4 gast-0.3.3 google-auth-1.35.0 google-auth-oauthlib-0.4.6 h5py-2.10.0 oauthlib-3.2.2 opt-einsum-3.3.0 requests-oauthlib-2.0.0 rsa-4.9 scipy-1.4.1 tensorboard-2.2.2 tensorboard-plugin-wit-1.8.1 tensorflow-2.2.0 tensorflow-estimator-2.2.0\n",
      "Requirement already satisfied: pillow==8.1.0 in /home/jupyterlab/conda/envs/python/lib/python3.7/site-packages (8.1.0)\n"
     ]
    }
   ],
   "source": [
    "!pip install grpcio==1.24.3\n",
    "!pip install tensorflow==2.2.0\n",
    "!pip install pillow==8.1.0"
   ]
  },
  {
   "cell_type": "markdown",
   "metadata": {},
   "source": [
    "<b>Notice:</b> This notebook has been created with TensorFlow version 2.2, and might not work with other versions. Therefore we check:\n"
   ]
  },
  {
   "cell_type": "code",
   "execution_count": 3,
   "metadata": {
    "tags": []
   },
   "outputs": [],
   "source": [
    "import tensorflow as tf\n",
    "from IPython.display import Markdown, display\n",
    "\n",
    "def printmd(string):\n",
    "    display(Markdown('# <span style=\"color:red\">'+string+'</span>'))\n",
    "\n",
    "\n",
    "if not tf.__version__ == '2.2.0':\n",
    "    printmd('<<<<<!!!!! ERROR !!!! please upgrade to TensorFlow 2.2.0, or restart your Kernel (Kernel->Restart & Clear Output)>>>>>')"
   ]
  },
  {
   "cell_type": "markdown",
   "metadata": {},
   "source": [
    "Now, we load in all the packages that we use to create the net including the TensorFlow package:\n"
   ]
  },
  {
   "cell_type": "code",
   "execution_count": 4,
   "metadata": {
    "tags": []
   },
   "outputs": [],
   "source": [
    "import tensorflow as tf\n",
    "import numpy as np\n",
    "\n",
    "from PIL import Image\n",
    "from utils import tile_raster_images\n",
    "import matplotlib.pyplot as plt\n",
    "%matplotlib inline"
   ]
  },
  {
   "cell_type": "markdown",
   "metadata": {},
   "source": [
    "<hr>\n"
   ]
  },
  {
   "cell_type": "markdown",
   "metadata": {},
   "source": [
    "<a id=\"ref2\"></a>\n",
    "\n",
    "<h3>RBM layers</h3>\n",
    "\n",
    "An RBM has two layers. The first layer of the RBM is called the <b>visible</b> (or input layer). Imagine that our toy example, has only vectors with 7 values, so the visible layer must have $V=7$ input nodes.\n",
    "The second layer is the <b>hidden</b> layer, which has $H$ neurons in our case. Each hidden node takes on values of either 0 or 1 (i.e., $h_i = 1$ or $h_i$ = 0), with a probability that is a logistic function of the inputs it receives from the other $V$ visible units, called for example, $p(h_i = 1)$. For our toy sample, we'll use 2 nodes in the hidden layer, so $H = 2$.\n",
    "\n",
    "<center><img src=\"https://ibm.box.com/shared/static/eu26opvcefgls6vnwuo29uwp0nudmokh.png\" alt=\"RBM Model\" style=\"width: 400px;\"></center>\n"
   ]
  },
  {
   "cell_type": "markdown",
   "metadata": {},
   "source": [
    "Each node in the first layer also has a <b>bias</b>. We will denote the bias as $v\\_{bias}$, and this single value is shared among the $V$ visible units.\n",
    "\n",
    "The <b>bias</b> of the second is defined similarly as $h\\_{bias}$, and this single value among the $H$ hidden units.\n"
   ]
  },
  {
   "cell_type": "code",
   "execution_count": 5,
   "metadata": {
    "tags": []
   },
   "outputs": [
    {
     "name": "stderr",
     "output_type": "stream",
     "text": [
      "2024-05-13 17:43:44.604470: W tensorflow/stream_executor/platform/default/dso_loader.cc:55] Could not load dynamic library 'libcuda.so.1'; dlerror: libcuda.so.1: cannot open shared object file: No such file or directory\n",
      "2024-05-13 17:43:44.604547: E tensorflow/stream_executor/cuda/cuda_driver.cc:313] failed call to cuInit: UNKNOWN ERROR (303)\n",
      "2024-05-13 17:43:44.604587: I tensorflow/stream_executor/cuda/cuda_diagnostics.cc:156] kernel driver does not appear to be running on this host (jupyterlab-lalaibadulla): /proc/driver/nvidia/version does not exist\n",
      "2024-05-13 17:43:44.605042: I tensorflow/core/platform/cpu_feature_guard.cc:143] Your CPU supports instructions that this TensorFlow binary was not compiled to use: AVX2 AVX512F FMA\n",
      "2024-05-13 17:43:44.618118: I tensorflow/core/platform/profile_utils/cpu_utils.cc:102] CPU Frequency: 2394285000 Hz\n",
      "2024-05-13 17:43:44.618627: I tensorflow/compiler/xla/service/service.cc:168] XLA service 0x7f900c000b20 initialized for platform Host (this does not guarantee that XLA will be used). Devices:\n",
      "2024-05-13 17:43:44.618663: I tensorflow/compiler/xla/service/service.cc:176]   StreamExecutor device (0): Host, Default Version\n"
     ]
    }
   ],
   "source": [
    "v_bias = tf.Variable(tf.zeros([7]), tf.float32)\n",
    "h_bias = tf.Variable(tf.zeros([2]), tf.float32)"
   ]
  },
  {
   "cell_type": "markdown",
   "metadata": {},
   "source": [
    "We have to define weights among the input layer and hidden layer nodes. In the weight matrix, the number of rows are equal to the input nodes, and the number of columns are equal to the output nodes. We define a tensor $\\mathbf{W}$ of shape = (7,2), where the number of visible neurons = 7, and the number of hidden neurons = 2.\n"
   ]
  },
  {
   "cell_type": "code",
   "execution_count": 6,
   "metadata": {
    "tags": []
   },
   "outputs": [],
   "source": [
    "W = tf.constant(np.random.normal(loc=0.0, scale=1.0, size=(7, 2)).astype(np.float32))"
   ]
  },
  {
   "cell_type": "markdown",
   "metadata": {},
   "source": [
    "<hr>\n"
   ]
  },
  {
   "cell_type": "markdown",
   "metadata": {},
   "source": [
    "<a id=\"ref3\"></a>\n",
    "\n",
    "<h3>What RBM can do after training?</h3>\n",
    "Think of RBM as a model that has been trained based on images of a dataset of many SUV and sedan cars. Also, imagine that the RBM network has only two hidden nodes, where one node encodes the weight and, and the other encodes the size.  \n",
    "In a sense, the different configurations represent different cars, where one is an SUV and the other is Sedan.  In a training process, through many forward and backward passes, the RBM adjust its weights to send a stronger signal to either the SUV node (0, 1) or the sedan node (1, 0) in the hidden layer, given the pixels of images. Now, given an SUV in hidden layer, which distribution of pixels should we expect? RBM can give you 2 things. First, it encodes your images in hidden layer. Second, it gives you the probability of observing a case, given some hidden values.\n",
    "\n",
    "<h3>The Inference Process</h3>\n",
    "\n",
    "RBM has two phases:\n",
    "\n",
    "<ul>\n",
    "    <li>Forward Pass</li>  \n",
    "    <li>Backward Pass or Reconstruction</li>\n",
    "</ul>\n",
    "\n",
    "<b>Phase 1) Forward pass:</b>\n",
    "\n",
    "Input one training sample (one image) $\\mathbf{x}$ through all visible nodes, and pass it to all hidden nodes. Processing happens in each node in the hidden layer. This computation begins by making stochastic decisions about whether to transmit that input or not (i.e. to determine the state of each hidden layer).  First, the probability vector is computed using the input feature vector $\\mathbf{x}$, the weight matrix $\\mathbf{W}$, and the bias term $h\\_{bias}$, as\n",
    "\n",
    "$$p({h_j}|\\mathbf x)= \\sigma( \\sum\\_{i=1}^V W\\_{ij} x_i + h\\_{bias} )$$,\n",
    "\n",
    "where $\\sigma(z) = (1+e^{-z})^{-1}$ is the logistic function.\n",
    "\n",
    "So, what does $p({h_j})$ represent? It is the <b>probability distribution</b> of the hidden units. That is, RBM uses inputs $x_i$ to make predictions about hidden node activations. For example, imagine that the hidden node activation values are \\[0.51 0.84] for the first training item. It tells you that the conditional probability for each hidden neuron for Phase 1 is:\n",
    "\n",
    "$$p(h\\_{1} = 1|\\mathbf{v}) = 0.51$$\n",
    "$$p(h\\_{2} = 1|\\mathbf{v}) = 0.84$$\n",
    "\n",
    "As a result, for each row in the training set, vector of probabilities is generated.  In TensorFlow, this is referred to as a `tensor` with a shape of (1,2).\n",
    "\n",
    "We then turn unit $j$ with probability $p(h\\_{j}|\\mathbf{v})$, and turn it off with probability $1 - p(h\\_{j}|\\mathbf{v})$ by generating a uniform random number vector $\\mathbf{\\xi}$, and comparing it to the activation probability as\n",
    "\n",
    "<center>If $\\xi_j>p(h_{j}|\\mathbf{v})$, then $h_j=1$, else $h_j=0$.</center>\n",
    "\n",
    "Therefore, the conditional probability of a configuration of $\\mathbf{h}$ given $\\mathbf{v}$ (for a training sample) is:\n",
    "\n",
    "$$p(\\mathbf{h} \\mid \\mathbf{v}) = \\prod\\_{j=1}^H p(h_j \\mid \\mathbf{v})$$\n",
    "\n",
    "where $H$ is the number of hidden units.\n"
   ]
  },
  {
   "cell_type": "markdown",
   "metadata": {},
   "source": [
    "Before we go further, let's look at a toy example for one case out of all input. Assume that we have a trained RBM, and a very simple input vector, such as \\[1.0, 0.0, 0.0, 1.0, 0.0, 0.0, 0.0].\\\n",
    "Let's see what the output of forward pass would look like:\n"
   ]
  },
  {
   "cell_type": "code",
   "execution_count": 7,
   "metadata": {
    "tags": []
   },
   "outputs": [
    {
     "name": "stdout",
     "output_type": "stream",
     "text": [
      "Input:  tf.Tensor([[1. 0. 0. 1. 0. 0. 0.]], shape=(1, 7), dtype=float32)\n",
      "hb:  tf.Tensor([0.1 0.1], shape=(2,), dtype=float32)\n",
      "w:  tf.Tensor(\n",
      "[[-1.3645148   0.0622795 ]\n",
      " [-0.08723184  0.7249403 ]\n",
      " [ 0.63765365 -0.05900804]\n",
      " [ 0.9985874   1.2545075 ]\n",
      " [ 0.13843748  2.1624293 ]\n",
      " [ 0.54757005 -0.07394245]\n",
      " [ 0.47112226  0.67747146]], shape=(7, 2), dtype=float32)\n",
      "p(h|v):  tf.Tensor([[0.43390718 0.80483425]], shape=(1, 2), dtype=float32)\n",
      "h0 states: tf.Tensor([[1. 0.]], shape=(1, 2), dtype=float32)\n"
     ]
    }
   ],
   "source": [
    "X = tf.constant([[1.0, 0.0, 0.0, 1.0, 0.0, 0.0, 0.0]], tf.float32)\n",
    "\n",
    "v_state = X\n",
    "print (\"Input: \", v_state)\n",
    "\n",
    "h_bias = tf.constant([0.1, 0.1])\n",
    "print (\"hb: \", h_bias)\n",
    "print (\"w: \", W)\n",
    "\n",
    "# Calculate the probabilities of turning the hidden units on:\n",
    "h_prob = tf.nn.sigmoid(tf.matmul(v_state, W) + h_bias)  #probabilities of the hidden units\n",
    "print (\"p(h|v): \", h_prob)\n",
    "\n",
    "# Draw samples from the distribution:\n",
    "h_state = tf.nn.relu(tf.sign(h_prob - tf.random.uniform(tf.shape(h_prob)))) #states\n",
    "print (\"h0 states:\", h_state)"
   ]
  },
  {
   "cell_type": "markdown",
   "metadata": {},
   "source": [
    "<b>Phase 2) Backward Pass (Reconstruction):</b>\n",
    "The RBM reconstructs data by making several forward and backward passes between the visible and hidden layers.\n",
    "\n",
    "So, in the second phase (i.e. reconstruction phase), the samples from the hidden layer (i.e. $\\mathbf h$) becomes the input in the backward pass. The same weight matrix and visible layer biases are used to passed to the sigmoid function. The reproduced output is a reconstruction which is an approximation of the original input.\n"
   ]
  },
  {
   "cell_type": "code",
   "execution_count": 8,
   "metadata": {
    "tags": []
   },
   "outputs": [
    {
     "name": "stdout",
     "output_type": "stream",
     "text": [
      "b:  tf.Tensor([0.1 0.2 0.1 0.1 0.1 0.2 0.1], shape=(7,), dtype=float32)\n",
      "p(vi∣h):  tf.Tensor(\n",
      "[[0.22019766 0.5281622  0.67648256 0.74999535 0.55932856 0.678649\n",
      "  0.6390221 ]], shape=(1, 7), dtype=float32)\n",
      "v probability states:  tf.Tensor([[0. 0. 1. 1. 1. 0. 1.]], shape=(1, 7), dtype=float32)\n"
     ]
    }
   ],
   "source": [
    "vb = tf.constant([0.1, 0.2, 0.1, 0.1, 0.1, 0.2, 0.1])\n",
    "print (\"b: \", vb)\n",
    "v_prob = tf.nn.sigmoid(tf.matmul(h_state, tf.transpose(W)) + vb)\n",
    "print (\"p(vi∣h): \", v_prob)\n",
    "v_state = tf.nn.relu(tf.sign(v_prob - tf.random.uniform(tf.shape(v_prob))))\n",
    "print (\"v probability states: \", v_state)"
   ]
  },
  {
   "cell_type": "markdown",
   "metadata": {},
   "source": [
    "RBM learns a probability distribution over the input, and then, after being trained, the RBM can generate new samples from the learned probability distribution. As you know, <b>probability distribution</b>, is a mathematical function that provides the probabilities of occurrence of different possible outcomes in an experiment.\n",
    "\n",
    "The (conditional) probability distribution over the visible units v is given by\n",
    "\n",
    "$$p(\\mathbf{v} \\mid \\mathbf{h}) = \\prod\\_{i=1}^V p(v_i \\mid \\mathbf{h}),$$\n",
    "\n",
    "where,\n",
    "\n",
    "$$p(v_i \\mid \\mathbf{h}) = \\sigma\\left(\\sum\\_{j=1}^H W\\_{ji} h_j + v\\_{bias} \\right)$$\n",
    "\n",
    "so, given current state of hidden units and weights, what is the probability of generating \\[1. 0. 0. 1. 0. 0. 0.] in reconstruction phase, based on the above <b>probability distribution</b> function?\n"
   ]
  },
  {
   "cell_type": "code",
   "execution_count": 9,
   "metadata": {
    "tags": []
   },
   "outputs": [
    {
     "name": "stdout",
     "output_type": "stream",
     "text": [
      "input X: [[1. 0. 0. 1. 0. 0. 0.]]\n",
      "probablity vector: [0.22019766 0.5281622  0.67648256 0.74999535 0.55932856 0.678649\n",
      " 0.6390221 ]\n",
      "probability of generating X:  0.0012886557\n"
     ]
    }
   ],
   "source": [
    "inp = X\n",
    "print(\"input X:\" , inp.numpy())\n",
    "\n",
    "print(\"probablity vector:\" , v_prob[0].numpy())\n",
    "v_probability = 1\n",
    "\n",
    "for elm, p in zip(inp[0],v_prob[0]) :\n",
    "    if elm ==1:\n",
    "        v_probability *= p\n",
    "    else:\n",
    "        v_probability *= (1-p)\n",
    "\n",
    "print(\"probability of generating X: \" , v_probability.numpy())"
   ]
  },
  {
   "cell_type": "markdown",
   "metadata": {},
   "source": [
    "How similar are vectors $\\mathbf{x}$ and $\\mathbf{v}$? Of course, the reconstructed values most likely will not look anything like the input vector, because our network has not been trained yet. Our objective is to train the model in such a way that the input vector and reconstructed vector to be same. Therefore, based on how different the input values look to the ones that we just reconstructed, the weights are adjusted.\n"
   ]
  },
  {
   "cell_type": "markdown",
   "metadata": {},
   "source": [
    "<hr>\n"
   ]
  },
  {
   "cell_type": "markdown",
   "metadata": {},
   "source": [
    "<h2>MNIST</h2>\n"
   ]
  },
  {
   "cell_type": "markdown",
   "metadata": {},
   "source": [
    "We will be using the MNIST dataset to practice the usage of RBMs. The following cell loads the MNIST dataset.\n"
   ]
  },
  {
   "cell_type": "code",
   "execution_count": 10,
   "metadata": {
    "tags": []
   },
   "outputs": [
    {
     "name": "stdout",
     "output_type": "stream",
     "text": [
      "Downloading data from https://storage.googleapis.com/tensorflow/tf-keras-datasets/mnist.npz\n",
      "11493376/11490434 [==============================] - 0s 0us/step\n"
     ]
    }
   ],
   "source": [
    "#loading training and test data\n",
    "mnist = tf.keras.datasets.mnist\n",
    "(trX, trY), (teX, teY) = mnist.load_data()\n",
    "\n",
    "# showing an example of the Flatten class and operation\n",
    "from tensorflow.keras.layers import Flatten\n",
    "flatten = Flatten(dtype='float32')\n",
    "trX = flatten(trX/255.0)\n",
    "trY = flatten(trY/255.0)"
   ]
  },
  {
   "cell_type": "markdown",
   "metadata": {},
   "source": [
    "Lets look at the dimension of the images.\n"
   ]
  },
  {
   "cell_type": "markdown",
   "metadata": {},
   "source": [
    "MNIST images have 784 pixels, so the visible layer must have 784 input nodes.  For our case, we'll use 50 nodes in the hidden layer, so i = 50.\n"
   ]
  },
  {
   "cell_type": "code",
   "execution_count": 11,
   "metadata": {
    "tags": []
   },
   "outputs": [],
   "source": [
    "vb = tf.Variable(tf.zeros([784]), tf.float32)\n",
    "hb = tf.Variable(tf.zeros([50]), tf.float32)"
   ]
  },
  {
   "cell_type": "markdown",
   "metadata": {},
   "source": [
    "Let $\\mathbf W$ be the Tensor of 784x50 (784 - number of visible neurons, 50 - number of hidden neurons) that represents weights between the neurons.\n"
   ]
  },
  {
   "cell_type": "code",
   "execution_count": 12,
   "metadata": {
    "tags": []
   },
   "outputs": [],
   "source": [
    "W = tf.Variable(tf.zeros([784,50]), tf.float32)"
   ]
  },
  {
   "cell_type": "markdown",
   "metadata": {},
   "source": [
    "Lets define the visible layer:\n"
   ]
  },
  {
   "cell_type": "code",
   "execution_count": 13,
   "metadata": {
    "tags": []
   },
   "outputs": [
    {
     "data": {
      "text/plain": [
       "<tf.Tensor: shape=(1, 50), dtype=float32, numpy=\n",
       "array([[0., 0., 0., 0., 0., 0., 0., 0., 0., 0., 0., 0., 0., 0., 0., 0.,\n",
       "        0., 0., 0., 0., 0., 0., 0., 0., 0., 0., 0., 0., 0., 0., 0., 0.,\n",
       "        0., 0., 0., 0., 0., 0., 0., 0., 0., 0., 0., 0., 0., 0., 0., 0.,\n",
       "        0., 0.]], dtype=float32)>"
      ]
     },
     "execution_count": 13,
     "metadata": {},
     "output_type": "execute_result"
    }
   ],
   "source": [
    "v0_state = tf.Variable(tf.zeros([784]), tf.float32)\n",
    "\n",
    "#testing to see if the matrix product works\n",
    "tf.matmul( [v0_state], W)"
   ]
  },
  {
   "cell_type": "markdown",
   "metadata": {},
   "source": [
    "Now, we can define hidden layer:\n"
   ]
  },
  {
   "cell_type": "code",
   "execution_count": 14,
   "metadata": {
    "tags": []
   },
   "outputs": [
    {
     "name": "stdout",
     "output_type": "stream",
     "text": [
      "h0_state shape:  tf.Tensor([ 1 50], shape=(2,), dtype=int32)\n",
      "first 15 hidden states:  tf.Tensor([1. 1. 0. 0. 1. 0. 1. 1. 0. 1. 0. 1. 1. 1. 0.], shape=(15,), dtype=float32)\n"
     ]
    }
   ],
   "source": [
    "#computing the hidden nodes probability vector and checking shape\n",
    "h0_prob = tf.nn.sigmoid(tf.matmul([v0_state], W) + hb)  #probabilities of the hidden units\n",
    "print(\"h0_state shape: \" , tf.shape(h0_prob))\n",
    "\n",
    "#defining a function to return only the generated hidden states \n",
    "def hidden_layer(v0_state, W, hb):\n",
    "    h0_prob = tf.nn.sigmoid(tf.matmul([v0_state], W) + hb)  #probabilities of the hidden units\n",
    "    h0_state = tf.nn.relu(tf.sign(h0_prob - tf.random.uniform(tf.shape(h0_prob)))) #sample_h_given_X\n",
    "    return h0_state\n",
    "\n",
    "\n",
    "h0_state = hidden_layer(v0_state, W, hb)\n",
    "print(\"first 15 hidden states: \", h0_state[0][0:15])"
   ]
  },
  {
   "cell_type": "markdown",
   "metadata": {},
   "source": [
    "Now, we define reconstruction part:\n"
   ]
  },
  {
   "cell_type": "code",
   "execution_count": 15,
   "metadata": {
    "tags": []
   },
   "outputs": [
    {
     "name": "stdout",
     "output_type": "stream",
     "text": [
      "hidden state shape:  (1, 50)\n",
      "v0 state shape:   (784,)\n",
      "v1 state shape:   (784,)\n"
     ]
    }
   ],
   "source": [
    "def reconstructed_output(h0_state, W, vb):\n",
    "    v1_prob = tf.nn.sigmoid(tf.matmul(h0_state, tf.transpose(W)) + vb) \n",
    "    v1_state = tf.nn.relu(tf.sign(v1_prob - tf.random.uniform(tf.shape(v1_prob)))) #sample_v_given_h\n",
    "    return v1_state[0]\n",
    "\n",
    "v1_state = reconstructed_output(h0_state, W, vb)\n",
    "print(\"hidden state shape: \", h0_state.shape)\n",
    "print(\"v0 state shape:  \", v0_state.shape)\n",
    "print(\"v1 state shape:  \", v1_state.shape)"
   ]
  },
  {
   "cell_type": "markdown",
   "metadata": {},
   "source": [
    "<h3>What is the objective function?</h3>\n",
    "\n",
    "<b>Goal</b>: Maximize the likelihood of our data being drawn from that distribution\n",
    "\n",
    "<b>Calculate error:</b>\\\n",
    "In each epoch, we compute the \"error\" as a sum of the squared difference between step 1 and step n,\n",
    "e.g the error shows the difference between the data and its reconstruction.\n",
    "\n",
    "<b>Note:</b> tf.reduce_mean computes the mean of elements across dimensions of a tensor.\n"
   ]
  },
  {
   "cell_type": "code",
   "execution_count": 16,
   "metadata": {
    "tags": []
   },
   "outputs": [
    {
     "name": "stdout",
     "output_type": "stream",
     "text": [
      "error 0.4859694\n"
     ]
    }
   ],
   "source": [
    "def error(v0_state, v1_state):\n",
    "    return tf.reduce_mean(tf.square(v0_state - v1_state))\n",
    "\n",
    "err = tf.reduce_mean(tf.square(v0_state - v1_state))\n",
    "print(\"error\" , err.numpy())"
   ]
  },
  {
   "cell_type": "markdown",
   "metadata": {},
   "source": [
    "<a id=\"ref4\"></a>\n",
    "\n",
    "<h3>Training the Model</h3>\n",
    "<b>Warning...</b> The following part is math-heavy, but you can skip it if you just want to run the cells in the next section.\n",
    "\n",
    "As mentioned, we want to give a high probability to the input data we train on. So, in order to train an RBM, we have to maximize the product of probabilities assigned to all rows $\\mathbf{v}$ (images) in the training set $\\mathbf{V}$ (a matrix, where each row of it is treated as a visible vector $\\mathbf{v}$)\n",
    "\n",
    "$$\\arg \\max_W \\prod\\_{\\mathbf{v}\\in\\mathbf{V}\\_T} p(\\mathbf{v})$$\n",
    "\n",
    "which is equivalent to maximizing the expectation of the log probability, given as\n",
    "\n",
    "$$\\arg\\max_W\\left\\[ \\mathbb{E} \\left(\\prod\\_{\\mathbf v\\in \\mathbf V}\\text{log} \\left(p(\\mathbf v)\\right) \\right) \\right].$$\n",
    "\n",
    "So, we have to update the weights $W\\_{ij}$  to increase $p(\\mathbf{v})$ for all $\\mathbf{v}$ in our training data during training. So we have to calculate the derivative:\n",
    "\n",
    "$$\\frac{\\partial \\log p(\\mathbf v)}{\\partial W\\_{ij}}$$\n",
    "\n",
    "This cannot be easily done by typical <b>gradient descent (SGD)</b>, so we can use another approach, which has 2 steps:\n",
    "\n",
    "<ol>\n",
    "    <li>Gibbs Sampling</li>\n",
    "    <li>Contrastive Divergence</li>\n",
    "</ol>    \n",
    "\n",
    "<h3>Gibbs Sampling</h3>   \n",
    "\n",
    "<h4>Gibbs Sampling Step 1</h4> \n",
    "Given an input vector $\\mathbf{v}$, we are using $p(\\mathbf{h}|\\mathbf{v})$ to predict the hidden values $\\mathbf{h}$. \n",
    "  $$p({h_j}|\\mathbf v)= \\sigma\\left(\\sum_{i=1}^V W_{ij} v_i + h_{bias} \\right)$$\n",
    "The samples are generated from this distribution by generating the uniform random variate vector $\\mathbf{\\xi} \\sim U[0,1]$ of length $H$ and comparing to the computed probabilities as\n",
    "\n",
    "<center>If $\\xi_j>p(h_{j}|\\mathbf{v})$, then $h_j=1$, else $h_j=0$.</center>\n",
    "\n",
    "<h4>Gibbs Sampling Step 2</h4> \n",
    "Then, knowing the hidden values, we use $p(\\mathbf v| \\mathbf h)$ for reconstructing of new input values v. \n",
    "\n",
    "$$p({v_i}|\\mathbf h)= \\sigma\\left(\\sum\\_{j=1}^H W^{T}*{ij} h_j + v*{bias} \\right)$$\n",
    "\n",
    "The samples are generated from this distribution by generating a uniform random variate vector $\\mathbf{\\xi} \\sim U\\[0,1]$ of length $V$ and comparing to the computed probabilities as\n",
    "\n",
    "<center>If $\\xi_i>p(v_{i}|\\mathbf{h})$, then $v_i=1$, else $v_i=0$.</center>\n",
    "\n",
    "Let vectors $\\mathbf v_k$ and $\\mathbf h_k$ be for the $k$th iteration.  In general, the $kth$ state is generrated as:\n",
    "\n",
    "<b>Iteration</b> $k$:\n",
    "\n",
    "$$\\mathbf v\\_{k-1} \\Rightarrow p(\\mathbf h\\_{k-1}|\\mathbf v\\_{k-1})\\Rightarrow \\mathbf h\\_{k-1}\\Rightarrow p(\\mathbf v\\_{k}|\\mathbf h\\_{k-1})\\Rightarrow \\mathbf v_k$$\n",
    "\n",
    "<h3>Contrastive Divergence (CD-k)</h3>\n",
    "The update of the weight matrix is done during the Contrastive Divergence step. \n",
    "\n",
    "Vectors v0 and vk are used to calculate the activation probabilities for hidden values h0 and hk. The difference between the outer products of those probabilities with input vectors v0 and vk results in the update matrix:\n",
    "\n",
    "$$\\Delta \\mathbf W_k =\\mathbf v_k \\otimes \\mathbf h_k - \\mathbf v\\_{k-1} \\otimes \\mathbf h\\_{k-1}$$\n",
    "\n",
    "Contrastive Divergence is actually matrix of values that is computed and used to adjust values of the $\\mathbf W$ matrix. Changing $\\mathbf W$ incrementally leads to training of the  $\\mathbf W$ values. Then, on each step (epoch), $\\mathbf W$ is updated using the following:\n",
    "\n",
    "$$\\mathbf W_k = \\mathbf W\\_{k-1} + \\alpha \\* \\Delta \\mathbf W_k$$\n",
    "\n",
    "Reconstruction steps:\n",
    "\n",
    "<ul>\n",
    "    <li> Get one data point from data set, like <i>x</i>, and pass it through the following steps:</li>\n",
    "\n",
    "<b>Iteration</b> $k=1$:\n",
    "\n",
    "Sampling (starting with input image)\n",
    "$$\\mathbf x = \\mathbf v\\_0 \\Rightarrow p(\\mathbf h\\_0|\\mathbf v\\_0)\\Rightarrow \\mathbf h\\_0 \\Rightarrow p(\\mathbf v\\_1|\\mathbf h\\_0)\\Rightarrow \\mathbf v\\_1$$\\\n",
    "followed by the CD-k step\n",
    "$$\\Delta \\mathbf W\\_1 =\\mathbf v\\_1 \\otimes \\mathbf h\\_1 - \\mathbf v\\_{0} \\otimes \\mathbf h\\_{0}$$\\\n",
    "$$\\mathbf W\\_1 = \\mathbf W\\_{0} + \\alpha \\* \\Delta \\mathbf W\\_1$$\n",
    "\n",
    "<li> $\\mathbf v_1$ is the reconstruction of $\\mathbf x$ sent to the next iteration).</li>\n",
    "\n",
    "<b>Iteration</b> $k=2$:\n",
    "\n",
    "Sampling (starting with $\\mathbf v\\_1$)\n",
    "\n",
    "$$\\mathbf v\\_1 \\Rightarrow p(\\mathbf h\\_1|\\mathbf v\\_1)\\Rightarrow \\mathbf h\\_1\\Rightarrow p(\\mathbf v\\_2|\\mathbf h\\_1)\\Rightarrow \\mathbf v\\_2$$\n",
    "\n",
    "followed by the CD-k step\n",
    "$$\\Delta \\mathbf W\\_2 =\\mathbf v\\_2 \\otimes \\mathbf h\\_2 - \\mathbf v\\_{1} \\otimes \\mathbf h\\_{1}$$\\\n",
    "$$\\mathbf W\\_2 = \\mathbf W\\_{1} + \\alpha \\* \\Delta \\mathbf W\\_2$$\n",
    "\n",
    "<li> $\\mathbf v_2$ is the reconstruction of $\\mathbf v_1$ sent to the next iteration).</li>    \n",
    "\n",
    "<b>Iteration</b> $k=K$:\n",
    "\n",
    "Sampling (starting with $\\mathbf v\\_{K-1}$)\n",
    "\n",
    "$$\\mathbf v\\_{K-1} \\Rightarrow p(\\mathbf h\\_{K-1}|\\mathbf v\\_{K-1})\\Rightarrow \\mathbf h\\_{K-1}\\Rightarrow p(\\mathbf v_K|\\mathbf h\\_{K-1})\\Rightarrow \\mathbf v_K$$\n",
    "\n",
    "followed by the CD-k step\n",
    "$$\\Delta \\mathbf W_K =\\mathbf v_K \\otimes \\mathbf h_K - \\mathbf v\\_{K-1} \\otimes \\mathbf h\\_{K-1}$$\\\n",
    "$$\\mathbf W_K = \\mathbf W\\_{K-1} + \\alpha \\* \\Delta \\mathbf W_K$$\n",
    "\n",
    "<b>What is $\\alpha$?</b>\\\n",
    "Here, alpha is some small step size, and is also known as the \"learning rate\".\n"
   ]
  },
  {
   "cell_type": "markdown",
   "metadata": {},
   "source": [
    "$K$ is adjustable, and good performance can be achieved with $K=1$, so that we just take one set of sampling steps per image.\n"
   ]
  },
  {
   "cell_type": "code",
   "execution_count": 17,
   "metadata": {
    "tags": []
   },
   "outputs": [],
   "source": [
    "h1_prob = tf.nn.sigmoid(tf.matmul([v1_state], W) + hb)\n",
    "h1_state = tf.nn.relu(tf.sign(h1_prob - tf.random.uniform(tf.shape(h1_prob)))) #sample_h_given_X"
   ]
  },
  {
   "cell_type": "markdown",
   "metadata": {},
   "source": [
    "Lets look at the error of the first run:\n"
   ]
  },
  {
   "cell_type": "code",
   "execution_count": 18,
   "metadata": {
    "tags": []
   },
   "outputs": [
    {
     "name": "stdout",
     "output_type": "stream",
     "text": [
      "error:  tf.Tensor(0.4859694, shape=(), dtype=float32)\n"
     ]
    }
   ],
   "source": [
    "print(\"error: \", error(v0_state, v1_state))"
   ]
  },
  {
   "cell_type": "code",
   "execution_count": 19,
   "metadata": {
    "tags": []
   },
   "outputs": [
    {
     "name": "stdout",
     "output_type": "stream",
     "text": [
      "Epoch: 0 batch #: 1  of 300 sample #: 199 reconstruction error: 0.157656\n",
      "Epoch: 0 batch #: 2  of 300 sample #: 199 reconstruction error: 0.201678\n",
      "Epoch: 0 batch #: 3  of 300 sample #: 199 reconstruction error: 0.115047\n",
      "Epoch: 0 batch #: 4  of 300 sample #: 199 reconstruction error: 0.122145\n",
      "Epoch: 0 batch #: 5  of 300 sample #: 199 reconstruction error: 0.091750\n",
      "Epoch: 0 batch #: 6  of 300 sample #: 199 reconstruction error: 0.185113\n",
      "Epoch: 0 batch #: 7  of 300 sample #: 199 reconstruction error: 0.092670\n",
      "Epoch: 0 batch #: 8  of 300 sample #: 199 reconstruction error: 0.115742\n",
      "Epoch: 0 batch #: 9  of 300 sample #: 199 reconstruction error: 0.089333\n",
      "Epoch: 0 batch #: 10  of 300 sample #: 199 reconstruction error: 0.162606\n",
      "Epoch: 0 batch #: 11  of 300 sample #: 199 reconstruction error: 0.090666\n",
      "Epoch: 0 batch #: 12  of 300 sample #: 199 reconstruction error: 0.134300\n",
      "Epoch: 0 batch #: 13  of 300 sample #: 199 reconstruction error: 0.052229\n",
      "Epoch: 0 batch #: 14  of 300 sample #: 199 reconstruction error: 0.116543\n",
      "Epoch: 0 batch #: 15  of 300 sample #: 199 reconstruction error: 0.102107\n",
      "Epoch: 0 batch #: 16  of 300 sample #: 199 reconstruction error: 0.098994\n",
      "Epoch: 0 batch #: 17  of 300 sample #: 199 reconstruction error: 0.080650\n",
      "Epoch: 0 batch #: 18  of 300 sample #: 199 reconstruction error: 0.121850\n",
      "Epoch: 0 batch #: 19  of 300 sample #: 199 reconstruction error: 0.127401\n",
      "Epoch: 0 batch #: 20  of 300 sample #: 199 reconstruction error: 0.093708\n",
      "Epoch: 0 batch #: 21  of 300 sample #: 199 reconstruction error: 0.085387\n",
      "Epoch: 0 batch #: 22  of 300 sample #: 199 reconstruction error: 0.083851\n",
      "Epoch: 0 batch #: 23  of 300 sample #: 199 reconstruction error: 0.102226\n",
      "Epoch: 0 batch #: 24  of 300 sample #: 199 reconstruction error: 0.147643\n",
      "Epoch: 0 batch #: 25  of 300 sample #: 199 reconstruction error: 0.090081\n",
      "Epoch: 0 batch #: 26  of 300 sample #: 199 reconstruction error: 0.105509\n",
      "Epoch: 0 batch #: 27  of 300 sample #: 199 reconstruction error: 0.115496\n",
      "Epoch: 0 batch #: 28  of 300 sample #: 199 reconstruction error: 0.079899\n",
      "Epoch: 0 batch #: 29  of 300 sample #: 199 reconstruction error: 0.117047\n",
      "Epoch: 0 batch #: 30  of 300 sample #: 199 reconstruction error: 0.091839\n",
      "Epoch: 0 batch #: 31  of 300 sample #: 199 reconstruction error: 0.100862\n",
      "Epoch: 0 batch #: 32  of 300 sample #: 199 reconstruction error: 0.126532\n",
      "Epoch: 0 batch #: 33  of 300 sample #: 199 reconstruction error: 0.057982\n",
      "Epoch: 0 batch #: 34  of 300 sample #: 199 reconstruction error: 0.067812\n",
      "Epoch: 0 batch #: 35  of 300 sample #: 199 reconstruction error: 0.073290\n",
      "Epoch: 0 batch #: 36  of 300 sample #: 199 reconstruction error: 0.099635\n",
      "Epoch: 0 batch #: 37  of 300 sample #: 199 reconstruction error: 0.065745\n",
      "Epoch: 0 batch #: 38  of 300 sample #: 199 reconstruction error: 0.078751\n",
      "Epoch: 0 batch #: 39  of 300 sample #: 199 reconstruction error: 0.101035\n",
      "Epoch: 0 batch #: 40  of 300 sample #: 199 reconstruction error: 0.104436\n",
      "Epoch: 0 batch #: 41  of 300 sample #: 199 reconstruction error: 0.074452\n",
      "Epoch: 0 batch #: 42  of 300 sample #: 199 reconstruction error: 0.080325\n",
      "Epoch: 0 batch #: 43  of 300 sample #: 199 reconstruction error: 0.119686\n",
      "Epoch: 0 batch #: 44  of 300 sample #: 199 reconstruction error: 0.068859\n",
      "Epoch: 0 batch #: 45  of 300 sample #: 199 reconstruction error: 0.066369\n",
      "Epoch: 0 batch #: 46  of 300 sample #: 199 reconstruction error: 0.028640\n",
      "Epoch: 0 batch #: 47  of 300 sample #: 199 reconstruction error: 0.043512\n",
      "Epoch: 0 batch #: 48  of 300 sample #: 199 reconstruction error: 0.039296\n",
      "Epoch: 0 batch #: 49  of 300 sample #: 199 reconstruction error: 0.120901\n",
      "Epoch: 0 batch #: 50  of 300 sample #: 199 reconstruction error: 0.052299\n",
      "Epoch: 0 batch #: 51  of 300 sample #: 199 reconstruction error: 0.061335\n",
      "Epoch: 0 batch #: 52  of 300 sample #: 199 reconstruction error: 0.032184\n",
      "Epoch: 0 batch #: 53  of 300 sample #: 199 reconstruction error: 0.104526\n",
      "Epoch: 0 batch #: 54  of 300 sample #: 199 reconstruction error: 0.071222\n",
      "Epoch: 0 batch #: 55  of 300 sample #: 199 reconstruction error: 0.117032\n",
      "Epoch: 0 batch #: 56  of 300 sample #: 199 reconstruction error: 0.059427\n",
      "Epoch: 0 batch #: 57  of 300 sample #: 199 reconstruction error: 0.042002\n",
      "Epoch: 0 batch #: 58  of 300 sample #: 199 reconstruction error: 0.067099\n",
      "Epoch: 0 batch #: 59  of 300 sample #: 199 reconstruction error: 0.062303\n",
      "Epoch: 0 batch #: 60  of 300 sample #: 199 reconstruction error: 0.104889\n",
      "Epoch: 0 batch #: 61  of 300 sample #: 199 reconstruction error: 0.073744\n",
      "Epoch: 0 batch #: 62  of 300 sample #: 199 reconstruction error: 0.082204\n",
      "Epoch: 0 batch #: 63  of 300 sample #: 199 reconstruction error: 0.049339\n",
      "Epoch: 0 batch #: 64  of 300 sample #: 199 reconstruction error: 0.086073\n",
      "Epoch: 0 batch #: 65  of 300 sample #: 199 reconstruction error: 0.072324\n",
      "Epoch: 0 batch #: 66  of 300 sample #: 199 reconstruction error: 0.071475\n",
      "Epoch: 0 batch #: 67  of 300 sample #: 199 reconstruction error: 0.060804\n",
      "Epoch: 0 batch #: 68  of 300 sample #: 199 reconstruction error: 0.058151\n",
      "Epoch: 0 batch #: 69  of 300 sample #: 199 reconstruction error: 0.073768\n",
      "Epoch: 0 batch #: 70  of 300 sample #: 199 reconstruction error: 0.083053\n",
      "Epoch: 0 batch #: 71  of 300 sample #: 199 reconstruction error: 0.077531\n",
      "Epoch: 0 batch #: 72  of 300 sample #: 199 reconstruction error: 0.061625\n",
      "Epoch: 0 batch #: 73  of 300 sample #: 199 reconstruction error: 0.086208\n",
      "Epoch: 0 batch #: 74  of 300 sample #: 199 reconstruction error: 0.088182\n",
      "Epoch: 0 batch #: 75  of 300 sample #: 199 reconstruction error: 0.051629\n",
      "Epoch: 0 batch #: 76  of 300 sample #: 199 reconstruction error: 0.070378\n",
      "Epoch: 0 batch #: 77  of 300 sample #: 199 reconstruction error: 0.104920\n",
      "Epoch: 0 batch #: 78  of 300 sample #: 199 reconstruction error: 0.088693\n",
      "Epoch: 0 batch #: 79  of 300 sample #: 199 reconstruction error: 0.097523\n",
      "Epoch: 0 batch #: 80  of 300 sample #: 199 reconstruction error: 0.041955\n",
      "Epoch: 0 batch #: 81  of 300 sample #: 199 reconstruction error: 0.051429\n",
      "Epoch: 0 batch #: 82  of 300 sample #: 199 reconstruction error: 0.062234\n",
      "Epoch: 0 batch #: 83  of 300 sample #: 199 reconstruction error: 0.069517\n",
      "Epoch: 0 batch #: 84  of 300 sample #: 199 reconstruction error: 0.088207\n",
      "Epoch: 0 batch #: 85  of 300 sample #: 199 reconstruction error: 0.050090\n",
      "Epoch: 0 batch #: 86  of 300 sample #: 199 reconstruction error: 0.083738\n",
      "Epoch: 0 batch #: 87  of 300 sample #: 199 reconstruction error: 0.096749\n",
      "Epoch: 0 batch #: 88  of 300 sample #: 199 reconstruction error: 0.025971\n",
      "Epoch: 0 batch #: 89  of 300 sample #: 199 reconstruction error: 0.076445\n",
      "Epoch: 0 batch #: 90  of 300 sample #: 199 reconstruction error: 0.080437\n",
      "Epoch: 0 batch #: 91  of 300 sample #: 199 reconstruction error: 0.052563\n",
      "Epoch: 0 batch #: 92  of 300 sample #: 199 reconstruction error: 0.072706\n",
      "Epoch: 0 batch #: 93  of 300 sample #: 199 reconstruction error: 0.106149\n",
      "Epoch: 0 batch #: 94  of 300 sample #: 199 reconstruction error: 0.120337\n",
      "Epoch: 0 batch #: 95  of 300 sample #: 199 reconstruction error: 0.081702\n",
      "Epoch: 0 batch #: 96  of 300 sample #: 199 reconstruction error: 0.051789\n",
      "Epoch: 0 batch #: 97  of 300 sample #: 199 reconstruction error: 0.106580\n",
      "Epoch: 0 batch #: 98  of 300 sample #: 199 reconstruction error: 0.088149\n",
      "Epoch: 0 batch #: 99  of 300 sample #: 199 reconstruction error: 0.057511\n",
      "Epoch: 0 batch #: 100  of 300 sample #: 199 reconstruction error: 0.098779\n",
      "Epoch: 0 batch #: 101  of 300 sample #: 199 reconstruction error: 0.064854\n",
      "Epoch: 0 batch #: 102  of 300 sample #: 199 reconstruction error: 0.094392\n",
      "Epoch: 0 batch #: 103  of 300 sample #: 199 reconstruction error: 0.086608\n",
      "Epoch: 0 batch #: 104  of 300 sample #: 199 reconstruction error: 0.061334\n",
      "Epoch: 0 batch #: 105  of 300 sample #: 199 reconstruction error: 0.057655\n",
      "Epoch: 0 batch #: 106  of 300 sample #: 199 reconstruction error: 0.103811\n",
      "Epoch: 0 batch #: 107  of 300 sample #: 199 reconstruction error: 0.137953\n",
      "Epoch: 0 batch #: 108  of 300 sample #: 199 reconstruction error: 0.068922\n",
      "Epoch: 0 batch #: 109  of 300 sample #: 199 reconstruction error: 0.113701\n",
      "Epoch: 0 batch #: 110  of 300 sample #: 199 reconstruction error: 0.057426\n",
      "Epoch: 0 batch #: 111  of 300 sample #: 199 reconstruction error: 0.103048\n",
      "Epoch: 0 batch #: 112  of 300 sample #: 199 reconstruction error: 0.043647\n",
      "Epoch: 0 batch #: 113  of 300 sample #: 199 reconstruction error: 0.064500\n",
      "Epoch: 0 batch #: 114  of 300 sample #: 199 reconstruction error: 0.071003\n",
      "Epoch: 0 batch #: 115  of 300 sample #: 199 reconstruction error: 0.072341\n",
      "Epoch: 0 batch #: 116  of 300 sample #: 199 reconstruction error: 0.050750\n",
      "Epoch: 0 batch #: 117  of 300 sample #: 199 reconstruction error: 0.050611\n",
      "Epoch: 0 batch #: 118  of 300 sample #: 199 reconstruction error: 0.086281\n",
      "Epoch: 0 batch #: 119  of 300 sample #: 199 reconstruction error: 0.109732\n",
      "Epoch: 0 batch #: 120  of 300 sample #: 199 reconstruction error: 0.076196\n",
      "Epoch: 0 batch #: 121  of 300 sample #: 199 reconstruction error: 0.054222\n",
      "Epoch: 0 batch #: 122  of 300 sample #: 199 reconstruction error: 0.100567\n",
      "Epoch: 0 batch #: 123  of 300 sample #: 199 reconstruction error: 0.061247\n",
      "Epoch: 0 batch #: 124  of 300 sample #: 199 reconstruction error: 0.072764\n",
      "Epoch: 0 batch #: 125  of 300 sample #: 199 reconstruction error: 0.053159\n",
      "Epoch: 0 batch #: 126  of 300 sample #: 199 reconstruction error: 0.097727\n",
      "Epoch: 0 batch #: 127  of 300 sample #: 199 reconstruction error: 0.095017\n",
      "Epoch: 0 batch #: 128  of 300 sample #: 199 reconstruction error: 0.068757\n",
      "Epoch: 0 batch #: 129  of 300 sample #: 199 reconstruction error: 0.054091\n",
      "Epoch: 0 batch #: 130  of 300 sample #: 199 reconstruction error: 0.075314\n",
      "Epoch: 0 batch #: 131  of 300 sample #: 199 reconstruction error: 0.057920\n",
      "Epoch: 0 batch #: 132  of 300 sample #: 199 reconstruction error: 0.048632\n",
      "Epoch: 0 batch #: 133  of 300 sample #: 199 reconstruction error: 0.059711\n",
      "Epoch: 0 batch #: 134  of 300 sample #: 199 reconstruction error: 0.094972\n",
      "Epoch: 0 batch #: 135  of 300 sample #: 199 reconstruction error: 0.106243\n",
      "Epoch: 0 batch #: 136  of 300 sample #: 199 reconstruction error: 0.096322\n",
      "Epoch: 0 batch #: 137  of 300 sample #: 199 reconstruction error: 0.068906\n",
      "Epoch: 0 batch #: 138  of 300 sample #: 199 reconstruction error: 0.087803\n",
      "Epoch: 0 batch #: 139  of 300 sample #: 199 reconstruction error: 0.126046\n",
      "Epoch: 0 batch #: 140  of 300 sample #: 199 reconstruction error: 0.075851\n",
      "Epoch: 0 batch #: 141  of 300 sample #: 199 reconstruction error: 0.085506\n",
      "Epoch: 0 batch #: 142  of 300 sample #: 199 reconstruction error: 0.060255\n",
      "Epoch: 0 batch #: 143  of 300 sample #: 199 reconstruction error: 0.060488\n",
      "Epoch: 0 batch #: 144  of 300 sample #: 199 reconstruction error: 0.077997\n",
      "Epoch: 0 batch #: 145  of 300 sample #: 199 reconstruction error: 0.103606\n",
      "Epoch: 0 batch #: 146  of 300 sample #: 199 reconstruction error: 0.108121\n",
      "Epoch: 0 batch #: 147  of 300 sample #: 199 reconstruction error: 0.069815\n",
      "Epoch: 0 batch #: 148  of 300 sample #: 199 reconstruction error: 0.094202\n",
      "Epoch: 0 batch #: 149  of 300 sample #: 199 reconstruction error: 0.038490\n",
      "Epoch: 0 batch #: 150  of 300 sample #: 199 reconstruction error: 0.051738\n",
      "Epoch: 0 batch #: 151  of 300 sample #: 199 reconstruction error: 0.102620\n",
      "Epoch: 0 batch #: 152  of 300 sample #: 199 reconstruction error: 0.090472\n",
      "Epoch: 0 batch #: 153  of 300 sample #: 199 reconstruction error: 0.067440\n",
      "Epoch: 0 batch #: 154  of 300 sample #: 199 reconstruction error: 0.072152\n",
      "Epoch: 0 batch #: 155  of 300 sample #: 199 reconstruction error: 0.066314\n",
      "Epoch: 0 batch #: 156  of 300 sample #: 199 reconstruction error: 0.079378\n",
      "Epoch: 0 batch #: 157  of 300 sample #: 199 reconstruction error: 0.087212\n",
      "Epoch: 0 batch #: 158  of 300 sample #: 199 reconstruction error: 0.062221\n",
      "Epoch: 0 batch #: 159  of 300 sample #: 199 reconstruction error: 0.079614\n",
      "Epoch: 0 batch #: 160  of 300 sample #: 199 reconstruction error: 0.068292\n",
      "Epoch: 0 batch #: 161  of 300 sample #: 199 reconstruction error: 0.089052\n",
      "Epoch: 0 batch #: 162  of 300 sample #: 199 reconstruction error: 0.124338\n",
      "Epoch: 0 batch #: 163  of 300 sample #: 199 reconstruction error: 0.044039\n",
      "Epoch: 0 batch #: 164  of 300 sample #: 199 reconstruction error: 0.076140\n",
      "Epoch: 0 batch #: 165  of 300 sample #: 199 reconstruction error: 0.087342\n",
      "Epoch: 0 batch #: 166  of 300 sample #: 199 reconstruction error: 0.058930\n",
      "Epoch: 0 batch #: 167  of 300 sample #: 199 reconstruction error: 0.083078\n",
      "Epoch: 0 batch #: 168  of 300 sample #: 199 reconstruction error: 0.068829\n",
      "Epoch: 0 batch #: 169  of 300 sample #: 199 reconstruction error: 0.035640\n",
      "Epoch: 0 batch #: 170  of 300 sample #: 199 reconstruction error: 0.060404\n",
      "Epoch: 0 batch #: 171  of 300 sample #: 199 reconstruction error: 0.036603\n",
      "Epoch: 0 batch #: 172  of 300 sample #: 199 reconstruction error: 0.050677\n",
      "Epoch: 0 batch #: 173  of 300 sample #: 199 reconstruction error: 0.082263\n",
      "Epoch: 0 batch #: 174  of 300 sample #: 199 reconstruction error: 0.110319\n",
      "Epoch: 0 batch #: 175  of 300 sample #: 199 reconstruction error: 0.081767\n",
      "Epoch: 0 batch #: 176  of 300 sample #: 199 reconstruction error: 0.051333\n",
      "Epoch: 0 batch #: 177  of 300 sample #: 199 reconstruction error: 0.042240\n",
      "Epoch: 0 batch #: 178  of 300 sample #: 199 reconstruction error: 0.105280\n",
      "Epoch: 0 batch #: 179  of 300 sample #: 199 reconstruction error: 0.080802\n",
      "Epoch: 0 batch #: 180  of 300 sample #: 199 reconstruction error: 0.087583\n",
      "Epoch: 0 batch #: 181  of 300 sample #: 199 reconstruction error: 0.105121\n",
      "Epoch: 0 batch #: 182  of 300 sample #: 199 reconstruction error: 0.071154\n",
      "Epoch: 0 batch #: 183  of 300 sample #: 199 reconstruction error: 0.108194\n",
      "Epoch: 0 batch #: 184  of 300 sample #: 199 reconstruction error: 0.056420\n",
      "Epoch: 0 batch #: 185  of 300 sample #: 199 reconstruction error: 0.068702\n",
      "Epoch: 0 batch #: 186  of 300 sample #: 199 reconstruction error: 0.098817\n",
      "Epoch: 0 batch #: 187  of 300 sample #: 199 reconstruction error: 0.065776\n",
      "Epoch: 0 batch #: 188  of 300 sample #: 199 reconstruction error: 0.110690\n",
      "Epoch: 0 batch #: 189  of 300 sample #: 199 reconstruction error: 0.065712\n",
      "Epoch: 0 batch #: 190  of 300 sample #: 199 reconstruction error: 0.077439\n",
      "Epoch: 0 batch #: 191  of 300 sample #: 199 reconstruction error: 0.112216\n",
      "Epoch: 0 batch #: 192  of 300 sample #: 199 reconstruction error: 0.135045\n",
      "Epoch: 0 batch #: 193  of 300 sample #: 199 reconstruction error: 0.096976\n",
      "Epoch: 0 batch #: 194  of 300 sample #: 199 reconstruction error: 0.066984\n",
      "Epoch: 0 batch #: 195  of 300 sample #: 199 reconstruction error: 0.050175\n",
      "Epoch: 0 batch #: 196  of 300 sample #: 199 reconstruction error: 0.052890\n",
      "Epoch: 0 batch #: 197  of 300 sample #: 199 reconstruction error: 0.064083\n",
      "Epoch: 0 batch #: 198  of 300 sample #: 199 reconstruction error: 0.088088\n",
      "Epoch: 0 batch #: 199  of 300 sample #: 199 reconstruction error: 0.080444\n",
      "Epoch: 0 batch #: 200  of 300 sample #: 199 reconstruction error: 0.107148\n",
      "Epoch: 0 batch #: 201  of 300 sample #: 199 reconstruction error: 0.093259\n",
      "Epoch: 0 batch #: 202  of 300 sample #: 199 reconstruction error: 0.029339\n",
      "Epoch: 0 batch #: 203  of 300 sample #: 199 reconstruction error: 0.085069\n",
      "Epoch: 0 batch #: 204  of 300 sample #: 199 reconstruction error: 0.051640\n",
      "Epoch: 0 batch #: 205  of 300 sample #: 199 reconstruction error: 0.026943\n",
      "Epoch: 0 batch #: 206  of 300 sample #: 199 reconstruction error: 0.072926\n",
      "Epoch: 0 batch #: 207  of 300 sample #: 199 reconstruction error: 0.079882\n",
      "Epoch: 0 batch #: 208  of 300 sample #: 199 reconstruction error: 0.052449\n",
      "Epoch: 0 batch #: 209  of 300 sample #: 199 reconstruction error: 0.023683\n",
      "Epoch: 0 batch #: 210  of 300 sample #: 199 reconstruction error: 0.109466\n",
      "Epoch: 0 batch #: 211  of 300 sample #: 199 reconstruction error: 0.112792\n",
      "Epoch: 0 batch #: 212  of 300 sample #: 199 reconstruction error: 0.091855\n",
      "Epoch: 0 batch #: 213  of 300 sample #: 199 reconstruction error: 0.110752\n",
      "Epoch: 0 batch #: 214  of 300 sample #: 199 reconstruction error: 0.082291\n",
      "Epoch: 0 batch #: 215  of 300 sample #: 199 reconstruction error: 0.042712\n",
      "Epoch: 0 batch #: 216  of 300 sample #: 199 reconstruction error: 0.099056\n",
      "Epoch: 0 batch #: 217  of 300 sample #: 199 reconstruction error: 0.077059\n",
      "Epoch: 0 batch #: 218  of 300 sample #: 199 reconstruction error: 0.060138\n",
      "Epoch: 0 batch #: 219  of 300 sample #: 199 reconstruction error: 0.069875\n",
      "Epoch: 0 batch #: 220  of 300 sample #: 199 reconstruction error: 0.060071\n",
      "Epoch: 0 batch #: 221  of 300 sample #: 199 reconstruction error: 0.098522\n",
      "Epoch: 0 batch #: 222  of 300 sample #: 199 reconstruction error: 0.080109\n",
      "Epoch: 0 batch #: 223  of 300 sample #: 199 reconstruction error: 0.080031\n",
      "Epoch: 0 batch #: 224  of 300 sample #: 199 reconstruction error: 0.069318\n",
      "Epoch: 0 batch #: 225  of 300 sample #: 199 reconstruction error: 0.076796\n",
      "Epoch: 0 batch #: 226  of 300 sample #: 199 reconstruction error: 0.119319\n",
      "Epoch: 0 batch #: 227  of 300 sample #: 199 reconstruction error: 0.066762\n",
      "Epoch: 0 batch #: 228  of 300 sample #: 199 reconstruction error: 0.074389\n",
      "Epoch: 0 batch #: 229  of 300 sample #: 199 reconstruction error: 0.072148\n",
      "Epoch: 0 batch #: 230  of 300 sample #: 199 reconstruction error: 0.036624\n",
      "Epoch: 0 batch #: 231  of 300 sample #: 199 reconstruction error: 0.026470\n",
      "Epoch: 0 batch #: 232  of 300 sample #: 199 reconstruction error: 0.072560\n",
      "Epoch: 0 batch #: 233  of 300 sample #: 199 reconstruction error: 0.081845\n",
      "Epoch: 0 batch #: 234  of 300 sample #: 199 reconstruction error: 0.066613\n",
      "Epoch: 0 batch #: 235  of 300 sample #: 199 reconstruction error: 0.067579\n",
      "Epoch: 0 batch #: 236  of 300 sample #: 199 reconstruction error: 0.096870\n",
      "Epoch: 0 batch #: 237  of 300 sample #: 199 reconstruction error: 0.086953\n",
      "Epoch: 0 batch #: 238  of 300 sample #: 199 reconstruction error: 0.113390\n",
      "Epoch: 0 batch #: 239  of 300 sample #: 199 reconstruction error: 0.037709\n",
      "Epoch: 0 batch #: 240  of 300 sample #: 199 reconstruction error: 0.098617\n",
      "Epoch: 0 batch #: 241  of 300 sample #: 199 reconstruction error: 0.082390\n",
      "Epoch: 0 batch #: 242  of 300 sample #: 199 reconstruction error: 0.080429\n",
      "Epoch: 0 batch #: 243  of 300 sample #: 199 reconstruction error: 0.066583\n",
      "Epoch: 0 batch #: 244  of 300 sample #: 199 reconstruction error: 0.056108\n",
      "Epoch: 0 batch #: 245  of 300 sample #: 199 reconstruction error: 0.075038\n",
      "Epoch: 0 batch #: 246  of 300 sample #: 199 reconstruction error: 0.084673\n",
      "Epoch: 0 batch #: 247  of 300 sample #: 199 reconstruction error: 0.046960\n",
      "Epoch: 0 batch #: 248  of 300 sample #: 199 reconstruction error: 0.074620\n",
      "Epoch: 0 batch #: 249  of 300 sample #: 199 reconstruction error: 0.050488\n",
      "Epoch: 0 batch #: 250  of 300 sample #: 199 reconstruction error: 0.076762\n",
      "Epoch: 0 batch #: 251  of 300 sample #: 199 reconstruction error: 0.047266\n",
      "Epoch: 0 batch #: 252  of 300 sample #: 199 reconstruction error: 0.069271\n",
      "Epoch: 0 batch #: 253  of 300 sample #: 199 reconstruction error: 0.057971\n",
      "Epoch: 0 batch #: 254  of 300 sample #: 199 reconstruction error: 0.031538\n",
      "Epoch: 0 batch #: 255  of 300 sample #: 199 reconstruction error: 0.063861\n",
      "Epoch: 0 batch #: 256  of 300 sample #: 199 reconstruction error: 0.095327\n",
      "Epoch: 0 batch #: 257  of 300 sample #: 199 reconstruction error: 0.094235\n",
      "Epoch: 0 batch #: 258  of 300 sample #: 199 reconstruction error: 0.086658\n",
      "Epoch: 0 batch #: 259  of 300 sample #: 199 reconstruction error: 0.080320\n",
      "Epoch: 0 batch #: 260  of 300 sample #: 199 reconstruction error: 0.081131\n",
      "Epoch: 0 batch #: 261  of 300 sample #: 199 reconstruction error: 0.029460\n",
      "Epoch: 0 batch #: 262  of 300 sample #: 199 reconstruction error: 0.048751\n",
      "Epoch: 0 batch #: 263  of 300 sample #: 199 reconstruction error: 0.085915\n",
      "Epoch: 0 batch #: 264  of 300 sample #: 199 reconstruction error: 0.092192\n",
      "Epoch: 0 batch #: 265  of 300 sample #: 199 reconstruction error: 0.059444\n",
      "Epoch: 0 batch #: 266  of 300 sample #: 199 reconstruction error: 0.022969\n",
      "Epoch: 0 batch #: 267  of 300 sample #: 199 reconstruction error: 0.061504\n",
      "Epoch: 0 batch #: 268  of 300 sample #: 199 reconstruction error: 0.025325\n",
      "Epoch: 0 batch #: 269  of 300 sample #: 199 reconstruction error: 0.077238\n",
      "Epoch: 0 batch #: 270  of 300 sample #: 199 reconstruction error: 0.067626\n",
      "Epoch: 0 batch #: 271  of 300 sample #: 199 reconstruction error: 0.066702\n",
      "Epoch: 0 batch #: 272  of 300 sample #: 199 reconstruction error: 0.057934\n",
      "Epoch: 0 batch #: 273  of 300 sample #: 199 reconstruction error: 0.057438\n",
      "Epoch: 0 batch #: 274  of 300 sample #: 199 reconstruction error: 0.060174\n",
      "Epoch: 0 batch #: 275  of 300 sample #: 199 reconstruction error: 0.091973\n",
      "Epoch: 0 batch #: 276  of 300 sample #: 199 reconstruction error: 0.061577\n",
      "Epoch: 0 batch #: 277  of 300 sample #: 199 reconstruction error: 0.071808\n",
      "Epoch: 0 batch #: 278  of 300 sample #: 199 reconstruction error: 0.050611\n",
      "Epoch: 0 batch #: 279  of 300 sample #: 199 reconstruction error: 0.051456\n",
      "Epoch: 0 batch #: 280  of 300 sample #: 199 reconstruction error: 0.056716\n",
      "Epoch: 0 batch #: 281  of 300 sample #: 199 reconstruction error: 0.082302\n",
      "Epoch: 0 batch #: 282  of 300 sample #: 199 reconstruction error: 0.101849\n",
      "Epoch: 0 batch #: 283  of 300 sample #: 199 reconstruction error: 0.046116\n",
      "Epoch: 0 batch #: 284  of 300 sample #: 199 reconstruction error: 0.048462\n",
      "Epoch: 0 batch #: 285  of 300 sample #: 199 reconstruction error: 0.062054\n",
      "Epoch: 0 batch #: 286  of 300 sample #: 199 reconstruction error: 0.091257\n",
      "Epoch: 0 batch #: 287  of 300 sample #: 199 reconstruction error: 0.064097\n",
      "Epoch: 0 batch #: 288  of 300 sample #: 199 reconstruction error: 0.032454\n",
      "Epoch: 0 batch #: 289  of 300 sample #: 199 reconstruction error: 0.084857\n",
      "Epoch: 0 batch #: 290  of 300 sample #: 199 reconstruction error: 0.094787\n",
      "Epoch: 0 batch #: 291  of 300 sample #: 199 reconstruction error: 0.114836\n",
      "Epoch: 0 batch #: 292  of 300 sample #: 199 reconstruction error: 0.070842\n",
      "Epoch: 0 batch #: 293  of 300 sample #: 199 reconstruction error: 0.057726\n",
      "Epoch: 0 batch #: 294  of 300 sample #: 199 reconstruction error: 0.096387\n",
      "Epoch: 0 batch #: 295  of 300 sample #: 199 reconstruction error: 0.070935\n",
      "Epoch: 0 batch #: 296  of 300 sample #: 199 reconstruction error: 0.024322\n",
      "Epoch: 0 batch #: 297  of 300 sample #: 199 reconstruction error: 0.115356\n",
      "Epoch: 0 batch #: 298  of 300 sample #: 199 reconstruction error: 0.060220\n",
      "Epoch: 0 batch #: 299  of 300 sample #: 199 reconstruction error: 0.047845\n",
      "Epoch: 0 batch #: 300  of 300 sample #: 199 reconstruction error: 0.073721\n"
     ]
    }
   ],
   "source": [
    "#Parameters\n",
    "alpha = 0.01\n",
    "epochs = 1\n",
    "batchsize = 200\n",
    "weights = []\n",
    "errors = []\n",
    "batch_number = 0\n",
    "K = 1\n",
    "\n",
    "#creating datasets\n",
    "train_ds = \\\n",
    "    tf.data.Dataset.from_tensor_slices((trX, trY)).batch(batchsize)\n",
    "\n",
    "for epoch in range(epochs):\n",
    "    for batch_x, batch_y in train_ds:\n",
    "        batch_number += 1\n",
    "        for i_sample in range(batchsize):           \n",
    "            for k in range(K):\n",
    "                v0_state = batch_x[i_sample]\n",
    "                h0_state = hidden_layer(v0_state, W, hb)\n",
    "                v1_state = reconstructed_output(h0_state, W, vb)\n",
    "                h1_state = hidden_layer(v1_state, W, hb)\n",
    "\n",
    "                delta_W = tf.matmul(tf.transpose([v0_state]), h0_state) - tf.matmul(tf.transpose([v1_state]), h1_state)\n",
    "                W = W + alpha * delta_W\n",
    "\n",
    "                vb = vb + alpha * tf.reduce_mean(v0_state - v1_state, 0)\n",
    "                hb = hb + alpha * tf.reduce_mean(h0_state - h1_state, 0) \n",
    "\n",
    "                v0_state = v1_state\n",
    "\n",
    "            if i_sample == batchsize-1:\n",
    "                err = error(batch_x[i_sample], v1_state)\n",
    "                errors.append(err)\n",
    "                weights.append(W)\n",
    "                print ( 'Epoch: %d' % epoch, \n",
    "                       \"batch #: %i \" % batch_number, \"of %i\" % int(60e3/batchsize), \n",
    "                       \"sample #: %i\" % i_sample,\n",
    "                       'reconstruction error: %f' % err)\n",
    "\n"
   ]
  },
  {
   "cell_type": "markdown",
   "metadata": {},
   "source": [
    "Let's take a look at the errors at the end of each batch:\n"
   ]
  },
  {
   "cell_type": "code",
   "execution_count": 20,
   "metadata": {
    "tags": []
   },
   "outputs": [
    {
     "data": {
      "image/png": "[encoded data removed]",
      "text/plain": [
       "<Figure size 640x480 with 1 Axes>"
      ]
     },
     "metadata": {},
     "output_type": "display_data"
    }
   ],
   "source": [
    "plt.plot(errors)\n",
    "plt.xlabel(\"Batch Number\")\n",
    "plt.ylabel(\"Error\")\n",
    "plt.show()"
   ]
  },
  {
   "cell_type": "markdown",
   "metadata": {},
   "source": [
    "What is the final weight matrix $W$ after training?\n"
   ]
  },
  {
   "cell_type": "code",
   "execution_count": 21,
   "metadata": {
    "tags": []
   },
   "outputs": [
    {
     "name": "stdout",
     "output_type": "stream",
     "text": [
      "[[-0.20000002 -0.4899998  -0.3999999  ... -0.3799999  -0.16\n",
      "  -0.4799998 ]\n",
      " [-0.26000002 -0.40999988 -0.30999997 ... -0.34999993 -0.19000001\n",
      "  -0.4799998 ]\n",
      " [-0.21000002 -0.4999998  -0.33999994 ... -0.32999995 -0.21000002\n",
      "  -0.44999984]\n",
      " ...\n",
      " [-0.12999998 -0.4799998  -0.3999999  ... -0.3799999  -0.19000001\n",
      "  -0.5199998 ]\n",
      " [-0.17       -0.45999983 -0.31999996 ... -0.41999987 -0.21000002\n",
      "  -0.4799998 ]\n",
      " [-0.24000004 -0.55999976 -0.34999993 ... -0.3899999  -0.18\n",
      "  -0.3999999 ]]\n"
     ]
    }
   ],
   "source": [
    "print(W.numpy()) # a weight matrix of shape (50,784)"
   ]
  },
  {
   "cell_type": "markdown",
   "metadata": {},
   "source": [
    "<a id=\"ref5\"></a>\n",
    "\n",
    "<h3>Learned features</h3> \n"
   ]
  },
  {
   "cell_type": "markdown",
   "metadata": {},
   "source": [
    "We can take each hidden unit and visualize the connections between that hidden unit and each element in the input vector. In our case, we have 50 hidden units. Lets visualize those.\n"
   ]
  },
  {
   "cell_type": "markdown",
   "metadata": {},
   "source": [
    "Let's plot the current weights: <b>tile_raster_images</b> helps in generating an easy to grasp image from a set of samples or weights. It transforms the <b>uw</b> (with one flattened image per row of size 784), into an array (of size $28\\times28$) in which images are reshaped and laid out like tiles on a floor.\n"
   ]
  },
  {
   "cell_type": "code",
   "execution_count": 22,
   "metadata": {
    "tags": []
   },
   "outputs": [
    {
     "data": {
      "image/png": "[encoded data removed]",
      "text/plain": [
       "<Figure size 1800x1800 with 1 Axes>"
      ]
     },
     "metadata": {},
     "output_type": "display_data"
    }
   ],
   "source": [
    "tile_raster_images(X=W.numpy().T, img_shape=(28, 28), tile_shape=(5, 10), tile_spacing=(1, 1))\n",
    "import matplotlib.pyplot as plt\n",
    "from PIL import Image\n",
    "%matplotlib inline\n",
    "image = Image.fromarray(tile_raster_images(X=W.numpy().T, img_shape=(28, 28) ,tile_shape=(5, 10), tile_spacing=(1, 1)))\n",
    "### Plot image\n",
    "plt.rcParams['figure.figsize'] = (18.0, 18.0)\n",
    "imgplot = plt.imshow(image)\n",
    "imgplot.set_cmap('gray')  "
   ]
  },
  {
   "cell_type": "markdown",
   "metadata": {},
   "source": [
    "Each tile in the above visualization corresponds to a vector of connections between a hidden unit and visible layer's units.\n"
   ]
  },
  {
   "cell_type": "markdown",
   "metadata": {},
   "source": [
    "Let's look at one of the learned weights corresponding to one of hidden units for example. In this particular square, the gray color represents weight = 0, and the whiter it is, the more positive the weights are (closer to 1). Conversely, the darker pixels are, the more negative the weights. The positive pixels will increase the probability of activation in hidden units (after multiplying by input/visible pixels), and negative pixels will decrease the probability of a unit hidden to be 1 (activated). So, why is this important?  So we can see that this specific square (hidden unit) can detect a feature (e.g. a \"/\" shape) and if it exists in the input.\n"
   ]
  },
  {
   "cell_type": "code",
   "execution_count": 23,
   "metadata": {
    "tags": []
   },
   "outputs": [
    {
     "data": {
      "image/png": "[encoded data removed]",
      "text/plain": [
       "<Figure size 400x400 with 1 Axes>"
      ]
     },
     "metadata": {},
     "output_type": "display_data"
    }
   ],
   "source": [
    "from PIL import Image\n",
    "image = Image.fromarray(tile_raster_images(X =W.numpy().T[10:11], img_shape=(28, 28),tile_shape=(1, 1), tile_spacing=(1, 1)))\n",
    "### Plot image\n",
    "plt.rcParams['figure.figsize'] = (4.0, 4.0)\n",
    "imgplot = plt.imshow(image)\n",
    "imgplot.set_cmap('gray')  "
   ]
  },
  {
   "cell_type": "markdown",
   "metadata": {},
   "source": [
    "Let's look at the reconstruction of an image now. Imagine that we have a destructed image of figure 3. Lets see if our trained network can fix it:\n",
    "\n",
    "First we plot the image:\n"
   ]
  },
  {
   "cell_type": "code",
   "execution_count": 24,
   "metadata": {
    "tags": []
   },
   "outputs": [
    {
     "name": "stdout",
     "output_type": "stream",
     "text": [
      "--2024-05-13 17:45:45--  https://ibm.box.com/shared/static/vvm1b63uvuxq88vbw9znpwu5ol380mco.jpg\n",
      "Resolving ibm.box.com (ibm.box.com)... 74.112.186.144, 74.112.186.144\n",
      "Connecting to ibm.box.com (ibm.box.com)|74.112.186.144|:443... connected.\n",
      "HTTP request sent, awaiting response... 301 Moved Permanently\n",
      "Location: /public/static/vvm1b63uvuxq88vbw9znpwu5ol380mco.jpg [following]\n",
      "--2024-05-13 17:45:45--  https://ibm.box.com/public/static/vvm1b63uvuxq88vbw9znpwu5ol380mco.jpg\n",
      "Reusing existing connection to ibm.box.com:443.\n",
      "HTTP request sent, awaiting response... 301 Moved Permanently\n",
      "Location: https://ibm.ent.box.com/public/static/vvm1b63uvuxq88vbw9znpwu5ol380mco.jpg [following]\n",
      "--2024-05-13 17:45:45--  https://ibm.ent.box.com/public/static/vvm1b63uvuxq88vbw9znpwu5ol380mco.jpg\n",
      "Resolving ibm.ent.box.com (ibm.ent.box.com)... 74.112.186.144, 74.112.186.144\n",
      "Connecting to ibm.ent.box.com (ibm.ent.box.com)|74.112.186.144|:443... connected.\n",
      "HTTP request sent, awaiting response... 302 Found\n",
      "Location: https://public.boxcloud.com/d/1/b1!Llf1xUjqE4dfmSkGnaXloHry75257DiK3aBk-jLvWQimQJ3hLdT9-Fey49h3LEwxTZaZ1_cujYGdjCkuXyLnac-EeKv2nCDVnGXAGCCJEISwO-fyeHArPUmrRSbr7LSDxkJUwxqTWmo5fy6ydWS_K5iXj7KYKwxJvVKlnZxUMALEHLuj_oFW7k13na7snLiNNOLs9tYwnhorgR-wu4kxBLdbLHN_WOxjdn57xmb28pJn8uHUG87Bexy0U23Hmqw5PHIm4p5Sf-a4nT8GIk0kkpdqT1nMH9OgPkF25VJuuFI9s-_wbJ4TVXLh7W5bXEShUShPXF_K2z3ZLit7JcLibqsWlrIUaFQRacIgXpyU27nCQZ-p3kcJV4Qo5snXrY7hT-pUCvtTqQIrZAaRqMraBIkdp5eIwSJJD9ScPm2Oq7DIs9tATpf1DtCSuuirj_KyjNlHAEccz1bFcvObgJq5wNykqsyQrZewITri21Fjn6639a6qu4yA0g4cNSlyABEGSfcZx6zNV7N0GQaLgsPFA3_p6bcRov3v4hMnTxKaOp7cDM45QXMioOO_GuQQgxKVtqikZUDdxu-6lDxnq7i-90tbZpJ4AduYi4D6nhXyWeifv1GpuBpceg2YszfWFaD-iHKqmitXHBdkGz-SIl3CIsQ00dOt8ibbBOGsAzkbiPItALJFWXJyokeSij0--m3q4V-UirLEO2uDcXSobf4mkAEJ__RCSM5XqmD9AQwfarvqzkR0V5xmcmI28zSs0ItcwF0tej8EyETelb2FX6nzRxJfJpwmC_3lJoB6T080_TSGwUaV1J9KDCWw3qj3COp9WFNXS5QoJyjzC6UgFIEZf5tBdAiZhufcMWcwbERV8KB1Q1NZwutwTNJC3CrPxVpCYjsHOfYoSKmV3gT70b8XsqY85v4oFok7fDwgskUIdaeR-fBDi0CYNXmVo6e6KMcK9vV8Y4fT5_lyDE2IjXeYxUs6L2_GP6rGTIW0GIOxFUePyK5cCy88YoXXTa9u8H-jvnaJFGIboMVFH-L_l75ktyzeeV0YG1sAUMt1rPxSJyhIAh0ijyKBzSZkD_MzJ3jZJ4STg3akAT71vW_KuOBUfXIZtMAEAFdA1E4zMrJtpZh68G56sRfzTerl-RuJlZUo-LUgOYazmeSHp8leST_qoapg-hUyAnXxp7io8uqHMF4rj4ij5tovfiz-78R-sHO3PPGPvF9Dz5dmp-C3h_6fGzcnkQ5UiQEtxogUU-ocSolYACxu074X8_lbWO2DzJO6lTIKd9CAjZnyfH0M_SqNxD_xkakeG3_4t7-jGfTPly2NETBvZ0x4QzNsoveDX_Fx_ITcMRH_tN4c4fjztylU6mXyBfVOPE-dLe1NOKHaSyvnifqoHdVu2YRgbBiCRJwG4_uJ0_RrTrPSSEOOvV8./download [following]\n",
      "--2024-05-13 17:45:46--  https://public.boxcloud.com/d/1/b1!Llf1xUjqE4dfmSkGnaXloHry75257DiK3aBk-jLvWQimQJ3hLdT9-Fey49h3LEwxTZaZ1_cujYGdjCkuXyLnac-EeKv2nCDVnGXAGCCJEISwO-fyeHArPUmrRSbr7LSDxkJUwxqTWmo5fy6ydWS_K5iXj7KYKwxJvVKlnZxUMALEHLuj_oFW7k13na7snLiNNOLs9tYwnhorgR-wu4kxBLdbLHN_WOxjdn57xmb28pJn8uHUG87Bexy0U23Hmqw5PHIm4p5Sf-a4nT8GIk0kkpdqT1nMH9OgPkF25VJuuFI9s-_wbJ4TVXLh7W5bXEShUShPXF_K2z3ZLit7JcLibqsWlrIUaFQRacIgXpyU27nCQZ-p3kcJV4Qo5snXrY7hT-pUCvtTqQIrZAaRqMraBIkdp5eIwSJJD9ScPm2Oq7DIs9tATpf1DtCSuuirj_KyjNlHAEccz1bFcvObgJq5wNykqsyQrZewITri21Fjn6639a6qu4yA0g4cNSlyABEGSfcZx6zNV7N0GQaLgsPFA3_p6bcRov3v4hMnTxKaOp7cDM45QXMioOO_GuQQgxKVtqikZUDdxu-6lDxnq7i-90tbZpJ4AduYi4D6nhXyWeifv1GpuBpceg2YszfWFaD-iHKqmitXHBdkGz-SIl3CIsQ00dOt8ibbBOGsAzkbiPItALJFWXJyokeSij0--m3q4V-UirLEO2uDcXSobf4mkAEJ__RCSM5XqmD9AQwfarvqzkR0V5xmcmI28zSs0ItcwF0tej8EyETelb2FX6nzRxJfJpwmC_3lJoB6T080_TSGwUaV1J9KDCWw3qj3COp9WFNXS5QoJyjzC6UgFIEZf5tBdAiZhufcMWcwbERV8KB1Q1NZwutwTNJC3CrPxVpCYjsHOfYoSKmV3gT70b8XsqY85v4oFok7fDwgskUIdaeR-fBDi0CYNXmVo6e6KMcK9vV8Y4fT5_lyDE2IjXeYxUs6L2_GP6rGTIW0GIOxFUePyK5cCy88YoXXTa9u8H-jvnaJFGIboMVFH-L_l75ktyzeeV0YG1sAUMt1rPxSJyhIAh0ijyKBzSZkD_MzJ3jZJ4STg3akAT71vW_KuOBUfXIZtMAEAFdA1E4zMrJtpZh68G56sRfzTerl-RuJlZUo-LUgOYazmeSHp8leST_qoapg-hUyAnXxp7io8uqHMF4rj4ij5tovfiz-78R-sHO3PPGPvF9Dz5dmp-C3h_6fGzcnkQ5UiQEtxogUU-ocSolYACxu074X8_lbWO2DzJO6lTIKd9CAjZnyfH0M_SqNxD_xkakeG3_4t7-jGfTPly2NETBvZ0x4QzNsoveDX_Fx_ITcMRH_tN4c4fjztylU6mXyBfVOPE-dLe1NOKHaSyvnifqoHdVu2YRgbBiCRJwG4_uJ0_RrTrPSSEOOvV8./download\n",
      "Resolving public.boxcloud.com (public.boxcloud.com)... 74.112.186.130, 74.112.186.130\n",
      "Connecting to public.boxcloud.com (public.boxcloud.com)|74.112.186.130|:443... connected.\n",
      "HTTP request sent, awaiting response... 200 OK\n",
      "Length: 24383 (24K) [image/jpeg]\n",
      "Saving to: ‘destructed3.jpg’\n",
      "\n",
      "destructed3.jpg     100%[===================>]  23.81K  --.-KB/s    in 0.001s  \n",
      "\n",
      "2024-05-13 17:45:47 (19.6 MB/s) - ‘destructed3.jpg’ saved [24383/24383]\n",
      "\n"
     ]
    },
    {
     "data": {
      "image/png": "[encoded data removed]",
      "text/plain": [
       "<PIL.JpegImagePlugin.JpegImageFile image mode=RGB size=181x181 at 0x7F8FF46745D0>"
      ]
     },
     "execution_count": 24,
     "metadata": {},
     "output_type": "execute_result"
    }
   ],
   "source": [
    "!wget -O destructed3.jpg  https://ibm.box.com/shared/static/vvm1b63uvuxq88vbw9znpwu5ol380mco.jpg\n",
    "img = Image.open('destructed3.jpg')\n",
    "img"
   ]
  },
  {
   "cell_type": "markdown",
   "metadata": {},
   "source": [
    "Now let's pass this image through the neural net:\n"
   ]
  },
  {
   "cell_type": "code",
   "execution_count": 25,
   "metadata": {
    "tags": []
   },
   "outputs": [],
   "source": [
    "# convert the image to a 1d numpy array\n",
    "sample_case = np.array(img.convert('I').resize((28,28))).ravel().reshape((1, -1))/255.0\n",
    "\n",
    "sample_case = tf.cast(sample_case, dtype=tf.float32)"
   ]
  },
  {
   "cell_type": "markdown",
   "metadata": {},
   "source": [
    "Feed the sample case into the network and reconstruct the output:\n"
   ]
  },
  {
   "cell_type": "code",
   "execution_count": 26,
   "metadata": {
    "tags": []
   },
   "outputs": [
    {
     "name": "stdout",
     "output_type": "stream",
     "text": [
      "Probability nodes in hidden layer: tf.Tensor(\n",
      "[[9.4812658e-10 9.9745786e-01 4.8528870e-09 1.0192156e-02 1.8987060e-04\n",
      "  9.9979484e-01 1.0000000e+00 2.5325119e-03 3.9589662e-10 1.1483195e-12\n",
      "  5.5817566e-11 6.8167650e-13 1.9558746e-01 9.5265007e-01 2.3621023e-03\n",
      "  9.9999797e-01 6.9934499e-13 5.1439106e-03 4.4435263e-04 9.9990237e-01\n",
      "  1.3639063e-14 6.2966446e-12 1.4419470e-06 1.0000000e+00 9.6676267e-09\n",
      "  1.6733285e-18 3.2900155e-02 1.5199184e-04 4.2661726e-03 1.0000000e+00\n",
      "  7.7930534e-01 9.0500355e-01 1.2000319e-04 2.0623645e-13 9.9760425e-01\n",
      "  6.0341471e-10 5.8793570e-09 9.9552375e-01 1.0000000e+00 4.1172147e-14\n",
      "  1.9079685e-13 1.0000000e+00 9.9988049e-01 2.2585437e-01 1.3196468e-04\n",
      "  7.7932972e-01 9.9996924e-01 8.9617574e-01 1.9928691e-11 9.9906129e-01]], shape=(1, 50), dtype=float32)\n",
      "activated nodes in hidden layer: tf.Tensor(\n",
      "[[0. 1. 0. 0. 0. 1. 1. 0. 0. 0. 0. 0. 0. 1. 0. 1. 0. 0. 0. 1. 0. 0. 0. 1.\n",
      "  0. 0. 0. 0. 0. 1. 1. 1. 0. 0. 1. 0. 0. 1. 1. 0. 0. 1. 1. 0. 0. 1. 1. 1.\n",
      "  0. 1.]], shape=(1, 50), dtype=float32)\n",
      "tf.Tensor(\n",
      "[[1.98304653e-04 3.36855650e-04 1.54405832e-04 1.72436237e-04\n",
      "  2.95758247e-04 2.84135342e-04 1.45494938e-04 2.75701284e-04\n",
      "  1.70707703e-04 1.84863806e-04 1.88678503e-04 1.96307898e-04\n",
      "  1.76042318e-04 1.93625689e-04 2.07602978e-04 2.93761492e-04\n",
      "  2.25812197e-04 2.70277262e-04 1.79380178e-04 1.81257725e-04\n",
      "  2.16901302e-04 1.52826309e-04 2.47091055e-04 1.35660172e-04\n",
      "  2.10613012e-04 2.98708677e-04 1.65671110e-04 1.79469585e-04\n",
      "  1.38342381e-04 2.00271606e-04 1.77621841e-04 2.12609768e-04\n",
      "  2.47955322e-04 2.50160694e-04 2.31415033e-04 3.50683928e-04\n",
      "  1.49160624e-04 2.77787447e-04 4.69982624e-04 2.72750854e-04\n",
      "  2.50458717e-04 3.49134207e-04 2.50905752e-04 4.02987003e-04\n",
      "  4.25636768e-04 5.66989183e-04 3.39835882e-04 4.15593386e-04\n",
      "  3.33368778e-04 1.91211700e-04 1.56700611e-04 2.31772661e-04\n",
      "  1.46865845e-04 2.54541636e-04 2.62349844e-04 1.94281340e-04\n",
      "  2.98768282e-04 1.38401985e-04 3.25202942e-04 2.60829926e-04\n",
      "  1.84744596e-04 3.43114138e-04 2.34097242e-04 1.20109209e-04\n",
      "  2.41756439e-04 7.61657066e-05 6.32683004e-05 4.36023474e-05\n",
      "  5.99872037e-05 7.76956440e-05 1.27881765e-04 2.24769115e-04\n",
      "  1.97738409e-04 2.00003386e-04 1.63316727e-04 8.91645104e-05\n",
      "  9.18040969e-05 2.98440456e-04 5.04702330e-04 3.34143639e-04\n",
      "  2.88307667e-04 2.14159489e-04 3.30120325e-04 1.94281340e-04\n",
      "  2.19076872e-04 1.41173601e-04 1.95145607e-04 2.81155109e-04\n",
      "  1.76519156e-04 2.42561102e-04 2.66343355e-04 1.56968832e-04\n",
      "  1.51008368e-04 8.82566674e-05 4.08738706e-05 7.41645781e-05\n",
      "  4.19556090e-05 1.23918056e-04 2.71767378e-04 9.71198082e-04\n",
      "  8.12590122e-04 1.75911188e-03 1.70978904e-03 1.09365582e-03\n",
      "  2.59369612e-04 2.82377005e-04 3.05384398e-04 4.41879034e-04\n",
      "  5.50150871e-04 2.72572041e-04 2.32577324e-04 3.33517790e-04\n",
      "  1.39683485e-04 2.64793634e-04 2.10672617e-04 1.84416771e-04\n",
      "  2.68012285e-04 4.58300114e-04 1.64538622e-04 1.82718039e-04\n",
      "  7.05424027e-05 9.51479524e-05 5.14105777e-05 3.58849764e-04\n",
      "  1.87215209e-03 2.84764171e-03 1.80914998e-02 3.57063711e-02\n",
      "  1.04497612e-01 1.11492753e-01 7.40656555e-02 2.38153636e-02\n",
      "  5.73042035e-03 5.78063726e-03 2.54911184e-03 3.86908650e-03\n",
      "  7.26699829e-04 8.86380672e-04 5.41836023e-04 2.29388475e-04\n",
      "  2.49534845e-04 1.67280436e-04 3.45230103e-04 3.13222408e-04\n",
      "  7.56859779e-04 4.43518162e-04 4.74542379e-04 8.46952200e-04\n",
      "  5.04851341e-04 1.56629086e-03 4.31621075e-03 1.99980140e-02\n",
      "  1.06895357e-01 2.74027705e-01 5.10254085e-01 6.95853055e-01\n",
      "  7.56143272e-01 7.36660719e-01 6.37008846e-01 5.33778727e-01\n",
      "  3.02982509e-01 1.16652042e-01 1.66338384e-02 1.02665424e-02\n",
      "  2.47058272e-03 1.82685256e-03 1.05607510e-03 1.73121691e-04\n",
      "  2.35021114e-04 3.15725803e-04 1.45196915e-04 6.53594732e-04\n",
      "  1.13335252e-03 1.11463666e-03 2.01585889e-03 1.92165375e-03\n",
      "  1.72105432e-03 6.45536184e-03 3.26265693e-02 3.71665657e-01\n",
      "  8.29402208e-01 8.39286387e-01 9.20838356e-01 9.54667211e-01\n",
      "  9.40165997e-01 9.06686485e-01 8.55624855e-01 8.82960677e-01\n",
      "  7.25444674e-01 4.22236919e-01 8.30258429e-02 1.45262480e-02\n",
      "  4.28360701e-03 1.98605657e-03 1.83936954e-03 1.17624557e-04\n",
      "  2.51680613e-04 2.66253948e-04 3.52561474e-04 1.59835815e-03\n",
      "  1.83007121e-03 2.96488404e-03 2.96694040e-03 2.99692154e-03\n",
      "  6.26584888e-03 3.79036963e-02 3.00355136e-01 8.57780218e-01\n",
      "  9.51259255e-01 9.72113788e-01 9.26260769e-01 9.36097145e-01\n",
      "  8.86729836e-01 4.95885193e-01 5.17091572e-01 6.19591713e-01\n",
      "  8.36758614e-01 7.18991458e-01 3.01383555e-01 1.70207322e-02\n",
      "  3.35225463e-03 1.33049488e-03 1.34181976e-03 5.22404909e-04\n",
      "  3.24785709e-04 2.61276960e-04 8.28534365e-04 2.58824229e-03\n",
      "  2.18725204e-03 4.60329652e-03 2.13727355e-03 2.65181065e-03\n",
      "  1.51104927e-02 1.12058789e-01 4.00912791e-01 8.06154072e-01\n",
      "  8.27040434e-01 8.46262932e-01 6.73628807e-01 5.89691043e-01\n",
      "  2.34340250e-01 1.23905927e-01 8.48115385e-02 4.82600451e-01\n",
      "  8.70184481e-01 7.77291477e-01 2.71539688e-01 1.05110705e-02\n",
      "  1.71476603e-03 7.00175762e-04 8.99344683e-04 3.09407711e-04\n",
      "  1.33812428e-04 3.62962484e-04 9.37670469e-04 3.52853537e-03\n",
      "  1.76328421e-03 1.68228149e-03 4.07925248e-03 2.29024887e-03\n",
      "  3.93727422e-03 5.10337949e-02 2.49041945e-01 3.43319207e-01\n",
      "  2.96346366e-01 1.39064670e-01 7.88986087e-02 9.45002735e-02\n",
      "  6.86101317e-02 1.95733130e-01 1.09314442e-01 6.97183371e-01\n",
      "  8.62257481e-01 7.98442364e-01 1.65972471e-01 1.81458294e-02\n",
      "  1.33088231e-03 7.68333673e-04 1.05071068e-03 2.89499760e-04\n",
      "  2.24530697e-04 2.75909901e-04 1.09839439e-03 2.29007006e-03\n",
      "  2.67475843e-03 1.72138214e-03 1.02785230e-03 1.01271272e-03\n",
      "  6.65396452e-03 1.50215626e-02 1.24179423e-02 4.57992852e-02\n",
      "  1.67881548e-02 3.89207006e-02 4.95660901e-02 1.18517727e-01\n",
      "  2.52975404e-01 2.78345168e-01 3.74161124e-01 8.38116229e-01\n",
      "  9.41599965e-01 8.05616856e-01 9.04570520e-02 8.54590535e-03\n",
      "  1.28498673e-03 9.04023647e-04 7.12960958e-04 3.76969576e-04\n",
      "  1.99794769e-04 3.89456749e-04 1.44127011e-03 2.31072307e-03\n",
      "  2.35766172e-03 1.61170959e-03 1.63280964e-03 1.37251616e-03\n",
      "  2.51945853e-03 1.91068649e-03 3.04123759e-03 6.90171123e-03\n",
      "  1.15084052e-02 4.83952463e-02 1.57347590e-01 2.85400808e-01\n",
      "  4.12607074e-01 3.57033253e-01 6.43933833e-01 9.02025700e-01\n",
      "  8.34075987e-01 2.42144555e-01 2.29044259e-02 1.94612145e-03\n",
      "  5.50061464e-04 1.00421906e-03 5.36620617e-04 2.31057405e-04\n",
      "  2.62260437e-04 2.39640474e-04 1.02028251e-03 9.32812691e-04\n",
      "  4.80502844e-04 9.15676355e-04 1.19885802e-03 1.23023987e-03\n",
      "  4.73469496e-04 1.66499615e-03 4.29305434e-03 2.52912939e-02\n",
      "  9.11692977e-02 3.25825810e-01 5.04448891e-01 6.97118759e-01\n",
      "  3.94930780e-01 6.71121001e-01 6.71218812e-01 7.55741358e-01\n",
      "  4.56830114e-01 5.01661003e-02 4.36070561e-03 3.16351652e-04\n",
      "  2.49207020e-04 3.90231609e-04 2.73495913e-04 2.70664692e-04\n",
      "  2.25216150e-04 3.21686268e-04 7.31885433e-04 5.48779964e-04\n",
      "  5.69730997e-04 8.96483660e-04 1.04695559e-03 1.03530288e-03\n",
      "  4.06265259e-04 2.45305896e-03 4.41511273e-02 3.15786302e-01\n",
      "  5.41519821e-01 7.04776168e-01 7.01236665e-01 6.68419242e-01\n",
      "  6.02335930e-01 7.04775214e-01 6.36129379e-01 3.47716153e-01\n",
      "  3.53128612e-02 6.34300709e-03 7.17639923e-04 1.23172766e-04\n",
      "  8.44843380e-05 3.78429890e-04 4.33593988e-04 1.60634518e-04\n",
      "  3.26007605e-04 2.18331814e-04 3.97980213e-04 1.14855170e-03\n",
      "  1.15954876e-03 1.22067332e-03 6.11156225e-04 3.11493874e-04\n",
      "  1.02874637e-03 7.37428665e-03 1.17498964e-01 7.80818701e-01\n",
      "  8.05075049e-01 8.30918312e-01 6.92019582e-01 7.17810214e-01\n",
      "  6.65043116e-01 7.90963292e-01 4.39404458e-01 3.86926830e-02\n",
      "  9.56889987e-03 1.81213021e-03 2.51561403e-04 1.34795904e-04\n",
      "  5.97857688e-05 1.94579363e-04 3.64691019e-04 2.24471092e-04\n",
      "  2.17318535e-04 1.78903341e-04 2.24053860e-04 1.28895044e-03\n",
      "  2.01603770e-03 8.12768936e-04 1.27109885e-03 1.18696690e-03\n",
      "  3.60825658e-03 1.47379935e-02 3.17871392e-01 6.60438657e-01\n",
      "  7.50633717e-01 5.35050571e-01 4.22235131e-01 6.27769351e-01\n",
      "  7.39388764e-01 6.57385349e-01 4.44332302e-01 6.67885840e-02\n",
      "  1.48367882e-03 4.90635633e-04 2.25603580e-04 1.13067741e-04\n",
      "  5.14968415e-05 7.75586886e-05 2.02983618e-04 3.52233648e-04\n",
      "  2.15977430e-04 2.00062990e-04 4.64349985e-04 3.00756097e-03\n",
      "  2.53459811e-03 1.99937820e-03 2.33596563e-03 3.50257754e-03\n",
      "  1.62903666e-02 3.48052680e-02 1.23639137e-01 3.50995779e-01\n",
      "  4.81343597e-01 5.34812570e-01 3.92451108e-01 4.15174305e-01\n",
      "  8.76891434e-01 8.72161210e-01 5.07968545e-01 4.84972894e-02\n",
      "  2.51889229e-03 1.05440617e-03 2.37226486e-04 8.60031287e-05\n",
      "  7.09540400e-05 8.81113374e-05 3.39806080e-04 2.35170126e-04\n",
      "  1.48415565e-04 2.02745199e-04 8.99732113e-04 7.43585825e-03\n",
      "  1.00777745e-02 3.74555588e-03 1.24398470e-02 5.02416492e-03\n",
      "  9.99853015e-03 1.60131156e-02 1.75296664e-02 7.44231939e-02\n",
      "  9.27107036e-02 1.17996335e-01 1.46680236e-01 5.24785221e-01\n",
      "  8.21427703e-01 7.49981999e-01 3.99397075e-01 4.25260961e-02\n",
      "  7.64465332e-03 1.16759539e-03 1.97887421e-04 1.02631442e-04\n",
      "  1.23620033e-04 1.45763159e-04 3.44365835e-04 1.59233809e-04\n",
      "  1.99586153e-04 3.39001417e-04 1.14721060e-03 1.76578760e-02\n",
      "  1.49618983e-02 2.26553380e-02 1.89552605e-02 5.70759177e-03\n",
      "  3.90648842e-03 1.99711323e-03 5.88172674e-03 2.12698877e-02\n",
      "  2.10604668e-02 2.13625729e-02 1.01734757e-01 5.06439030e-01\n",
      "  7.12911010e-01 7.08472729e-01 4.87862706e-01 6.96037114e-02\n",
      "  1.49428248e-02 3.08996439e-03 3.15934420e-04 8.41723813e-05\n",
      "  1.51664019e-04 2.09748745e-04 3.62515450e-04 1.51097775e-04\n",
      "  1.80780888e-04 2.79247761e-04 3.51095200e-03 3.45231891e-02\n",
      "  8.19575191e-02 1.04181111e-01 5.06419837e-02 1.08114183e-02\n",
      "  3.15594673e-03 2.52667069e-03 4.15667892e-03 8.58813524e-03\n",
      "  3.81127000e-03 6.25249743e-03 3.35644186e-02 3.95381242e-01\n",
      "  5.93049169e-01 4.21965122e-01 3.54155123e-01 1.00979298e-01\n",
      "  1.12214088e-02 1.43316388e-03 2.27928162e-04 1.02759252e-04\n",
      "  2.13682652e-04 3.19004059e-04 4.99159098e-04 1.49250031e-04\n",
      "  1.83045864e-04 2.70813704e-04 5.98117709e-03 1.77653879e-01\n",
      "  3.51291597e-01 2.59657979e-01 2.87495226e-01 4.09510434e-02\n",
      "  2.79653668e-02 6.42922521e-03 1.61897242e-02 9.48521495e-03\n",
      "  5.59228659e-03 1.32718384e-02 6.72454834e-02 3.63582492e-01\n",
      "  5.79815149e-01 5.10458350e-01 1.03788197e-01 2.20897794e-02\n",
      "  3.07160616e-03 1.29619241e-03 2.54213810e-04 3.67075205e-04\n",
      "  5.93900681e-04 5.69581985e-04 5.46574593e-04 2.23904848e-04\n",
      "  1.90973282e-04 1.94072723e-04 3.09714675e-03 1.55459732e-01\n",
      "  4.04993564e-01 7.00678468e-01 6.52363300e-01 5.20998597e-01\n",
      "  1.26976073e-01 4.99715507e-02 2.92170048e-02 3.74233723e-02\n",
      "  1.94137692e-02 8.02256465e-02 3.11306685e-01 5.82309008e-01\n",
      "  6.29875898e-01 3.28700900e-01 3.57893705e-02 5.05936146e-03\n",
      "  1.63459778e-03 7.72982836e-04 3.54707241e-04 4.80860472e-04\n",
      "  6.36488199e-04 4.67807055e-04 4.01616096e-04 1.91181898e-04\n",
      "  1.78039074e-04 2.75343657e-04 2.09745765e-03 4.31972742e-02\n",
      "  3.06686223e-01 7.22111285e-01 8.60895753e-01 8.59032035e-01\n",
      "  8.16945791e-01 5.85208118e-01 5.46262145e-01 4.25791383e-01\n",
      "  2.34628856e-01 5.30421495e-01 7.42274165e-01 7.11043000e-01\n",
      "  3.46306950e-01 7.24088252e-02 8.97386670e-03 2.46331096e-03\n",
      "  8.69393349e-04 8.42124224e-04 3.22818756e-04 5.58674335e-04\n",
      "  6.25044107e-04 6.80893660e-04 1.99079514e-04 2.29328871e-04\n",
      "  1.41143799e-04 2.10464001e-04 7.02142715e-04 1.06837153e-02\n",
      "  7.90681541e-02 3.32089961e-01 7.11475909e-01 8.39996278e-01\n",
      "  8.79350662e-01 9.47118759e-01 9.52501893e-01 7.94211447e-01\n",
      "  7.58897066e-01 8.11230302e-01 7.12416530e-01 4.62517083e-01\n",
      "  8.54873657e-02 5.95694780e-03 2.31966376e-03 1.92454457e-03\n",
      "  9.65744257e-04 9.23186541e-04 1.21080875e-03 4.95910645e-04\n",
      "  7.03305006e-04 4.28706408e-04 2.21580267e-04 1.74164772e-04\n",
      "  2.14844942e-04 2.04294920e-04 4.15831804e-04 1.35686994e-03\n",
      "  1.79755986e-02 9.37302709e-02 4.10180956e-01 5.47688067e-01\n",
      "  7.18415976e-01 8.18602920e-01 8.30648601e-01 5.36238790e-01\n",
      "  4.95815367e-01 5.05203664e-01 2.34096140e-01 1.34740889e-01\n",
      "  3.32347453e-02 8.16285610e-03 3.14667821e-03 9.98467207e-04\n",
      "  1.30119920e-03 4.89622355e-04 5.15788794e-04 5.89519739e-04\n",
      "  2.98380852e-04 4.38630581e-04 2.50309706e-04 1.75863504e-04\n",
      "  2.89946795e-04 1.35660172e-04 2.07424164e-04 3.87549400e-04\n",
      "  5.41687012e-04 2.14233994e-03 8.50966573e-03 2.22859979e-02\n",
      "  3.34374607e-02 1.99863911e-02 8.79380107e-03 1.64818764e-02\n",
      "  3.49954665e-02 4.57450151e-02 1.97693706e-02 1.56215131e-02\n",
      "  8.27771425e-03 3.06564569e-03 1.75148249e-03 1.62959099e-03\n",
      "  7.21096992e-04 4.14937735e-04 3.99976969e-04 3.45170498e-04\n",
      "  1.50710344e-04 1.64061785e-04 1.91748142e-04 2.06321478e-04\n",
      "  1.74075365e-04 1.75863504e-04 2.67595053e-04 1.44690275e-04\n",
      "  3.97533178e-04 5.26547432e-04 1.88973546e-03 9.64075327e-04\n",
      "  1.22231245e-03 1.08179450e-03 6.26206398e-04 8.36670399e-04\n",
      "  1.76203251e-03 4.20647860e-03 2.56708264e-03 2.15566158e-03\n",
      "  6.92725182e-04 4.75704670e-04 6.88761473e-04 6.76840544e-04\n",
      "  2.82317400e-04 2.73406506e-04 1.93804502e-04 2.51471996e-04\n",
      "  1.76906586e-04 1.56849623e-04 2.28017569e-04 1.63942575e-04\n",
      "  1.60783529e-04 2.06321478e-04 2.06321478e-04 2.81333923e-04\n",
      "  2.83002853e-04 3.71873379e-04 2.64614820e-04 3.65704298e-04\n",
      "  5.84572554e-04 1.07586384e-03 1.14244223e-03 1.81588531e-03\n",
      "  1.01846457e-03 1.48302317e-03 5.91754913e-04 3.92973423e-04\n",
      "  5.15729189e-04 1.17921829e-03 7.02023506e-04 2.39491463e-04\n",
      "  2.58982182e-04 2.81304121e-04 2.05487013e-04 3.12954187e-04\n",
      "  2.25812197e-04 1.72376633e-04 1.94281340e-04 1.52826309e-04]], shape=(1, 784), dtype=float32)\n"
     ]
    }
   ],
   "source": [
    "hh0_p = tf.nn.sigmoid(tf.matmul(sample_case, W) + hb)\n",
    "hh0_s = tf.round(hh0_p)\n",
    "\n",
    "print(\"Probability nodes in hidden layer:\" ,hh0_p)\n",
    "print(\"activated nodes in hidden layer:\" ,hh0_s)\n",
    "\n",
    "# reconstruct\n",
    "vv1_p = tf.nn.sigmoid(tf.matmul(hh0_s, tf.transpose(W)) + vb)\n",
    "\n",
    "print(vv1_p)\n",
    "#rec_prob = sess.run(vv1_p, feed_dict={ hh0_s: hh0_s_val, W: prv_w, vb: prv_vb})"
   ]
  },
  {
   "cell_type": "markdown",
   "metadata": {},
   "source": [
    "Here we plot the reconstructed image:\n"
   ]
  },
  {
   "cell_type": "code",
   "execution_count": 27,
   "metadata": {
    "tags": []
   },
   "outputs": [
    {
     "data": {
      "image/png": "[encoded data removed]",
      "text/plain": [
       "<Figure size 400x400 with 1 Axes>"
      ]
     },
     "metadata": {},
     "output_type": "display_data"
    }
   ],
   "source": [
    "img = Image.fromarray(tile_raster_images(X=vv1_p.numpy(), img_shape=(28, 28),tile_shape=(1, 1), tile_spacing=(1, 1)))\n",
    "plt.rcParams['figure.figsize'] = (4.0, 4.0)\n",
    "imgplot = plt.imshow(img)\n",
    "imgplot.set_cmap('gray') "
   ]
  },
  {
   "cell_type": "markdown",
   "metadata": {},
   "source": [
    "<hr>\n",
    "\n",
    "## Want to learn more?\n",
    "\n",
    "Also, you can use **Watson Studio** to run these notebooks faster with bigger datasets.**Watson Studio** is IBM’s leading cloud solution for data scientists, built by data scientists. With Jupyter notebooks, RStudio, Apache Spark and popular libraries pre-packaged in the cloud, **Watson Studio** enables data scientists to collaborate on their projects without having to install anything. Join the fast-growing community of **Watson Studio** users today with a free account at [Watson Studio](https://cocl.us/ML0120EN_DSX).This is the end of this lesson. Thank you for reading this notebook, and good luck on your studies.\n"
   ]
  },
  {
   "cell_type": "markdown",
   "metadata": {},
   "source": [
    "### Thanks for completing this lesson!\n",
    "\n",
    "Notebook created by: <a href = \"https://ca.linkedin.com/in/saeedaghabozorgi?utm_medium=Exinfluencer&utm_source=Exinfluencer&utm_content=000026UJ&utm_term=10006555&utm_id=NA-SkillsNetwork-Channel-SkillsNetworkCoursesIBMDeveloperSkillsNetworkDL0120ENSkillsNetwork20629446-2022-01-01\">Saeed Aghabozorgi</a>\n",
    "\n",
    "Updated to TF 2.X by  <a href=\"https://ca.linkedin.com/in/nilmeier?utm_medium=Exinfluencer&utm_source=Exinfluencer&utm_content=000026UJ&utm_term=10006555&utm_id=NA-SkillsNetwork-Channel-SkillsNetworkCoursesIBMDeveloperSkillsNetworkDL0120ENSkillsNetwork20629446-2022-01-01\"> Jerome Nilmeier</a><br />\n"
   ]
  },
  {
   "cell_type": "markdown",
   "metadata": {},
   "source": [
    "### References:\n",
    "\n",
    "[https://en.wikipedia.org/wiki/Restricted_Boltzmann_machine](https://en.wikipedia.org/wiki/Restricted_Boltzmann_machine?utm_medium=Exinfluencer&utm_source=Exinfluencer&utm_content=000026UJ&utm_term=10006555&utm_id=NA-SkillsNetwork-Channel-SkillsNetworkCoursesIBMDeveloperSkillsNetworkDL0120ENSkillsNetwork20629446-2022-01-01)\\\n",
    "[http://deeplearning.net/tutorial/rbm.html](http://deeplearning.net/tutorial/rbm.html?utm_medium=Exinfluencer&utm_source=Exinfluencer&utm_content=000026UJ&utm_term=10006555&utm_id=NA-SkillsNetwork-Channel-SkillsNetworkCoursesIBMDeveloperSkillsNetworkDL0120ENSkillsNetwork20629446-2022-01-01)\\\n",
    "[http://www.cs.utoronto.ca/\\~hinton/absps/netflixICML.pdf](http://www.cs.utoronto.ca/\\~hinton/absps/netflixICML.pdf?utm_medium=Exinfluencer&utm_source=Exinfluencer&utm_content=000026UJ&utm_term=10006555&utm_id=NA-SkillsNetwork-Channel-SkillsNetworkCoursesIBMDeveloperSkillsNetworkDL0120ENSkillsNetwork20629446-2022-01-01)<br>\n",
    "<http://imonad.com/rbm/restricted-boltzmann-machine/>\n"
   ]
  },
  {
   "cell_type": "markdown",
   "metadata": {},
   "source": [
    "<hr>\n",
    "\n",
    "Copyright © 2018 [Cognitive Class](https://cocl.us/DX0108EN_CC). This notebook and its source code are released under the terms of the [MIT License](https://bigdatauniversity.com/mit-license/?utm_medium=Exinfluencer&utm_source=Exinfluencer&utm_content=000026UJ&utm_term=10006555&utm_id=NA-SkillsNetwork-Channel-SkillsNetworkCoursesIBMDeveloperSkillsNetworkDL0120ENSkillsNetwork20629446-2022-01-01).\n"
   ]
  }
 ],
 "metadata": {
  "kernelspec": {
   "display_name": "Python",
   "language": "python",
   "name": "conda-env-python-py"
  },
  "language_info": {
   "codemirror_mode": {
    "name": "ipython",
    "version": 3
   },
   "file_extension": ".py",
   "mimetype": "text/x-python",
   "name": "python",
   "nbconvert_exporter": "python",
   "pygments_lexer": "ipython3",
   "version": "3.7.12"
  },
  "widgets": {
   "state": {},
   "version": "1.1.2"
  }
 },
 "nbformat": 4,
 "nbformat_minor": 4
}
