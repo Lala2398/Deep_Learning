{
  "cells": [
    {
      "cell_type": "markdown",
      "metadata": {
        "id": "DgDLJuQgQQ37"
      },
      "source": [
        "<a href=\"https://www.skills.network/?utm_medium=Exinfluencer&utm_source=Exinfluencer&utm_content=000026UJ&utm_term=10006555&utm_id=NA-SkillsNetwork-Channel-SkillsNetworkCoursesIBMDeveloperSkillsNetworkDL0120ENSkillsNetwork20629446-2022-01-01\"><img src=\"https://cf-courses-data.s3.us.cloud-object-storage.appdomain.cloud/IBM-DL0120ENedX/labs/Template%20for%20Instructional%20Hands-on%20Labs/images/IDSNlogo.png\" width=\"400px\" align=\"center\"></a>\n",
        "\n",
        "<h1 align=\"center\"><font size=\"5\">RECURRENT NETWORKS and LSTM IN DEEP LEARNING</font></h1>\n"
      ]
    },
    {
      "cell_type": "markdown",
      "metadata": {
        "id": "P3wSdvsKQQ4A"
      },
      "source": [
        "<h2>Applying Recurrent Neural Networks/LSTM for Language Modeling</h2>\n",
        "Hello and welcome to this part. In this notebook, we will go over the topic of Language Modelling, and create a Recurrent Neural Network model based on the Long Short-Term Memory unit to train and benchmark on the Penn Treebank dataset. By the end of this notebook, you should be able to understand how TensorFlow builds and executes a RNN model for Language Modelling.\n"
      ]
    },
    {
      "cell_type": "markdown",
      "metadata": {
        "id": "sVN5SyFRQQ4B"
      },
      "source": [
        "<h2>The Objective</h2>\n",
        "By now, you should have an understanding of how Recurrent Networks work -- a specialized model to process sequential data by keeping track of the \"state\" or context. In this notebook, we go over a TensorFlow code snippet for creating a model focused on <b>Language Modelling</b> -- a very relevant task that is the cornerstone of many different linguistic problems such as <b>Speech Recognition, Machine Translation and Image Captioning</b>. For this, we will be using the Penn Treebank dataset, which is an often-used dataset for benchmarking Language Modelling models.\n"
      ]
    },
    {
      "cell_type": "markdown",
      "metadata": {
        "id": "7cyGc9DnQQ4B"
      },
      "source": [
        "<h3>Objectives<h3>    \n",
        "<h5> 1. What exactly is Language Modelling? </h5>\n",
        "<h5> 2. Work Embedding. </h5>\n",
        "<h5> 3. Applying Recurrent Neural Networks to Text Processing. </h5>\n",
        "<h5> 4. Building the LSTM model for Language Modeling. </h5>     \n"
      ]
    },
    {
      "cell_type": "markdown",
      "metadata": {
        "id": "COMqbe1HQQ4C"
      },
      "source": [
        "<h2>Table of Contents</h2>\n",
        "<ol>\n",
        "    <li><a href=\"https://#language_modelling\">What exactly is Language Modelling?</a></li>\n",
        "    <li><a href=\"https://#treebank_dataset\">The Penn Treebank dataset</a></li>\n",
        "    <li><a href=\"https://#word_embedding\">Word Embedding</a></li>\n",
        "    <li><a href=\"https://#building_lstm_model\">Building the LSTM model for Language Modeling</a></li>\n",
        "    <li><a href=\"https://#ltsm\">LTSM</a></li>\n",
        "</ol>\n",
        "<p></p>\n",
        "</div>\n",
        "<br>\n"
      ]
    },
    {
      "cell_type": "markdown",
      "metadata": {
        "button": false,
        "deletable": true,
        "new_sheet": false,
        "run_control": {
          "read_only": false
        },
        "id": "DmglV5fBQQ4C"
      },
      "source": [
        "***\n"
      ]
    },
    {
      "cell_type": "markdown",
      "metadata": {
        "id": "NxfDsm2DQQ4D"
      },
      "source": [
        "<a id=\"language_modelling\"></a>\n",
        "\n",
        "<h2>What exactly is Language Modelling?</h2>\n",
        "Language Modelling, to put it simply, <b>is the task of assigning probabilities to sequences of words</b>. This means that, given a context of one or a sequence of words in the language the model was trained on, the model should provide the next most probable words or sequence of words that follows from the given sequence of words the sentence. Language Modelling is one of the most important tasks in Natural Language Processing.\n",
        "\n",
        "<img src=\"https://ibm.box.com/shared/static/1d1i5gub6wljby2vani2vzxp0xsph702.png\" width=\"1080\">\n",
        "<center><i>Example of a sentence being predicted</i></center>\n",
        "<br><br>\n",
        "In this example, one can see the predictions for the next word of a sentence, given the context \"This is an\". As you can see, this boils down to a sequential data analysis task -- you are given a word or a sequence of words (the input data), and, given the context (the state), you need to find out what is the next word (the prediction). This kind of analysis is very important for language-related tasks such as <b>Speech Recognition, Machine Translation, Image Captioning, Text Correction</b> and many other very relevant problems. \n",
        "\n",
        "<img src=\"https://ibm.box.com/shared/static/az39idf9ipfdpc5ugifpgxnydelhyf3i.png\" width=\"1080\">\n",
        "<center><i>The above example is a schema of an RNN in execution</i></center>\n",
        "<br><br>\n",
        "As the above image shows, Recurrent Network models fit this problem like a glove. Alongside LSTM and its capacity to maintain the model's state for over one thousand time steps, we have all the tools we need to undertake this problem. The goal for this notebook is to create a model that can reach <b>low levels of perplexity</b> on our desired dataset.\n",
        "\n",
        "For Language Modelling problems, <b>perplexity</b> is the way to gauge efficiency. Perplexity is simply a measure of how well a probabilistic model is able to predict its sample. A higher-level way to explain this would be saying that <b>low perplexity means a higher degree of trust in the predictions the model makes</b>. Therefore, the lower perplexity is, the better.\n"
      ]
    },
    {
      "cell_type": "markdown",
      "metadata": {
        "id": "w74gJhYkQQ4E"
      },
      "source": [
        "<a id=\"treebank_dataset\"></a>\n",
        "\n",
        "<h2>The Penn Treebank dataset</h2>\n",
        "Historically, datasets big enough for Natural Language Processing are hard to come by. This is in part due to the necessity of the sentences to be broken down and tagged with a certain degree of correctness -- or else the models trained on it won't be able to be correct at all. This means that we need a <b>large amount of data, annotated by or at least corrected by humans</b>. This is, of course, not an easy task at all.\n",
        "\n",
        "The Penn Treebank, or PTB for short, is a dataset maintained by the University of Pennsylvania. It is <i>huge</i> -- there are over <b>four million and eight hundred thousand</b> annotated words in it, all corrected by humans. It is composed of many different sources, from abstracts of Department of Energy papers to texts from the Library of America. Since it is verifiably correct and of such a huge size, the Penn Treebank is commonly used as a benchmark dataset for Language Modelling.\n",
        "\n",
        "The dataset is divided in different kinds of annotations, such as Piece-of-Speech, Syntactic and Semantic skeletons. For this example, we will simply use a sample of clean, non-annotated words (with the exception of one tag --<code>\\<unk></code>\n",
        ", which is used for rare words such as uncommon proper nouns) for our model. This means that we just want to predict what the next words would be, not what they mean in context or their classes on a given sentence.\n",
        "\n",
        "<center>Example of text from the dataset we are going to use, <b>ptb.train</b></center>\n",
        "<br><br>\n",
        "\n",
        "<div class=\"alert alert-block alert-info\" style=\"margin-top: 20px\">\n",
        "    <center>the percentage of lung cancer deaths among the workers at the west <code>&lt;unk&gt;</code> mass. paper factory appears to be the highest for any asbestos workers studied in western industrialized countries he said \n",
        " the plant which is owned by <code>&lt;unk&gt;</code> & <code>&lt;unk&gt;</code> co. was under contract with <code>&lt;unk&gt;</code> to make the cigarette filters \n",
        " the finding probably will support those who argue that the U.S. should regulate the class of asbestos including <code>&lt;unk&gt;</code> more <code>&lt;unk&gt;</code> than the common kind of asbestos <code>&lt;unk&gt;</code> found in most schools and other buildings dr. <code>&lt;unk&gt;</code> said</center>\n",
        "</div>\n"
      ]
    },
    {
      "cell_type": "markdown",
      "metadata": {
        "button": false,
        "deletable": true,
        "new_sheet": false,
        "run_control": {
          "read_only": false
        },
        "id": "dQPS3A82QQ4F"
      },
      "source": [
        "<a id=\"word_embedding\"></a>\n",
        "\n",
        "<h2>Word Embeddings</h2><br/>\n",
        "\n",
        "For better processing, in this example, we will make use of <a href=\"https://www.tensorflow.org/tutorials/word2vec/?utm_medium=Exinfluencer&utm_source=Exinfluencer&utm_content=000026UJ&utm_term=10006555&utm_id=NA-SkillsNetwork-Channel-SkillsNetworkCoursesIBMDeveloperSkillsNetworkDL0120ENSkillsNetwork20629446-2022-01-01\"><b>word embeddings</b></a>, which is <b>a way of representing sentence structures or words as n-dimensional vectors (where n is a reasonably high number, such as 200 or 500) of real numbers</b>. Basically, we will assign each word a randomly-initialized vector, and input those into the network to be processed. After a number of iterations, these vectors are expected to assume values that help the network to correctly predict what it needs to -- in our case, the probable next word in the sentence. This is shown to be a very effective task in Natural Language Processing, and is a commonplace practice. <br><br> <font size=\"4\"><strong>\n",
        "$$Vec(\"Example\") = \\[0.02, 0.00, 0.00, 0.92, 0.30, \\ldots]$$ </strong></font> <br>\n",
        "Word Embedding tends to group up similarly used words <i>reasonably</i> close together in the vectorial space. For example, if we use T-SNE (a dimensional reduction visualization algorithm) to flatten the dimensions of our vectors into a 2-dimensional space and plot these words in a 2-dimensional space, we might see something like this:\n",
        "\n",
        "<img src=\"https://ibm.box.com/shared/static/bqhc5dg879gcoabzhxra1w8rkg3od1cu.png\" width=\"800\">\n",
        "<center><i>T-SNE Mockup with clusters marked for easier visualization</i></center>\n",
        "<br><br>\n",
        "As you can see, words that are frequently used together, in place of each other, or in the same places as them tend to be grouped together -- being closer together the higher they are correlated. For example, \"None\" is pretty semantically close to \"Zero\", while a phrase that uses \"Italy\", you could probably also fit \"Germany\" in it, with little damage to the sentence structure. The vectorial \"closeness\" for similar words like this is a great indicator of a well-built model.\n",
        "\n",
        "<hr>\n"
      ]
    },
    {
      "cell_type": "markdown",
      "metadata": {
        "button": false,
        "deletable": true,
        "new_sheet": false,
        "run_control": {
          "read_only": false
        },
        "id": "7Mza9g8AQQ4G"
      },
      "source": [
        "We need to import the necessary modules for our code. We need <b><code>numpy</code></b> and <b><code>tensorflow</code></b>, obviously. Additionally, we can import directly the <b><code>tensorflow\\.models.rnn</code></b> model, which includes the function for building RNNs, and <b><code>tensorflow\\.models.rnn.ptb.reader</code></b> which is the helper module for getting the input data from the dataset we just downloaded.\n",
        "\n",
        "If you want to learn more take a look at <https://github.com/tensorflow/models/blob/master/tutorials/rnn/ptb/reader.py>\n"
      ]
    },
    {
      "cell_type": "code",
      "execution_count": 1,
      "metadata": {
        "tags": [],
        "colab": {
          "base_uri": "https://localhost:8080/",
          "height": 1000
        },
        "id": "8XcgmZR2QQ4G",
        "outputId": "e9f76841-b3c4-42e5-bc5b-f8680debc200"
      },
      "outputs": [
        {
          "output_type": "stream",
          "name": "stdout",
          "text": [
            "Looking in indexes: https://pypi.org/simple, https://us-python.pkg.dev/colab-wheels/public/simple/\n",
            "Requirement already satisfied: tensorflow==2.8.2 in /usr/local/lib/python3.7/dist-packages (2.8.2+zzzcolab20220719082949)\n",
            "Requirement already satisfied: wrapt>=1.11.0 in /usr/local/lib/python3.7/dist-packages (from tensorflow==2.8.2) (1.14.1)\n",
            "Requirement already satisfied: tensorflow-estimator<2.9,>=2.8 in /usr/local/lib/python3.7/dist-packages (from tensorflow==2.8.2) (2.8.0)\n",
            "Requirement already satisfied: six>=1.12.0 in /usr/local/lib/python3.7/dist-packages (from tensorflow==2.8.2) (1.15.0)\n",
            "Requirement already satisfied: opt-einsum>=2.3.2 in /usr/local/lib/python3.7/dist-packages (from tensorflow==2.8.2) (3.3.0)\n",
            "Requirement already satisfied: protobuf<3.20,>=3.9.2 in /usr/local/lib/python3.7/dist-packages (from tensorflow==2.8.2) (3.17.3)\n",
            "Requirement already satisfied: typing-extensions>=3.6.6 in /usr/local/lib/python3.7/dist-packages (from tensorflow==2.8.2) (4.1.1)\n",
            "Requirement already satisfied: tensorboard<2.9,>=2.8 in /usr/local/lib/python3.7/dist-packages (from tensorflow==2.8.2) (2.8.0)\n",
            "Requirement already satisfied: termcolor>=1.1.0 in /usr/local/lib/python3.7/dist-packages (from tensorflow==2.8.2) (1.1.0)\n",
            "Requirement already satisfied: grpcio<2.0,>=1.24.3 in /usr/local/lib/python3.7/dist-packages (from tensorflow==2.8.2) (1.47.0)\n",
            "Requirement already satisfied: setuptools in /usr/local/lib/python3.7/dist-packages (from tensorflow==2.8.2) (57.4.0)\n",
            "Requirement already satisfied: keras-preprocessing>=1.1.1 in /usr/local/lib/python3.7/dist-packages (from tensorflow==2.8.2) (1.1.2)\n",
            "Requirement already satisfied: astunparse>=1.6.0 in /usr/local/lib/python3.7/dist-packages (from tensorflow==2.8.2) (1.6.3)\n",
            "Requirement already satisfied: numpy>=1.20 in /usr/local/lib/python3.7/dist-packages (from tensorflow==2.8.2) (1.21.6)\n",
            "Requirement already satisfied: h5py>=2.9.0 in /usr/local/lib/python3.7/dist-packages (from tensorflow==2.8.2) (3.1.0)\n",
            "Requirement already satisfied: gast>=0.2.1 in /usr/local/lib/python3.7/dist-packages (from tensorflow==2.8.2) (0.5.3)\n",
            "Requirement already satisfied: google-pasta>=0.1.1 in /usr/local/lib/python3.7/dist-packages (from tensorflow==2.8.2) (0.2.0)\n",
            "Requirement already satisfied: keras<2.9,>=2.8.0rc0 in /usr/local/lib/python3.7/dist-packages (from tensorflow==2.8.2) (2.8.0)\n",
            "Requirement already satisfied: flatbuffers>=1.12 in /usr/local/lib/python3.7/dist-packages (from tensorflow==2.8.2) (2.0)\n",
            "Requirement already satisfied: absl-py>=0.4.0 in /usr/local/lib/python3.7/dist-packages (from tensorflow==2.8.2) (1.2.0)\n",
            "Requirement already satisfied: libclang>=9.0.1 in /usr/local/lib/python3.7/dist-packages (from tensorflow==2.8.2) (14.0.6)\n",
            "Requirement already satisfied: tensorflow-io-gcs-filesystem>=0.23.1 in /usr/local/lib/python3.7/dist-packages (from tensorflow==2.8.2) (0.26.0)\n",
            "Requirement already satisfied: wheel<1.0,>=0.23.0 in /usr/local/lib/python3.7/dist-packages (from astunparse>=1.6.0->tensorflow==2.8.2) (0.37.1)\n",
            "Requirement already satisfied: cached-property in /usr/local/lib/python3.7/dist-packages (from h5py>=2.9.0->tensorflow==2.8.2) (1.5.2)\n",
            "Requirement already satisfied: tensorboard-plugin-wit>=1.6.0 in /usr/local/lib/python3.7/dist-packages (from tensorboard<2.9,>=2.8->tensorflow==2.8.2) (1.8.1)\n",
            "Requirement already satisfied: werkzeug>=0.11.15 in /usr/local/lib/python3.7/dist-packages (from tensorboard<2.9,>=2.8->tensorflow==2.8.2) (1.0.1)\n",
            "Requirement already satisfied: markdown>=2.6.8 in /usr/local/lib/python3.7/dist-packages (from tensorboard<2.9,>=2.8->tensorflow==2.8.2) (3.4.1)\n",
            "Requirement already satisfied: google-auth<3,>=1.6.3 in /usr/local/lib/python3.7/dist-packages (from tensorboard<2.9,>=2.8->tensorflow==2.8.2) (1.35.0)\n",
            "Requirement already satisfied: google-auth-oauthlib<0.5,>=0.4.1 in /usr/local/lib/python3.7/dist-packages (from tensorboard<2.9,>=2.8->tensorflow==2.8.2) (0.4.6)\n",
            "Requirement already satisfied: requests<3,>=2.21.0 in /usr/local/lib/python3.7/dist-packages (from tensorboard<2.9,>=2.8->tensorflow==2.8.2) (2.23.0)\n",
            "Requirement already satisfied: tensorboard-data-server<0.7.0,>=0.6.0 in /usr/local/lib/python3.7/dist-packages (from tensorboard<2.9,>=2.8->tensorflow==2.8.2) (0.6.1)\n",
            "Requirement already satisfied: cachetools<5.0,>=2.0.0 in /usr/local/lib/python3.7/dist-packages (from google-auth<3,>=1.6.3->tensorboard<2.9,>=2.8->tensorflow==2.8.2) (4.2.4)\n",
            "Requirement already satisfied: rsa<5,>=3.1.4 in /usr/local/lib/python3.7/dist-packages (from google-auth<3,>=1.6.3->tensorboard<2.9,>=2.8->tensorflow==2.8.2) (4.9)\n",
            "Requirement already satisfied: pyasn1-modules>=0.2.1 in /usr/local/lib/python3.7/dist-packages (from google-auth<3,>=1.6.3->tensorboard<2.9,>=2.8->tensorflow==2.8.2) (0.2.8)\n",
            "Requirement already satisfied: requests-oauthlib>=0.7.0 in /usr/local/lib/python3.7/dist-packages (from google-auth-oauthlib<0.5,>=0.4.1->tensorboard<2.9,>=2.8->tensorflow==2.8.2) (1.3.1)\n",
            "Requirement already satisfied: importlib-metadata>=4.4 in /usr/local/lib/python3.7/dist-packages (from markdown>=2.6.8->tensorboard<2.9,>=2.8->tensorflow==2.8.2) (4.12.0)\n",
            "Requirement already satisfied: zipp>=0.5 in /usr/local/lib/python3.7/dist-packages (from importlib-metadata>=4.4->markdown>=2.6.8->tensorboard<2.9,>=2.8->tensorflow==2.8.2) (3.8.1)\n",
            "Requirement already satisfied: pyasn1<0.5.0,>=0.4.6 in /usr/local/lib/python3.7/dist-packages (from pyasn1-modules>=0.2.1->google-auth<3,>=1.6.3->tensorboard<2.9,>=2.8->tensorflow==2.8.2) (0.4.8)\n",
            "Requirement already satisfied: urllib3!=1.25.0,!=1.25.1,<1.26,>=1.21.1 in /usr/local/lib/python3.7/dist-packages (from requests<3,>=2.21.0->tensorboard<2.9,>=2.8->tensorflow==2.8.2) (1.24.3)\n",
            "Requirement already satisfied: chardet<4,>=3.0.2 in /usr/local/lib/python3.7/dist-packages (from requests<3,>=2.21.0->tensorboard<2.9,>=2.8->tensorflow==2.8.2) (3.0.4)\n",
            "Requirement already satisfied: idna<3,>=2.5 in /usr/local/lib/python3.7/dist-packages (from requests<3,>=2.21.0->tensorboard<2.9,>=2.8->tensorflow==2.8.2) (2.10)\n",
            "Requirement already satisfied: certifi>=2017.4.17 in /usr/local/lib/python3.7/dist-packages (from requests<3,>=2.21.0->tensorboard<2.9,>=2.8->tensorflow==2.8.2) (2022.6.15)\n",
            "Requirement already satisfied: oauthlib>=3.0.0 in /usr/local/lib/python3.7/dist-packages (from requests-oauthlib>=0.7.0->google-auth-oauthlib<0.5,>=0.4.1->tensorboard<2.9,>=2.8->tensorflow==2.8.2) (3.2.0)\n",
            "Looking in indexes: https://pypi.org/simple, https://us-python.pkg.dev/colab-wheels/public/simple/\n",
            "Collecting numpy==1.21.4\n",
            "  Downloading numpy-1.21.4-cp37-cp37m-manylinux_2_12_x86_64.manylinux2010_x86_64.whl (15.7 MB)\n",
            "\u001b[K     |████████████████████████████████| 15.7 MB 18.6 MB/s \n",
            "\u001b[?25hInstalling collected packages: numpy\n",
            "  Attempting uninstall: numpy\n",
            "    Found existing installation: numpy 1.21.6\n",
            "    Uninstalling numpy-1.21.6:\n",
            "      Successfully uninstalled numpy-1.21.6\n",
            "Successfully installed numpy-1.21.4\n"
          ]
        },
        {
          "output_type": "display_data",
          "data": {
            "application/vnd.colab-display-data+json": {
              "pip_warning": {
                "packages": [
                  "numpy"
                ]
              }
            }
          },
          "metadata": {}
        }
      ],
      "source": [
        "!pip install tensorflow==2.8.2\n",
        "!pip install numpy==1.21.4\n"
      ]
    },
    {
      "cell_type": "code",
      "execution_count": 2,
      "metadata": {
        "id": "XWtn6j3hQQ4H"
      },
      "outputs": [],
      "source": [
        "import time\n",
        "import numpy as np\n",
        "import tensorflow as tf\n",
        "if not tf.__version__ == '2.8.2':\n",
        "    print(tf.__version__)\n",
        "    raise ValueError('please upgrade to TensorFlow 2.2.0-rc0, or restart your Kernel (Kernel->Restart & Clear Output)')"
      ]
    },
    {
      "cell_type": "markdown",
      "metadata": {
        "id": "CWmggy7WQQ4I"
      },
      "source": [
        "IMPORTANT! => Please restart the kernel by clicking on \"Kernel\"->\"Restart and Clear Outout\" and wait until all output disapears. Then your changes are beeing picked up\n"
      ]
    },
    {
      "cell_type": "code",
      "execution_count": 3,
      "metadata": {
        "button": false,
        "deletable": true,
        "new_sheet": false,
        "run_control": {
          "read_only": false
        },
        "tags": [],
        "colab": {
          "base_uri": "https://localhost:8080/"
        },
        "id": "SZ-6VDFVQQ4I",
        "outputId": "cdad2e76-e400-49d2-c186-95057d2e912d"
      },
      "outputs": [
        {
          "output_type": "stream",
          "name": "stdout",
          "text": [
            "Archive:  data/ptb.zip\n",
            "   creating: data/ptb/\n",
            "  inflating: data/ptb/reader.py      \n"
          ]
        }
      ],
      "source": [
        "!mkdir data\n",
        "!wget -q -O data/ptb.zip https://cf-courses-data.s3.us.cloud-object-storage.appdomain.cloud/IBM-ML241EN-SkillsNetwork/labs/datasets/ptb.zip\n",
        "!unzip -o data/ptb.zip -d data\n",
        "!cp data/ptb/reader.py . \n",
        "\n"
      ]
    },
    {
      "cell_type": "code",
      "execution_count": 4,
      "metadata": {
        "tags": [],
        "id": "5sFLJAUXQQ4I"
      },
      "outputs": [],
      "source": [
        "import reader"
      ]
    },
    {
      "cell_type": "markdown",
      "metadata": {
        "button": false,
        "deletable": true,
        "new_sheet": false,
        "run_control": {
          "read_only": false
        },
        "id": "kkVNFxSmQQ4I"
      },
      "source": [
        "<a id=\"building_lstm_model\"></a>\n",
        "\n",
        "<h2>Building the LSTM model for Language Modeling</h2>\n",
        "Now that we know exactly what we are doing, we can start building our model using TensorFlow. The very first thing we need to do is download and extract the <code>simple-examples</code> dataset, which can be done by executing the code cell below.\n"
      ]
    },
    {
      "cell_type": "code",
      "execution_count": 5,
      "metadata": {
        "button": false,
        "deletable": true,
        "new_sheet": false,
        "run_control": {
          "read_only": false
        },
        "tags": [],
        "colab": {
          "base_uri": "https://localhost:8080/"
        },
        "id": "FwZK4rJVQQ4J",
        "outputId": "1091af5b-6af7-476c-9960-dffbacaa5af1"
      },
      "outputs": [
        {
          "output_type": "stream",
          "name": "stdout",
          "text": [
            "--2022-08-12 09:00:04--  http://www.fit.vutbr.cz/~imikolov/rnnlm/simple-examples.tgz\n",
            "Resolving www.fit.vutbr.cz (www.fit.vutbr.cz)... 147.229.9.23, 2001:67c:1220:809::93e5:917\n",
            "Connecting to www.fit.vutbr.cz (www.fit.vutbr.cz)|147.229.9.23|:80... connected.\n",
            "HTTP request sent, awaiting response... 200 OK\n",
            "Length: 34869662 (33M) [application/x-gtar]\n",
            "Saving to: ‘simple-examples.tgz’\n",
            "\n",
            "simple-examples.tgz 100%[===================>]  33.25M   295KB/s    in 2m 14s  \n",
            "\n",
            "2022-08-12 09:02:20 (254 KB/s) - ‘simple-examples.tgz’ saved [34869662/34869662]\n",
            "\n"
          ]
        }
      ],
      "source": [
        "!wget http://www.fit.vutbr.cz/~imikolov/rnnlm/simple-examples.tgz \n",
        "!tar xzf simple-examples.tgz -C data/"
      ]
    },
    {
      "cell_type": "markdown",
      "metadata": {
        "button": false,
        "deletable": true,
        "new_sheet": false,
        "run_control": {
          "read_only": false
        },
        "id": "ZUAL7Z-KQQ4J"
      },
      "source": [
        "Additionally, for the sake of making it easy to play around with the model's hyperparameters, we can declare them beforehand. Feel free to change these -- you will see a difference in performance each time you change those!\n"
      ]
    },
    {
      "cell_type": "code",
      "execution_count": 6,
      "metadata": {
        "button": false,
        "deletable": true,
        "new_sheet": false,
        "run_control": {
          "read_only": false
        },
        "id": "eDJKDmSEQQ4J"
      },
      "outputs": [],
      "source": [
        "#Initial weight scale\n",
        "init_scale = 0.1\n",
        "#Initial learning rate\n",
        "learning_rate = 1.0\n",
        "#Maximum permissible norm for the gradient (For gradient clipping -- another measure against Exploding Gradients)\n",
        "max_grad_norm = 5\n",
        "#The number of layers in our model\n",
        "num_layers = 2\n",
        "#The total number of recurrence steps, also known as the number of layers when our RNN is \"unfolded\"\n",
        "num_steps = 20\n",
        "#The number of processing units (neurons) in the hidden layers\n",
        "hidden_size_l1 = 256\n",
        "hidden_size_l2 = 128\n",
        "#The maximum number of epochs trained with the initial learning rate\n",
        "max_epoch_decay_lr = 4\n",
        "#The total number of epochs in training\n",
        "max_epoch = 15\n",
        "#The probability for keeping data in the Dropout Layer (This is an optimization, but is outside our scope for this notebook!)\n",
        "#At 1, we ignore the Dropout Layer wrapping.\n",
        "keep_prob = 1\n",
        "#The decay for the learning rate\n",
        "decay = 0.5\n",
        "#The size for each batch of data\n",
        "batch_size = 30\n",
        "#The size of our vocabulary\n",
        "vocab_size = 10000\n",
        "embeding_vector_size= 200\n",
        "#Training flag to separate training from testing\n",
        "is_training = 1\n",
        "#Data directory for our dataset\n",
        "data_dir = \"data/simple-examples/data/\""
      ]
    },
    {
      "cell_type": "markdown",
      "metadata": {
        "button": false,
        "new_sheet": false,
        "run_control": {
          "read_only": false
        },
        "id": "0tFhPpQHQQ4J"
      },
      "source": [
        "Some clarifications for LSTM architecture based on the arguments:\n",
        "\n",
        "Network structure:\n",
        "\n",
        "<ul>\n",
        "    <li>In this network, the number of LSTM cells are 2. To give the model more expressive power, we can add multiple layers of LSTMs to process the data. The output of the first layer will become the input of the second and so on.\n",
        "    </li>\n",
        "    <li>The recurrence steps is 20, that is, when our RNN is \"Unfolded\", the recurrence step is 20.</li>   \n",
        "    <li>the structure is like:\n",
        "        <ul>\n",
        "            <li>200 input units -> [200x200] Weight -> 200 Hidden units (first layer) -> [200x200] Weight matrix  -> 200 Hidden units (second layer) ->  [200] weight Matrix -> 200 unit output</li>\n",
        "        </ul>\n",
        "    </li>\n",
        "</ul>\n",
        "<br>\n",
        "\n",
        "Input layer:\n",
        "\n",
        "<ul>\n",
        "    <li>The network has 200 input units.</li>\n",
        "    <li>Suppose each word is represented by an embedding vector of dimensionality e=200. The input layer of each cell will have 200 linear units. These e=200 linear units are connected to each of the h=200 LSTM units in the hidden layer (assuming there is only one hidden layer, though our case has 2 layers).\n",
        "    </li>\n",
        "    <li>The input shape is [batch_size, num_steps], that is [30x20]. It will turn into [30x20x200] after embedding, and then 20x[30x200]\n",
        "    </li>\n",
        "</ul>\n",
        "<br>\n",
        "\n",
        "Hidden layer:\n",
        "\n",
        "<ul>\n",
        "    <li>Each LSTM has 200 hidden units which is equivalent to the dimensionality of the embedding words and output.</li>\n",
        "</ul>\n",
        "<br>\n"
      ]
    },
    {
      "cell_type": "markdown",
      "metadata": {
        "button": false,
        "deletable": true,
        "new_sheet": false,
        "run_control": {
          "read_only": false
        },
        "id": "DCcYzR7EQQ4K"
      },
      "source": [
        "There is a lot to be done and a ton of information to process at the same time, so go over this code slowly. It may seem complex at first, but if you try to apply what you just learned about language modelling to the code you see, you should be able to understand it.\n",
        "\n",
        "This code is adapted from the <a href=\"https://github.com/tensorflow/models?utm_medium=Exinfluencer&utm_source=Exinfluencer&utm_content=000026UJ&utm_term=10006555&utm_id=NA-SkillsNetwork-Channel-SkillsNetworkCoursesIBMDeveloperSkillsNetworkDL0120ENSkillsNetwork20629446-2022-01-01\">PTBModel</a> example bundled with the TensorFlow source code.\n",
        "\n",
        "<h3>Training data</h3>\n",
        "The story starts from data:\n",
        "<ul>\n",
        "    <li>Train data is a list of words, of size 929589, represented by numbers, e.g. [9971, 9972, 9974, 9975,...]</li>\n",
        "    <li>We read data as mini-batch of size b=30. Assume the size of each sentence is 20 words (num_steps = 20). Then it will take $$floor(\\frac{N}{b \\times h})+1=1548$$ iterations for the learner to go through all sentences once. Where N is the size of the list of words, b is batch size, and h is size of each sentence. So, the number of iterators is 1548\n",
        "    </li>\n",
        "    <li>Each batch data is read from train dataset of size 600, and shape of [30x20]</li>\n",
        "</ul>\n"
      ]
    },
    {
      "cell_type": "code",
      "execution_count": 7,
      "metadata": {
        "button": false,
        "deletable": true,
        "new_sheet": false,
        "run_control": {
          "read_only": false
        },
        "id": "hz1g3T4nQQ4K"
      },
      "outputs": [],
      "source": [
        "# Reads the data and separates it into training data, validation data and testing data\n",
        "raw_data = reader.ptb_raw_data(data_dir)\n",
        "train_data, valid_data, test_data, vocab, word_to_id = raw_data"
      ]
    },
    {
      "cell_type": "code",
      "execution_count": 8,
      "metadata": {
        "colab": {
          "base_uri": "https://localhost:8080/"
        },
        "id": "sNX5LuguQQ4K",
        "outputId": "0f7bbe19-404c-4910-bd54-f46b50d939c2"
      },
      "outputs": [
        {
          "output_type": "execute_result",
          "data": {
            "text/plain": [
              "929589"
            ]
          },
          "metadata": {},
          "execution_count": 8
        }
      ],
      "source": [
        "len(train_data)"
      ]
    },
    {
      "cell_type": "code",
      "execution_count": 9,
      "metadata": {
        "tags": [],
        "colab": {
          "base_uri": "https://localhost:8080/"
        },
        "id": "QVX_k9n8QQ4L",
        "outputId": "08729b33-4c9e-49dc-8436-a5a6a376ada9"
      },
      "outputs": [
        {
          "output_type": "stream",
          "name": "stdout",
          "text": [
            "['aer', 'banknote', 'berlitz', 'calloway', 'centrust', 'cluett', 'fromstein', 'gitano', 'guterman', 'hydro-quebec', 'ipo', 'kia', 'memotec', 'mlx', 'nahb', 'punts', 'rake', 'regatta', 'rubens', 'sim', 'snack-food', 'ssangyong', 'swapo', 'wachter', '<eos>', 'pierre', '<unk>', 'N', 'years', 'old', 'will', 'join', 'the', 'board', 'as', 'a', 'nonexecutive', 'director', 'nov.', 'N', '<eos>', 'mr.', '<unk>', 'is', 'chairman', 'of', '<unk>', 'n.v.', 'the', 'dutch', 'publishing', 'group', '<eos>', 'rudolph', '<unk>', 'N', 'years', 'old', 'and', 'former', 'chairman', 'of', 'consolidated', 'gold', 'fields', 'plc', 'was', 'named', 'a', 'nonexecutive', 'director', 'of', 'this', 'british', 'industrial', 'conglomerate', '<eos>', 'a', 'form', 'of', 'asbestos', 'once', 'used', 'to', 'make', 'kent', 'cigarette', 'filters', 'has', 'caused', 'a', 'high', 'percentage', 'of', 'cancer', 'deaths', 'among', 'a', 'group', 'of']\n"
          ]
        }
      ],
      "source": [
        "def id_to_word(id_list):\n",
        "    line = []\n",
        "    for w in id_list:\n",
        "        for word, wid in word_to_id.items():\n",
        "            if wid == w:\n",
        "                line.append(word)\n",
        "    return line            \n",
        "                \n",
        "\n",
        "print(id_to_word(train_data[0:100]))"
      ]
    },
    {
      "cell_type": "markdown",
      "metadata": {
        "button": false,
        "deletable": true,
        "new_sheet": false,
        "run_control": {
          "read_only": false
        },
        "id": "Xr5sYIEwQQ4M"
      },
      "source": [
        "Lets just read one mini-batch now and feed our network:\n"
      ]
    },
    {
      "cell_type": "code",
      "execution_count": 10,
      "metadata": {
        "button": false,
        "deletable": true,
        "new_sheet": false,
        "run_control": {
          "read_only": false
        },
        "id": "N3Dg_lJLQQ4M"
      },
      "outputs": [],
      "source": [
        "itera = reader.ptb_iterator(train_data, batch_size, num_steps)\n",
        "first_touple = itera.__next__()\n",
        "_input_data = first_touple[0]\n",
        "_targets = first_touple[1]"
      ]
    },
    {
      "cell_type": "code",
      "execution_count": 11,
      "metadata": {
        "button": false,
        "deletable": true,
        "new_sheet": false,
        "run_control": {
          "read_only": false
        },
        "colab": {
          "base_uri": "https://localhost:8080/"
        },
        "id": "_1P-ybrLQQ4N",
        "outputId": "73a6f345-b0c4-468a-f8ba-ce59c0b024f9"
      },
      "outputs": [
        {
          "output_type": "execute_result",
          "data": {
            "text/plain": [
              "(30, 20)"
            ]
          },
          "metadata": {},
          "execution_count": 11
        }
      ],
      "source": [
        "_input_data.shape"
      ]
    },
    {
      "cell_type": "code",
      "execution_count": 12,
      "metadata": {
        "colab": {
          "base_uri": "https://localhost:8080/"
        },
        "id": "S3PI4L1wQQ4N",
        "outputId": "ab003a17-9e1f-4fd3-9a2b-d263dce05e74"
      },
      "outputs": [
        {
          "output_type": "execute_result",
          "data": {
            "text/plain": [
              "(30, 20)"
            ]
          },
          "metadata": {},
          "execution_count": 12
        }
      ],
      "source": [
        "_targets.shape"
      ]
    },
    {
      "cell_type": "markdown",
      "metadata": {
        "button": false,
        "deletable": true,
        "new_sheet": false,
        "run_control": {
          "read_only": false
        },
        "id": "6DhP4SjzQQ4O"
      },
      "source": [
        "Lets look at 3 sentences of our input x:\n"
      ]
    },
    {
      "cell_type": "code",
      "execution_count": 13,
      "metadata": {
        "button": false,
        "deletable": true,
        "new_sheet": false,
        "run_control": {
          "read_only": false
        },
        "colab": {
          "base_uri": "https://localhost:8080/"
        },
        "id": "jn-CU4H5QQ4O",
        "outputId": "d6c7350a-47db-4362-9e44-c40bf37d2417"
      },
      "outputs": [
        {
          "output_type": "execute_result",
          "data": {
            "text/plain": [
              "array([[9970, 9971, 9972, 9974, 9975, 9976, 9980, 9981, 9982, 9983, 9984,\n",
              "        9986, 9987, 9988, 9989, 9991, 9992, 9993, 9994, 9995],\n",
              "       [2654,    6,  334, 2886,    4,    1,  233,  711,  834,   11,  130,\n",
              "         123,    7,  514,    2,   63,   10,  514,    8,  605],\n",
              "       [   0, 1071,    4,    0,  185,   24,  368,   20,   31, 3109,  954,\n",
              "          12,    3,   21,    2, 2915,    2,   12,    3,   21]],\n",
              "      dtype=int32)"
            ]
          },
          "metadata": {},
          "execution_count": 13
        }
      ],
      "source": [
        "_input_data[0:3]"
      ]
    },
    {
      "cell_type": "code",
      "execution_count": 14,
      "metadata": {
        "colab": {
          "base_uri": "https://localhost:8080/"
        },
        "id": "l3tWod8TQQ4P",
        "outputId": "0fd81630-3b8d-4d23-8fd1-f9df9df45489"
      },
      "outputs": [
        {
          "output_type": "stream",
          "name": "stdout",
          "text": [
            "['aer', 'banknote', 'berlitz', 'calloway', 'centrust', 'cluett', 'fromstein', 'gitano', 'guterman', 'hydro-quebec', 'ipo', 'kia', 'memotec', 'mlx', 'nahb', 'punts', 'rake', 'regatta', 'rubens', 'sim']\n"
          ]
        }
      ],
      "source": [
        "print(id_to_word(_input_data[0,:]))"
      ]
    },
    {
      "cell_type": "markdown",
      "metadata": {
        "button": false,
        "deletable": true,
        "new_sheet": false,
        "run_control": {
          "read_only": false
        },
        "id": "ppFtAdLlQQ4P"
      },
      "source": [
        "<h3>Embeddings</h3>\n",
        "We have to convert the words in our dataset to vectors of numbers. The traditional approach is to use one-hot encoding method that is usually used for converting categorical values to numerical values. However, One-hot encoded vectors are high-dimensional, sparse and in a big dataset, computationally inefficient. So, we use word2vec approach. It is, in fact, a layer in our LSTM network, where the word IDs will be represented as a dense representation before feeding to the LSTM. \n",
        "\n",
        "The embedded vectors also get updated during the training process of the deep neural network.\n",
        "We create the embeddings for our input data. <b>embedding_vocab</b> is matrix of \\[10000x200] for all 10000 unique words.\n"
      ]
    },
    {
      "cell_type": "markdown",
      "metadata": {
        "button": false,
        "deletable": true,
        "new_sheet": false,
        "run_control": {
          "read_only": false
        },
        "id": "SU6Kjp4kQQ4P"
      },
      "source": [
        "<b>embedding_lookup()</b> finds the embedded values for our batch of 30x20 words. It  goes to each row of <code>input_data</code>, and for each word in the row/sentence, finds the correspond vector in <code>embedding_dic<code>. <br>\n",
        "It creates a \\[30x20x200] tensor, so, the first element of <b>inputs</b> (the first sentence), is a matrix of 20x200, which each row of it, is vector representing a word in the sentence.\n"
      ]
    },
    {
      "cell_type": "code",
      "execution_count": 15,
      "metadata": {
        "id": "uhN727aBQQ4P"
      },
      "outputs": [],
      "source": [
        "embedding_layer = tf.keras.layers.Embedding(vocab_size, embeding_vector_size,batch_input_shape=(batch_size, num_steps),trainable=True,name=\"embedding_vocab\")  "
      ]
    },
    {
      "cell_type": "code",
      "execution_count": 16,
      "metadata": {
        "colab": {
          "base_uri": "https://localhost:8080/"
        },
        "id": "9HtpXm1SQQ4Q",
        "outputId": "7088bf5d-4e5a-413d-83a3-f5e41ae068b9"
      },
      "outputs": [
        {
          "output_type": "execute_result",
          "data": {
            "text/plain": [
              "<tf.Tensor: shape=(30, 20, 200), dtype=float32, numpy=\n",
              "array([[[-0.04588001,  0.01739259,  0.04263617, ..., -0.02539672,\n",
              "         -0.02869384,  0.04852271],\n",
              "        [-0.03804936, -0.00479456, -0.00362688, ...,  0.02805951,\n",
              "          0.04882476,  0.04230067],\n",
              "        [ 0.04915638, -0.04110591,  0.02988658, ...,  0.03328433,\n",
              "         -0.01128768,  0.04648951],\n",
              "        ...,\n",
              "        [ 0.00340413,  0.01662767,  0.00372255, ...,  0.04413972,\n",
              "         -0.0148312 ,  0.03723362],\n",
              "        [ 0.03347274, -0.03353766,  0.00475245, ...,  0.02142879,\n",
              "          0.00773329, -0.01923823],\n",
              "        [ 0.0226459 , -0.007982  ,  0.01810071, ...,  0.03371834,\n",
              "         -0.01181251, -0.00807896]],\n",
              "\n",
              "       [[ 0.03463938,  0.03036091,  0.00518   , ..., -0.0196088 ,\n",
              "          0.02432944, -0.04743052],\n",
              "        [ 0.00829083, -0.00484462,  0.04208146, ...,  0.01009245,\n",
              "          0.04178332,  0.02912113],\n",
              "        [ 0.04164913,  0.0188957 , -0.0495389 , ..., -0.04947467,\n",
              "         -0.00088156, -0.01530206],\n",
              "        ...,\n",
              "        [-0.02813897,  0.0395582 , -0.03304119, ...,  0.01878612,\n",
              "         -0.00115709,  0.0131801 ],\n",
              "        [-0.04516445, -0.01050786, -0.01501229, ...,  0.03164092,\n",
              "          0.04891951,  0.03182824],\n",
              "        [-0.0409859 , -0.02600285, -0.02737279, ..., -0.0459868 ,\n",
              "         -0.00407027, -0.00628309]],\n",
              "\n",
              "       [[ 0.01736546,  0.00421391, -0.01027068, ..., -0.02611505,\n",
              "         -0.01656214,  0.04109807],\n",
              "        [-0.03611561,  0.04607387, -0.04478325, ...,  0.01683566,\n",
              "          0.01142027, -0.03142171],\n",
              "        [ 0.02961103,  0.01166692, -0.04756648, ..., -0.0174455 ,\n",
              "         -0.04726359, -0.04204419],\n",
              "        ...,\n",
              "        [-0.01623426,  0.00740485, -0.03354863, ..., -0.00056428,\n",
              "          0.02601035,  0.00217043],\n",
              "        [ 0.04715421, -0.02281494,  0.03666744, ..., -0.04825292,\n",
              "         -0.03682257, -0.01535676],\n",
              "        [ 0.00914488, -0.01877289, -0.04627484, ...,  0.03821133,\n",
              "          0.02020964, -0.0421018 ]],\n",
              "\n",
              "       ...,\n",
              "\n",
              "       [[-0.00777673,  0.00422412, -0.03310355, ..., -0.042003  ,\n",
              "          0.0333536 ,  0.04760077],\n",
              "        [-0.00243197, -0.01493111, -0.00852513, ...,  0.01243777,\n",
              "         -0.04763691,  0.03682705],\n",
              "        [-0.0348702 , -0.02192495,  0.00385177, ...,  0.03595639,\n",
              "         -0.0307737 , -0.03239737],\n",
              "        ...,\n",
              "        [-0.02879821,  0.00622903,  0.0306185 , ..., -0.03358785,\n",
              "          0.01530799, -0.01320434],\n",
              "        [ 0.03583236,  0.01484764, -0.0158468 , ...,  0.03843061,\n",
              "          0.03791039,  0.0136436 ],\n",
              "        [-0.03222177, -0.02704896, -0.02908989, ...,  0.01837156,\n",
              "          0.01340214, -0.04086472]],\n",
              "\n",
              "       [[ 0.02058646,  0.00433279, -0.00017089, ..., -0.02194511,\n",
              "         -0.00255771,  0.00033369],\n",
              "        [ 0.02255693, -0.00435947,  0.04527854, ...,  0.02135842,\n",
              "          0.01794619,  0.0149595 ],\n",
              "        [ 0.02961103,  0.01166692, -0.04756648, ..., -0.0174455 ,\n",
              "         -0.04726359, -0.04204419],\n",
              "        ...,\n",
              "        [-0.04997712, -0.02822155,  0.04945127, ..., -0.00421097,\n",
              "         -0.03596539,  0.0438215 ],\n",
              "        [ 0.00829083, -0.00484462,  0.04208146, ...,  0.01009245,\n",
              "          0.04178332,  0.02912113],\n",
              "        [ 0.0088464 ,  0.01797894,  0.02369951, ...,  0.02537102,\n",
              "          0.02661956,  0.03522966]],\n",
              "\n",
              "       [[ 0.03038264, -0.01434077,  0.02461839, ..., -0.01151202,\n",
              "          0.02686736,  0.00820209],\n",
              "        [-0.04178669, -0.03429977,  0.02115668, ...,  0.03306388,\n",
              "         -0.02317994, -0.04354333],\n",
              "        [-0.04862535,  0.01250776,  0.03938304, ..., -0.02006441,\n",
              "         -0.03341599, -0.01215066],\n",
              "        ...,\n",
              "        [ 0.01059917,  0.01526642, -0.00409814, ..., -0.00700499,\n",
              "          0.03939649, -0.01439799],\n",
              "        [-0.00956883,  0.00666919,  0.0015283 , ..., -0.03264143,\n",
              "         -0.0200962 ,  0.02864934],\n",
              "        [ 0.00160762,  0.00611521, -0.04579901, ...,  0.03014678,\n",
              "         -0.01573152,  0.04061638]]], dtype=float32)>"
            ]
          },
          "metadata": {},
          "execution_count": 16
        }
      ],
      "source": [
        "# Define where to get the data for our embeddings from\n",
        "inputs = embedding_layer(_input_data)\n",
        "inputs"
      ]
    },
    {
      "cell_type": "markdown",
      "metadata": {
        "id": "j4PsQcEMQQ4Q"
      },
      "source": [
        "<h3>Constructing Recurrent Neural Networks</h3>\n"
      ]
    },
    {
      "cell_type": "markdown",
      "metadata": {
        "button": false,
        "deletable": true,
        "new_sheet": false,
        "run_control": {
          "read_only": false
        },
        "id": "wkySY8VuQQ4Q"
      },
      "source": [
        "In this step, we create the stacked LSTM using <b>tf.keras.layers.StackedRNNCells</b>, which is a 2 layer LSTM network:\n"
      ]
    },
    {
      "cell_type": "code",
      "execution_count": 17,
      "metadata": {
        "id": "KbyNXesvQQ4R"
      },
      "outputs": [],
      "source": [
        "lstm_cell_l1 = tf.keras.layers.LSTMCell(hidden_size_l1)\n",
        "lstm_cell_l2 = tf.keras.layers.LSTMCell(hidden_size_l2)"
      ]
    },
    {
      "cell_type": "code",
      "execution_count": 18,
      "metadata": {
        "button": false,
        "deletable": true,
        "new_sheet": false,
        "run_control": {
          "read_only": false
        },
        "id": "4XT_3cL7QQ4R"
      },
      "outputs": [],
      "source": [
        "stacked_lstm = tf.keras.layers.StackedRNNCells([lstm_cell_l1, lstm_cell_l2])"
      ]
    },
    {
      "cell_type": "markdown",
      "metadata": {
        "id": "WJ1rjpOPQQ4R"
      },
      "source": [
        "<b>tf.keras.layers.RNN</b> creates a recurrent neural network using <b>stacked_lstm</b>.\n",
        "\n",
        "The input should be a Tensor of shape: \\[batch_size, max_time, embedding_vector_size], in our case it would be (30, 20, 200)\n"
      ]
    },
    {
      "cell_type": "code",
      "execution_count": 19,
      "metadata": {
        "id": "bClLGpdRQQ4R"
      },
      "outputs": [],
      "source": [
        "layer  =  tf.keras.layers.RNN(stacked_lstm,[batch_size, num_steps],return_state=False,stateful=True,trainable=True)"
      ]
    },
    {
      "cell_type": "markdown",
      "metadata": {
        "button": false,
        "deletable": true,
        "new_sheet": false,
        "run_control": {
          "read_only": false
        },
        "id": "VuFAsMo5QQ4R"
      },
      "source": [
        "Also, we initialize the states of the nework:\n",
        "\n",
        "<h4>_initial_state</h4>\n",
        "\n",
        "For each LSTM, there are 2 state matrices, c_state and m_state.  c_state and m_state represent \"Memory State\" and \"Cell State\". Each hidden layer, has a vector of size 30, which keeps the states. so, for 200 hidden units in each LSTM, we have a matrix of size \\[30x200]\n"
      ]
    },
    {
      "cell_type": "code",
      "execution_count": 20,
      "metadata": {
        "id": "fnsGcXnBQQ4R"
      },
      "outputs": [],
      "source": [
        "init_state = tf.Variable(tf.zeros([batch_size,embeding_vector_size]),trainable=False)"
      ]
    },
    {
      "cell_type": "code",
      "execution_count": 21,
      "metadata": {
        "id": "ygC5YCqPQQ4S"
      },
      "outputs": [],
      "source": [
        "layer.inital_state = init_state"
      ]
    },
    {
      "cell_type": "code",
      "execution_count": 22,
      "metadata": {
        "colab": {
          "base_uri": "https://localhost:8080/"
        },
        "id": "zOZkh8l6QQ4S",
        "outputId": "bf7b7f52-19a9-411e-9d41-0211cd243fad"
      },
      "outputs": [
        {
          "output_type": "execute_result",
          "data": {
            "text/plain": [
              "<tf.Variable 'Variable:0' shape=(30, 200) dtype=float32, numpy=\n",
              "array([[0., 0., 0., ..., 0., 0., 0.],\n",
              "       [0., 0., 0., ..., 0., 0., 0.],\n",
              "       [0., 0., 0., ..., 0., 0., 0.],\n",
              "       ...,\n",
              "       [0., 0., 0., ..., 0., 0., 0.],\n",
              "       [0., 0., 0., ..., 0., 0., 0.],\n",
              "       [0., 0., 0., ..., 0., 0., 0.]], dtype=float32)>"
            ]
          },
          "metadata": {},
          "execution_count": 22
        }
      ],
      "source": [
        "layer.inital_state"
      ]
    },
    {
      "cell_type": "markdown",
      "metadata": {
        "id": "kPgm9zUbQQ4S"
      },
      "source": [
        "so, lets look at the outputs. The output of the stackedLSTM comes from 128 hidden_layer, and in each time step(=20), one of them get activated. we use the linear activation to map the 128 hidden layer to a \\[30X20 matrix]\n"
      ]
    },
    {
      "cell_type": "code",
      "execution_count": 23,
      "metadata": {
        "id": "BO6_jx7qQQ4S"
      },
      "outputs": [],
      "source": [
        "outputs = layer(inputs)"
      ]
    },
    {
      "cell_type": "code",
      "execution_count": 24,
      "metadata": {
        "colab": {
          "base_uri": "https://localhost:8080/"
        },
        "id": "2vVP1Gk_QQ4S",
        "outputId": "604b3381-6aa6-4abf-9c4a-864025a67feb"
      },
      "outputs": [
        {
          "output_type": "execute_result",
          "data": {
            "text/plain": [
              "<tf.Tensor: shape=(30, 20, 128), dtype=float32, numpy=\n",
              "array([[[ 1.0370777e-03,  1.6074233e-03,  7.2722259e-04, ...,\n",
              "          1.5155368e-03, -5.8507145e-04,  9.2449738e-04],\n",
              "        [ 8.3830103e-04,  3.2660177e-03,  1.1880645e-03, ...,\n",
              "          1.5664988e-03, -1.4146661e-03,  1.6041989e-03],\n",
              "        [-4.7443621e-04,  2.7063554e-03,  1.0153205e-03, ...,\n",
              "         -1.2902594e-03, -1.5255448e-03,  2.0481974e-03],\n",
              "        ...,\n",
              "        [ 1.7328507e-03,  4.2297151e-03, -2.3505504e-03, ...,\n",
              "          3.0245632e-04, -3.3914654e-03, -2.9407176e-03],\n",
              "        [ 4.1901036e-03,  2.4816401e-03, -1.3484486e-03, ...,\n",
              "          3.6046538e-04, -3.3520339e-03, -2.2314496e-03],\n",
              "        [ 5.9050121e-03,  2.1963126e-03, -7.8968232e-04, ...,\n",
              "          3.5964139e-04, -2.9286302e-03, -1.6246672e-03]],\n",
              "\n",
              "       [[-3.1578176e-05,  6.7287870e-04, -5.5787753e-04, ...,\n",
              "         -7.1798050e-04,  3.2973496e-04,  8.7315292e-04],\n",
              "        [ 5.3193752e-04,  7.6344964e-04, -8.1326021e-04, ...,\n",
              "         -2.8994153e-03,  6.2772806e-04,  1.7309949e-03],\n",
              "        [ 1.9524715e-04,  1.3400713e-03, -1.6874531e-03, ...,\n",
              "         -5.4517658e-03,  1.0242568e-03,  2.2764383e-03],\n",
              "        ...,\n",
              "        [-2.2152713e-03,  8.8543165e-03, -2.7995657e-03, ...,\n",
              "          4.9238824e-03,  5.0063021e-03, -7.3193875e-04],\n",
              "        [-1.8433303e-03,  8.9506796e-03, -3.1361284e-03, ...,\n",
              "          5.4741995e-03,  5.2142469e-03,  8.0421698e-05],\n",
              "        [-1.2455828e-03,  8.8213552e-03, -3.1410528e-03, ...,\n",
              "          5.5933408e-03,  3.8820361e-03,  5.6993088e-04]],\n",
              "\n",
              "       [[ 3.4619358e-04,  1.2281847e-04, -3.5291936e-04, ...,\n",
              "         -1.0014760e-03,  1.3917234e-03, -1.8076150e-04],\n",
              "        [-5.9245108e-04,  2.8761567e-04, -5.2575581e-04, ...,\n",
              "         -5.9643120e-04, -8.3010682e-06,  7.9554500e-04],\n",
              "        [-2.5386291e-03,  5.5882359e-05, -9.7093137e-04, ...,\n",
              "         -1.6500082e-04, -1.6496860e-03,  2.1173529e-04],\n",
              "        ...,\n",
              "        [-9.4838683e-03,  1.1965996e-03,  1.3333133e-03, ...,\n",
              "         -2.2042256e-03,  9.7831544e-03, -1.7355548e-03],\n",
              "        [-9.4198594e-03,  1.2056082e-03,  1.6005707e-03, ...,\n",
              "         -2.5342617e-03,  9.8708095e-03, -2.0603344e-03],\n",
              "        [-8.2727540e-03,  2.6615760e-03,  2.5227640e-03, ...,\n",
              "         -2.3492777e-03,  9.8319417e-03, -1.6524546e-03]],\n",
              "\n",
              "       ...,\n",
              "\n",
              "       [[-1.8204295e-03, -1.5186256e-03, -6.3730153e-04, ...,\n",
              "         -3.6009270e-04,  2.4644210e-04,  4.7426405e-05],\n",
              "        [-4.0368228e-03, -2.9365737e-03, -9.5434877e-04, ...,\n",
              "          6.8239134e-04,  1.1967608e-03,  1.0925870e-03],\n",
              "        [-5.3324774e-03, -2.9673097e-03, -1.2208768e-03, ...,\n",
              "         -2.2200211e-04,  1.5676103e-04,  4.2765471e-03],\n",
              "        ...,\n",
              "        [-3.6191540e-03,  2.0311058e-03,  6.1764658e-06, ...,\n",
              "         -3.7723806e-04,  2.8745700e-03, -6.1335979e-04],\n",
              "        [-3.9708032e-03,  2.9270875e-03,  7.2944921e-04, ...,\n",
              "          1.5060094e-04,  3.4917851e-03,  2.9464471e-04],\n",
              "        [-4.7791316e-03,  2.8150929e-03,  1.0363809e-03, ...,\n",
              "          8.4487523e-04,  3.5906257e-03,  3.1065976e-03]],\n",
              "\n",
              "       [[-3.2175830e-04, -2.5826315e-05, -5.7760079e-04, ...,\n",
              "         -4.8643959e-04,  1.1253852e-03, -4.3029248e-04],\n",
              "        [ 7.1305854e-05,  9.7361444e-05, -5.8991171e-04, ...,\n",
              "         -1.0884197e-04,  1.4943838e-03, -7.6842488e-04],\n",
              "        [-1.2493466e-03, -4.4969146e-04, -7.3363603e-04, ...,\n",
              "          7.9610697e-07,  4.3661150e-04, -1.8895013e-03],\n",
              "        ...,\n",
              "        [ 1.3575981e-03,  8.2505768e-04, -6.1467705e-05, ...,\n",
              "          4.4071386e-03,  1.3479599e-03, -3.9558527e-03],\n",
              "        [ 2.1344146e-03,  2.0819835e-04, -2.6504512e-04, ...,\n",
              "          2.2085730e-03,  8.9109759e-04, -3.2317040e-03],\n",
              "        [ 1.3144618e-03,  4.7688695e-04, -3.9527600e-04, ...,\n",
              "          1.1104019e-04,  2.6153523e-04, -2.1690696e-03]],\n",
              "\n",
              "       [[-4.0874249e-04,  8.0583844e-04,  5.3371030e-05, ...,\n",
              "          9.3430281e-04,  1.2162876e-04, -9.1979053e-04],\n",
              "        [-8.0466992e-04,  2.2419293e-03, -6.4590611e-05, ...,\n",
              "          1.4906422e-03,  7.2210626e-04, -9.3617087e-04],\n",
              "        [ 1.7675500e-04,  1.5023259e-03,  2.2055586e-03, ...,\n",
              "          1.9025503e-03,  2.1120468e-03, -2.2588882e-03],\n",
              "        ...,\n",
              "        [-4.1463026e-03,  2.7284736e-03, -8.2755806e-03, ...,\n",
              "         -4.8434841e-03, -5.0395317e-03,  3.7460513e-03],\n",
              "        [-2.0980751e-03,  2.7857434e-03, -8.5246675e-03, ...,\n",
              "         -5.0937668e-03, -6.0061598e-03,  2.4610658e-03],\n",
              "        [-1.4043028e-03,  2.5321753e-03, -9.5811952e-03, ...,\n",
              "         -4.2343135e-03, -5.6448113e-03,  1.9429910e-03]]], dtype=float32)>"
            ]
          },
          "metadata": {},
          "execution_count": 24
        }
      ],
      "source": [
        "outputs"
      ]
    },
    {
      "cell_type": "markdown",
      "metadata": {
        "button": false,
        "deletable": true,
        "new_sheet": false,
        "run_control": {
          "read_only": false
        },
        "id": "tUBR1g3kQQ4S"
      },
      "source": [
        "<h2>Dense layer</h2>\n",
        "We now create densely-connected neural network layer that would reshape the outputs tensor from  [30 x 20 x 128] to [30 x 20 x 10000].\n"
      ]
    },
    {
      "cell_type": "code",
      "execution_count": 25,
      "metadata": {
        "id": "fsImhmiWQQ4S"
      },
      "outputs": [],
      "source": [
        "dense = tf.keras.layers.Dense(vocab_size)"
      ]
    },
    {
      "cell_type": "code",
      "execution_count": 26,
      "metadata": {
        "id": "gXHIuuwJQQ4T"
      },
      "outputs": [],
      "source": [
        "logits_outputs  = dense(outputs)"
      ]
    },
    {
      "cell_type": "code",
      "execution_count": 27,
      "metadata": {
        "colab": {
          "base_uri": "https://localhost:8080/"
        },
        "id": "i1nRT-pRQQ4T",
        "outputId": "65900546-f009-42b1-f6b0-c7909cbbdc29"
      },
      "outputs": [
        {
          "output_type": "stream",
          "name": "stdout",
          "text": [
            "shape of the output from dense layer:  (30, 20, 10000)\n"
          ]
        }
      ],
      "source": [
        "print(\"shape of the output from dense layer: \", logits_outputs.shape) #(batch_size, sequence_length, vocab_size)"
      ]
    },
    {
      "cell_type": "markdown",
      "metadata": {
        "id": "p2lHNLSeQQ4T"
      },
      "source": [
        "<h2>Activation layer</h2>\n",
        "\n",
        "A softmax activation layers is also then applied to derive the probability of the output being in any of the multiclass(10000 in this case) possibilities.\n"
      ]
    },
    {
      "cell_type": "code",
      "execution_count": 28,
      "metadata": {
        "id": "NEiVddl3QQ4T"
      },
      "outputs": [],
      "source": [
        "activation = tf.keras.layers.Activation('softmax')"
      ]
    },
    {
      "cell_type": "code",
      "execution_count": 29,
      "metadata": {
        "id": "aT9NZCYPQQ4T"
      },
      "outputs": [],
      "source": [
        "output_words_prob = activation(logits_outputs)"
      ]
    },
    {
      "cell_type": "code",
      "execution_count": 30,
      "metadata": {
        "colab": {
          "base_uri": "https://localhost:8080/"
        },
        "id": "-hjPMl2EQQ4T",
        "outputId": "cbff56fd-2010-4638-fc4c-7edd35703db9"
      },
      "outputs": [
        {
          "output_type": "stream",
          "name": "stdout",
          "text": [
            "shape of the output from the activation layer:  (30, 20, 10000)\n"
          ]
        }
      ],
      "source": [
        "print(\"shape of the output from the activation layer: \", output_words_prob.shape) #(batch_size, sequence_length, vocab_size)"
      ]
    },
    {
      "cell_type": "markdown",
      "metadata": {
        "id": "1OvrU97rQQ4T"
      },
      "source": [
        "Lets look at the probability of observing words for t=0 to t=20:\n"
      ]
    },
    {
      "cell_type": "code",
      "execution_count": 31,
      "metadata": {
        "colab": {
          "base_uri": "https://localhost:8080/"
        },
        "id": "6uggUkNlQQ4U",
        "outputId": "8170f0f9-2a4a-4991-f003-c78ffc8416b8"
      },
      "outputs": [
        {
          "output_type": "stream",
          "name": "stdout",
          "text": [
            "The probability of observing words in t=0 to t=20 tf.Tensor(\n",
            "[[1.00002391e-04 1.00014295e-04 9.99952827e-05 ... 1.00005258e-04\n",
            "  1.00013654e-04 9.99782569e-05]\n",
            " [1.00009929e-04 1.00015182e-04 9.99685508e-05 ... 9.99932890e-05\n",
            "  1.00008372e-04 9.99906042e-05]\n",
            " [9.99960466e-05 1.00005964e-04 9.99826079e-05 ... 9.99926560e-05\n",
            "  9.99855984e-05 1.00006837e-04]\n",
            " ...\n",
            " [9.99353579e-05 9.98933756e-05 1.00015859e-04 ... 1.00023251e-04\n",
            "  9.98930554e-05 1.00014928e-04]\n",
            " [9.99472250e-05 9.99267431e-05 1.00025856e-04 ... 1.00010540e-04\n",
            "  9.98658434e-05 9.99940166e-05]\n",
            " [9.99495387e-05 9.99296535e-05 1.00014811e-04 ... 9.99980111e-05\n",
            "  9.98456599e-05 9.99732001e-05]], shape=(20, 10000), dtype=float32)\n"
          ]
        }
      ],
      "source": [
        "print(\"The probability of observing words in t=0 to t=20\", output_words_prob[0,0:num_steps])"
      ]
    },
    {
      "cell_type": "markdown",
      "metadata": {
        "button": false,
        "deletable": true,
        "new_sheet": false,
        "run_control": {
          "read_only": false
        },
        "id": "HU0CMnM0QQ4U"
      },
      "source": [
        "<h3>Prediction</h3>\n",
        "What is the word correspond to the probability output? Lets use the maximum probability:\n"
      ]
    },
    {
      "cell_type": "code",
      "execution_count": 32,
      "metadata": {
        "colab": {
          "base_uri": "https://localhost:8080/"
        },
        "id": "Tvvlmn1rQQ4U",
        "outputId": "3c57b33b-ff77-42f6-a14a-adfd3c70ad22"
      },
      "outputs": [
        {
          "output_type": "execute_result",
          "data": {
            "text/plain": [
              "array([1734, 8172, 4867, 5007, 9231, 1718, 6357, 6357, 3098, 9685, 9685,\n",
              "       1154, 3164, 5777, 7828, 1154, 3081, 3081, 8384, 8384])"
            ]
          },
          "metadata": {},
          "execution_count": 32
        }
      ],
      "source": [
        "np.argmax(output_words_prob[0,0:num_steps], axis=1)"
      ]
    },
    {
      "cell_type": "markdown",
      "metadata": {
        "button": false,
        "deletable": true,
        "new_sheet": false,
        "run_control": {
          "read_only": false
        },
        "id": "9L7p_6OVQQ4U"
      },
      "source": [
        "So, what is the ground truth for the first word of first sentence? You can get it from target tensor, if you want to find the embedding vector:\n"
      ]
    },
    {
      "cell_type": "code",
      "execution_count": 33,
      "metadata": {
        "button": false,
        "deletable": true,
        "new_sheet": false,
        "run_control": {
          "read_only": false
        },
        "colab": {
          "base_uri": "https://localhost:8080/"
        },
        "id": "m7m0XICQQQ4U",
        "outputId": "e24b1a13-f2db-4c50-d64f-bafb5fcb1a06"
      },
      "outputs": [
        {
          "output_type": "execute_result",
          "data": {
            "text/plain": [
              "array([9971, 9972, 9974, 9975, 9976, 9980, 9981, 9982, 9983, 9984, 9986,\n",
              "       9987, 9988, 9989, 9991, 9992, 9993, 9994, 9995, 9996], dtype=int32)"
            ]
          },
          "metadata": {},
          "execution_count": 33
        }
      ],
      "source": [
        "_targets[0]"
      ]
    },
    {
      "cell_type": "markdown",
      "metadata": {
        "button": false,
        "new_sheet": false,
        "run_control": {
          "read_only": false
        },
        "id": "x2E5jkJDQQ4U"
      },
      "source": [
        "<h4>Objective function</h4>\n",
        "\n",
        "How similar the predicted words are to the target words?\n",
        "\n",
        "Now we have to define our objective function, to calculate the similarity of predicted values to ground truth, and then, penalize the model with the error. Our objective is to minimize loss function, that is, to minimize the average negative log probability of the target words:\n",
        "\n",
        "$$\\text{loss} = -\\frac{1}{N}\\sum\\_{i=1}^{N} \\ln p\\_{\\text{target}\\_i}$$\n",
        "\n",
        "This function is already implemented and available in TensorFlow through *tf.keras.losses.sparse_categorical_crossentropy*. It calculates the categorical cross-entropy loss for <b>logits</b> and the <b>target</b> sequence.\n",
        "\n",
        "The arguments of this function are:\n",
        "\n",
        "<ul>\n",
        "    <li>logits: List of 2D Tensors of shape [batch_size x num_decoder_symbols].</li>  \n",
        "    <li>targets: List of 1D batch-sized int32 Tensors of the same length as logits.</li>   \n",
        "</ul>\n"
      ]
    },
    {
      "cell_type": "code",
      "execution_count": 34,
      "metadata": {
        "id": "B__mqjtZQQ4U"
      },
      "outputs": [],
      "source": [
        "def crossentropy(y_true, y_pred):\n",
        "    return tf.keras.losses.sparse_categorical_crossentropy(y_true, y_pred)"
      ]
    },
    {
      "cell_type": "code",
      "execution_count": 35,
      "metadata": {
        "id": "IZhPZNH2QQ4U"
      },
      "outputs": [],
      "source": [
        "loss  = crossentropy(_targets, output_words_prob)"
      ]
    },
    {
      "cell_type": "markdown",
      "metadata": {
        "button": false,
        "new_sheet": false,
        "run_control": {
          "read_only": false
        },
        "id": "rhhLO3J5QQ4V"
      },
      "source": [
        "Lets look at the first 10 values of loss:\n"
      ]
    },
    {
      "cell_type": "code",
      "execution_count": 36,
      "metadata": {
        "colab": {
          "base_uri": "https://localhost:8080/"
        },
        "id": "eF7M-CXPQQ4V",
        "outputId": "6f6c90b3-215e-4d35-fc2d-a6f4d3137594"
      },
      "outputs": [
        {
          "output_type": "execute_result",
          "data": {
            "text/plain": [
              "<tf.Tensor: shape=(10,), dtype=float32, numpy=\n",
              "array([9.21045 , 9.210055, 9.2104  , 9.210985, 9.210024, 9.2103  ,\n",
              "       9.209858, 9.211018, 9.210348, 9.210708], dtype=float32)>"
            ]
          },
          "metadata": {},
          "execution_count": 36
        }
      ],
      "source": [
        "loss[0,:10]"
      ]
    },
    {
      "cell_type": "markdown",
      "metadata": {
        "id": "4goqDML5QQ4V"
      },
      "source": [
        "Now, we define cost as average of the losses:\n"
      ]
    },
    {
      "cell_type": "code",
      "execution_count": 37,
      "metadata": {
        "colab": {
          "base_uri": "https://localhost:8080/"
        },
        "id": "mvoIqxrEQQ4V",
        "outputId": "0a5364c8-2ed1-47bf-d8cc-f468e12d0fae"
      },
      "outputs": [
        {
          "output_type": "execute_result",
          "data": {
            "text/plain": [
              "<tf.Tensor: shape=(), dtype=float32, numpy=184.2069>"
            ]
          },
          "metadata": {},
          "execution_count": 37
        }
      ],
      "source": [
        "cost = tf.reduce_sum(loss / batch_size)\n",
        "cost"
      ]
    },
    {
      "cell_type": "markdown",
      "metadata": {
        "button": false,
        "deletable": true,
        "new_sheet": false,
        "run_control": {
          "read_only": false
        },
        "id": "YrmI1FPKQQ4V"
      },
      "source": [
        "<h3>Training</h3>\n",
        "\n",
        "To do training for our network, we have to take the following steps:\n",
        "\n",
        "<ol>\n",
        "    <li>Define the optimizer.</li>\n",
        "    <li>Assemble layers to build model.</li>\n",
        "    <li>Calculate the gradients based on the loss function.</li>\n",
        "    <li>Apply the optimizer to the variables/gradients tuple.</li>\n",
        "</ol>\n"
      ]
    },
    {
      "cell_type": "markdown",
      "metadata": {
        "button": false,
        "deletable": true,
        "new_sheet": false,
        "run_control": {
          "read_only": false
        },
        "id": "U7RwHMBpQQ4V"
      },
      "source": [
        "<h4>1. Define Optimizer</h4>\n"
      ]
    },
    {
      "cell_type": "code",
      "execution_count": 38,
      "metadata": {
        "colab": {
          "base_uri": "https://localhost:8080/"
        },
        "id": "0MALFWq0QQ4V",
        "outputId": "6071f502-fb28-4998-d5ab-674beda9c6ad"
      },
      "outputs": [
        {
          "output_type": "stream",
          "name": "stderr",
          "text": [
            "/usr/local/lib/python3.7/dist-packages/keras/optimizer_v2/gradient_descent.py:102: UserWarning: The `lr` argument is deprecated, use `learning_rate` instead.\n",
            "  super(SGD, self).__init__(name, **kwargs)\n"
          ]
        }
      ],
      "source": [
        "# Create a variable for the learning rate\n",
        "lr = tf.Variable(0.0, trainable=False)\n",
        "optimizer = tf.keras.optimizers.SGD(lr=lr, clipnorm=max_grad_norm)"
      ]
    },
    {
      "cell_type": "markdown",
      "metadata": {
        "id": "yJFmxmoxQQ4V"
      },
      "source": [
        "<h4>2. Assemble layers to build model.</h4>\n"
      ]
    },
    {
      "cell_type": "code",
      "execution_count": 39,
      "metadata": {
        "colab": {
          "base_uri": "https://localhost:8080/"
        },
        "id": "mWnqV3HFQQ4V",
        "outputId": "79a96760-d304-41e1-85dd-51d3c298ac6d"
      },
      "outputs": [
        {
          "output_type": "stream",
          "name": "stdout",
          "text": [
            "Model: \"sequential\"\n",
            "_________________________________________________________________\n",
            " Layer (type)                Output Shape              Param #   \n",
            "=================================================================\n",
            " embedding_vocab (Embedding)  (30, 20, 200)            2000000   \n",
            "                                                                 \n",
            " rnn (RNN)                   (30, 20, 128)             671088    \n",
            "                                                                 \n",
            " dense (Dense)               (30, 20, 10000)           1290000   \n",
            "                                                                 \n",
            " activation (Activation)     (30, 20, 10000)           0         \n",
            "                                                                 \n",
            "=================================================================\n",
            "Total params: 3,961,088\n",
            "Trainable params: 3,955,088\n",
            "Non-trainable params: 6,000\n",
            "_________________________________________________________________\n"
          ]
        }
      ],
      "source": [
        "model = tf.keras.Sequential()\n",
        "model.add(embedding_layer)\n",
        "model.add(layer)\n",
        "model.add(dense)\n",
        "model.add(activation)\n",
        "model.compile(loss=crossentropy, optimizer=optimizer)\n",
        "model.summary()"
      ]
    },
    {
      "cell_type": "markdown",
      "metadata": {
        "button": false,
        "new_sheet": false,
        "run_control": {
          "read_only": false
        },
        "id": "brjgcDm3QQ4W"
      },
      "source": [
        "<h4>2. Trainable Variables</h4>\n"
      ]
    },
    {
      "cell_type": "markdown",
      "metadata": {
        "button": false,
        "new_sheet": false,
        "run_control": {
          "read_only": false
        },
        "id": "E7anx3WZQQ4W"
      },
      "source": [
        "Defining a variable, if you passed <i>trainable=True</i>, the variable constructor automatically adds new variables to the graph collection <b>GraphKeys.TRAINABLE_VARIABLES</b>. Now, using <i>tf.trainable_variables()</i> you can get all variables created with <b>trainable=True</b>.\n"
      ]
    },
    {
      "cell_type": "code",
      "execution_count": 40,
      "metadata": {
        "button": false,
        "new_sheet": false,
        "run_control": {
          "read_only": false
        },
        "id": "w968yTpNQQ4W"
      },
      "outputs": [],
      "source": [
        "# Get all TensorFlow variables marked as \"trainable\" (i.e. all of them except _lr, which we just created)\n",
        "tvars = model.trainable_variables"
      ]
    },
    {
      "cell_type": "markdown",
      "metadata": {
        "button": false,
        "new_sheet": false,
        "run_control": {
          "read_only": false
        },
        "id": "PDtg31ImQQ4W"
      },
      "source": [
        "Note: we can find the name and scope of all variables:\n"
      ]
    },
    {
      "cell_type": "code",
      "execution_count": 41,
      "metadata": {
        "button": false,
        "new_sheet": false,
        "run_control": {
          "read_only": false
        },
        "colab": {
          "base_uri": "https://localhost:8080/"
        },
        "id": "UJLymAEzQQ4W",
        "outputId": "c933c132-7525-41fd-8e17-fa4f8d430c31"
      },
      "outputs": [
        {
          "output_type": "execute_result",
          "data": {
            "text/plain": [
              "['embedding_vocab/embeddings:0',\n",
              " 'rnn/stacked_rnn_cells/lstm_cell/kernel:0',\n",
              " 'rnn/stacked_rnn_cells/lstm_cell/recurrent_kernel:0',\n",
              " 'rnn/stacked_rnn_cells/lstm_cell/bias:0',\n",
              " 'rnn/stacked_rnn_cells/lstm_cell_1/kernel:0',\n",
              " 'rnn/stacked_rnn_cells/lstm_cell_1/recurrent_kernel:0',\n",
              " 'rnn/stacked_rnn_cells/lstm_cell_1/bias:0',\n",
              " 'dense/kernel:0',\n",
              " 'dense/bias:0']"
            ]
          },
          "metadata": {},
          "execution_count": 41
        }
      ],
      "source": [
        "[v.name for v in tvars] "
      ]
    },
    {
      "cell_type": "markdown",
      "metadata": {
        "button": false,
        "new_sheet": false,
        "run_control": {
          "read_only": false
        },
        "id": "mEpVavVrQQ4W"
      },
      "source": [
        "<h4>3. Calculate the gradients based on the loss function</h4>\n"
      ]
    },
    {
      "cell_type": "markdown",
      "metadata": {
        "button": false,
        "deletable": true,
        "new_sheet": false,
        "run_control": {
          "read_only": false
        },
        "id": "1HbTQnV7QQ4W"
      },
      "source": [
        "**Gradient**: The gradient of a function is the slope of its derivative (line), or in other words, the rate of change of a function. It's a vector (a direction to move) that points in the direction of greatest increase of the function, and calculated by the <b>derivative</b> operation.\n"
      ]
    },
    {
      "cell_type": "markdown",
      "metadata": {
        "id": "CFzoXn8JQQ4W"
      },
      "source": [
        "First lets recall the gradient function using an toy example:\n",
        "$$ z = \\left(2x^2 + 3xy\\right)$$\n"
      ]
    },
    {
      "cell_type": "code",
      "execution_count": 42,
      "metadata": {
        "id": "OI9tbDPnQQ4W"
      },
      "outputs": [],
      "source": [
        "x = tf.constant(1.0)\n",
        "y =  tf.constant(2.0)\n",
        "with tf.GradientTape(persistent=True) as g:\n",
        "    g.watch(x)\n",
        "    g.watch(y)\n",
        "    func_test = 2 * x * x + 3 * x * y"
      ]
    },
    {
      "cell_type": "markdown",
      "metadata": {
        "id": "IFi0EzI-QQ4X"
      },
      "source": [
        "The <b>tf.gradients()</b> function allows you to compute the symbolic gradient of one tensor with respect to one or more other tensors—including variables. <b>tf.gradients(func, xs)</b> constructs symbolic partial derivatives of sum of <b>func</b> w\\.r.t. <i>x</i> in <b>xs</b>.\n",
        "\n",
        "Now, lets look at the derivitive w\\.r.t. <b>var_x</b>:\n",
        "$$ \\frac{\\partial :}{\\partial \\:x}\\left(2x^2 + 3xy\\right) = 4x + 3y $$\n"
      ]
    },
    {
      "cell_type": "code",
      "execution_count": 43,
      "metadata": {
        "colab": {
          "base_uri": "https://localhost:8080/"
        },
        "id": "47SsuZRnQQ4X",
        "outputId": "583a6d24-a40f-4f98-9015-38d5446e5ca9"
      },
      "outputs": [
        {
          "output_type": "stream",
          "name": "stdout",
          "text": [
            "tf.Tensor(10.0, shape=(), dtype=float32)\n"
          ]
        }
      ],
      "source": [
        "var_grad = g.gradient(func_test, x) # Will compute to 10.0\n",
        "print(var_grad)"
      ]
    },
    {
      "cell_type": "markdown",
      "metadata": {
        "id": "DVjmos7uQQ4X"
      },
      "source": [
        "the derivative w\\.r.t. <b>var_y</b>:\n",
        "$$ \\frac{\\partial :}{\\partial \\:y}\\left(2x^2 + 3xy\\right) = 3x $$\n"
      ]
    },
    {
      "cell_type": "code",
      "execution_count": 44,
      "metadata": {
        "colab": {
          "base_uri": "https://localhost:8080/"
        },
        "id": "5Z58AymPQQ4X",
        "outputId": "897d8aa7-cbb6-4552-a6b5-a36b3a2f7dae"
      },
      "outputs": [
        {
          "output_type": "stream",
          "name": "stdout",
          "text": [
            "tf.Tensor(3.0, shape=(), dtype=float32)\n"
          ]
        }
      ],
      "source": [
        "var_grad = g.gradient(func_test, y) # Will compute to 3.0\n",
        "print(var_grad)"
      ]
    },
    {
      "cell_type": "markdown",
      "metadata": {
        "id": "kAgkzNGKQQ4X"
      },
      "source": [
        "Now, we can look at gradients w\\.r.t all variables:\n"
      ]
    },
    {
      "cell_type": "code",
      "execution_count": 45,
      "metadata": {
        "id": "gq5cons_QQ4X"
      },
      "outputs": [],
      "source": [
        "with tf.GradientTape() as tape:\n",
        "    # Forward pass.\n",
        "    output_words_prob = model(_input_data)\n",
        "    # Loss value for this batch.\n",
        "    loss  = crossentropy(_targets, output_words_prob)\n",
        "    cost = tf.reduce_sum(loss,axis=0) / batch_size"
      ]
    },
    {
      "cell_type": "code",
      "execution_count": 46,
      "metadata": {
        "id": "yQUyW8gtQQ4X"
      },
      "outputs": [],
      "source": [
        "# Get gradients of loss wrt the trainable variables.\n",
        "grad_t_list = tape.gradient(cost, tvars)"
      ]
    },
    {
      "cell_type": "code",
      "execution_count": 47,
      "metadata": {
        "colab": {
          "base_uri": "https://localhost:8080/"
        },
        "id": "eb4a189FQQ4Y",
        "outputId": "c6332bc3-a226-426e-8668-9d12ca8b3756"
      },
      "outputs": [
        {
          "output_type": "stream",
          "name": "stdout",
          "text": [
            "[<tensorflow.python.framework.indexed_slices.IndexedSlices object at 0x7fa3c8b3e5d0>, <tf.Tensor: shape=(200, 1024), dtype=float32, numpy=\n",
            "array([[ 1.3612456e-07,  3.7067849e-07, -3.2969749e-07, ...,\n",
            "         2.1744551e-08,  2.5473980e-08, -3.2381178e-07],\n",
            "       [ 7.5114677e-08,  4.3424760e-07,  8.0785853e-08, ...,\n",
            "         8.3880920e-08,  4.0886556e-07, -2.8581277e-07],\n",
            "       [-5.7443265e-07, -9.8361807e-07, -3.0868370e-07, ...,\n",
            "        -1.4208169e-07, -1.2761490e-07,  5.9188812e-07],\n",
            "       ...,\n",
            "       [-4.6267479e-07,  2.6296635e-07, -8.6729887e-07, ...,\n",
            "         5.4295029e-08,  4.2875180e-07,  3.4424690e-07],\n",
            "       [-8.1066258e-07,  5.2682316e-07, -5.1863657e-07, ...,\n",
            "        -3.4156599e-07,  3.3085672e-07,  2.0541592e-07],\n",
            "       [-6.2808965e-07, -3.6193117e-07, -3.3110564e-07, ...,\n",
            "        -5.7265549e-07,  3.4873543e-07,  2.2004652e-07]], dtype=float32)>, <tf.Tensor: shape=(256, 1024), dtype=float32, numpy=\n",
            "array([[-1.15336913e-08, -2.08304797e-07, -4.11105177e-08, ...,\n",
            "         1.90152548e-07, -5.46411592e-08,  9.79433281e-08],\n",
            "       [ 5.80261599e-08,  1.09247317e-07,  8.87921132e-08, ...,\n",
            "         2.57886583e-08, -1.60534597e-07,  1.10777236e-07],\n",
            "       [-9.56927053e-08,  4.32508394e-08, -1.64391921e-07, ...,\n",
            "         2.14131177e-07,  8.13342496e-08,  1.74006757e-07],\n",
            "       ...,\n",
            "       [ 1.27322096e-07, -1.07228310e-07,  1.37550344e-07, ...,\n",
            "        -4.40444921e-07, -2.99762810e-08, -3.01834540e-08],\n",
            "       [-6.77037519e-08,  1.68920778e-07, -2.24320729e-07, ...,\n",
            "        -1.88129064e-07, -2.76935594e-07, -2.82446777e-08],\n",
            "       [ 6.05293167e-08, -1.23223671e-08,  1.87156459e-07, ...,\n",
            "         3.02829548e-08, -5.73631311e-08,  6.18169622e-07]], dtype=float32)>, <tf.Tensor: shape=(1024,), dtype=float32, numpy=\n",
            "array([-9.9613226e-06,  9.1659313e-06,  1.8865961e-05, ...,\n",
            "       -1.7460059e-05,  9.2630380e-06, -2.4111852e-05], dtype=float32)>, <tf.Tensor: shape=(256, 512), dtype=float32, numpy=\n",
            "array([[-4.33318057e-08, -5.31663211e-08, -2.20513385e-08, ...,\n",
            "        -8.90872371e-08,  2.69384685e-07,  2.22041088e-08],\n",
            "       [-1.68929958e-07,  2.05805335e-07,  1.03574408e-07, ...,\n",
            "        -2.58996096e-07, -2.34509244e-07, -1.41599244e-07],\n",
            "       [-9.09523266e-08, -1.04523998e-07, -1.49714907e-08, ...,\n",
            "         1.23558053e-07,  2.01963942e-07,  7.37222905e-09],\n",
            "       ...,\n",
            "       [ 1.04006695e-07,  1.21685190e-07,  2.99587839e-08, ...,\n",
            "        -9.73739986e-08, -1.57128923e-07,  4.32572989e-07],\n",
            "       [ 2.34334419e-09,  3.41410669e-08, -1.04113333e-07, ...,\n",
            "        -2.39682493e-07, -2.33805153e-07,  2.93809421e-08],\n",
            "       [-1.09009086e-07,  3.37027117e-08, -5.05859639e-08, ...,\n",
            "        -1.25478067e-07, -1.26133898e-07,  2.11183277e-07]], dtype=float32)>, <tf.Tensor: shape=(128, 512), dtype=float32, numpy=\n",
            "array([[-1.6205641e-07,  4.5487148e-08, -2.8822745e-07, ...,\n",
            "        -7.7010455e-08,  2.1503078e-07,  5.0150184e-08],\n",
            "       [ 1.2546371e-07, -1.4849306e-07,  2.7085704e-07, ...,\n",
            "         5.3021356e-08, -1.2800928e-07, -2.8108149e-08],\n",
            "       [ 9.3448826e-08,  1.2266520e-07, -4.1030449e-07, ...,\n",
            "        -8.1923694e-09,  3.0477128e-08, -1.8797301e-08],\n",
            "       ...,\n",
            "       [-1.0721064e-07,  2.5667813e-08, -1.1376474e-07, ...,\n",
            "         4.8328250e-08, -4.4112632e-08,  5.6856056e-08],\n",
            "       [-1.8556017e-08,  3.4621564e-08,  6.0719472e-08, ...,\n",
            "        -7.1629536e-08, -4.3832196e-07,  2.5595716e-07],\n",
            "       [ 1.6146847e-08,  1.3335985e-07, -3.6350659e-08, ...,\n",
            "        -7.3698274e-08, -4.0991583e-08,  4.4285932e-07]], dtype=float32)>, <tf.Tensor: shape=(512,), dtype=float32, numpy=\n",
            "array([ 5.03854972e-05, -4.34177200e-05,  4.03826998e-05,  5.46159390e-06,\n",
            "        2.20556667e-05,  2.04133939e-05,  1.61036241e-05, -3.08463823e-05,\n",
            "        9.97075313e-06, -1.83680422e-05,  1.64584253e-05,  3.35137338e-06,\n",
            "        2.78503758e-05, -3.33787248e-05,  5.68290779e-05,  1.20689565e-05,\n",
            "       -4.00850258e-05, -5.53292921e-05,  3.82997750e-05, -7.83685246e-05,\n",
            "        4.70238738e-05, -4.13425187e-06,  1.00748948e-05, -3.01187538e-05,\n",
            "        4.30871987e-05,  5.62060268e-06, -1.54610170e-05,  3.17448212e-05,\n",
            "       -5.84274603e-05,  3.85039093e-05,  4.51019041e-05,  2.99258954e-05,\n",
            "        1.94164659e-06,  2.99814419e-05,  8.94867844e-06, -5.40393303e-05,\n",
            "        3.63199724e-05,  7.01822773e-06, -1.21037829e-05,  5.44283721e-05,\n",
            "       -2.66640418e-05,  5.12557417e-05,  1.72940709e-05, -3.89776251e-05,\n",
            "       -6.89639955e-06,  5.38973200e-06,  6.83974304e-06,  3.92096354e-06,\n",
            "        1.84852215e-05, -3.81024329e-05, -3.44431137e-05,  7.32683657e-06,\n",
            "       -3.77586912e-05,  1.34866161e-04, -1.92136504e-05,  3.87125910e-05,\n",
            "        5.34489209e-06, -3.16069636e-05, -3.06269067e-06,  1.23774871e-05,\n",
            "        1.00846983e-05, -1.98881971e-05,  2.99442090e-05,  5.38127861e-05,\n",
            "        4.31727385e-05,  1.97718218e-05, -1.12040550e-04, -2.00015729e-05,\n",
            "        2.68302483e-06, -2.06934128e-05, -5.33100174e-05,  8.82524546e-05,\n",
            "       -4.82861506e-05, -1.12255133e-04, -8.18423141e-05, -1.38959986e-05,\n",
            "        1.44348423e-05,  4.34402973e-05, -1.34948286e-05, -3.56053715e-05,\n",
            "       -3.09291181e-06,  8.46905532e-05, -5.20254434e-06, -2.96731287e-06,\n",
            "       -8.46508919e-05,  1.34911925e-05,  6.63894825e-05, -3.14237404e-05,\n",
            "        2.61673049e-05,  1.32923342e-05, -6.03295939e-06,  8.66646151e-05,\n",
            "        1.54685040e-07,  1.87727746e-05,  6.31513685e-05,  2.92083787e-05,\n",
            "        5.26505437e-06, -3.36884805e-05, -1.12676798e-05, -4.28206931e-06,\n",
            "       -5.02049879e-05,  1.30976223e-05,  1.11119407e-05, -1.25308052e-05,\n",
            "       -1.87245096e-05, -1.14039358e-06, -9.55945234e-06,  4.17578167e-06,\n",
            "       -4.10055763e-05,  5.81292916e-05,  1.60947093e-05, -4.96678585e-05,\n",
            "       -4.49102081e-05,  2.64511655e-05, -4.12784611e-05,  1.98286871e-05,\n",
            "       -1.22882784e-06, -6.86497006e-05,  2.49230561e-05,  2.58812361e-05,\n",
            "       -3.13006094e-05,  2.88245847e-05, -6.66983715e-06, -2.65711769e-05,\n",
            "        9.03132604e-05,  7.56414920e-07, -1.89989751e-05, -2.05905417e-05,\n",
            "        6.90577144e-05, -5.82512985e-05,  7.15130664e-05,  9.13834265e-06,\n",
            "        4.18164818e-05,  2.36966389e-05,  4.20465585e-05, -4.08894957e-05,\n",
            "       -1.49149300e-05, -6.36360301e-06,  3.33316711e-05,  9.59775571e-06,\n",
            "        6.44288084e-05, -5.21264446e-05,  7.79562106e-05, -4.48129776e-06,\n",
            "       -4.39247015e-05, -8.57077102e-05,  2.69438824e-05, -1.06033549e-04,\n",
            "        5.49543984e-05,  1.88825798e-05,  1.01577753e-05, -2.68158146e-05,\n",
            "        4.27574014e-05, -1.79691397e-05, -1.27220592e-05,  3.07187438e-05,\n",
            "       -7.89915939e-05,  4.72042120e-05,  2.30665992e-05,  4.32310953e-05,\n",
            "       -2.71669560e-05,  6.81025776e-05,  1.14368386e-05, -4.43043791e-05,\n",
            "        3.86599640e-05,  6.03662374e-06, -2.25243184e-06,  8.74611360e-05,\n",
            "       -9.65614618e-06,  4.75817214e-05,  4.67198442e-05, -6.22602383e-05,\n",
            "        1.15749535e-05,  6.41569641e-05, -2.44808107e-05,  3.31815754e-05,\n",
            "        4.79488881e-05, -4.11137662e-05, -4.16878902e-05,  3.80966594e-06,\n",
            "       -6.52127783e-05,  1.70516127e-04, -6.70715326e-06,  7.83340365e-05,\n",
            "        8.01729857e-06, -8.23754817e-05, -4.25156941e-06,  2.97740207e-05,\n",
            "        2.27715100e-06,  7.66043377e-06,  4.51771593e-05,  5.42360140e-05,\n",
            "        3.05403046e-05,  3.09633651e-05, -1.83296099e-04, -2.38793309e-05,\n",
            "       -3.58359102e-07, -2.14672873e-05, -8.54047321e-05,  1.20264391e-04,\n",
            "       -7.48890889e-05, -1.59677758e-04, -1.56255977e-04, -7.29711519e-06,\n",
            "        2.07211160e-05,  8.21943759e-05, -1.50241249e-06, -1.12957350e-05,\n",
            "       -9.82239180e-06,  1.10525085e-04, -1.74070465e-05, -3.50934715e-05,\n",
            "       -1.42657809e-04, -1.35553219e-05,  9.74010400e-05, -5.07694749e-05,\n",
            "        4.27219165e-05,  8.80675088e-07,  1.96052824e-05,  1.20379249e-04,\n",
            "       -1.86632387e-05,  2.48893484e-05,  6.70633017e-05,  2.43611157e-05,\n",
            "        1.10721194e-05, -5.34661776e-05, -2.24814812e-05, -7.53006316e-06,\n",
            "       -6.57301280e-05,  2.99193307e-05, -4.87934631e-06, -2.70292876e-05,\n",
            "       -2.53065919e-05, -2.91843389e-05, -1.23119416e-05, -8.57708619e-06,\n",
            "       -7.59254181e-05,  5.83908477e-05, -4.12650843e-06, -2.52899699e-05,\n",
            "       -5.70746197e-05,  3.99488563e-05, -9.95799783e-05,  5.61819470e-05,\n",
            "        9.38329413e-06, -7.80637129e-05,  3.21041443e-05,  2.56342573e-05,\n",
            "       -5.57154453e-05,  5.63940957e-05,  1.06740627e-05, -2.33133633e-05,\n",
            "        1.28643471e-04, -1.46640350e-05, -1.30648459e-05, -6.24294989e-05,\n",
            "       -1.18874488e-02, -1.48193389e-02, -4.95886318e-02, -1.59999114e-02,\n",
            "       -9.69622284e-03, -1.26787946e-02, -4.91357502e-03, -6.38488913e-03,\n",
            "       -3.51486704e-03,  1.94772966e-02, -3.76221351e-02,  3.14050317e-02,\n",
            "       -3.22471447e-02, -1.60153918e-02, -4.29272950e-02, -1.51216099e-03,\n",
            "       -2.20537875e-02, -5.27307317e-02, -2.47482816e-03, -4.53424826e-02,\n",
            "        2.42475071e-03,  7.14642042e-03, -1.41889937e-02, -6.51660562e-03,\n",
            "        3.03030498e-02,  6.50197566e-02, -2.77649164e-02, -3.78260091e-02,\n",
            "       -3.72681394e-02,  4.58329581e-02,  1.97046213e-02, -4.37301993e-02,\n",
            "       -2.18654759e-02,  4.61937562e-02, -5.05805239e-02, -2.91196294e-02,\n",
            "       -3.45537066e-02,  1.66719947e-02, -8.32031202e-03,  9.53301508e-03,\n",
            "        1.87329650e-02, -9.19368677e-03, -5.55029139e-02,  2.92635784e-02,\n",
            "        2.16175485e-02,  6.60493877e-03, -1.72965638e-02, -1.62028093e-02,\n",
            "       -1.01262722e-02,  5.10345912e-04, -3.74862738e-02,  1.79820564e-02,\n",
            "        1.53299402e-02, -3.10086217e-02, -7.33987056e-03, -3.54427136e-02,\n",
            "        6.55892212e-03, -4.02825475e-02,  1.66788045e-02,  7.76867419e-02,\n",
            "        1.72883272e-02,  5.36224712e-03,  1.53299859e-02, -7.65566807e-03,\n",
            "        4.35923822e-02, -2.00373717e-02, -4.78020273e-02, -4.20697778e-02,\n",
            "        6.54337695e-03, -4.66574952e-02, -4.16674167e-02, -5.32365553e-02,\n",
            "       -5.37840798e-02,  4.00381871e-02, -5.93852215e-02,  1.89051442e-02,\n",
            "        5.54304570e-02, -7.14280736e-03,  2.53494643e-03, -3.50345522e-02,\n",
            "       -4.38011661e-02,  5.17788380e-02, -3.80615853e-02, -3.08497101e-02,\n",
            "       -4.76765223e-02,  9.55699570e-03,  6.01370856e-02,  1.25326486e-02,\n",
            "        2.30611209e-02, -5.73139712e-02, -2.87639145e-02,  5.30715249e-02,\n",
            "       -6.09867740e-03, -3.72959338e-02,  3.30094695e-02,  2.96726916e-03,\n",
            "       -2.28019655e-02,  1.29087316e-02,  6.36637863e-03, -1.05394740e-02,\n",
            "        1.76509302e-02, -1.04528284e-02,  9.03765578e-03, -2.59730546e-03,\n",
            "        1.01976003e-02,  2.56809499e-03, -1.51604712e-02, -1.49407098e-02,\n",
            "        5.19566461e-02,  1.65571086e-03,  3.76055716e-04,  2.69907452e-02,\n",
            "       -1.94438789e-02, -3.15922983e-02,  1.89951360e-02,  1.54896490e-02,\n",
            "       -3.64246592e-02,  2.82087531e-02,  3.34408581e-02, -5.79509214e-02,\n",
            "        3.82862315e-02, -2.19523394e-03,  1.71474554e-02,  9.38923564e-03,\n",
            "       -2.33754274e-02,  1.42108817e-02, -1.37907388e-02,  2.89767664e-02,\n",
            "        5.98055340e-05, -4.69641818e-05,  4.58653521e-05,  3.71448550e-06,\n",
            "        3.02895169e-05,  2.53580693e-05,  1.55571197e-05, -4.35704933e-05,\n",
            "        1.37466468e-05, -2.26825250e-05,  2.14057600e-05,  1.11830432e-05,\n",
            "        3.29065733e-05, -2.58321306e-05,  6.99847005e-05,  4.95955373e-06,\n",
            "       -4.80563249e-05, -6.70062291e-05,  4.12277222e-05, -9.67984379e-05,\n",
            "        5.68332252e-05,  2.96169401e-06,  5.29333829e-06, -3.16798469e-05,\n",
            "        3.83173319e-05,  9.13068379e-06, -1.65164765e-05,  2.38065531e-05,\n",
            "       -6.17111655e-05,  4.38730713e-05,  5.26725562e-05,  3.26905210e-05,\n",
            "       -1.85747012e-06,  3.77665783e-05,  9.07462436e-06, -6.31580042e-05,\n",
            "        3.61076163e-05,  1.39045915e-05, -1.20969326e-05,  5.76485545e-05,\n",
            "       -2.53426242e-05,  5.96403952e-05,  3.04766072e-05, -4.53952380e-05,\n",
            "        5.22956634e-06,  1.69113937e-05, -9.57158045e-06,  1.09240145e-05,\n",
            "        2.42647620e-05, -4.14144342e-05, -3.28807582e-05,  1.20249379e-05,\n",
            "       -4.86984209e-05,  1.50119231e-04, -2.03050786e-05,  5.33989223e-05,\n",
            "        1.05246436e-05, -4.26938532e-05, -1.44397964e-05,  2.85549577e-05,\n",
            "        1.65802503e-05, -6.97174255e-06,  3.17328922e-05,  4.68233629e-05,\n",
            "        4.20190336e-05,  2.27344663e-05, -1.24080601e-04, -2.40977388e-05,\n",
            "        8.12526105e-06, -2.18480491e-05, -6.38481433e-05,  9.55729483e-05,\n",
            "       -6.24432578e-05, -1.14049479e-04, -1.03126185e-04, -1.13673705e-05,\n",
            "        1.69612358e-05,  4.89636368e-05, -1.74828165e-05, -3.69942427e-05,\n",
            "       -2.85538954e-06,  8.43734597e-05, -4.12576082e-06, -5.83838118e-06,\n",
            "       -1.08582390e-04,  1.17386662e-05,  7.41927142e-05, -3.36017220e-05,\n",
            "        2.62697304e-05,  1.27101357e-05, -7.98535075e-06,  9.20456077e-05,\n",
            "       -2.49337245e-06,  1.27830772e-05,  5.81911336e-05,  3.17388149e-05,\n",
            "        1.36195777e-05, -3.56974779e-05, -1.40320535e-05, -4.60403453e-06,\n",
            "       -6.12544682e-05,  2.61624918e-05,  2.15746222e-05, -1.36750004e-05,\n",
            "       -1.72402179e-05, -8.31337547e-06, -1.28249294e-05,  1.21196717e-06,\n",
            "       -3.56259989e-05,  6.55042313e-05,  1.66573809e-05, -5.13892992e-05,\n",
            "       -5.80864180e-05,  2.42869173e-05, -4.74499975e-05,  2.40766512e-05,\n",
            "       -1.23777936e-05, -7.74935179e-05,  2.66407260e-05,  2.82288329e-05,\n",
            "       -3.08452982e-05,  3.24103021e-05, -2.65750532e-06, -2.45260107e-05,\n",
            "        1.10595647e-04,  5.61545676e-06, -2.44602707e-05, -2.39215824e-05],\n",
            "      dtype=float32)>, <tf.Tensor: shape=(128, 10000), dtype=float32, numpy=\n",
            "array([[ 2.9385642e-03,  2.4859786e-03,  2.6862372e-03, ...,\n",
            "        -5.0609024e-06, -5.0623339e-06, -5.0613635e-06],\n",
            "       [-2.6640531e-03, -4.3663392e-03, -3.0486768e-03, ...,\n",
            "         6.3427838e-06,  6.3414368e-06,  6.3435627e-06],\n",
            "       [ 3.1168854e-03,  3.2622097e-03,  2.7900629e-03, ...,\n",
            "        -4.6284399e-06, -4.6279338e-06, -4.6268046e-06],\n",
            "       ...,\n",
            "       [ 2.6163529e-03,  2.4838932e-03,  2.7466179e-03, ...,\n",
            "        -3.2384637e-06, -3.2380422e-06, -3.2379671e-06],\n",
            "       [-1.7394968e-03, -1.0631562e-03, -1.4793519e-03, ...,\n",
            "         2.6329167e-06,  2.6329519e-06,  2.6333717e-06],\n",
            "       [ 9.5232064e-04,  1.5336095e-03,  1.8920810e-03, ...,\n",
            "        -3.3240933e-06, -3.3256952e-06, -3.3244485e-06]], dtype=float32)>, <tf.Tensor: shape=(10000,), dtype=float32, numpy=\n",
            "array([-0.7979989 , -1.0313323 , -1.0313313 , ...,  0.00200021,\n",
            "        0.00200002,  0.00200023], dtype=float32)>]\n"
          ]
        }
      ],
      "source": [
        "print(grad_t_list)"
      ]
    },
    {
      "cell_type": "markdown",
      "metadata": {
        "button": false,
        "new_sheet": false,
        "run_control": {
          "read_only": false
        },
        "id": "w8zay-MEQQ4Y"
      },
      "source": [
        "now, we have a list of tensors, t-list. We can use it to find clipped tensors. <b>clip_by_global_norm</b> clips values of multiple tensors by the ratio of the sum of their norms.\n",
        "\n",
        "<b>clip_by_global_norm</b> get <i>t-list</i> as input and returns 2 things:\n",
        "\n",
        "<ul>\n",
        "    <li>a list of clipped tensors, so called <i>list_clipped</i></li> \n",
        "    <li>the global norm (global_norm) of all tensors in t_list</li> \n",
        "</ul>\n"
      ]
    },
    {
      "cell_type": "code",
      "execution_count": 48,
      "metadata": {
        "colab": {
          "base_uri": "https://localhost:8080/"
        },
        "id": "EwtohxuMQQ4Y",
        "outputId": "a0a33842-f1d9-448e-e296-6b2090631ba1"
      },
      "outputs": [
        {
          "output_type": "execute_result",
          "data": {
            "text/plain": [
              "[<tensorflow.python.framework.indexed_slices.IndexedSlices at 0x7fa3c8aec3d0>,\n",
              " <tf.Tensor: shape=(200, 1024), dtype=float32, numpy=\n",
              " array([[ 1.3612456e-07,  3.7067849e-07, -3.2969749e-07, ...,\n",
              "          2.1744551e-08,  2.5473980e-08, -3.2381178e-07],\n",
              "        [ 7.5114677e-08,  4.3424760e-07,  8.0785853e-08, ...,\n",
              "          8.3880920e-08,  4.0886556e-07, -2.8581277e-07],\n",
              "        [-5.7443265e-07, -9.8361807e-07, -3.0868370e-07, ...,\n",
              "         -1.4208169e-07, -1.2761490e-07,  5.9188812e-07],\n",
              "        ...,\n",
              "        [-4.6267479e-07,  2.6296635e-07, -8.6729887e-07, ...,\n",
              "          5.4295029e-08,  4.2875180e-07,  3.4424690e-07],\n",
              "        [-8.1066258e-07,  5.2682316e-07, -5.1863657e-07, ...,\n",
              "         -3.4156599e-07,  3.3085672e-07,  2.0541592e-07],\n",
              "        [-6.2808965e-07, -3.6193117e-07, -3.3110564e-07, ...,\n",
              "         -5.7265549e-07,  3.4873543e-07,  2.2004652e-07]], dtype=float32)>,\n",
              " <tf.Tensor: shape=(256, 1024), dtype=float32, numpy=\n",
              " array([[-1.15336913e-08, -2.08304797e-07, -4.11105177e-08, ...,\n",
              "          1.90152548e-07, -5.46411592e-08,  9.79433281e-08],\n",
              "        [ 5.80261599e-08,  1.09247317e-07,  8.87921132e-08, ...,\n",
              "          2.57886583e-08, -1.60534597e-07,  1.10777236e-07],\n",
              "        [-9.56927053e-08,  4.32508394e-08, -1.64391921e-07, ...,\n",
              "          2.14131177e-07,  8.13342496e-08,  1.74006757e-07],\n",
              "        ...,\n",
              "        [ 1.27322096e-07, -1.07228310e-07,  1.37550344e-07, ...,\n",
              "         -4.40444921e-07, -2.99762810e-08, -3.01834540e-08],\n",
              "        [-6.77037519e-08,  1.68920778e-07, -2.24320729e-07, ...,\n",
              "         -1.88129064e-07, -2.76935594e-07, -2.82446777e-08],\n",
              "        [ 6.05293167e-08, -1.23223671e-08,  1.87156459e-07, ...,\n",
              "          3.02829548e-08, -5.73631311e-08,  6.18169622e-07]], dtype=float32)>,\n",
              " <tf.Tensor: shape=(1024,), dtype=float32, numpy=\n",
              " array([-9.9613226e-06,  9.1659313e-06,  1.8865961e-05, ...,\n",
              "        -1.7460059e-05,  9.2630380e-06, -2.4111852e-05], dtype=float32)>,\n",
              " <tf.Tensor: shape=(256, 512), dtype=float32, numpy=\n",
              " array([[-4.33318057e-08, -5.31663211e-08, -2.20513385e-08, ...,\n",
              "         -8.90872371e-08,  2.69384685e-07,  2.22041088e-08],\n",
              "        [-1.68929958e-07,  2.05805335e-07,  1.03574408e-07, ...,\n",
              "         -2.58996096e-07, -2.34509244e-07, -1.41599244e-07],\n",
              "        [-9.09523266e-08, -1.04523998e-07, -1.49714907e-08, ...,\n",
              "          1.23558053e-07,  2.01963942e-07,  7.37222905e-09],\n",
              "        ...,\n",
              "        [ 1.04006695e-07,  1.21685190e-07,  2.99587839e-08, ...,\n",
              "         -9.73739986e-08, -1.57128923e-07,  4.32572989e-07],\n",
              "        [ 2.34334419e-09,  3.41410669e-08, -1.04113333e-07, ...,\n",
              "         -2.39682493e-07, -2.33805153e-07,  2.93809421e-08],\n",
              "        [-1.09009086e-07,  3.37027117e-08, -5.05859639e-08, ...,\n",
              "         -1.25478067e-07, -1.26133898e-07,  2.11183277e-07]], dtype=float32)>,\n",
              " <tf.Tensor: shape=(128, 512), dtype=float32, numpy=\n",
              " array([[-1.6205641e-07,  4.5487148e-08, -2.8822745e-07, ...,\n",
              "         -7.7010455e-08,  2.1503078e-07,  5.0150184e-08],\n",
              "        [ 1.2546371e-07, -1.4849306e-07,  2.7085704e-07, ...,\n",
              "          5.3021356e-08, -1.2800928e-07, -2.8108149e-08],\n",
              "        [ 9.3448826e-08,  1.2266520e-07, -4.1030449e-07, ...,\n",
              "         -8.1923694e-09,  3.0477128e-08, -1.8797301e-08],\n",
              "        ...,\n",
              "        [-1.0721064e-07,  2.5667813e-08, -1.1376474e-07, ...,\n",
              "          4.8328250e-08, -4.4112632e-08,  5.6856056e-08],\n",
              "        [-1.8556017e-08,  3.4621564e-08,  6.0719472e-08, ...,\n",
              "         -7.1629536e-08, -4.3832196e-07,  2.5595716e-07],\n",
              "        [ 1.6146847e-08,  1.3335985e-07, -3.6350659e-08, ...,\n",
              "         -7.3698274e-08, -4.0991583e-08,  4.4285932e-07]], dtype=float32)>,\n",
              " <tf.Tensor: shape=(512,), dtype=float32, numpy=\n",
              " array([ 5.03854972e-05, -4.34177200e-05,  4.03826998e-05,  5.46159390e-06,\n",
              "         2.20556667e-05,  2.04133939e-05,  1.61036241e-05, -3.08463823e-05,\n",
              "         9.97075313e-06, -1.83680422e-05,  1.64584253e-05,  3.35137338e-06,\n",
              "         2.78503758e-05, -3.33787248e-05,  5.68290779e-05,  1.20689565e-05,\n",
              "        -4.00850258e-05, -5.53292921e-05,  3.82997750e-05, -7.83685246e-05,\n",
              "         4.70238738e-05, -4.13425187e-06,  1.00748948e-05, -3.01187538e-05,\n",
              "         4.30871987e-05,  5.62060268e-06, -1.54610170e-05,  3.17448212e-05,\n",
              "        -5.84274603e-05,  3.85039093e-05,  4.51019041e-05,  2.99258954e-05,\n",
              "         1.94164659e-06,  2.99814419e-05,  8.94867844e-06, -5.40393303e-05,\n",
              "         3.63199724e-05,  7.01822773e-06, -1.21037829e-05,  5.44283721e-05,\n",
              "        -2.66640418e-05,  5.12557417e-05,  1.72940709e-05, -3.89776251e-05,\n",
              "        -6.89639955e-06,  5.38973200e-06,  6.83974304e-06,  3.92096354e-06,\n",
              "         1.84852215e-05, -3.81024329e-05, -3.44431137e-05,  7.32683657e-06,\n",
              "        -3.77586912e-05,  1.34866161e-04, -1.92136504e-05,  3.87125910e-05,\n",
              "         5.34489209e-06, -3.16069636e-05, -3.06269067e-06,  1.23774871e-05,\n",
              "         1.00846983e-05, -1.98881971e-05,  2.99442090e-05,  5.38127861e-05,\n",
              "         4.31727385e-05,  1.97718218e-05, -1.12040550e-04, -2.00015729e-05,\n",
              "         2.68302483e-06, -2.06934128e-05, -5.33100174e-05,  8.82524546e-05,\n",
              "        -4.82861506e-05, -1.12255133e-04, -8.18423141e-05, -1.38959986e-05,\n",
              "         1.44348423e-05,  4.34402973e-05, -1.34948286e-05, -3.56053715e-05,\n",
              "        -3.09291181e-06,  8.46905532e-05, -5.20254434e-06, -2.96731287e-06,\n",
              "        -8.46508919e-05,  1.34911925e-05,  6.63894825e-05, -3.14237404e-05,\n",
              "         2.61673049e-05,  1.32923342e-05, -6.03295939e-06,  8.66646151e-05,\n",
              "         1.54685040e-07,  1.87727746e-05,  6.31513685e-05,  2.92083787e-05,\n",
              "         5.26505437e-06, -3.36884805e-05, -1.12676798e-05, -4.28206931e-06,\n",
              "        -5.02049879e-05,  1.30976223e-05,  1.11119407e-05, -1.25308052e-05,\n",
              "        -1.87245096e-05, -1.14039358e-06, -9.55945234e-06,  4.17578167e-06,\n",
              "        -4.10055763e-05,  5.81292916e-05,  1.60947093e-05, -4.96678585e-05,\n",
              "        -4.49102081e-05,  2.64511655e-05, -4.12784611e-05,  1.98286871e-05,\n",
              "        -1.22882784e-06, -6.86497006e-05,  2.49230561e-05,  2.58812361e-05,\n",
              "        -3.13006094e-05,  2.88245847e-05, -6.66983715e-06, -2.65711769e-05,\n",
              "         9.03132604e-05,  7.56414920e-07, -1.89989751e-05, -2.05905417e-05,\n",
              "         6.90577144e-05, -5.82512985e-05,  7.15130664e-05,  9.13834265e-06,\n",
              "         4.18164818e-05,  2.36966389e-05,  4.20465585e-05, -4.08894957e-05,\n",
              "        -1.49149300e-05, -6.36360301e-06,  3.33316711e-05,  9.59775571e-06,\n",
              "         6.44288084e-05, -5.21264446e-05,  7.79562106e-05, -4.48129776e-06,\n",
              "        -4.39247015e-05, -8.57077102e-05,  2.69438824e-05, -1.06033549e-04,\n",
              "         5.49543984e-05,  1.88825798e-05,  1.01577753e-05, -2.68158146e-05,\n",
              "         4.27574014e-05, -1.79691397e-05, -1.27220592e-05,  3.07187438e-05,\n",
              "        -7.89915939e-05,  4.72042120e-05,  2.30665992e-05,  4.32310953e-05,\n",
              "        -2.71669560e-05,  6.81025776e-05,  1.14368386e-05, -4.43043791e-05,\n",
              "         3.86599640e-05,  6.03662374e-06, -2.25243184e-06,  8.74611360e-05,\n",
              "        -9.65614618e-06,  4.75817214e-05,  4.67198442e-05, -6.22602383e-05,\n",
              "         1.15749535e-05,  6.41569641e-05, -2.44808107e-05,  3.31815754e-05,\n",
              "         4.79488881e-05, -4.11137662e-05, -4.16878902e-05,  3.80966594e-06,\n",
              "        -6.52127783e-05,  1.70516127e-04, -6.70715326e-06,  7.83340365e-05,\n",
              "         8.01729857e-06, -8.23754817e-05, -4.25156941e-06,  2.97740207e-05,\n",
              "         2.27715100e-06,  7.66043377e-06,  4.51771593e-05,  5.42360140e-05,\n",
              "         3.05403046e-05,  3.09633651e-05, -1.83296099e-04, -2.38793309e-05,\n",
              "        -3.58359102e-07, -2.14672873e-05, -8.54047321e-05,  1.20264391e-04,\n",
              "        -7.48890889e-05, -1.59677758e-04, -1.56255977e-04, -7.29711519e-06,\n",
              "         2.07211160e-05,  8.21943759e-05, -1.50241249e-06, -1.12957350e-05,\n",
              "        -9.82239180e-06,  1.10525085e-04, -1.74070465e-05, -3.50934715e-05,\n",
              "        -1.42657809e-04, -1.35553219e-05,  9.74010400e-05, -5.07694749e-05,\n",
              "         4.27219165e-05,  8.80675088e-07,  1.96052824e-05,  1.20379249e-04,\n",
              "        -1.86632387e-05,  2.48893484e-05,  6.70633017e-05,  2.43611157e-05,\n",
              "         1.10721194e-05, -5.34661776e-05, -2.24814812e-05, -7.53006316e-06,\n",
              "        -6.57301280e-05,  2.99193307e-05, -4.87934631e-06, -2.70292876e-05,\n",
              "        -2.53065919e-05, -2.91843389e-05, -1.23119416e-05, -8.57708619e-06,\n",
              "        -7.59254181e-05,  5.83908477e-05, -4.12650843e-06, -2.52899699e-05,\n",
              "        -5.70746197e-05,  3.99488563e-05, -9.95799783e-05,  5.61819470e-05,\n",
              "         9.38329413e-06, -7.80637129e-05,  3.21041443e-05,  2.56342573e-05,\n",
              "        -5.57154453e-05,  5.63940957e-05,  1.06740627e-05, -2.33133633e-05,\n",
              "         1.28643471e-04, -1.46640350e-05, -1.30648459e-05, -6.24294989e-05,\n",
              "        -1.18874488e-02, -1.48193389e-02, -4.95886318e-02, -1.59999114e-02,\n",
              "        -9.69622284e-03, -1.26787946e-02, -4.91357502e-03, -6.38488913e-03,\n",
              "        -3.51486704e-03,  1.94772966e-02, -3.76221351e-02,  3.14050317e-02,\n",
              "        -3.22471447e-02, -1.60153918e-02, -4.29272950e-02, -1.51216099e-03,\n",
              "        -2.20537875e-02, -5.27307317e-02, -2.47482816e-03, -4.53424826e-02,\n",
              "         2.42475071e-03,  7.14642042e-03, -1.41889937e-02, -6.51660562e-03,\n",
              "         3.03030498e-02,  6.50197566e-02, -2.77649164e-02, -3.78260091e-02,\n",
              "        -3.72681394e-02,  4.58329581e-02,  1.97046213e-02, -4.37301993e-02,\n",
              "        -2.18654759e-02,  4.61937562e-02, -5.05805239e-02, -2.91196294e-02,\n",
              "        -3.45537066e-02,  1.66719947e-02, -8.32031202e-03,  9.53301508e-03,\n",
              "         1.87329650e-02, -9.19368677e-03, -5.55029139e-02,  2.92635784e-02,\n",
              "         2.16175485e-02,  6.60493877e-03, -1.72965638e-02, -1.62028093e-02,\n",
              "        -1.01262722e-02,  5.10345912e-04, -3.74862738e-02,  1.79820564e-02,\n",
              "         1.53299402e-02, -3.10086217e-02, -7.33987056e-03, -3.54427136e-02,\n",
              "         6.55892212e-03, -4.02825475e-02,  1.66788045e-02,  7.76867419e-02,\n",
              "         1.72883272e-02,  5.36224712e-03,  1.53299859e-02, -7.65566807e-03,\n",
              "         4.35923822e-02, -2.00373717e-02, -4.78020273e-02, -4.20697778e-02,\n",
              "         6.54337695e-03, -4.66574952e-02, -4.16674167e-02, -5.32365553e-02,\n",
              "        -5.37840798e-02,  4.00381871e-02, -5.93852215e-02,  1.89051442e-02,\n",
              "         5.54304570e-02, -7.14280736e-03,  2.53494643e-03, -3.50345522e-02,\n",
              "        -4.38011661e-02,  5.17788380e-02, -3.80615853e-02, -3.08497101e-02,\n",
              "        -4.76765223e-02,  9.55699570e-03,  6.01370856e-02,  1.25326486e-02,\n",
              "         2.30611209e-02, -5.73139712e-02, -2.87639145e-02,  5.30715249e-02,\n",
              "        -6.09867740e-03, -3.72959338e-02,  3.30094695e-02,  2.96726916e-03,\n",
              "        -2.28019655e-02,  1.29087316e-02,  6.36637863e-03, -1.05394740e-02,\n",
              "         1.76509302e-02, -1.04528284e-02,  9.03765578e-03, -2.59730546e-03,\n",
              "         1.01976003e-02,  2.56809499e-03, -1.51604712e-02, -1.49407098e-02,\n",
              "         5.19566461e-02,  1.65571086e-03,  3.76055716e-04,  2.69907452e-02,\n",
              "        -1.94438789e-02, -3.15922983e-02,  1.89951360e-02,  1.54896490e-02,\n",
              "        -3.64246592e-02,  2.82087531e-02,  3.34408581e-02, -5.79509214e-02,\n",
              "         3.82862315e-02, -2.19523394e-03,  1.71474554e-02,  9.38923564e-03,\n",
              "        -2.33754274e-02,  1.42108817e-02, -1.37907388e-02,  2.89767664e-02,\n",
              "         5.98055340e-05, -4.69641818e-05,  4.58653521e-05,  3.71448550e-06,\n",
              "         3.02895169e-05,  2.53580693e-05,  1.55571197e-05, -4.35704933e-05,\n",
              "         1.37466468e-05, -2.26825250e-05,  2.14057600e-05,  1.11830432e-05,\n",
              "         3.29065733e-05, -2.58321306e-05,  6.99847005e-05,  4.95955373e-06,\n",
              "        -4.80563249e-05, -6.70062291e-05,  4.12277222e-05, -9.67984379e-05,\n",
              "         5.68332252e-05,  2.96169401e-06,  5.29333829e-06, -3.16798469e-05,\n",
              "         3.83173319e-05,  9.13068379e-06, -1.65164765e-05,  2.38065531e-05,\n",
              "        -6.17111655e-05,  4.38730713e-05,  5.26725562e-05,  3.26905210e-05,\n",
              "        -1.85747012e-06,  3.77665783e-05,  9.07462436e-06, -6.31580042e-05,\n",
              "         3.61076163e-05,  1.39045915e-05, -1.20969326e-05,  5.76485545e-05,\n",
              "        -2.53426242e-05,  5.96403952e-05,  3.04766072e-05, -4.53952380e-05,\n",
              "         5.22956634e-06,  1.69113937e-05, -9.57158045e-06,  1.09240145e-05,\n",
              "         2.42647620e-05, -4.14144342e-05, -3.28807582e-05,  1.20249379e-05,\n",
              "        -4.86984209e-05,  1.50119231e-04, -2.03050786e-05,  5.33989223e-05,\n",
              "         1.05246436e-05, -4.26938532e-05, -1.44397964e-05,  2.85549577e-05,\n",
              "         1.65802503e-05, -6.97174255e-06,  3.17328922e-05,  4.68233629e-05,\n",
              "         4.20190336e-05,  2.27344663e-05, -1.24080601e-04, -2.40977388e-05,\n",
              "         8.12526105e-06, -2.18480491e-05, -6.38481433e-05,  9.55729483e-05,\n",
              "        -6.24432578e-05, -1.14049479e-04, -1.03126185e-04, -1.13673705e-05,\n",
              "         1.69612358e-05,  4.89636368e-05, -1.74828165e-05, -3.69942427e-05,\n",
              "        -2.85538954e-06,  8.43734597e-05, -4.12576082e-06, -5.83838118e-06,\n",
              "        -1.08582390e-04,  1.17386662e-05,  7.41927142e-05, -3.36017220e-05,\n",
              "         2.62697304e-05,  1.27101357e-05, -7.98535075e-06,  9.20456077e-05,\n",
              "        -2.49337245e-06,  1.27830772e-05,  5.81911336e-05,  3.17388149e-05,\n",
              "         1.36195777e-05, -3.56974779e-05, -1.40320535e-05, -4.60403453e-06,\n",
              "        -6.12544682e-05,  2.61624918e-05,  2.15746222e-05, -1.36750004e-05,\n",
              "        -1.72402179e-05, -8.31337547e-06, -1.28249294e-05,  1.21196717e-06,\n",
              "        -3.56259989e-05,  6.55042313e-05,  1.66573809e-05, -5.13892992e-05,\n",
              "        -5.80864180e-05,  2.42869173e-05, -4.74499975e-05,  2.40766512e-05,\n",
              "        -1.23777936e-05, -7.74935179e-05,  2.66407260e-05,  2.82288329e-05,\n",
              "        -3.08452982e-05,  3.24103021e-05, -2.65750532e-06, -2.45260107e-05,\n",
              "         1.10595647e-04,  5.61545676e-06, -2.44602707e-05, -2.39215824e-05],\n",
              "       dtype=float32)>,\n",
              " <tf.Tensor: shape=(128, 10000), dtype=float32, numpy=\n",
              " array([[ 2.9385642e-03,  2.4859786e-03,  2.6862372e-03, ...,\n",
              "         -5.0609024e-06, -5.0623339e-06, -5.0613635e-06],\n",
              "        [-2.6640531e-03, -4.3663392e-03, -3.0486768e-03, ...,\n",
              "          6.3427838e-06,  6.3414368e-06,  6.3435627e-06],\n",
              "        [ 3.1168854e-03,  3.2622097e-03,  2.7900629e-03, ...,\n",
              "         -4.6284399e-06, -4.6279338e-06, -4.6268046e-06],\n",
              "        ...,\n",
              "        [ 2.6163529e-03,  2.4838932e-03,  2.7466179e-03, ...,\n",
              "         -3.2384637e-06, -3.2380422e-06, -3.2379671e-06],\n",
              "        [-1.7394968e-03, -1.0631562e-03, -1.4793519e-03, ...,\n",
              "          2.6329167e-06,  2.6329519e-06,  2.6333717e-06],\n",
              "        [ 9.5232064e-04,  1.5336095e-03,  1.8920810e-03, ...,\n",
              "         -3.3240933e-06, -3.3256952e-06, -3.3244485e-06]], dtype=float32)>,\n",
              " <tf.Tensor: shape=(10000,), dtype=float32, numpy=\n",
              " array([-0.7979989 , -1.0313323 , -1.0313313 , ...,  0.00200021,\n",
              "         0.00200002,  0.00200023], dtype=float32)>]"
            ]
          },
          "metadata": {},
          "execution_count": 48
        }
      ],
      "source": [
        "# Define the gradient clipping threshold\n",
        "grads, _ = tf.clip_by_global_norm(grad_t_list, max_grad_norm)\n",
        "grads"
      ]
    },
    {
      "cell_type": "markdown",
      "metadata": {
        "id": "G9wpYJhGQQ4Y"
      },
      "source": [
        "<h4> 4.Apply the optimizer to the variables/gradients tuple. </h4>\n"
      ]
    },
    {
      "cell_type": "code",
      "execution_count": 49,
      "metadata": {
        "id": "nuFaiGGWQQ4Y"
      },
      "outputs": [],
      "source": [
        "# Create the training TensorFlow Operation through our optimizer\n",
        "train_op = optimizer.apply_gradients(zip(grads, tvars))"
      ]
    },
    {
      "cell_type": "markdown",
      "metadata": {
        "id": "cOmnz-LWQQ4Y"
      },
      "source": [
        "<a id=\"ltsm\"></a>\n",
        "\n",
        "<h2>LSTM</h2>\n"
      ]
    },
    {
      "cell_type": "markdown",
      "metadata": {
        "button": false,
        "deletable": true,
        "new_sheet": false,
        "run_control": {
          "read_only": false
        },
        "id": "uGYIfd_ZQQ4Y"
      },
      "source": [
        "We learned how the model is build step by step. Noe, let's then create a Class that represents our model. This class needs a few things:\n",
        "\n",
        "<ul>\n",
        "    <li>We have to create the model in accordance with our defined hyperparameters</li>\n",
        "    <li>We have to create the LSTM cell structure and connect them with our RNN structure</li>\n",
        "    <li>We have to create the word embeddings and point them to the input data</li>\n",
        "    <li>We have to create the input structure for our RNN</li>\n",
        "    <li>We need to create a logistic structure to return the probability of our words</li>\n",
        "    <li>We need to create the loss and cost functions for our optimizer to work, and then create the optimizer</li>\n",
        "    <li>And finally, we need to create a training operation that can be run to actually train our model</li>\n",
        "</ul>\n"
      ]
    },
    {
      "cell_type": "code",
      "execution_count": 50,
      "metadata": {
        "button": false,
        "deletable": true,
        "new_sheet": false,
        "run_control": {
          "read_only": false
        },
        "tags": [],
        "id": "SOfVVRH8QQ4Y"
      },
      "outputs": [],
      "source": [
        "class PTBModel(object):\n",
        "\n",
        "\n",
        "    def __init__(self):\n",
        "        ######################################\n",
        "        # Setting parameters for ease of use #\n",
        "        ######################################\n",
        "        self.batch_size = batch_size\n",
        "        self.num_steps = num_steps\n",
        "        self.hidden_size_l1 = hidden_size_l1\n",
        "        self.hidden_size_l2 = hidden_size_l2\n",
        "        self.vocab_size = vocab_size\n",
        "        self.embeding_vector_size = embeding_vector_size\n",
        "        # Create a variable for the learning rate\n",
        "        self._lr = 1.0\n",
        "        \n",
        "        ###############################################################################\n",
        "        # Initializing the model using keras Sequential API  #\n",
        "        ###############################################################################\n",
        "        \n",
        "        self._model = tf.keras.models.Sequential()\n",
        "        \n",
        "        ####################################################################\n",
        "        # Creating the word embeddings layer and adding it to the sequence #\n",
        "        ####################################################################\n",
        "        with tf.device(\"/cpu:0\"):\n",
        "            # Create the embeddings for our input data. Size is hidden size.\n",
        "            self._embedding_layer = tf.keras.layers.Embedding(self.vocab_size, self.embeding_vector_size,batch_input_shape=(self.batch_size, self.num_steps),trainable=True,name=\"embedding_vocab\")  #[10000x200]\n",
        "            self._model.add(self._embedding_layer)\n",
        "            \n",
        "\n",
        "        ##########################################################################\n",
        "        # Creating the LSTM cell structure and connect it with the RNN structure #\n",
        "        ##########################################################################\n",
        "        # Create the LSTM Cells. \n",
        "        # This creates only the structure for the LSTM and has to be associated with a RNN unit still.\n",
        "        # The argument  of LSTMCell is size of hidden layer, that is, the number of hidden units of the LSTM (inside A). \n",
        "        # LSTM cell processes one word at a time and computes probabilities of the possible continuations of the sentence.\n",
        "        lstm_cell_l1 = tf.keras.layers.LSTMCell(hidden_size_l1)\n",
        "        lstm_cell_l2 = tf.keras.layers.LSTMCell(hidden_size_l2)\n",
        "        \n",
        "\n",
        "        \n",
        "        # By taking in the LSTM cells as parameters, the StackedRNNCells function junctions the LSTM units to the RNN units.\n",
        "        # RNN cell composed sequentially of stacked simple cells.\n",
        "        stacked_lstm = tf.keras.layers.StackedRNNCells([lstm_cell_l1, lstm_cell_l2])\n",
        "\n",
        "\n",
        "        \n",
        "\n",
        "        ############################################\n",
        "        # Creating the input structure for our RNN #\n",
        "        ############################################\n",
        "        # Input structure is 20x[30x200]\n",
        "        # Considering each word is represended by a 200 dimentional vector, and we have 30 batchs, we create 30 word-vectors of size [30xx2000]\n",
        "        # The input structure is fed from the embeddings, which are filled in by the input data\n",
        "        # Feeding a batch of b sentences to a RNN:\n",
        "        # In step 1,  first word of each of the b sentences (in a batch) is input in parallel.  \n",
        "        # In step 2,  second word of each of the b sentences is input in parallel. \n",
        "        # The parallelism is only for efficiency.  \n",
        "        # Each sentence in a batch is handled in parallel, but the network sees one word of a sentence at a time and does the computations accordingly. \n",
        "        # All the computations involving the words of all sentences in a batch at a given time step are done in parallel. \n",
        "\n",
        "        ########################################################################################################\n",
        "        # Instantiating our RNN model and setting stateful to True to feed forward the state to the next layer #\n",
        "        ########################################################################################################\n",
        "        \n",
        "        self._RNNlayer  =  tf.keras.layers.RNN(stacked_lstm,[batch_size, num_steps],return_state=False,stateful=True,trainable=True)\n",
        "        \n",
        "        # Define the initial state, i.e., the model state for the very first data point\n",
        "        # It initialize the state of the LSTM memory. The memory state of the network is initialized with a vector of zeros and gets updated after reading each word.\n",
        "        self._initial_state = tf.Variable(tf.zeros([batch_size,embeding_vector_size]),trainable=False)\n",
        "        self._RNNlayer.inital_state = self._initial_state\n",
        "    \n",
        "        ############################################\n",
        "        # Adding RNN layer to keras sequential API #\n",
        "        ############################################        \n",
        "        self._model.add(self._RNNlayer)\n",
        "        \n",
        "        #self._model.add(tf.keras.layers.LSTM(hidden_size_l1,return_sequences=True,stateful=True))\n",
        "        #self._model.add(tf.keras.layers.LSTM(hidden_size_l2,return_sequences=True))\n",
        "        \n",
        "        \n",
        "        ####################################################################################################\n",
        "        # Instantiating a Dense layer that connects the output to the vocab_size  and adding layer to model#\n",
        "        ####################################################################################################\n",
        "        self._dense = tf.keras.layers.Dense(self.vocab_size)\n",
        "        self._model.add(self._dense)\n",
        " \n",
        "        \n",
        "        ####################################################################################################\n",
        "        # Adding softmax activation layer and deriving probability to each class and adding layer to model #\n",
        "        ####################################################################################################\n",
        "        self._activation = tf.keras.layers.Activation('softmax')\n",
        "        self._model.add(self._activation)\n",
        "\n",
        "        ##########################################################\n",
        "        # Instantiating the stochastic gradient decent optimizer #\n",
        "        ########################################################## \n",
        "        self._optimizer = tf.keras.optimizers.SGD(lr=self._lr, clipnorm=max_grad_norm)\n",
        "        \n",
        "        \n",
        "        ##############################################################################\n",
        "        # Compiling and summarizing the model stacked using the keras sequential API #\n",
        "        ##############################################################################\n",
        "        self._model.compile(loss=self.crossentropy, optimizer=self._optimizer)\n",
        "        self._model.summary()\n",
        "\n",
        "\n",
        "    def crossentropy(self,y_true, y_pred):\n",
        "        return tf.keras.losses.sparse_categorical_crossentropy(y_true, y_pred)\n",
        "\n",
        "    def train_batch(self,_input_data,_targets):\n",
        "        #################################################\n",
        "        # Creating the Training Operation for our Model #\n",
        "        #################################################\n",
        "        # Create a variable for the learning rate\n",
        "        self._lr = tf.Variable(0.0, trainable=False)\n",
        "        # Get all TensorFlow variables marked as \"trainable\" (i.e. all of them except _lr, which we just created)\n",
        "        tvars = self._model.trainable_variables\n",
        "        # Define the gradient clipping threshold\n",
        "        with tf.GradientTape() as tape:\n",
        "            # Forward pass.\n",
        "            output_words_prob = self._model(_input_data)\n",
        "            # Loss value for this batch.\n",
        "            loss  = self.crossentropy(_targets, output_words_prob)\n",
        "            # average across batch and reduce sum\n",
        "            cost = tf.reduce_sum(loss/ self.batch_size)\n",
        "        # Get gradients of loss wrt the trainable variables.\n",
        "        grad_t_list = tape.gradient(cost, tvars)\n",
        "        # Define the gradient clipping threshold\n",
        "        grads, _ = tf.clip_by_global_norm(grad_t_list, max_grad_norm)\n",
        "        # Create the training TensorFlow Operation through our optimizer\n",
        "        train_op = self._optimizer.apply_gradients(zip(grads, tvars))\n",
        "        return cost\n",
        "        \n",
        "    def test_batch(self,_input_data,_targets):\n",
        "        #################################################\n",
        "        # Creating the Testing Operation for our Model #\n",
        "        #################################################\n",
        "        output_words_prob = self._model(_input_data)\n",
        "        loss  = self.crossentropy(_targets, output_words_prob)\n",
        "        # average across batch and reduce sum\n",
        "        cost = tf.reduce_sum(loss/ self.batch_size)\n",
        "\n",
        "        return cost\n",
        "    @classmethod\n",
        "    def instance(cls) : \n",
        "        return PTBModel()"
      ]
    },
    {
      "cell_type": "markdown",
      "metadata": {
        "button": false,
        "deletable": true,
        "new_sheet": false,
        "run_control": {
          "read_only": false
        },
        "id": "BOhiZs3JQQ4Z"
      },
      "source": [
        "With that, the actual structure of our Recurrent Neural Network with Long Short-Term Memory is finished. What remains for us to do is to actually create the methods to run through time -- that is, the <code>run_epoch</code> method to be run at each epoch and a <code>main</code> script which ties all of this together.\n",
        "\n",
        "What our <code>run_epoch</code> method should do is take our input data and feed it to the relevant operations. This will return at the very least the current result for the cost function.\n"
      ]
    },
    {
      "cell_type": "code",
      "execution_count": 51,
      "metadata": {
        "button": false,
        "deletable": true,
        "new_sheet": false,
        "run_control": {
          "read_only": false
        },
        "id": "6WB_G2ONQQ4Z"
      },
      "outputs": [],
      "source": [
        "\n",
        "########################################################################################################################\n",
        "# run_one_epoch takes as parameters  the model instance, the data to be fed, training or testing mode and verbose info #\n",
        "########################################################################################################################\n",
        "def run_one_epoch(m, data,is_training=True,verbose=False):\n",
        "\n",
        "    #Define the epoch size based on the length of the data, batch size and the number of steps\n",
        "    epoch_size = ((len(data) // m.batch_size) - 1) // m.num_steps\n",
        "    start_time = time.time()\n",
        "    costs = 0.\n",
        "    iters = 0\n",
        "    \n",
        "    m._model.reset_states()\n",
        "    \n",
        "    #For each step and data point\n",
        "    for step, (x, y) in enumerate(reader.ptb_iterator(data, m.batch_size, m.num_steps)):\n",
        "        \n",
        "        #Evaluate and return cost, state by running cost, final_state and the function passed as parameter\n",
        "        #y = tf.keras.utils.to_categorical(y, num_classes=vocab_size)\n",
        "        if is_training : \n",
        "            loss=  m.train_batch(x, y)\n",
        "        else :\n",
        "            loss = m.test_batch(x, y)\n",
        "                                   \n",
        "\n",
        "        #Add returned cost to costs (which keeps track of the total costs for this epoch)\n",
        "        costs += loss\n",
        "        \n",
        "        #Add number of steps to iteration counter\n",
        "        iters += m.num_steps\n",
        "\n",
        "        if verbose and step % (epoch_size // 10) == 10:\n",
        "            print(\"Itr %d of %d, perplexity: %.3f speed: %.0f wps\" % (step , epoch_size, np.exp(costs / iters), iters * m.batch_size / (time.time() - start_time)))\n",
        "        \n",
        "\n",
        "\n",
        "    # Returns the Perplexity rating for us to keep track of how the model is evolving\n",
        "    return np.exp(costs / iters)\n"
      ]
    },
    {
      "cell_type": "markdown",
      "metadata": {
        "button": false,
        "deletable": true,
        "new_sheet": false,
        "run_control": {
          "read_only": false
        },
        "id": "0586QsLmQQ4Z"
      },
      "source": [
        "Now, we create the <code>main</code> method to tie everything together. The code here reads the data from the directory, using the <code>reader</code> helper module, and then trains and evaluates the model on both a testing and a validating subset of data.\n"
      ]
    },
    {
      "cell_type": "code",
      "execution_count": 52,
      "metadata": {
        "button": false,
        "deletable": true,
        "new_sheet": false,
        "run_control": {
          "read_only": false
        },
        "tags": [],
        "id": "QHz-uUmoQQ4Z"
      },
      "outputs": [],
      "source": [
        "# Reads the data and separates it into training data, validation data and testing data\n",
        "raw_data = reader.ptb_raw_data(data_dir)\n",
        "train_data, valid_data, test_data, _, _ = raw_data"
      ]
    },
    {
      "cell_type": "code",
      "execution_count": 53,
      "metadata": {
        "tags": [],
        "colab": {
          "base_uri": "https://localhost:8080/",
          "height": 1000
        },
        "id": "11QCiZokQQ4Z",
        "outputId": "9d1a8f39-6d56-47b6-d036-3360cc4e4f9b"
      },
      "outputs": [
        {
          "output_type": "stream",
          "name": "stdout",
          "text": [
            "Model: \"sequential_1\"\n",
            "_________________________________________________________________\n",
            " Layer (type)                Output Shape              Param #   \n",
            "=================================================================\n",
            " embedding_vocab (Embedding)  (30, 20, 200)            2000000   \n",
            "                                                                 \n",
            " rnn_1 (RNN)                 (30, 20, 128)             671088    \n",
            "                                                                 \n",
            " dense_1 (Dense)             (30, 20, 10000)           1290000   \n",
            "                                                                 \n",
            " activation_1 (Activation)   (30, 20, 10000)           0         \n",
            "                                                                 \n",
            "=================================================================\n",
            "Total params: 3,961,088\n",
            "Trainable params: 3,955,088\n",
            "Non-trainable params: 6,000\n",
            "_________________________________________________________________\n"
          ]
        },
        {
          "output_type": "stream",
          "name": "stderr",
          "text": [
            "/usr/local/lib/python3.7/dist-packages/keras/optimizer_v2/gradient_descent.py:102: UserWarning: The `lr` argument is deprecated, use `learning_rate` instead.\n",
            "  super(SGD, self).__init__(name, **kwargs)\n"
          ]
        },
        {
          "output_type": "stream",
          "name": "stdout",
          "text": [
            "Epoch 1 : Learning rate: 1.000\n",
            "Itr 10 of 1549, perplexity: 4938.680 speed: 4443 wps\n",
            "Itr 164 of 1549, perplexity: 1098.009 speed: 4772 wps\n",
            "Itr 318 of 1549, perplexity: 844.635 speed: 4714 wps\n",
            "Itr 472 of 1549, perplexity: 698.883 speed: 4730 wps\n",
            "Itr 626 of 1549, perplexity: 597.325 speed: 4739 wps\n",
            "Itr 780 of 1549, perplexity: 531.461 speed: 4757 wps\n",
            "Itr 934 of 1549, perplexity: 479.519 speed: 4766 wps\n",
            "Itr 1088 of 1549, perplexity: 440.248 speed: 4766 wps\n",
            "Itr 1242 of 1549, perplexity: 410.012 speed: 4769 wps\n",
            "Itr 1396 of 1549, perplexity: 382.012 speed: 4755 wps\n",
            "Epoch 1 : Train Perplexity: 359.950\n",
            "Epoch 1 : Valid Perplexity: 214.836\n",
            "Epoch 2 : Learning rate: 1.000\n",
            "Itr 10 of 1549, perplexity: 242.709 speed: 4646 wps\n",
            "Itr 164 of 1549, perplexity: 212.026 speed: 4774 wps\n",
            "Itr 318 of 1549, perplexity: 203.561 speed: 4801 wps\n",
            "Itr 472 of 1549, perplexity: 195.427 speed: 4817 wps\n",
            "Itr 626 of 1549, perplexity: 186.643 speed: 4811 wps\n",
            "Itr 780 of 1549, perplexity: 182.755 speed: 4775 wps\n",
            "Itr 934 of 1549, perplexity: 178.541 speed: 4786 wps\n",
            "Itr 1088 of 1549, perplexity: 175.034 speed: 4790 wps\n",
            "Itr 1242 of 1549, perplexity: 172.499 speed: 4788 wps\n",
            "Itr 1396 of 1549, perplexity: 168.232 speed: 4794 wps\n",
            "Epoch 2 : Train Perplexity: 165.305\n",
            "Epoch 2 : Valid Perplexity: 161.591\n",
            "Epoch 3 : Learning rate: 1.000\n",
            "Itr 10 of 1549, perplexity: 163.655 speed: 4665 wps\n",
            "Itr 164 of 1549, perplexity: 147.322 speed: 4664 wps\n",
            "Itr 318 of 1549, perplexity: 143.970 speed: 4749 wps\n",
            "Itr 472 of 1549, perplexity: 139.347 speed: 4763 wps\n",
            "Itr 626 of 1549, perplexity: 134.265 speed: 4756 wps\n",
            "Itr 780 of 1549, perplexity: 133.063 speed: 4768 wps\n",
            "Itr 934 of 1549, perplexity: 131.225 speed: 4773 wps\n",
            "Itr 1088 of 1549, perplexity: 129.667 speed: 4773 wps\n",
            "Itr 1242 of 1549, perplexity: 128.798 speed: 4754 wps\n",
            "Itr 1396 of 1549, perplexity: 126.437 speed: 4765 wps\n",
            "Epoch 3 : Train Perplexity: 125.104\n",
            "Epoch 3 : Valid Perplexity: 144.342\n",
            "Epoch 4 : Learning rate: 1.000\n",
            "Itr 10 of 1549, perplexity: 129.713 speed: 4608 wps\n",
            "Itr 164 of 1549, perplexity: 119.885 speed: 4750 wps\n",
            "Itr 318 of 1549, perplexity: 117.933 speed: 4779 wps\n",
            "Itr 472 of 1549, perplexity: 114.388 speed: 4783 wps\n",
            "Itr 626 of 1549, perplexity: 110.611 speed: 4745 wps\n",
            "Itr 780 of 1549, perplexity: 110.185 speed: 4747 wps\n",
            "Itr 934 of 1549, perplexity: 109.167 speed: 4756 wps\n",
            "Itr 1088 of 1549, perplexity: 108.211 speed: 4758 wps\n",
            "Itr 1242 of 1549, perplexity: 107.754 speed: 4770 wps\n",
            "Itr 1396 of 1549, perplexity: 106.070 speed: 4764 wps\n",
            "Epoch 4 : Train Perplexity: 105.231\n",
            "Epoch 4 : Valid Perplexity: 136.365\n",
            "Epoch 5 : Learning rate: 1.000\n",
            "Itr 10 of 1549, perplexity: 110.379 speed: 4626 wps\n",
            "Itr 164 of 1549, perplexity: 103.671 speed: 4788 wps\n",
            "Itr 318 of 1549, perplexity: 102.406 speed: 4797 wps\n",
            "Itr 472 of 1549, perplexity: 99.664 speed: 4787 wps\n",
            "Itr 626 of 1549, perplexity: 96.521 speed: 4783 wps\n",
            "Itr 780 of 1549, perplexity: 96.308 speed: 4783 wps\n",
            "Itr 934 of 1549, perplexity: 95.665 speed: 4779 wps\n",
            "Itr 1088 of 1549, perplexity: 95.015 speed: 4749 wps\n",
            "Itr 1242 of 1549, perplexity: 94.779 speed: 4756 wps\n",
            "Itr 1396 of 1549, perplexity: 93.428 speed: 4771 wps\n",
            "Epoch 5 : Train Perplexity: 92.878\n",
            "Epoch 5 : Valid Perplexity: 131.942\n",
            "Epoch 6 : Learning rate: 0.500\n",
            "Itr 10 of 1549, perplexity: 98.763 speed: 4728 wps\n",
            "Itr 164 of 1549, perplexity: 90.318 speed: 4854 wps\n",
            "Itr 318 of 1549, perplexity: 87.907 speed: 4890 wps\n",
            "Itr 472 of 1549, perplexity: 84.622 speed: 4838 wps\n",
            "Itr 626 of 1549, perplexity: 81.088 speed: 4844 wps\n",
            "Itr 780 of 1549, perplexity: 80.359 speed: 4840 wps\n",
            "Itr 934 of 1549, perplexity: 79.212 speed: 4855 wps\n",
            "Itr 1088 of 1549, perplexity: 78.097 speed: 4860 wps\n",
            "Itr 1242 of 1549, perplexity: 77.320 speed: 4870 wps\n",
            "Itr 1396 of 1549, perplexity: 75.619 speed: 4874 wps\n",
            "Epoch 6 : Train Perplexity: 74.620\n",
            "Epoch 6 : Valid Perplexity: 122.010\n",
            "Epoch 7 : Learning rate: 0.250\n",
            "Itr 10 of 1549, perplexity: 82.816 speed: 4753 wps\n",
            "Itr 164 of 1549, perplexity: 77.700 speed: 4888 wps\n",
            "Itr 318 of 1549, perplexity: 75.841 speed: 4886 wps\n",
            "Itr 472 of 1549, perplexity: 73.001 speed: 4873 wps\n",
            "Itr 626 of 1549, perplexity: 69.859 speed: 4882 wps\n",
            "Itr 780 of 1549, perplexity: 69.100 speed: 4887 wps\n",
            "Itr 934 of 1549, perplexity: 68.021 speed: 4867 wps\n",
            "Itr 1088 of 1549, perplexity: 66.920 speed: 4865 wps\n",
            "Itr 1242 of 1549, perplexity: 66.094 speed: 4861 wps\n",
            "Itr 1396 of 1549, perplexity: 64.490 speed: 4864 wps\n",
            "Epoch 7 : Train Perplexity: 63.467\n",
            "Epoch 7 : Valid Perplexity: 119.321\n",
            "Epoch 8 : Learning rate: 0.125\n",
            "Itr 10 of 1549, perplexity: 74.270 speed: 4860 wps\n",
            "Itr 164 of 1549, perplexity: 70.649 speed: 4837 wps\n",
            "Itr 318 of 1549, perplexity: 69.026 speed: 4828 wps\n",
            "Itr 472 of 1549, perplexity: 66.429 speed: 4825 wps\n",
            "Itr 626 of 1549, perplexity: 63.545 speed: 4847 wps\n",
            "Itr 780 of 1549, perplexity: 62.838 speed: 4855 wps\n",
            "Itr 934 of 1549, perplexity: 61.839 speed: 4867 wps\n",
            "Itr 1088 of 1549, perplexity: 60.804 speed: 4873 wps\n",
            "Itr 1242 of 1549, perplexity: 59.996 speed: 4880 wps\n",
            "Itr 1396 of 1549, perplexity: 58.489 speed: 4866 wps\n",
            "Epoch 8 : Train Perplexity: 57.505\n",
            "Epoch 8 : Valid Perplexity: 118.895\n",
            "Epoch 9 : Learning rate: 0.062\n",
            "Itr 10 of 1549, perplexity: 70.073 speed: 4747 wps\n",
            "Itr 164 of 1549, perplexity: 66.913 speed: 4876 wps\n",
            "Itr 318 of 1549, perplexity: 65.472 speed: 4907 wps\n",
            "Itr 472 of 1549, perplexity: 62.997 speed: 4897 wps\n",
            "Itr 626 of 1549, perplexity: 60.256 speed: 4888 wps\n",
            "Itr 780 of 1549, perplexity: 59.589 speed: 4892 wps\n",
            "Itr 934 of 1549, perplexity: 58.637 speed: 4860 wps\n",
            "Itr 1088 of 1549, perplexity: 57.629 speed: 4863 wps\n",
            "Itr 1242 of 1549, perplexity: 56.835 speed: 4861 wps\n",
            "Itr 1396 of 1549, perplexity: 55.378 speed: 4868 wps\n",
            "Epoch 9 : Train Perplexity: 54.416\n",
            "Epoch 9 : Valid Perplexity: 118.751\n",
            "Epoch 10 : Learning rate: 0.031\n",
            "Itr 10 of 1549, perplexity: 68.017 speed: 4726 wps\n",
            "Itr 164 of 1549, perplexity: 64.932 speed: 4853 wps\n",
            "Itr 318 of 1549, perplexity: 63.590 speed: 4778 wps\n",
            "Itr 472 of 1549, perplexity: 61.185 speed: 4799 wps\n",
            "Itr 626 of 1549, perplexity: 58.512 speed: 4819 wps\n",
            "Itr 780 of 1549, perplexity: 57.864 speed: 4627 wps\n",
            "Itr 934 of 1549, perplexity: 56.949 speed: 4663 wps\n",
            "Itr 1088 of 1549, perplexity: 55.947 speed: 4685 wps\n",
            "Itr 1242 of 1549, perplexity: 55.161 speed: 4704 wps\n",
            "Itr 1396 of 1549, perplexity: 53.730 speed: 4701 wps\n",
            "Epoch 10 : Train Perplexity: 52.779\n",
            "Epoch 10 : Valid Perplexity: 118.667\n",
            "Epoch 11 : Learning rate: 0.016\n",
            "Itr 10 of 1549, perplexity: 66.890 speed: 4242 wps\n",
            "Itr 164 of 1549, perplexity: 63.849 speed: 4763 wps\n"
          ]
        },
        {
          "output_type": "error",
          "ename": "KeyboardInterrupt",
          "evalue": "ignored",
          "traceback": [
            "\u001b[0;31m---------------------------------------------------------------------------\u001b[0m",
            "\u001b[0;31mKeyboardInterrupt\u001b[0m                         Traceback (most recent call last)",
            "\u001b[0;32m<ipython-input-53-fdbf180f78b4>\u001b[0m in \u001b[0;36m<module>\u001b[0;34m()\u001b[0m\n\u001b[1;32m     11\u001b[0m     \u001b[0mprint\u001b[0m\u001b[0;34m(\u001b[0m\u001b[0;34m\"Epoch %d : Learning rate: %.3f\"\u001b[0m \u001b[0;34m%\u001b[0m \u001b[0;34m(\u001b[0m\u001b[0mi\u001b[0m \u001b[0;34m+\u001b[0m \u001b[0;36m1\u001b[0m\u001b[0;34m,\u001b[0m \u001b[0mm\u001b[0m\u001b[0;34m.\u001b[0m\u001b[0m_model\u001b[0m\u001b[0;34m.\u001b[0m\u001b[0moptimizer\u001b[0m\u001b[0;34m.\u001b[0m\u001b[0mlearning_rate\u001b[0m\u001b[0;34m)\u001b[0m\u001b[0;34m)\u001b[0m\u001b[0;34m\u001b[0m\u001b[0;34m\u001b[0m\u001b[0m\n\u001b[1;32m     12\u001b[0m     \u001b[0;31m# Run the loop for this epoch in the training mode\u001b[0m\u001b[0;34m\u001b[0m\u001b[0;34m\u001b[0m\u001b[0;34m\u001b[0m\u001b[0m\n\u001b[0;32m---> 13\u001b[0;31m     \u001b[0mtrain_perplexity\u001b[0m \u001b[0;34m=\u001b[0m \u001b[0mrun_one_epoch\u001b[0m\u001b[0;34m(\u001b[0m\u001b[0mm\u001b[0m\u001b[0;34m,\u001b[0m \u001b[0mtrain_data\u001b[0m\u001b[0;34m,\u001b[0m\u001b[0mis_training\u001b[0m\u001b[0;34m=\u001b[0m\u001b[0;32mTrue\u001b[0m\u001b[0;34m,\u001b[0m\u001b[0mverbose\u001b[0m\u001b[0;34m=\u001b[0m\u001b[0;32mTrue\u001b[0m\u001b[0;34m)\u001b[0m\u001b[0;34m\u001b[0m\u001b[0;34m\u001b[0m\u001b[0m\n\u001b[0m\u001b[1;32m     14\u001b[0m     \u001b[0mprint\u001b[0m\u001b[0;34m(\u001b[0m\u001b[0;34m\"Epoch %d : Train Perplexity: %.3f\"\u001b[0m \u001b[0;34m%\u001b[0m \u001b[0;34m(\u001b[0m\u001b[0mi\u001b[0m \u001b[0;34m+\u001b[0m \u001b[0;36m1\u001b[0m\u001b[0;34m,\u001b[0m \u001b[0mtrain_perplexity\u001b[0m\u001b[0;34m)\u001b[0m\u001b[0;34m)\u001b[0m\u001b[0;34m\u001b[0m\u001b[0;34m\u001b[0m\u001b[0m\n\u001b[1;32m     15\u001b[0m \u001b[0;34m\u001b[0m\u001b[0m\n",
            "\u001b[0;32m<ipython-input-51-a7cbc445c984>\u001b[0m in \u001b[0;36mrun_one_epoch\u001b[0;34m(m, data, is_training, verbose)\u001b[0m\n\u001b[1;32m     19\u001b[0m         \u001b[0;31m#y = tf.keras.utils.to_categorical(y, num_classes=vocab_size)\u001b[0m\u001b[0;34m\u001b[0m\u001b[0;34m\u001b[0m\u001b[0;34m\u001b[0m\u001b[0m\n\u001b[1;32m     20\u001b[0m         \u001b[0;32mif\u001b[0m \u001b[0mis_training\u001b[0m \u001b[0;34m:\u001b[0m\u001b[0;34m\u001b[0m\u001b[0;34m\u001b[0m\u001b[0m\n\u001b[0;32m---> 21\u001b[0;31m             \u001b[0mloss\u001b[0m\u001b[0;34m=\u001b[0m  \u001b[0mm\u001b[0m\u001b[0;34m.\u001b[0m\u001b[0mtrain_batch\u001b[0m\u001b[0;34m(\u001b[0m\u001b[0mx\u001b[0m\u001b[0;34m,\u001b[0m \u001b[0my\u001b[0m\u001b[0;34m)\u001b[0m\u001b[0;34m\u001b[0m\u001b[0;34m\u001b[0m\u001b[0m\n\u001b[0m\u001b[1;32m     22\u001b[0m         \u001b[0;32melse\u001b[0m \u001b[0;34m:\u001b[0m\u001b[0;34m\u001b[0m\u001b[0;34m\u001b[0m\u001b[0m\n\u001b[1;32m     23\u001b[0m             \u001b[0mloss\u001b[0m \u001b[0;34m=\u001b[0m \u001b[0mm\u001b[0m\u001b[0;34m.\u001b[0m\u001b[0mtest_batch\u001b[0m\u001b[0;34m(\u001b[0m\u001b[0mx\u001b[0m\u001b[0;34m,\u001b[0m \u001b[0my\u001b[0m\u001b[0;34m)\u001b[0m\u001b[0;34m\u001b[0m\u001b[0;34m\u001b[0m\u001b[0m\n",
            "\u001b[0;32m<ipython-input-50-ce16a0a5575f>\u001b[0m in \u001b[0;36mtrain_batch\u001b[0;34m(self, _input_data, _targets)\u001b[0m\n\u001b[1;32m    122\u001b[0m         \u001b[0;32mwith\u001b[0m \u001b[0mtf\u001b[0m\u001b[0;34m.\u001b[0m\u001b[0mGradientTape\u001b[0m\u001b[0;34m(\u001b[0m\u001b[0;34m)\u001b[0m \u001b[0;32mas\u001b[0m \u001b[0mtape\u001b[0m\u001b[0;34m:\u001b[0m\u001b[0;34m\u001b[0m\u001b[0;34m\u001b[0m\u001b[0m\n\u001b[1;32m    123\u001b[0m             \u001b[0;31m# Forward pass.\u001b[0m\u001b[0;34m\u001b[0m\u001b[0;34m\u001b[0m\u001b[0;34m\u001b[0m\u001b[0m\n\u001b[0;32m--> 124\u001b[0;31m             \u001b[0moutput_words_prob\u001b[0m \u001b[0;34m=\u001b[0m \u001b[0mself\u001b[0m\u001b[0;34m.\u001b[0m\u001b[0m_model\u001b[0m\u001b[0;34m(\u001b[0m\u001b[0m_input_data\u001b[0m\u001b[0;34m)\u001b[0m\u001b[0;34m\u001b[0m\u001b[0;34m\u001b[0m\u001b[0m\n\u001b[0m\u001b[1;32m    125\u001b[0m             \u001b[0;31m# Loss value for this batch.\u001b[0m\u001b[0;34m\u001b[0m\u001b[0;34m\u001b[0m\u001b[0;34m\u001b[0m\u001b[0m\n\u001b[1;32m    126\u001b[0m             \u001b[0mloss\u001b[0m  \u001b[0;34m=\u001b[0m \u001b[0mself\u001b[0m\u001b[0;34m.\u001b[0m\u001b[0mcrossentropy\u001b[0m\u001b[0;34m(\u001b[0m\u001b[0m_targets\u001b[0m\u001b[0;34m,\u001b[0m \u001b[0moutput_words_prob\u001b[0m\u001b[0;34m)\u001b[0m\u001b[0;34m\u001b[0m\u001b[0;34m\u001b[0m\u001b[0m\n",
            "\u001b[0;32m/usr/local/lib/python3.7/dist-packages/keras/utils/traceback_utils.py\u001b[0m in \u001b[0;36merror_handler\u001b[0;34m(*args, **kwargs)\u001b[0m\n\u001b[1;32m     62\u001b[0m     \u001b[0mfiltered_tb\u001b[0m \u001b[0;34m=\u001b[0m \u001b[0;32mNone\u001b[0m\u001b[0;34m\u001b[0m\u001b[0;34m\u001b[0m\u001b[0m\n\u001b[1;32m     63\u001b[0m     \u001b[0;32mtry\u001b[0m\u001b[0;34m:\u001b[0m\u001b[0;34m\u001b[0m\u001b[0;34m\u001b[0m\u001b[0m\n\u001b[0;32m---> 64\u001b[0;31m       \u001b[0;32mreturn\u001b[0m \u001b[0mfn\u001b[0m\u001b[0;34m(\u001b[0m\u001b[0;34m*\u001b[0m\u001b[0margs\u001b[0m\u001b[0;34m,\u001b[0m \u001b[0;34m**\u001b[0m\u001b[0mkwargs\u001b[0m\u001b[0;34m)\u001b[0m\u001b[0;34m\u001b[0m\u001b[0;34m\u001b[0m\u001b[0m\n\u001b[0m\u001b[1;32m     65\u001b[0m     \u001b[0;32mexcept\u001b[0m \u001b[0mException\u001b[0m \u001b[0;32mas\u001b[0m \u001b[0me\u001b[0m\u001b[0;34m:\u001b[0m  \u001b[0;31m# pylint: disable=broad-except\u001b[0m\u001b[0;34m\u001b[0m\u001b[0;34m\u001b[0m\u001b[0m\n\u001b[1;32m     66\u001b[0m       \u001b[0mfiltered_tb\u001b[0m \u001b[0;34m=\u001b[0m \u001b[0m_process_traceback_frames\u001b[0m\u001b[0;34m(\u001b[0m\u001b[0me\u001b[0m\u001b[0;34m.\u001b[0m\u001b[0m__traceback__\u001b[0m\u001b[0;34m)\u001b[0m\u001b[0;34m\u001b[0m\u001b[0;34m\u001b[0m\u001b[0m\n",
            "\u001b[0;32m/usr/local/lib/python3.7/dist-packages/keras/engine/base_layer.py\u001b[0m in \u001b[0;36m__call__\u001b[0;34m(self, *args, **kwargs)\u001b[0m\n\u001b[1;32m   1094\u001b[0m         with autocast_variable.enable_auto_cast_variables(\n\u001b[1;32m   1095\u001b[0m             self._compute_dtype_object):\n\u001b[0;32m-> 1096\u001b[0;31m           \u001b[0moutputs\u001b[0m \u001b[0;34m=\u001b[0m \u001b[0mcall_fn\u001b[0m\u001b[0;34m(\u001b[0m\u001b[0minputs\u001b[0m\u001b[0;34m,\u001b[0m \u001b[0;34m*\u001b[0m\u001b[0margs\u001b[0m\u001b[0;34m,\u001b[0m \u001b[0;34m**\u001b[0m\u001b[0mkwargs\u001b[0m\u001b[0;34m)\u001b[0m\u001b[0;34m\u001b[0m\u001b[0;34m\u001b[0m\u001b[0m\n\u001b[0m\u001b[1;32m   1097\u001b[0m \u001b[0;34m\u001b[0m\u001b[0m\n\u001b[1;32m   1098\u001b[0m         \u001b[0;32mif\u001b[0m \u001b[0mself\u001b[0m\u001b[0;34m.\u001b[0m\u001b[0m_activity_regularizer\u001b[0m\u001b[0;34m:\u001b[0m\u001b[0;34m\u001b[0m\u001b[0;34m\u001b[0m\u001b[0m\n",
            "\u001b[0;32m/usr/local/lib/python3.7/dist-packages/keras/utils/traceback_utils.py\u001b[0m in \u001b[0;36merror_handler\u001b[0;34m(*args, **kwargs)\u001b[0m\n\u001b[1;32m     90\u001b[0m     \u001b[0mbound_signature\u001b[0m \u001b[0;34m=\u001b[0m \u001b[0;32mNone\u001b[0m\u001b[0;34m\u001b[0m\u001b[0;34m\u001b[0m\u001b[0m\n\u001b[1;32m     91\u001b[0m     \u001b[0;32mtry\u001b[0m\u001b[0;34m:\u001b[0m\u001b[0;34m\u001b[0m\u001b[0;34m\u001b[0m\u001b[0m\n\u001b[0;32m---> 92\u001b[0;31m       \u001b[0;32mreturn\u001b[0m \u001b[0mfn\u001b[0m\u001b[0;34m(\u001b[0m\u001b[0;34m*\u001b[0m\u001b[0margs\u001b[0m\u001b[0;34m,\u001b[0m \u001b[0;34m**\u001b[0m\u001b[0mkwargs\u001b[0m\u001b[0;34m)\u001b[0m\u001b[0;34m\u001b[0m\u001b[0;34m\u001b[0m\u001b[0m\n\u001b[0m\u001b[1;32m     93\u001b[0m     \u001b[0;32mexcept\u001b[0m \u001b[0mException\u001b[0m \u001b[0;32mas\u001b[0m \u001b[0me\u001b[0m\u001b[0;34m:\u001b[0m  \u001b[0;31m# pylint: disable=broad-except\u001b[0m\u001b[0;34m\u001b[0m\u001b[0;34m\u001b[0m\u001b[0m\n\u001b[1;32m     94\u001b[0m       \u001b[0;32mif\u001b[0m \u001b[0mhasattr\u001b[0m\u001b[0;34m(\u001b[0m\u001b[0me\u001b[0m\u001b[0;34m,\u001b[0m \u001b[0;34m'_keras_call_info_injected'\u001b[0m\u001b[0;34m)\u001b[0m\u001b[0;34m:\u001b[0m\u001b[0;34m\u001b[0m\u001b[0;34m\u001b[0m\u001b[0m\n",
            "\u001b[0;32m/usr/local/lib/python3.7/dist-packages/keras/engine/sequential.py\u001b[0m in \u001b[0;36mcall\u001b[0;34m(self, inputs, training, mask)\u001b[0m\n\u001b[1;32m    372\u001b[0m       \u001b[0;32mif\u001b[0m \u001b[0;32mnot\u001b[0m \u001b[0mself\u001b[0m\u001b[0;34m.\u001b[0m\u001b[0mbuilt\u001b[0m\u001b[0;34m:\u001b[0m\u001b[0;34m\u001b[0m\u001b[0;34m\u001b[0m\u001b[0m\n\u001b[1;32m    373\u001b[0m         \u001b[0mself\u001b[0m\u001b[0;34m.\u001b[0m\u001b[0m_init_graph_network\u001b[0m\u001b[0;34m(\u001b[0m\u001b[0mself\u001b[0m\u001b[0;34m.\u001b[0m\u001b[0minputs\u001b[0m\u001b[0;34m,\u001b[0m \u001b[0mself\u001b[0m\u001b[0;34m.\u001b[0m\u001b[0moutputs\u001b[0m\u001b[0;34m)\u001b[0m\u001b[0;34m\u001b[0m\u001b[0;34m\u001b[0m\u001b[0m\n\u001b[0;32m--> 374\u001b[0;31m       \u001b[0;32mreturn\u001b[0m \u001b[0msuper\u001b[0m\u001b[0;34m(\u001b[0m\u001b[0mSequential\u001b[0m\u001b[0;34m,\u001b[0m \u001b[0mself\u001b[0m\u001b[0;34m)\u001b[0m\u001b[0;34m.\u001b[0m\u001b[0mcall\u001b[0m\u001b[0;34m(\u001b[0m\u001b[0minputs\u001b[0m\u001b[0;34m,\u001b[0m \u001b[0mtraining\u001b[0m\u001b[0;34m=\u001b[0m\u001b[0mtraining\u001b[0m\u001b[0;34m,\u001b[0m \u001b[0mmask\u001b[0m\u001b[0;34m=\u001b[0m\u001b[0mmask\u001b[0m\u001b[0;34m)\u001b[0m\u001b[0;34m\u001b[0m\u001b[0;34m\u001b[0m\u001b[0m\n\u001b[0m\u001b[1;32m    375\u001b[0m \u001b[0;34m\u001b[0m\u001b[0m\n\u001b[1;32m    376\u001b[0m     \u001b[0moutputs\u001b[0m \u001b[0;34m=\u001b[0m \u001b[0minputs\u001b[0m  \u001b[0;31m# handle the corner case where self.layers is empty\u001b[0m\u001b[0;34m\u001b[0m\u001b[0;34m\u001b[0m\u001b[0m\n",
            "\u001b[0;32m/usr/local/lib/python3.7/dist-packages/keras/engine/functional.py\u001b[0m in \u001b[0;36mcall\u001b[0;34m(self, inputs, training, mask)\u001b[0m\n\u001b[1;32m    450\u001b[0m     \"\"\"\n\u001b[1;32m    451\u001b[0m     return self._run_internal_graph(\n\u001b[0;32m--> 452\u001b[0;31m         inputs, training=training, mask=mask)\n\u001b[0m\u001b[1;32m    453\u001b[0m \u001b[0;34m\u001b[0m\u001b[0m\n\u001b[1;32m    454\u001b[0m   \u001b[0;32mdef\u001b[0m \u001b[0mcompute_output_shape\u001b[0m\u001b[0;34m(\u001b[0m\u001b[0mself\u001b[0m\u001b[0;34m,\u001b[0m \u001b[0minput_shape\u001b[0m\u001b[0;34m)\u001b[0m\u001b[0;34m:\u001b[0m\u001b[0;34m\u001b[0m\u001b[0;34m\u001b[0m\u001b[0m\n",
            "\u001b[0;32m/usr/local/lib/python3.7/dist-packages/keras/engine/functional.py\u001b[0m in \u001b[0;36m_run_internal_graph\u001b[0;34m(self, inputs, training, mask)\u001b[0m\n\u001b[1;32m    587\u001b[0m \u001b[0;34m\u001b[0m\u001b[0m\n\u001b[1;32m    588\u001b[0m         \u001b[0margs\u001b[0m\u001b[0;34m,\u001b[0m \u001b[0mkwargs\u001b[0m \u001b[0;34m=\u001b[0m \u001b[0mnode\u001b[0m\u001b[0;34m.\u001b[0m\u001b[0mmap_arguments\u001b[0m\u001b[0;34m(\u001b[0m\u001b[0mtensor_dict\u001b[0m\u001b[0;34m)\u001b[0m\u001b[0;34m\u001b[0m\u001b[0;34m\u001b[0m\u001b[0m\n\u001b[0;32m--> 589\u001b[0;31m         \u001b[0moutputs\u001b[0m \u001b[0;34m=\u001b[0m \u001b[0mnode\u001b[0m\u001b[0;34m.\u001b[0m\u001b[0mlayer\u001b[0m\u001b[0;34m(\u001b[0m\u001b[0;34m*\u001b[0m\u001b[0margs\u001b[0m\u001b[0;34m,\u001b[0m \u001b[0;34m**\u001b[0m\u001b[0mkwargs\u001b[0m\u001b[0;34m)\u001b[0m\u001b[0;34m\u001b[0m\u001b[0;34m\u001b[0m\u001b[0m\n\u001b[0m\u001b[1;32m    590\u001b[0m \u001b[0;34m\u001b[0m\u001b[0m\n\u001b[1;32m    591\u001b[0m         \u001b[0;31m# Update tensor_dict.\u001b[0m\u001b[0;34m\u001b[0m\u001b[0;34m\u001b[0m\u001b[0;34m\u001b[0m\u001b[0m\n",
            "\u001b[0;32m/usr/local/lib/python3.7/dist-packages/keras/layers/recurrent.py\u001b[0m in \u001b[0;36m__call__\u001b[0;34m(self, inputs, initial_state, constants, **kwargs)\u001b[0m\n\u001b[1;32m    677\u001b[0m \u001b[0;34m\u001b[0m\u001b[0m\n\u001b[1;32m    678\u001b[0m     \u001b[0;32mif\u001b[0m \u001b[0minitial_state\u001b[0m \u001b[0;32mis\u001b[0m \u001b[0;32mNone\u001b[0m \u001b[0;32mand\u001b[0m \u001b[0mconstants\u001b[0m \u001b[0;32mis\u001b[0m \u001b[0;32mNone\u001b[0m\u001b[0;34m:\u001b[0m\u001b[0;34m\u001b[0m\u001b[0;34m\u001b[0m\u001b[0m\n\u001b[0;32m--> 679\u001b[0;31m       \u001b[0;32mreturn\u001b[0m \u001b[0msuper\u001b[0m\u001b[0;34m(\u001b[0m\u001b[0mRNN\u001b[0m\u001b[0;34m,\u001b[0m \u001b[0mself\u001b[0m\u001b[0;34m)\u001b[0m\u001b[0;34m.\u001b[0m\u001b[0m__call__\u001b[0m\u001b[0;34m(\u001b[0m\u001b[0minputs\u001b[0m\u001b[0;34m,\u001b[0m \u001b[0;34m**\u001b[0m\u001b[0mkwargs\u001b[0m\u001b[0;34m)\u001b[0m\u001b[0;34m\u001b[0m\u001b[0;34m\u001b[0m\u001b[0m\n\u001b[0m\u001b[1;32m    680\u001b[0m \u001b[0;34m\u001b[0m\u001b[0m\n\u001b[1;32m    681\u001b[0m     \u001b[0;31m# If any of `initial_state` or `constants` are specified and are Keras\u001b[0m\u001b[0;34m\u001b[0m\u001b[0;34m\u001b[0m\u001b[0;34m\u001b[0m\u001b[0m\n",
            "\u001b[0;32m/usr/local/lib/python3.7/dist-packages/keras/utils/traceback_utils.py\u001b[0m in \u001b[0;36merror_handler\u001b[0;34m(*args, **kwargs)\u001b[0m\n\u001b[1;32m     62\u001b[0m     \u001b[0mfiltered_tb\u001b[0m \u001b[0;34m=\u001b[0m \u001b[0;32mNone\u001b[0m\u001b[0;34m\u001b[0m\u001b[0;34m\u001b[0m\u001b[0m\n\u001b[1;32m     63\u001b[0m     \u001b[0;32mtry\u001b[0m\u001b[0;34m:\u001b[0m\u001b[0;34m\u001b[0m\u001b[0;34m\u001b[0m\u001b[0m\n\u001b[0;32m---> 64\u001b[0;31m       \u001b[0;32mreturn\u001b[0m \u001b[0mfn\u001b[0m\u001b[0;34m(\u001b[0m\u001b[0;34m*\u001b[0m\u001b[0margs\u001b[0m\u001b[0;34m,\u001b[0m \u001b[0;34m**\u001b[0m\u001b[0mkwargs\u001b[0m\u001b[0;34m)\u001b[0m\u001b[0;34m\u001b[0m\u001b[0;34m\u001b[0m\u001b[0m\n\u001b[0m\u001b[1;32m     65\u001b[0m     \u001b[0;32mexcept\u001b[0m \u001b[0mException\u001b[0m \u001b[0;32mas\u001b[0m \u001b[0me\u001b[0m\u001b[0;34m:\u001b[0m  \u001b[0;31m# pylint: disable=broad-except\u001b[0m\u001b[0;34m\u001b[0m\u001b[0;34m\u001b[0m\u001b[0m\n\u001b[1;32m     66\u001b[0m       \u001b[0mfiltered_tb\u001b[0m \u001b[0;34m=\u001b[0m \u001b[0m_process_traceback_frames\u001b[0m\u001b[0;34m(\u001b[0m\u001b[0me\u001b[0m\u001b[0;34m.\u001b[0m\u001b[0m__traceback__\u001b[0m\u001b[0;34m)\u001b[0m\u001b[0;34m\u001b[0m\u001b[0;34m\u001b[0m\u001b[0m\n",
            "\u001b[0;32m/usr/local/lib/python3.7/dist-packages/keras/engine/base_layer.py\u001b[0m in \u001b[0;36m__call__\u001b[0;34m(self, *args, **kwargs)\u001b[0m\n\u001b[1;32m   1094\u001b[0m         with autocast_variable.enable_auto_cast_variables(\n\u001b[1;32m   1095\u001b[0m             self._compute_dtype_object):\n\u001b[0;32m-> 1096\u001b[0;31m           \u001b[0moutputs\u001b[0m \u001b[0;34m=\u001b[0m \u001b[0mcall_fn\u001b[0m\u001b[0;34m(\u001b[0m\u001b[0minputs\u001b[0m\u001b[0;34m,\u001b[0m \u001b[0;34m*\u001b[0m\u001b[0margs\u001b[0m\u001b[0;34m,\u001b[0m \u001b[0;34m**\u001b[0m\u001b[0mkwargs\u001b[0m\u001b[0;34m)\u001b[0m\u001b[0;34m\u001b[0m\u001b[0;34m\u001b[0m\u001b[0m\n\u001b[0m\u001b[1;32m   1097\u001b[0m \u001b[0;34m\u001b[0m\u001b[0m\n\u001b[1;32m   1098\u001b[0m         \u001b[0;32mif\u001b[0m \u001b[0mself\u001b[0m\u001b[0;34m.\u001b[0m\u001b[0m_activity_regularizer\u001b[0m\u001b[0;34m:\u001b[0m\u001b[0;34m\u001b[0m\u001b[0;34m\u001b[0m\u001b[0m\n",
            "\u001b[0;32m/usr/local/lib/python3.7/dist-packages/keras/utils/traceback_utils.py\u001b[0m in \u001b[0;36merror_handler\u001b[0;34m(*args, **kwargs)\u001b[0m\n\u001b[1;32m     90\u001b[0m     \u001b[0mbound_signature\u001b[0m \u001b[0;34m=\u001b[0m \u001b[0;32mNone\u001b[0m\u001b[0;34m\u001b[0m\u001b[0;34m\u001b[0m\u001b[0m\n\u001b[1;32m     91\u001b[0m     \u001b[0;32mtry\u001b[0m\u001b[0;34m:\u001b[0m\u001b[0;34m\u001b[0m\u001b[0;34m\u001b[0m\u001b[0m\n\u001b[0;32m---> 92\u001b[0;31m       \u001b[0;32mreturn\u001b[0m \u001b[0mfn\u001b[0m\u001b[0;34m(\u001b[0m\u001b[0;34m*\u001b[0m\u001b[0margs\u001b[0m\u001b[0;34m,\u001b[0m \u001b[0;34m**\u001b[0m\u001b[0mkwargs\u001b[0m\u001b[0;34m)\u001b[0m\u001b[0;34m\u001b[0m\u001b[0;34m\u001b[0m\u001b[0m\n\u001b[0m\u001b[1;32m     93\u001b[0m     \u001b[0;32mexcept\u001b[0m \u001b[0mException\u001b[0m \u001b[0;32mas\u001b[0m \u001b[0me\u001b[0m\u001b[0;34m:\u001b[0m  \u001b[0;31m# pylint: disable=broad-except\u001b[0m\u001b[0;34m\u001b[0m\u001b[0;34m\u001b[0m\u001b[0m\n\u001b[1;32m     94\u001b[0m       \u001b[0;32mif\u001b[0m \u001b[0mhasattr\u001b[0m\u001b[0;34m(\u001b[0m\u001b[0me\u001b[0m\u001b[0;34m,\u001b[0m \u001b[0;34m'_keras_call_info_injected'\u001b[0m\u001b[0;34m)\u001b[0m\u001b[0;34m:\u001b[0m\u001b[0;34m\u001b[0m\u001b[0;34m\u001b[0m\u001b[0m\n",
            "\u001b[0;32m/usr/local/lib/python3.7/dist-packages/keras/layers/recurrent.py\u001b[0m in \u001b[0;36mcall\u001b[0;34m(self, inputs, mask, training, initial_state, constants)\u001b[0m\n\u001b[1;32m    824\u001b[0m         \u001b[0minput_length\u001b[0m\u001b[0;34m=\u001b[0m\u001b[0mrow_lengths\u001b[0m \u001b[0;32mif\u001b[0m \u001b[0mrow_lengths\u001b[0m \u001b[0;32mis\u001b[0m \u001b[0;32mnot\u001b[0m \u001b[0;32mNone\u001b[0m \u001b[0;32melse\u001b[0m \u001b[0mtimesteps\u001b[0m\u001b[0;34m,\u001b[0m\u001b[0;34m\u001b[0m\u001b[0;34m\u001b[0m\u001b[0m\n\u001b[1;32m    825\u001b[0m         \u001b[0mtime_major\u001b[0m\u001b[0;34m=\u001b[0m\u001b[0mself\u001b[0m\u001b[0;34m.\u001b[0m\u001b[0mtime_major\u001b[0m\u001b[0;34m,\u001b[0m\u001b[0;34m\u001b[0m\u001b[0;34m\u001b[0m\u001b[0m\n\u001b[0;32m--> 826\u001b[0;31m         zero_output_for_mask=self.zero_output_for_mask)\n\u001b[0m\u001b[1;32m    827\u001b[0m \u001b[0;34m\u001b[0m\u001b[0m\n\u001b[1;32m    828\u001b[0m     \u001b[0;32mif\u001b[0m \u001b[0mself\u001b[0m\u001b[0;34m.\u001b[0m\u001b[0mstateful\u001b[0m\u001b[0;34m:\u001b[0m\u001b[0;34m\u001b[0m\u001b[0;34m\u001b[0m\u001b[0m\n",
            "\u001b[0;32m/usr/local/lib/python3.7/dist-packages/tensorflow/python/util/traceback_utils.py\u001b[0m in \u001b[0;36merror_handler\u001b[0;34m(*args, **kwargs)\u001b[0m\n\u001b[1;32m    148\u001b[0m     \u001b[0mfiltered_tb\u001b[0m \u001b[0;34m=\u001b[0m \u001b[0;32mNone\u001b[0m\u001b[0;34m\u001b[0m\u001b[0;34m\u001b[0m\u001b[0m\n\u001b[1;32m    149\u001b[0m     \u001b[0;32mtry\u001b[0m\u001b[0;34m:\u001b[0m\u001b[0;34m\u001b[0m\u001b[0;34m\u001b[0m\u001b[0m\n\u001b[0;32m--> 150\u001b[0;31m       \u001b[0;32mreturn\u001b[0m \u001b[0mfn\u001b[0m\u001b[0;34m(\u001b[0m\u001b[0;34m*\u001b[0m\u001b[0margs\u001b[0m\u001b[0;34m,\u001b[0m \u001b[0;34m**\u001b[0m\u001b[0mkwargs\u001b[0m\u001b[0;34m)\u001b[0m\u001b[0;34m\u001b[0m\u001b[0;34m\u001b[0m\u001b[0m\n\u001b[0m\u001b[1;32m    151\u001b[0m     \u001b[0;32mexcept\u001b[0m \u001b[0mException\u001b[0m \u001b[0;32mas\u001b[0m \u001b[0me\u001b[0m\u001b[0;34m:\u001b[0m\u001b[0;34m\u001b[0m\u001b[0;34m\u001b[0m\u001b[0m\n\u001b[1;32m    152\u001b[0m       \u001b[0mfiltered_tb\u001b[0m \u001b[0;34m=\u001b[0m \u001b[0m_process_traceback_frames\u001b[0m\u001b[0;34m(\u001b[0m\u001b[0me\u001b[0m\u001b[0;34m.\u001b[0m\u001b[0m__traceback__\u001b[0m\u001b[0;34m)\u001b[0m\u001b[0;34m\u001b[0m\u001b[0;34m\u001b[0m\u001b[0m\n",
            "\u001b[0;32m/usr/local/lib/python3.7/dist-packages/tensorflow/python/util/dispatch.py\u001b[0m in \u001b[0;36mop_dispatch_handler\u001b[0;34m(*args, **kwargs)\u001b[0m\n\u001b[1;32m   1080\u001b[0m       \u001b[0;31m# Fallback dispatch system (dispatch v1):\u001b[0m\u001b[0;34m\u001b[0m\u001b[0;34m\u001b[0m\u001b[0;34m\u001b[0m\u001b[0m\n\u001b[1;32m   1081\u001b[0m       \u001b[0;32mtry\u001b[0m\u001b[0;34m:\u001b[0m\u001b[0;34m\u001b[0m\u001b[0;34m\u001b[0m\u001b[0m\n\u001b[0;32m-> 1082\u001b[0;31m         \u001b[0;32mreturn\u001b[0m \u001b[0mdispatch_target\u001b[0m\u001b[0;34m(\u001b[0m\u001b[0;34m*\u001b[0m\u001b[0margs\u001b[0m\u001b[0;34m,\u001b[0m \u001b[0;34m**\u001b[0m\u001b[0mkwargs\u001b[0m\u001b[0;34m)\u001b[0m\u001b[0;34m\u001b[0m\u001b[0;34m\u001b[0m\u001b[0m\n\u001b[0m\u001b[1;32m   1083\u001b[0m       \u001b[0;32mexcept\u001b[0m \u001b[0;34m(\u001b[0m\u001b[0mTypeError\u001b[0m\u001b[0;34m,\u001b[0m \u001b[0mValueError\u001b[0m\u001b[0;34m)\u001b[0m\u001b[0;34m:\u001b[0m\u001b[0;34m\u001b[0m\u001b[0;34m\u001b[0m\u001b[0m\n\u001b[1;32m   1084\u001b[0m         \u001b[0;31m# Note: convert_to_eager_tensor currently raises a ValueError, not a\u001b[0m\u001b[0;34m\u001b[0m\u001b[0;34m\u001b[0m\u001b[0;34m\u001b[0m\u001b[0m\n",
            "\u001b[0;32m/usr/local/lib/python3.7/dist-packages/keras/backend.py\u001b[0m in \u001b[0;36mrnn\u001b[0;34m(step_function, inputs, initial_states, go_backwards, mask, constants, unroll, input_length, time_major, zero_output_for_mask)\u001b[0m\n\u001b[1;32m   4744\u001b[0m           \u001b[0mbody\u001b[0m\u001b[0;34m=\u001b[0m\u001b[0m_step\u001b[0m\u001b[0;34m,\u001b[0m\u001b[0;34m\u001b[0m\u001b[0;34m\u001b[0m\u001b[0m\n\u001b[1;32m   4745\u001b[0m           \u001b[0mloop_vars\u001b[0m\u001b[0;34m=\u001b[0m\u001b[0;34m(\u001b[0m\u001b[0mtime\u001b[0m\u001b[0;34m,\u001b[0m \u001b[0moutput_ta\u001b[0m\u001b[0;34m)\u001b[0m \u001b[0;34m+\u001b[0m \u001b[0mstates\u001b[0m\u001b[0;34m,\u001b[0m\u001b[0;34m\u001b[0m\u001b[0;34m\u001b[0m\u001b[0m\n\u001b[0;32m-> 4746\u001b[0;31m           **while_loop_kwargs)\n\u001b[0m\u001b[1;32m   4747\u001b[0m       \u001b[0mnew_states\u001b[0m \u001b[0;34m=\u001b[0m \u001b[0mfinal_outputs\u001b[0m\u001b[0;34m[\u001b[0m\u001b[0;36m2\u001b[0m\u001b[0;34m:\u001b[0m\u001b[0;34m]\u001b[0m\u001b[0;34m\u001b[0m\u001b[0;34m\u001b[0m\u001b[0m\n\u001b[1;32m   4748\u001b[0m \u001b[0;34m\u001b[0m\u001b[0m\n",
            "\u001b[0;32m/usr/local/lib/python3.7/dist-packages/tensorflow/python/ops/control_flow_ops.py\u001b[0m in \u001b[0;36mwhile_loop\u001b[0;34m(cond, body, loop_vars, shape_invariants, parallel_iterations, back_prop, swap_memory, name, maximum_iterations, return_same_structure)\u001b[0m\n\u001b[1;32m   2793\u001b[0m                                               list(loop_vars))\n\u001b[1;32m   2794\u001b[0m       \u001b[0;32mwhile\u001b[0m \u001b[0mcond\u001b[0m\u001b[0;34m(\u001b[0m\u001b[0;34m*\u001b[0m\u001b[0mloop_vars\u001b[0m\u001b[0;34m)\u001b[0m\u001b[0;34m:\u001b[0m\u001b[0;34m\u001b[0m\u001b[0;34m\u001b[0m\u001b[0m\n\u001b[0;32m-> 2795\u001b[0;31m         \u001b[0mloop_vars\u001b[0m \u001b[0;34m=\u001b[0m \u001b[0mbody\u001b[0m\u001b[0;34m(\u001b[0m\u001b[0;34m*\u001b[0m\u001b[0mloop_vars\u001b[0m\u001b[0;34m)\u001b[0m\u001b[0;34m\u001b[0m\u001b[0;34m\u001b[0m\u001b[0m\n\u001b[0m\u001b[1;32m   2796\u001b[0m         \u001b[0;32mif\u001b[0m \u001b[0mtry_to_pack\u001b[0m \u001b[0;32mand\u001b[0m \u001b[0;32mnot\u001b[0m \u001b[0misinstance\u001b[0m\u001b[0;34m(\u001b[0m\u001b[0mloop_vars\u001b[0m\u001b[0;34m,\u001b[0m \u001b[0;34m(\u001b[0m\u001b[0mlist\u001b[0m\u001b[0;34m,\u001b[0m \u001b[0m_basetuple\u001b[0m\u001b[0;34m)\u001b[0m\u001b[0;34m)\u001b[0m\u001b[0;34m:\u001b[0m\u001b[0;34m\u001b[0m\u001b[0;34m\u001b[0m\u001b[0m\n\u001b[1;32m   2797\u001b[0m           \u001b[0mpacked\u001b[0m \u001b[0;34m=\u001b[0m \u001b[0;32mTrue\u001b[0m\u001b[0;34m\u001b[0m\u001b[0;34m\u001b[0m\u001b[0m\n",
            "\u001b[0;32m/usr/local/lib/python3.7/dist-packages/keras/backend.py\u001b[0m in \u001b[0;36m_step\u001b[0;34m(time, output_ta_t, *states)\u001b[0m\n\u001b[1;32m   4728\u001b[0m         \u001b[0mcurrent_input\u001b[0m \u001b[0;34m=\u001b[0m \u001b[0mtf\u001b[0m\u001b[0;34m.\u001b[0m\u001b[0mnest\u001b[0m\u001b[0;34m.\u001b[0m\u001b[0mpack_sequence_as\u001b[0m\u001b[0;34m(\u001b[0m\u001b[0minputs\u001b[0m\u001b[0;34m,\u001b[0m \u001b[0mcurrent_input\u001b[0m\u001b[0;34m)\u001b[0m\u001b[0;34m\u001b[0m\u001b[0;34m\u001b[0m\u001b[0m\n\u001b[1;32m   4729\u001b[0m         output, new_states = step_function(current_input,\n\u001b[0;32m-> 4730\u001b[0;31m                                            tuple(states) + tuple(constants))\n\u001b[0m\u001b[1;32m   4731\u001b[0m         \u001b[0mflat_state\u001b[0m \u001b[0;34m=\u001b[0m \u001b[0mtf\u001b[0m\u001b[0;34m.\u001b[0m\u001b[0mnest\u001b[0m\u001b[0;34m.\u001b[0m\u001b[0mflatten\u001b[0m\u001b[0;34m(\u001b[0m\u001b[0mstates\u001b[0m\u001b[0;34m)\u001b[0m\u001b[0;34m\u001b[0m\u001b[0;34m\u001b[0m\u001b[0m\n\u001b[1;32m   4732\u001b[0m         \u001b[0mflat_new_state\u001b[0m \u001b[0;34m=\u001b[0m \u001b[0mtf\u001b[0m\u001b[0;34m.\u001b[0m\u001b[0mnest\u001b[0m\u001b[0;34m.\u001b[0m\u001b[0mflatten\u001b[0m\u001b[0;34m(\u001b[0m\u001b[0mnew_states\u001b[0m\u001b[0;34m)\u001b[0m\u001b[0;34m\u001b[0m\u001b[0;34m\u001b[0m\u001b[0m\n",
            "\u001b[0;32m/usr/local/lib/python3.7/dist-packages/keras/layers/recurrent.py\u001b[0m in \u001b[0;36mstep\u001b[0;34m(inputs, states)\u001b[0m\n\u001b[1;32m    810\u001b[0m       \u001b[0;32mdef\u001b[0m \u001b[0mstep\u001b[0m\u001b[0;34m(\u001b[0m\u001b[0minputs\u001b[0m\u001b[0;34m,\u001b[0m \u001b[0mstates\u001b[0m\u001b[0;34m)\u001b[0m\u001b[0;34m:\u001b[0m\u001b[0;34m\u001b[0m\u001b[0;34m\u001b[0m\u001b[0m\n\u001b[1;32m    811\u001b[0m         \u001b[0mstates\u001b[0m \u001b[0;34m=\u001b[0m \u001b[0mstates\u001b[0m\u001b[0;34m[\u001b[0m\u001b[0;36m0\u001b[0m\u001b[0;34m]\u001b[0m \u001b[0;32mif\u001b[0m \u001b[0mlen\u001b[0m\u001b[0;34m(\u001b[0m\u001b[0mstates\u001b[0m\u001b[0;34m)\u001b[0m \u001b[0;34m==\u001b[0m \u001b[0;36m1\u001b[0m \u001b[0;32mand\u001b[0m \u001b[0mis_tf_rnn_cell\u001b[0m \u001b[0;32melse\u001b[0m \u001b[0mstates\u001b[0m\u001b[0;34m\u001b[0m\u001b[0;34m\u001b[0m\u001b[0m\n\u001b[0;32m--> 812\u001b[0;31m         \u001b[0moutput\u001b[0m\u001b[0;34m,\u001b[0m \u001b[0mnew_states\u001b[0m \u001b[0;34m=\u001b[0m \u001b[0mcell_call_fn\u001b[0m\u001b[0;34m(\u001b[0m\u001b[0minputs\u001b[0m\u001b[0;34m,\u001b[0m \u001b[0mstates\u001b[0m\u001b[0;34m,\u001b[0m \u001b[0;34m**\u001b[0m\u001b[0mkwargs\u001b[0m\u001b[0;34m)\u001b[0m\u001b[0;34m\u001b[0m\u001b[0;34m\u001b[0m\u001b[0m\n\u001b[0m\u001b[1;32m    813\u001b[0m         \u001b[0;32mif\u001b[0m \u001b[0;32mnot\u001b[0m \u001b[0mtf\u001b[0m\u001b[0;34m.\u001b[0m\u001b[0mnest\u001b[0m\u001b[0;34m.\u001b[0m\u001b[0mis_nested\u001b[0m\u001b[0;34m(\u001b[0m\u001b[0mnew_states\u001b[0m\u001b[0;34m)\u001b[0m\u001b[0;34m:\u001b[0m\u001b[0;34m\u001b[0m\u001b[0;34m\u001b[0m\u001b[0m\n\u001b[1;32m    814\u001b[0m           \u001b[0mnew_states\u001b[0m \u001b[0;34m=\u001b[0m \u001b[0;34m[\u001b[0m\u001b[0mnew_states\u001b[0m\u001b[0;34m]\u001b[0m\u001b[0;34m\u001b[0m\u001b[0;34m\u001b[0m\u001b[0m\n",
            "\u001b[0;32m/usr/local/lib/python3.7/dist-packages/keras/utils/traceback_utils.py\u001b[0m in \u001b[0;36merror_handler\u001b[0;34m(*args, **kwargs)\u001b[0m\n\u001b[1;32m     62\u001b[0m     \u001b[0mfiltered_tb\u001b[0m \u001b[0;34m=\u001b[0m \u001b[0;32mNone\u001b[0m\u001b[0;34m\u001b[0m\u001b[0;34m\u001b[0m\u001b[0m\n\u001b[1;32m     63\u001b[0m     \u001b[0;32mtry\u001b[0m\u001b[0;34m:\u001b[0m\u001b[0;34m\u001b[0m\u001b[0;34m\u001b[0m\u001b[0m\n\u001b[0;32m---> 64\u001b[0;31m       \u001b[0;32mreturn\u001b[0m \u001b[0mfn\u001b[0m\u001b[0;34m(\u001b[0m\u001b[0;34m*\u001b[0m\u001b[0margs\u001b[0m\u001b[0;34m,\u001b[0m \u001b[0;34m**\u001b[0m\u001b[0mkwargs\u001b[0m\u001b[0;34m)\u001b[0m\u001b[0;34m\u001b[0m\u001b[0;34m\u001b[0m\u001b[0m\n\u001b[0m\u001b[1;32m     65\u001b[0m     \u001b[0;32mexcept\u001b[0m \u001b[0mException\u001b[0m \u001b[0;32mas\u001b[0m \u001b[0me\u001b[0m\u001b[0;34m:\u001b[0m  \u001b[0;31m# pylint: disable=broad-except\u001b[0m\u001b[0;34m\u001b[0m\u001b[0;34m\u001b[0m\u001b[0m\n\u001b[1;32m     66\u001b[0m       \u001b[0mfiltered_tb\u001b[0m \u001b[0;34m=\u001b[0m \u001b[0m_process_traceback_frames\u001b[0m\u001b[0;34m(\u001b[0m\u001b[0me\u001b[0m\u001b[0;34m.\u001b[0m\u001b[0m__traceback__\u001b[0m\u001b[0;34m)\u001b[0m\u001b[0;34m\u001b[0m\u001b[0;34m\u001b[0m\u001b[0m\n",
            "\u001b[0;32m/usr/local/lib/python3.7/dist-packages/keras/engine/base_layer.py\u001b[0m in \u001b[0;36m__call__\u001b[0;34m(self, *args, **kwargs)\u001b[0m\n\u001b[1;32m   1094\u001b[0m         with autocast_variable.enable_auto_cast_variables(\n\u001b[1;32m   1095\u001b[0m             self._compute_dtype_object):\n\u001b[0;32m-> 1096\u001b[0;31m           \u001b[0moutputs\u001b[0m \u001b[0;34m=\u001b[0m \u001b[0mcall_fn\u001b[0m\u001b[0;34m(\u001b[0m\u001b[0minputs\u001b[0m\u001b[0;34m,\u001b[0m \u001b[0;34m*\u001b[0m\u001b[0margs\u001b[0m\u001b[0;34m,\u001b[0m \u001b[0;34m**\u001b[0m\u001b[0mkwargs\u001b[0m\u001b[0;34m)\u001b[0m\u001b[0;34m\u001b[0m\u001b[0;34m\u001b[0m\u001b[0m\n\u001b[0m\u001b[1;32m   1097\u001b[0m \u001b[0;34m\u001b[0m\u001b[0m\n\u001b[1;32m   1098\u001b[0m         \u001b[0;32mif\u001b[0m \u001b[0mself\u001b[0m\u001b[0;34m.\u001b[0m\u001b[0m_activity_regularizer\u001b[0m\u001b[0;34m:\u001b[0m\u001b[0;34m\u001b[0m\u001b[0;34m\u001b[0m\u001b[0m\n",
            "\u001b[0;32m/usr/local/lib/python3.7/dist-packages/keras/utils/traceback_utils.py\u001b[0m in \u001b[0;36merror_handler\u001b[0;34m(*args, **kwargs)\u001b[0m\n\u001b[1;32m     90\u001b[0m     \u001b[0mbound_signature\u001b[0m \u001b[0;34m=\u001b[0m \u001b[0;32mNone\u001b[0m\u001b[0;34m\u001b[0m\u001b[0;34m\u001b[0m\u001b[0m\n\u001b[1;32m     91\u001b[0m     \u001b[0;32mtry\u001b[0m\u001b[0;34m:\u001b[0m\u001b[0;34m\u001b[0m\u001b[0;34m\u001b[0m\u001b[0m\n\u001b[0;32m---> 92\u001b[0;31m       \u001b[0;32mreturn\u001b[0m \u001b[0mfn\u001b[0m\u001b[0;34m(\u001b[0m\u001b[0;34m*\u001b[0m\u001b[0margs\u001b[0m\u001b[0;34m,\u001b[0m \u001b[0;34m**\u001b[0m\u001b[0mkwargs\u001b[0m\u001b[0;34m)\u001b[0m\u001b[0;34m\u001b[0m\u001b[0;34m\u001b[0m\u001b[0m\n\u001b[0m\u001b[1;32m     93\u001b[0m     \u001b[0;32mexcept\u001b[0m \u001b[0mException\u001b[0m \u001b[0;32mas\u001b[0m \u001b[0me\u001b[0m\u001b[0;34m:\u001b[0m  \u001b[0;31m# pylint: disable=broad-except\u001b[0m\u001b[0;34m\u001b[0m\u001b[0;34m\u001b[0m\u001b[0m\n\u001b[1;32m     94\u001b[0m       \u001b[0;32mif\u001b[0m \u001b[0mhasattr\u001b[0m\u001b[0;34m(\u001b[0m\u001b[0me\u001b[0m\u001b[0;34m,\u001b[0m \u001b[0;34m'_keras_call_info_injected'\u001b[0m\u001b[0;34m)\u001b[0m\u001b[0;34m:\u001b[0m\u001b[0;34m\u001b[0m\u001b[0;34m\u001b[0m\u001b[0m\n",
            "\u001b[0;32m/usr/local/lib/python3.7/dist-packages/keras/layers/recurrent.py\u001b[0m in \u001b[0;36mcall\u001b[0;34m(self, inputs, states, constants, training, **kwargs)\u001b[0m\n\u001b[1;32m    143\u001b[0m                                       constants=constants, **kwargs)\n\u001b[1;32m    144\u001b[0m       \u001b[0;32melse\u001b[0m\u001b[0;34m:\u001b[0m\u001b[0;34m\u001b[0m\u001b[0;34m\u001b[0m\u001b[0m\n\u001b[0;32m--> 145\u001b[0;31m         \u001b[0minputs\u001b[0m\u001b[0;34m,\u001b[0m \u001b[0mstates\u001b[0m \u001b[0;34m=\u001b[0m \u001b[0mcell_call_fn\u001b[0m\u001b[0;34m(\u001b[0m\u001b[0minputs\u001b[0m\u001b[0;34m,\u001b[0m \u001b[0mstates\u001b[0m\u001b[0;34m,\u001b[0m \u001b[0;34m**\u001b[0m\u001b[0mkwargs\u001b[0m\u001b[0;34m)\u001b[0m\u001b[0;34m\u001b[0m\u001b[0;34m\u001b[0m\u001b[0m\n\u001b[0m\u001b[1;32m    146\u001b[0m       \u001b[0mnew_nested_states\u001b[0m\u001b[0;34m.\u001b[0m\u001b[0mappend\u001b[0m\u001b[0;34m(\u001b[0m\u001b[0mstates\u001b[0m\u001b[0;34m)\u001b[0m\u001b[0;34m\u001b[0m\u001b[0;34m\u001b[0m\u001b[0m\n\u001b[1;32m    147\u001b[0m \u001b[0;34m\u001b[0m\u001b[0m\n",
            "\u001b[0;32m/usr/local/lib/python3.7/dist-packages/keras/utils/traceback_utils.py\u001b[0m in \u001b[0;36merror_handler\u001b[0;34m(*args, **kwargs)\u001b[0m\n\u001b[1;32m     62\u001b[0m     \u001b[0mfiltered_tb\u001b[0m \u001b[0;34m=\u001b[0m \u001b[0;32mNone\u001b[0m\u001b[0;34m\u001b[0m\u001b[0;34m\u001b[0m\u001b[0m\n\u001b[1;32m     63\u001b[0m     \u001b[0;32mtry\u001b[0m\u001b[0;34m:\u001b[0m\u001b[0;34m\u001b[0m\u001b[0;34m\u001b[0m\u001b[0m\n\u001b[0;32m---> 64\u001b[0;31m       \u001b[0;32mreturn\u001b[0m \u001b[0mfn\u001b[0m\u001b[0;34m(\u001b[0m\u001b[0;34m*\u001b[0m\u001b[0margs\u001b[0m\u001b[0;34m,\u001b[0m \u001b[0;34m**\u001b[0m\u001b[0mkwargs\u001b[0m\u001b[0;34m)\u001b[0m\u001b[0;34m\u001b[0m\u001b[0;34m\u001b[0m\u001b[0m\n\u001b[0m\u001b[1;32m     65\u001b[0m     \u001b[0;32mexcept\u001b[0m \u001b[0mException\u001b[0m \u001b[0;32mas\u001b[0m \u001b[0me\u001b[0m\u001b[0;34m:\u001b[0m  \u001b[0;31m# pylint: disable=broad-except\u001b[0m\u001b[0;34m\u001b[0m\u001b[0;34m\u001b[0m\u001b[0m\n\u001b[1;32m     66\u001b[0m       \u001b[0mfiltered_tb\u001b[0m \u001b[0;34m=\u001b[0m \u001b[0m_process_traceback_frames\u001b[0m\u001b[0;34m(\u001b[0m\u001b[0me\u001b[0m\u001b[0;34m.\u001b[0m\u001b[0m__traceback__\u001b[0m\u001b[0;34m)\u001b[0m\u001b[0;34m\u001b[0m\u001b[0;34m\u001b[0m\u001b[0m\n",
            "\u001b[0;32m/usr/local/lib/python3.7/dist-packages/keras/engine/base_layer.py\u001b[0m in \u001b[0;36m__call__\u001b[0;34m(self, *args, **kwargs)\u001b[0m\n\u001b[1;32m   1094\u001b[0m         with autocast_variable.enable_auto_cast_variables(\n\u001b[1;32m   1095\u001b[0m             self._compute_dtype_object):\n\u001b[0;32m-> 1096\u001b[0;31m           \u001b[0moutputs\u001b[0m \u001b[0;34m=\u001b[0m \u001b[0mcall_fn\u001b[0m\u001b[0;34m(\u001b[0m\u001b[0minputs\u001b[0m\u001b[0;34m,\u001b[0m \u001b[0;34m*\u001b[0m\u001b[0margs\u001b[0m\u001b[0;34m,\u001b[0m \u001b[0;34m**\u001b[0m\u001b[0mkwargs\u001b[0m\u001b[0;34m)\u001b[0m\u001b[0;34m\u001b[0m\u001b[0;34m\u001b[0m\u001b[0m\n\u001b[0m\u001b[1;32m   1097\u001b[0m \u001b[0;34m\u001b[0m\u001b[0m\n\u001b[1;32m   1098\u001b[0m         \u001b[0;32mif\u001b[0m \u001b[0mself\u001b[0m\u001b[0;34m.\u001b[0m\u001b[0m_activity_regularizer\u001b[0m\u001b[0;34m:\u001b[0m\u001b[0;34m\u001b[0m\u001b[0;34m\u001b[0m\u001b[0m\n",
            "\u001b[0;32m/usr/local/lib/python3.7/dist-packages/keras/utils/traceback_utils.py\u001b[0m in \u001b[0;36merror_handler\u001b[0;34m(*args, **kwargs)\u001b[0m\n\u001b[1;32m     90\u001b[0m     \u001b[0mbound_signature\u001b[0m \u001b[0;34m=\u001b[0m \u001b[0;32mNone\u001b[0m\u001b[0;34m\u001b[0m\u001b[0;34m\u001b[0m\u001b[0m\n\u001b[1;32m     91\u001b[0m     \u001b[0;32mtry\u001b[0m\u001b[0;34m:\u001b[0m\u001b[0;34m\u001b[0m\u001b[0;34m\u001b[0m\u001b[0m\n\u001b[0;32m---> 92\u001b[0;31m       \u001b[0;32mreturn\u001b[0m \u001b[0mfn\u001b[0m\u001b[0;34m(\u001b[0m\u001b[0;34m*\u001b[0m\u001b[0margs\u001b[0m\u001b[0;34m,\u001b[0m \u001b[0;34m**\u001b[0m\u001b[0mkwargs\u001b[0m\u001b[0;34m)\u001b[0m\u001b[0;34m\u001b[0m\u001b[0;34m\u001b[0m\u001b[0m\n\u001b[0m\u001b[1;32m     93\u001b[0m     \u001b[0;32mexcept\u001b[0m \u001b[0mException\u001b[0m \u001b[0;32mas\u001b[0m \u001b[0me\u001b[0m\u001b[0;34m:\u001b[0m  \u001b[0;31m# pylint: disable=broad-except\u001b[0m\u001b[0;34m\u001b[0m\u001b[0;34m\u001b[0m\u001b[0m\n\u001b[1;32m     94\u001b[0m       \u001b[0;32mif\u001b[0m \u001b[0mhasattr\u001b[0m\u001b[0;34m(\u001b[0m\u001b[0me\u001b[0m\u001b[0;34m,\u001b[0m \u001b[0;34m'_keras_call_info_injected'\u001b[0m\u001b[0;34m)\u001b[0m\u001b[0;34m:\u001b[0m\u001b[0;34m\u001b[0m\u001b[0;34m\u001b[0m\u001b[0m\n",
            "\u001b[0;32m/usr/local/lib/python3.7/dist-packages/keras/layers/recurrent.py\u001b[0m in \u001b[0;36mcall\u001b[0;34m(self, inputs, states, training)\u001b[0m\n\u001b[1;32m   2502\u001b[0m \u001b[0;34m\u001b[0m\u001b[0m\n\u001b[1;32m   2503\u001b[0m       \u001b[0mz\u001b[0m \u001b[0;34m=\u001b[0m \u001b[0mtf\u001b[0m\u001b[0;34m.\u001b[0m\u001b[0msplit\u001b[0m\u001b[0;34m(\u001b[0m\u001b[0mz\u001b[0m\u001b[0;34m,\u001b[0m \u001b[0mnum_or_size_splits\u001b[0m\u001b[0;34m=\u001b[0m\u001b[0;36m4\u001b[0m\u001b[0;34m,\u001b[0m \u001b[0maxis\u001b[0m\u001b[0;34m=\u001b[0m\u001b[0;36m1\u001b[0m\u001b[0;34m)\u001b[0m\u001b[0;34m\u001b[0m\u001b[0;34m\u001b[0m\u001b[0m\n\u001b[0;32m-> 2504\u001b[0;31m       \u001b[0mc\u001b[0m\u001b[0;34m,\u001b[0m \u001b[0mo\u001b[0m \u001b[0;34m=\u001b[0m \u001b[0mself\u001b[0m\u001b[0;34m.\u001b[0m\u001b[0m_compute_carry_and_output_fused\u001b[0m\u001b[0;34m(\u001b[0m\u001b[0mz\u001b[0m\u001b[0;34m,\u001b[0m \u001b[0mc_tm1\u001b[0m\u001b[0;34m)\u001b[0m\u001b[0;34m\u001b[0m\u001b[0;34m\u001b[0m\u001b[0m\n\u001b[0m\u001b[1;32m   2505\u001b[0m \u001b[0;34m\u001b[0m\u001b[0m\n\u001b[1;32m   2506\u001b[0m     \u001b[0mh\u001b[0m \u001b[0;34m=\u001b[0m \u001b[0mo\u001b[0m \u001b[0;34m*\u001b[0m \u001b[0mself\u001b[0m\u001b[0;34m.\u001b[0m\u001b[0mactivation\u001b[0m\u001b[0;34m(\u001b[0m\u001b[0mc\u001b[0m\u001b[0;34m)\u001b[0m\u001b[0;34m\u001b[0m\u001b[0;34m\u001b[0m\u001b[0m\n",
            "\u001b[0;32m/usr/local/lib/python3.7/dist-packages/keras/layers/recurrent.py\u001b[0m in \u001b[0;36m_compute_carry_and_output_fused\u001b[0;34m(self, z, c_tm1)\u001b[0m\n\u001b[1;32m   2444\u001b[0m     \u001b[0mf\u001b[0m \u001b[0;34m=\u001b[0m \u001b[0mself\u001b[0m\u001b[0;34m.\u001b[0m\u001b[0mrecurrent_activation\u001b[0m\u001b[0;34m(\u001b[0m\u001b[0mz1\u001b[0m\u001b[0;34m)\u001b[0m\u001b[0;34m\u001b[0m\u001b[0;34m\u001b[0m\u001b[0m\n\u001b[1;32m   2445\u001b[0m     \u001b[0mc\u001b[0m \u001b[0;34m=\u001b[0m \u001b[0mf\u001b[0m \u001b[0;34m*\u001b[0m \u001b[0mc_tm1\u001b[0m \u001b[0;34m+\u001b[0m \u001b[0mi\u001b[0m \u001b[0;34m*\u001b[0m \u001b[0mself\u001b[0m\u001b[0;34m.\u001b[0m\u001b[0mactivation\u001b[0m\u001b[0;34m(\u001b[0m\u001b[0mz2\u001b[0m\u001b[0;34m)\u001b[0m\u001b[0;34m\u001b[0m\u001b[0;34m\u001b[0m\u001b[0m\n\u001b[0;32m-> 2446\u001b[0;31m     \u001b[0mo\u001b[0m \u001b[0;34m=\u001b[0m \u001b[0mself\u001b[0m\u001b[0;34m.\u001b[0m\u001b[0mrecurrent_activation\u001b[0m\u001b[0;34m(\u001b[0m\u001b[0mz3\u001b[0m\u001b[0;34m)\u001b[0m\u001b[0;34m\u001b[0m\u001b[0;34m\u001b[0m\u001b[0m\n\u001b[0m\u001b[1;32m   2447\u001b[0m     \u001b[0;32mreturn\u001b[0m \u001b[0mc\u001b[0m\u001b[0;34m,\u001b[0m \u001b[0mo\u001b[0m\u001b[0;34m\u001b[0m\u001b[0;34m\u001b[0m\u001b[0m\n\u001b[1;32m   2448\u001b[0m \u001b[0;34m\u001b[0m\u001b[0m\n",
            "\u001b[0;32m/usr/local/lib/python3.7/dist-packages/tensorflow/python/util/traceback_utils.py\u001b[0m in \u001b[0;36merror_handler\u001b[0;34m(*args, **kwargs)\u001b[0m\n\u001b[1;32m    148\u001b[0m     \u001b[0mfiltered_tb\u001b[0m \u001b[0;34m=\u001b[0m \u001b[0;32mNone\u001b[0m\u001b[0;34m\u001b[0m\u001b[0;34m\u001b[0m\u001b[0m\n\u001b[1;32m    149\u001b[0m     \u001b[0;32mtry\u001b[0m\u001b[0;34m:\u001b[0m\u001b[0;34m\u001b[0m\u001b[0;34m\u001b[0m\u001b[0m\n\u001b[0;32m--> 150\u001b[0;31m       \u001b[0;32mreturn\u001b[0m \u001b[0mfn\u001b[0m\u001b[0;34m(\u001b[0m\u001b[0;34m*\u001b[0m\u001b[0margs\u001b[0m\u001b[0;34m,\u001b[0m \u001b[0;34m**\u001b[0m\u001b[0mkwargs\u001b[0m\u001b[0;34m)\u001b[0m\u001b[0;34m\u001b[0m\u001b[0;34m\u001b[0m\u001b[0m\n\u001b[0m\u001b[1;32m    151\u001b[0m     \u001b[0;32mexcept\u001b[0m \u001b[0mException\u001b[0m \u001b[0;32mas\u001b[0m \u001b[0me\u001b[0m\u001b[0;34m:\u001b[0m\u001b[0;34m\u001b[0m\u001b[0;34m\u001b[0m\u001b[0m\n\u001b[1;32m    152\u001b[0m       \u001b[0mfiltered_tb\u001b[0m \u001b[0;34m=\u001b[0m \u001b[0m_process_traceback_frames\u001b[0m\u001b[0;34m(\u001b[0m\u001b[0me\u001b[0m\u001b[0;34m.\u001b[0m\u001b[0m__traceback__\u001b[0m\u001b[0;34m)\u001b[0m\u001b[0;34m\u001b[0m\u001b[0;34m\u001b[0m\u001b[0m\n",
            "\u001b[0;32m/usr/local/lib/python3.7/dist-packages/tensorflow/python/util/dispatch.py\u001b[0m in \u001b[0;36mop_dispatch_handler\u001b[0;34m(*args, **kwargs)\u001b[0m\n\u001b[1;32m   1080\u001b[0m       \u001b[0;31m# Fallback dispatch system (dispatch v1):\u001b[0m\u001b[0;34m\u001b[0m\u001b[0;34m\u001b[0m\u001b[0;34m\u001b[0m\u001b[0m\n\u001b[1;32m   1081\u001b[0m       \u001b[0;32mtry\u001b[0m\u001b[0;34m:\u001b[0m\u001b[0;34m\u001b[0m\u001b[0;34m\u001b[0m\u001b[0m\n\u001b[0;32m-> 1082\u001b[0;31m         \u001b[0;32mreturn\u001b[0m \u001b[0mdispatch_target\u001b[0m\u001b[0;34m(\u001b[0m\u001b[0;34m*\u001b[0m\u001b[0margs\u001b[0m\u001b[0;34m,\u001b[0m \u001b[0;34m**\u001b[0m\u001b[0mkwargs\u001b[0m\u001b[0;34m)\u001b[0m\u001b[0;34m\u001b[0m\u001b[0;34m\u001b[0m\u001b[0m\n\u001b[0m\u001b[1;32m   1083\u001b[0m       \u001b[0;32mexcept\u001b[0m \u001b[0;34m(\u001b[0m\u001b[0mTypeError\u001b[0m\u001b[0;34m,\u001b[0m \u001b[0mValueError\u001b[0m\u001b[0;34m)\u001b[0m\u001b[0;34m:\u001b[0m\u001b[0;34m\u001b[0m\u001b[0;34m\u001b[0m\u001b[0m\n\u001b[1;32m   1084\u001b[0m         \u001b[0;31m# Note: convert_to_eager_tensor currently raises a ValueError, not a\u001b[0m\u001b[0;34m\u001b[0m\u001b[0;34m\u001b[0m\u001b[0;34m\u001b[0m\u001b[0m\n",
            "\u001b[0;32m/usr/local/lib/python3.7/dist-packages/keras/activations.py\u001b[0m in \u001b[0;36msigmoid\u001b[0;34m(x)\u001b[0m\n\u001b[1;32m    401\u001b[0m       \u001b[0mTensor\u001b[0m \u001b[0;32mwith\u001b[0m \u001b[0mthe\u001b[0m \u001b[0msigmoid\u001b[0m \u001b[0mactivation\u001b[0m\u001b[0;34m:\u001b[0m\u001b[0;31m \u001b[0m\u001b[0;31m`\u001b[0m\u001b[0;36m1\u001b[0m \u001b[0;34m/\u001b[0m \u001b[0;34m(\u001b[0m\u001b[0;36m1\u001b[0m \u001b[0;34m+\u001b[0m \u001b[0mexp\u001b[0m\u001b[0;34m(\u001b[0m\u001b[0;34m-\u001b[0m\u001b[0mx\u001b[0m\u001b[0;34m)\u001b[0m\u001b[0;34m)\u001b[0m\u001b[0;31m`\u001b[0m\u001b[0;34m.\u001b[0m\u001b[0;34m\u001b[0m\u001b[0;34m\u001b[0m\u001b[0m\n\u001b[1;32m    402\u001b[0m   \"\"\"\n\u001b[0;32m--> 403\u001b[0;31m   \u001b[0moutput\u001b[0m \u001b[0;34m=\u001b[0m \u001b[0mtf\u001b[0m\u001b[0;34m.\u001b[0m\u001b[0msigmoid\u001b[0m\u001b[0;34m(\u001b[0m\u001b[0mx\u001b[0m\u001b[0;34m)\u001b[0m\u001b[0;34m\u001b[0m\u001b[0;34m\u001b[0m\u001b[0m\n\u001b[0m\u001b[1;32m    404\u001b[0m   \u001b[0;31m# Cache the logits to use for crossentropy loss.\u001b[0m\u001b[0;34m\u001b[0m\u001b[0;34m\u001b[0m\u001b[0;34m\u001b[0m\u001b[0m\n\u001b[1;32m    405\u001b[0m   \u001b[0moutput\u001b[0m\u001b[0;34m.\u001b[0m\u001b[0m_keras_logits\u001b[0m \u001b[0;34m=\u001b[0m \u001b[0mx\u001b[0m  \u001b[0;31m# pylint: disable=protected-access\u001b[0m\u001b[0;34m\u001b[0m\u001b[0;34m\u001b[0m\u001b[0m\n",
            "\u001b[0;32m/usr/local/lib/python3.7/dist-packages/tensorflow/python/util/traceback_utils.py\u001b[0m in \u001b[0;36merror_handler\u001b[0;34m(*args, **kwargs)\u001b[0m\n\u001b[1;32m    148\u001b[0m     \u001b[0mfiltered_tb\u001b[0m \u001b[0;34m=\u001b[0m \u001b[0;32mNone\u001b[0m\u001b[0;34m\u001b[0m\u001b[0;34m\u001b[0m\u001b[0m\n\u001b[1;32m    149\u001b[0m     \u001b[0;32mtry\u001b[0m\u001b[0;34m:\u001b[0m\u001b[0;34m\u001b[0m\u001b[0;34m\u001b[0m\u001b[0m\n\u001b[0;32m--> 150\u001b[0;31m       \u001b[0;32mreturn\u001b[0m \u001b[0mfn\u001b[0m\u001b[0;34m(\u001b[0m\u001b[0;34m*\u001b[0m\u001b[0margs\u001b[0m\u001b[0;34m,\u001b[0m \u001b[0;34m**\u001b[0m\u001b[0mkwargs\u001b[0m\u001b[0;34m)\u001b[0m\u001b[0;34m\u001b[0m\u001b[0;34m\u001b[0m\u001b[0m\n\u001b[0m\u001b[1;32m    151\u001b[0m     \u001b[0;32mexcept\u001b[0m \u001b[0mException\u001b[0m \u001b[0;32mas\u001b[0m \u001b[0me\u001b[0m\u001b[0;34m:\u001b[0m\u001b[0;34m\u001b[0m\u001b[0;34m\u001b[0m\u001b[0m\n\u001b[1;32m    152\u001b[0m       \u001b[0mfiltered_tb\u001b[0m \u001b[0;34m=\u001b[0m \u001b[0m_process_traceback_frames\u001b[0m\u001b[0;34m(\u001b[0m\u001b[0me\u001b[0m\u001b[0;34m.\u001b[0m\u001b[0m__traceback__\u001b[0m\u001b[0;34m)\u001b[0m\u001b[0;34m\u001b[0m\u001b[0;34m\u001b[0m\u001b[0m\n",
            "\u001b[0;32m/usr/local/lib/python3.7/dist-packages/tensorflow/python/util/dispatch.py\u001b[0m in \u001b[0;36mop_dispatch_handler\u001b[0;34m(*args, **kwargs)\u001b[0m\n\u001b[1;32m   1080\u001b[0m       \u001b[0;31m# Fallback dispatch system (dispatch v1):\u001b[0m\u001b[0;34m\u001b[0m\u001b[0;34m\u001b[0m\u001b[0;34m\u001b[0m\u001b[0m\n\u001b[1;32m   1081\u001b[0m       \u001b[0;32mtry\u001b[0m\u001b[0;34m:\u001b[0m\u001b[0;34m\u001b[0m\u001b[0;34m\u001b[0m\u001b[0m\n\u001b[0;32m-> 1082\u001b[0;31m         \u001b[0;32mreturn\u001b[0m \u001b[0mdispatch_target\u001b[0m\u001b[0;34m(\u001b[0m\u001b[0;34m*\u001b[0m\u001b[0margs\u001b[0m\u001b[0;34m,\u001b[0m \u001b[0;34m**\u001b[0m\u001b[0mkwargs\u001b[0m\u001b[0;34m)\u001b[0m\u001b[0;34m\u001b[0m\u001b[0;34m\u001b[0m\u001b[0m\n\u001b[0m\u001b[1;32m   1083\u001b[0m       \u001b[0;32mexcept\u001b[0m \u001b[0;34m(\u001b[0m\u001b[0mTypeError\u001b[0m\u001b[0;34m,\u001b[0m \u001b[0mValueError\u001b[0m\u001b[0;34m)\u001b[0m\u001b[0;34m:\u001b[0m\u001b[0;34m\u001b[0m\u001b[0;34m\u001b[0m\u001b[0m\n\u001b[1;32m   1084\u001b[0m         \u001b[0;31m# Note: convert_to_eager_tensor currently raises a ValueError, not a\u001b[0m\u001b[0;34m\u001b[0m\u001b[0;34m\u001b[0m\u001b[0;34m\u001b[0m\u001b[0m\n",
            "\u001b[0;32m/usr/local/lib/python3.7/dist-packages/tensorflow/python/ops/math_ops.py\u001b[0m in \u001b[0;36msigmoid\u001b[0;34m(x, name)\u001b[0m\n\u001b[1;32m   4190\u001b[0m   \u001b[0;32mwith\u001b[0m \u001b[0mops\u001b[0m\u001b[0;34m.\u001b[0m\u001b[0mname_scope\u001b[0m\u001b[0;34m(\u001b[0m\u001b[0mname\u001b[0m\u001b[0;34m,\u001b[0m \u001b[0;34m\"Sigmoid\"\u001b[0m\u001b[0;34m,\u001b[0m \u001b[0;34m[\u001b[0m\u001b[0mx\u001b[0m\u001b[0;34m]\u001b[0m\u001b[0;34m)\u001b[0m \u001b[0;32mas\u001b[0m \u001b[0mname\u001b[0m\u001b[0;34m:\u001b[0m\u001b[0;34m\u001b[0m\u001b[0;34m\u001b[0m\u001b[0m\n\u001b[1;32m   4191\u001b[0m     \u001b[0mx\u001b[0m \u001b[0;34m=\u001b[0m \u001b[0mops\u001b[0m\u001b[0;34m.\u001b[0m\u001b[0mconvert_to_tensor\u001b[0m\u001b[0;34m(\u001b[0m\u001b[0mx\u001b[0m\u001b[0;34m,\u001b[0m \u001b[0mname\u001b[0m\u001b[0;34m=\u001b[0m\u001b[0;34m\"x\"\u001b[0m\u001b[0;34m)\u001b[0m\u001b[0;34m\u001b[0m\u001b[0;34m\u001b[0m\u001b[0m\n\u001b[0;32m-> 4192\u001b[0;31m     \u001b[0;32mreturn\u001b[0m \u001b[0mgen_math_ops\u001b[0m\u001b[0;34m.\u001b[0m\u001b[0msigmoid\u001b[0m\u001b[0;34m(\u001b[0m\u001b[0mx\u001b[0m\u001b[0;34m,\u001b[0m \u001b[0mname\u001b[0m\u001b[0;34m=\u001b[0m\u001b[0mname\u001b[0m\u001b[0;34m)\u001b[0m\u001b[0;34m\u001b[0m\u001b[0;34m\u001b[0m\u001b[0m\n\u001b[0m\u001b[1;32m   4193\u001b[0m \u001b[0;34m\u001b[0m\u001b[0m\n\u001b[1;32m   4194\u001b[0m \u001b[0;34m\u001b[0m\u001b[0m\n",
            "\u001b[0;32m/usr/local/lib/python3.7/dist-packages/tensorflow/python/ops/gen_math_ops.py\u001b[0m in \u001b[0;36msigmoid\u001b[0;34m(x, name)\u001b[0m\n\u001b[1;32m   9420\u001b[0m     \u001b[0;32mtry\u001b[0m\u001b[0;34m:\u001b[0m\u001b[0;34m\u001b[0m\u001b[0;34m\u001b[0m\u001b[0m\n\u001b[1;32m   9421\u001b[0m       _result = pywrap_tfe.TFE_Py_FastPathExecute(\n\u001b[0;32m-> 9422\u001b[0;31m         _ctx, \"Sigmoid\", name, x)\n\u001b[0m\u001b[1;32m   9423\u001b[0m       \u001b[0;32mreturn\u001b[0m \u001b[0m_result\u001b[0m\u001b[0;34m\u001b[0m\u001b[0;34m\u001b[0m\u001b[0m\n\u001b[1;32m   9424\u001b[0m     \u001b[0;32mexcept\u001b[0m \u001b[0m_core\u001b[0m\u001b[0;34m.\u001b[0m\u001b[0m_NotOkStatusException\u001b[0m \u001b[0;32mas\u001b[0m \u001b[0me\u001b[0m\u001b[0;34m:\u001b[0m\u001b[0;34m\u001b[0m\u001b[0;34m\u001b[0m\u001b[0m\n",
            "\u001b[0;31mKeyboardInterrupt\u001b[0m: "
          ]
        }
      ],
      "source": [
        "# Attention : this code is running about 30 minutes + \n",
        "# Instantiates the PTBModel class\n",
        "m=PTBModel.instance()   \n",
        "K = tf.keras.backend \n",
        "for i in range(max_epoch):\n",
        "    # Define the decay for this epoch\n",
        "    lr_decay = decay ** max(i - max_epoch_decay_lr, 0.0)\n",
        "    dcr = learning_rate * lr_decay\n",
        "    m._lr = dcr\n",
        "    K.set_value(m._model.optimizer.learning_rate,m._lr)\n",
        "    print(\"Epoch %d : Learning rate: %.3f\" % (i + 1, m._model.optimizer.learning_rate))\n",
        "    # Run the loop for this epoch in the training mode\n",
        "    train_perplexity = run_one_epoch(m, train_data,is_training=True,verbose=True)\n",
        "    print(\"Epoch %d : Train Perplexity: %.3f\" % (i + 1, train_perplexity))\n",
        "        \n",
        "    # Run the loop for this epoch in the validation mode\n",
        "    valid_perplexity = run_one_epoch(m, valid_data,is_training=False,verbose=False)\n",
        "    print(\"Epoch %d : Valid Perplexity: %.3f\" % (i + 1, valid_perplexity))\n",
        "    \n",
        "# Run the loop in the testing mode to see how effective was our training\n",
        "test_perplexity = run_one_epoch(m, test_data,is_training=False,verbose=False)\n",
        "print(\"Test Perplexity: %.3f\" % test_perplexity)\n",
        "\n"
      ]
    },
    {
      "cell_type": "markdown",
      "metadata": {
        "button": false,
        "deletable": true,
        "new_sheet": false,
        "run_control": {
          "read_only": false
        },
        "id": "SI_WyZttQQ4a"
      },
      "source": [
        "As you can see, the model's perplexity rating drops very quickly after a few iterations. As was elaborated before, <b>lower Perplexity means that the model is more certain about its prediction</b>. As such, we can be sure that this model is performing well!\n"
      ]
    },
    {
      "cell_type": "markdown",
      "metadata": {
        "button": false,
        "deletable": true,
        "new_sheet": false,
        "run_control": {
          "read_only": false
        },
        "id": "Jx2zXxtzQQ4a"
      },
      "source": [
        "***\n"
      ]
    },
    {
      "cell_type": "markdown",
      "metadata": {
        "button": false,
        "deletable": true,
        "new_sheet": false,
        "run_control": {
          "read_only": false
        },
        "id": "saIGtdQrQQ4a"
      },
      "source": [
        "This is the end of the <b>Applying Recurrent Neural Networks to Text Processing</b> notebook. Hopefully you now have a better understanding of Recurrent Neural Networks and how to implement one utilizing TensorFlow. Thank you for reading this notebook, and good luck on your studies.\n"
      ]
    },
    {
      "cell_type": "markdown",
      "metadata": {
        "button": false,
        "deletable": true,
        "new_sheet": false,
        "run_control": {
          "read_only": false
        },
        "id": "jXKUR89gQQ4a"
      },
      "source": [
        "## Want to learn more?\n",
        "\n",
        "Also, you can use **Watson Studio** to run these notebooks faster with bigger datasets.**Watson Studio** is IBM’s leading cloud solution for data scientists, built by data scientists. With Jupyter notebooks, RStudio, Apache Spark and popular libraries pre-packaged in the cloud, **Watson Studio** enables data scientists to collaborate on their projects without having to install anything. Join the fast-growing community of **Watson Studio** users today with a free account at [Watson Studio](https://cocl.us/ML0120EN_DSX).This is the end of this lesson. Thank you for reading this notebook, and good luck on your studies.\n"
      ]
    },
    {
      "cell_type": "markdown",
      "metadata": {
        "button": false,
        "deletable": true,
        "new_sheet": false,
        "run_control": {
          "read_only": false
        },
        "id": "ExmyFmVpQQ4a"
      },
      "source": [
        "### Thanks for completing this lesson!\n",
        "\n",
        "Notebook created by <a href=\"https://br.linkedin.com/in/walter-gomes-de-amorim-junior-624726121?utm_medium=Exinfluencer&utm_source=Exinfluencer&utm_content=000026UJ&utm_term=10006555&utm_id=NA-SkillsNetwork-Channel-SkillsNetworkCoursesIBMDeveloperSkillsNetworkDL0120ENSkillsNetwork20629446-2022-01-01\">Walter Gomes de Amorim Junior</a>, <a href = \"https://linkedin.com/in/saeedaghabozorgi?utm_medium=Exinfluencer&utm_source=Exinfluencer&utm_content=000026UJ&utm_term=10006555&utm_id=NA-SkillsNetwork-Channel-SkillsNetworkCoursesIBMDeveloperSkillsNetworkDL0120ENSkillsNetwork20629446-2022-01-01\"> Saeed Aghabozorgi </a></h4>\n",
        "\n",
        "Updated to TF 2.X by <a href=\"https://linkedin.com/in/romeo-kienzler-089b4557?utm_medium=Exinfluencer&utm_source=Exinfluencer&utm_content=000026UJ&utm_term=10006555&utm_id=NA-SkillsNetwork-Channel-SkillsNetworkCoursesIBMDeveloperSkillsNetworkDL0120ENSkillsNetwork20629446-2022-01-01\"> Romeo Kienzler </a>, <a href=\"https://www.linkedin.com/in/samaya-madhavan?utm_medium=Exinfluencer&utm_source=Exinfluencer&utm_content=000026UJ&utm_term=10006555&utm_id=NA-SkillsNetwork-Channel-SkillsNetworkCoursesIBMDeveloperSkillsNetworkDL0120ENSkillsNetwork20629446-2022-01-01\"> Samaya Madhavan </a>\n"
      ]
    },
    {
      "cell_type": "markdown",
      "metadata": {
        "id": "UnpjYw9uQQ4a"
      },
      "source": [
        "## Change Log\n",
        "\n",
        "| Date (YYYY-MM-DD) | Version | Changed By | Change Description                                          |\n",
        "| ----------------- | ------- | ---------- | ----------------------------------------------------------- |\n",
        "| 2020-09-21        | 2.0     | Srishti    | Migrated Lab to Markdown and added to course repo in GitLab |\n",
        "\n",
        "<hr>\n",
        "\n",
        "## <h3 align=\"center\"> © IBM Corporation 2020. All rights reserved. <h3/>\n"
      ]
    },
    {
      "cell_type": "markdown",
      "metadata": {
        "button": false,
        "deletable": true,
        "new_sheet": false,
        "run_control": {
          "read_only": false
        },
        "id": "g9kkDmnmQQ4b"
      },
      "source": [
        "<hr>\n",
        "\n",
        "Copyright © 2018 [Cognitive Class](https://cocl.us/DX0108EN_CC). This notebook and its source code are released under the terms of the [MIT License](https://bigdatauniversity.com/mit-license?utm_medium=Exinfluencer&utm_source=Exinfluencer&utm_content=000026UJ&utm_term=10006555&utm_id=NA-SkillsNetwork-Channel-SkillsNetworkCoursesIBMDeveloperSkillsNetworkDL0120ENSkillsNetwork20629446-2022-01-01&cm_mmc=Email_Newsletter-\\_-Developer_Ed%2BTech-\\_-WW_WW-\\_-SkillsNetwork-Courses-IBMDeveloperSkillsNetwork-DL0120EN-SkillsNetwork-20629446&cm_mmca1=000026UJ&cm_mmca2=10006555&cm_mmca3=M12345678&cvosrc=email.Newsletter.M12345678&cvo_campaign=000026UJ).\n"
      ]
    }
  ],
  "metadata": {
    "anaconda-cloud": {},
    "kernelspec": {
      "display_name": "Python",
      "language": "python",
      "name": "conda-env-python-py"
    },
    "language_info": {
      "codemirror_mode": {
        "name": "ipython",
        "version": 3
      },
      "file_extension": ".py",
      "mimetype": "text/x-python",
      "name": "python",
      "nbconvert_exporter": "python",
      "pygments_lexer": "ipython3",
      "version": "3.7.12"
    },
    "colab": {
      "name": "ML0120EN-3.2_LSTM-LanguageModelling.ipynb",
      "provenance": []
    },
    "accelerator": "GPU",
    "gpuClass": "standard"
  },
  "nbformat": 4,
  "nbformat_minor": 0
}