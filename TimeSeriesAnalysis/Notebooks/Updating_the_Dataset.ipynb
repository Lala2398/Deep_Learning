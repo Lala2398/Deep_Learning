{
  "cells": [
    {
      "cell_type": "code",
      "execution_count": 14,
      "metadata": {
        "colab": {
          "base_uri": "https://localhost:8080/"
        },
        "id": "NlYljsCCWivt",
        "outputId": "d263f040-6401-4ab2-bdc6-8393dbdd2cb3"
      },
      "outputs": [
        {
          "output_type": "stream",
          "name": "stdout",
          "text": [
            "Looking in indexes: https://pypi.org/simple, https://us-python.pkg.dev/colab-wheels/public/simple/\n",
            "Requirement already satisfied: yfinance in /usr/local/lib/python3.7/dist-packages (0.1.84)\n",
            "Requirement already satisfied: pandas>=0.24.0 in /usr/local/lib/python3.7/dist-packages (from yfinance) (1.3.5)\n",
            "Requirement already satisfied: appdirs>=1.4.4 in /usr/local/lib/python3.7/dist-packages (from yfinance) (1.4.4)\n",
            "Requirement already satisfied: lxml>=4.5.1 in /usr/local/lib/python3.7/dist-packages (from yfinance) (4.9.1)\n",
            "Requirement already satisfied: multitasking>=0.0.7 in /usr/local/lib/python3.7/dist-packages (from yfinance) (0.0.11)\n",
            "Requirement already satisfied: numpy>=1.15 in /usr/local/lib/python3.7/dist-packages (from yfinance) (1.21.6)\n",
            "Requirement already satisfied: requests>=2.26 in /usr/local/lib/python3.7/dist-packages (from yfinance) (2.28.1)\n",
            "Requirement already satisfied: python-dateutil>=2.7.3 in /usr/local/lib/python3.7/dist-packages (from pandas>=0.24.0->yfinance) (2.8.2)\n",
            "Requirement already satisfied: pytz>=2017.3 in /usr/local/lib/python3.7/dist-packages (from pandas>=0.24.0->yfinance) (2022.5)\n",
            "Requirement already satisfied: six>=1.5 in /usr/local/lib/python3.7/dist-packages (from python-dateutil>=2.7.3->pandas>=0.24.0->yfinance) (1.15.0)\n",
            "Requirement already satisfied: certifi>=2017.4.17 in /usr/local/lib/python3.7/dist-packages (from requests>=2.26->yfinance) (2022.9.24)\n",
            "Requirement already satisfied: idna<4,>=2.5 in /usr/local/lib/python3.7/dist-packages (from requests>=2.26->yfinance) (2.10)\n",
            "Requirement already satisfied: charset-normalizer<3,>=2 in /usr/local/lib/python3.7/dist-packages (from requests>=2.26->yfinance) (2.1.1)\n",
            "Requirement already satisfied: urllib3<1.27,>=1.21.1 in /usr/local/lib/python3.7/dist-packages (from requests>=2.26->yfinance) (1.24.3)\n"
          ]
        }
      ],
      "source": [
        "# Importing the necessary package \n",
        "#Note firstly pip install yfinance, secondly import\n",
        "!pip install yfinance\n",
        "import pandas as pd\n",
        "import yfinance as yf"
      ]
    },
    {
      "cell_type": "code",
      "execution_count": 15,
      "metadata": {
        "id": "k04MrbAUWiv1"
      },
      "outputs": [],
      "source": [
        "# Ignoring warning messages\n",
        "import warnings \n",
        "warnings.filterwarnings(\"ignore\")"
      ]
    },
    {
      "cell_type": "code",
      "execution_count": 18,
      "metadata": {
        "colab": {
          "base_uri": "https://localhost:8080/"
        },
        "id": "hlsXFoIUWiv2",
        "outputId": "1a0d99d4-9ac5-4454-f397-d0a4089b5093"
      },
      "outputs": [
        {
          "output_type": "stream",
          "name": "stdout",
          "text": [
            "[*********************100%***********************]  4 of 4 completed\n"
          ]
        }
      ],
      "source": [
        "# Using the .download() method to get our data\n",
        "#Note : YFinance is YF is here for import part\n",
        "\n",
        "raw_data = yf.download (tickers = \"^GSPC ^FTSE ^N225 ^GDAXI\", start = \"1994-01-07\", end = \"2019-09-27\", interval = \"1d\", group_by = 'ticker', auto_adjust = True, treads = True)\n",
        "\n",
        "# tickers -> The time series we are interested in - (in our case, these are the S&P, FTSE, NIKKEI and DAX)\n",
        "# start -> The starting date of our data set\n",
        "# end -> The ending date of our data set (at the time of upload, this is the current date)\n",
        "# interval -> The distance in time between two recorded observations. Since we're using daily closing prices, we set it equal to \"1d\", which indicates 1 day. \n",
        "# group_by -> The way we want to group the scraped data. Usually we want it to be \"ticker\", so that we have all the information about a time series in 1 variable.\n",
        "# auto_adjust -> Automatically adjust the closing prices for each period. \n",
        "# treads - > Whether to use threads for mass downloading. "
      ]
    },
    {
      "cell_type": "code",
      "execution_count": 19,
      "metadata": {
        "id": "B_jNsbXyWiv3"
      },
      "outputs": [],
      "source": [
        "# Creating a back up copy in case we remove/alter elements of the data by mistake\n",
        "df_comp = raw_data.copy()"
      ]
    },
    {
      "cell_type": "code",
      "execution_count": 20,
      "metadata": {
        "id": "Ww_b3oKwWiv4"
      },
      "outputs": [],
      "source": [
        "# Adding new columns to the data set\n",
        "df_comp['spx'] = df_comp['^GSPC'].Close\n",
        "df_comp['dax'] = df_comp['^GDAXI'].Close\n",
        "df_comp['ftse'] = df_comp['^FTSE'].Close\n",
        "df_comp['nikkei'] = df_comp['^N225'].Close"
      ]
    },
    {
      "cell_type": "code",
      "execution_count": 21,
      "metadata": {
        "scrolled": true,
        "id": "_1l_gQZ-Wiv5"
      },
      "outputs": [],
      "source": [
        "df_comp = df_comp.iloc[1:] # Removing the first elements, since we always start 1 period before the first, due to time zone differences of closing prices\n",
        "del df_comp['^N225']  # Removing the original tickers of the data set\n",
        "del df_comp['^GSPC']\n",
        "del df_comp['^GDAXI']\n",
        "del df_comp['^FTSE']\n",
        "df_comp=df_comp.asfreq('b') # Setting the frequency of the data\n",
        "df_comp=df_comp.fillna(method='ffill') # Filling any missing values"
      ]
    },
    {
      "cell_type": "code",
      "execution_count": 22,
      "metadata": {
        "colab": {
          "base_uri": "https://localhost:8080/"
        },
        "id": "tQbiMaF7Wiv5",
        "outputId": "3ea3879f-338f-4c9f-81e6-57663eaef0bc"
      },
      "outputs": [
        {
          "output_type": "stream",
          "name": "stdout",
          "text": [
            "                   spx          dax         ftse        nikkei\n",
            "                                                              \n",
            "Date                                                          \n",
            "1994-01-10  475.269989  2225.000000  3440.600098  18443.439453\n",
            "1994-01-11  474.130005  2228.100098  3413.800049  18485.250000\n",
            "1994-01-12  474.170013  2182.060059  3372.000000  18793.880859\n",
            "1994-01-13  472.470001  2142.370117  3360.000000  18577.259766\n",
            "1994-01-14  474.910004  2151.050049  3400.600098  18973.699219\n",
            "                    spx           dax         ftse        nikkei\n",
            "                                                                \n",
            "Date                                                            \n",
            "2019-09-20  2992.070068  12468.009766  7344.899902  22079.089844\n",
            "2019-09-23  2991.780029  12342.330078  7326.100098  22079.089844\n",
            "2019-09-24  2966.600098  12307.150391  7291.399902  22098.839844\n",
            "2019-09-25  2984.870117  12234.179688  7290.000000  22020.150391\n",
            "2019-09-26  2977.620117  12288.540039  7351.100098  22048.240234\n"
          ]
        }
      ],
      "source": [
        "print (df_comp.head()) # Displaying the first 5 elements to make sure the data was scraped correctly\n",
        "print (df_comp.tail()) # Making sure the last day we're including in the series are correct"
      ]
    }
  ],
  "metadata": {
    "kernelspec": {
      "display_name": "Python 3",
      "language": "python",
      "name": "python3"
    },
    "language_info": {
      "codemirror_mode": {
        "name": "ipython",
        "version": 3
      },
      "file_extension": ".py",
      "mimetype": "text/x-python",
      "name": "python",
      "nbconvert_exporter": "python",
      "pygments_lexer": "ipython3",
      "version": "3.6.7"
    },
    "colab": {
      "provenance": []
    },
    "accelerator": "GPU",
    "gpuClass": "standard"
  },
  "nbformat": 4,
  "nbformat_minor": 0
}