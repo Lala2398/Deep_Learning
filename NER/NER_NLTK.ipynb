{
  "nbformat": 4,
  "nbformat_minor": 0,
  "metadata": {
    "colab": {
      "provenance": [],
      "gpuType": "T4"
    },
    "kernelspec": {
      "name": "python3",
      "display_name": "Python 3"
    },
    "language_info": {
      "name": "python"
    },
    "accelerator": "GPU"
  },
  "cells": [
    {
      "cell_type": "markdown",
      "source": [
        "The main purpose of this code is to demonstrate how to use the Natural Language Toolkit (NLTK) library in Python to perform a series of natural language processing (NLP) tasks on a sample text. Specifically, it performs tokenization, part-of-speech tagging, and named entity recognition, and then displays the results."
      ],
      "metadata": {
        "id": "yNK8UsurOOl1"
      }
    },
    {
      "cell_type": "markdown",
      "source": [
        "Import NLTK and Necessary Functions\n",
        "\n",
        "Download Required NLTK Data Files:\n"
      ],
      "metadata": {
        "id": "wr-844bDOSif"
      }
    },
    {
      "cell_type": "code",
      "execution_count": null,
      "metadata": {
        "colab": {
          "base_uri": "https://localhost:8080/"
        },
        "id": "FPLedUhdNS2F",
        "outputId": "dc7668de-0d17-4a31-f479-7a7054243779"
      },
      "outputs": [
        {
          "output_type": "stream",
          "name": "stderr",
          "text": [
            "[nltk_data] Downloading package punkt to /root/nltk_data...\n",
            "[nltk_data]   Unzipping tokenizers/punkt.zip.\n",
            "[nltk_data] Downloading package averaged_perceptron_tagger to\n",
            "[nltk_data]     /root/nltk_data...\n",
            "[nltk_data]   Unzipping taggers/averaged_perceptron_tagger.zip.\n",
            "[nltk_data] Downloading package maxent_ne_chunker to\n",
            "[nltk_data]     /root/nltk_data...\n",
            "[nltk_data]   Unzipping chunkers/maxent_ne_chunker.zip.\n",
            "[nltk_data] Downloading package words to /root/nltk_data...\n",
            "[nltk_data]   Unzipping corpora/words.zip.\n"
          ]
        },
        {
          "output_type": "execute_result",
          "data": {
            "text/plain": [
              "True"
            ]
          },
          "metadata": {},
          "execution_count": 1
        }
      ],
      "source": [
        "import nltk\n",
        "from nltk import word_tokenize, pos_tag, ne_chunk\n",
        "\n",
        "# Download necessary NLTK data files\n",
        "nltk.download('punkt')  # Tokenizer\n",
        "nltk.download('averaged_perceptron_tagger')  # Part-of-speech tagger\n",
        "nltk.download('maxent_ne_chunker')  # Named Entity Recognizer\n",
        "nltk.download('words')  # Corpus of words for NER"
      ]
    },
    {
      "cell_type": "markdown",
      "source": [
        "Define Sample Text"
      ],
      "metadata": {
        "id": "F8FoifmWOTnk"
      }
    },
    {
      "cell_type": "code",
      "source": [
        "# Sample text to analyze\n",
        "text = \"Bill Gates, the co-founder of Microsoft, was born on October 28, 1955.\""
      ],
      "metadata": {
        "id": "Jcw6BS6-NWEM"
      },
      "execution_count": null,
      "outputs": []
    },
    {
      "cell_type": "markdown",
      "source": [
        "Tokenize the Text / Perform Part-of-Speech Tagging"
      ],
      "metadata": {
        "id": "1EHOV8MfOeaO"
      }
    },
    {
      "cell_type": "code",
      "source": [
        "# Tokenize the text into individual words\n",
        "tokens = word_tokenize(text)\n",
        "\n",
        "# Perform part-of-speech tagging on the tokens\n",
        "tags = pos_tag(tokens)"
      ],
      "metadata": {
        "id": "En1LyNi5NWTO"
      },
      "execution_count": null,
      "outputs": []
    },
    {
      "cell_type": "markdown",
      "source": [
        "Print Named Entities"
      ],
      "metadata": {
        "id": "VyavlCcPOk9A"
      }
    },
    {
      "cell_type": "code",
      "source": [
        "# Perform named entity recognition using the part-of-speech tagged tokens\n",
        "entities = ne_chunk(tags)\n",
        "\n",
        "# Print the named entities in a tree format\n",
        "print(entities)"
      ],
      "metadata": {
        "id": "p3uyo4H5Nal-",
        "colab": {
          "base_uri": "https://localhost:8080/"
        },
        "outputId": "56c8a501-f076-46a7-b0fc-f488b6127e29"
      },
      "execution_count": null,
      "outputs": [
        {
          "output_type": "stream",
          "name": "stdout",
          "text": [
            "(S\n",
            "  (PERSON Bill/NNP)\n",
            "  (GPE Gates/NNP)\n",
            "  ,/,\n",
            "  the/DT\n",
            "  co-founder/NN\n",
            "  of/IN\n",
            "  (ORGANIZATION Microsoft/NNP)\n",
            "  ,/,\n",
            "  was/VBD\n",
            "  born/VBN\n",
            "  on/IN\n",
            "  October/NNP\n",
            "  28/CD\n",
            "  ,/,\n",
            "  1955/CD\n",
            "  ./.)\n"
          ]
        }
      ]
    },
    {
      "cell_type": "markdown",
      "source": [
        "Pretty-Print Named Entities"
      ],
      "metadata": {
        "id": "KSaexiJ-OohB"
      }
    },
    {
      "cell_type": "code",
      "source": [
        "# Pretty-print the named entities for better visualization\n",
        "entities.pprint()"
      ],
      "metadata": {
        "colab": {
          "base_uri": "https://localhost:8080/"
        },
        "id": "sAnwUEP-NjZp",
        "outputId": "3ad3c176-338d-4d5e-c678-3ec31f16f0b0"
      },
      "execution_count": null,
      "outputs": [
        {
          "output_type": "stream",
          "name": "stdout",
          "text": [
            "(S\n",
            "  (PERSON Bill/NNP)\n",
            "  (GPE Gates/NNP)\n",
            "  ,/,\n",
            "  the/DT\n",
            "  co-founder/NN\n",
            "  of/IN\n",
            "  (ORGANIZATION Microsoft/NNP)\n",
            "  ,/,\n",
            "  was/VBD\n",
            "  born/VBN\n",
            "  on/IN\n",
            "  October/NNP\n",
            "  28/CD\n",
            "  ,/,\n",
            "  1955/CD\n",
            "  ./.)\n"
          ]
        }
      ]
    }
  ]
}