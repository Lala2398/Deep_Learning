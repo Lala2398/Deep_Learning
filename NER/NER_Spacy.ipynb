{
  "nbformat": 4,
  "nbformat_minor": 0,
  "metadata": {
    "colab": {
      "provenance": [],
      "gpuType": "T4"
    },
    "kernelspec": {
      "name": "python3",
      "display_name": "Python 3"
    },
    "language_info": {
      "name": "python"
    },
    "accelerator": "GPU"
  },
  "cells": [
    {
      "cell_type": "markdown",
      "source": [
        "The main purpose of this code is to demonstrate various natural language processing (NLP) tasks using the spaCy library, focusing on named entity recognition (NER). The code performs the following key operations:\n",
        "\n",
        "    Load and Inspect the NLP Pipeline:\n",
        "        Load a pre-trained English NLP model (en_core_web_sm) from spaCy.\n",
        "        Display the components of the NLP pipeline.\n",
        "\n",
        "    Named Entity Recognition (NER):\n",
        "        Process a sample text to create a doc object, which contains the NLP analysis.\n",
        "        Extract and print named entities from the text, along with their labels and explanations.\n",
        "        Visualize the named entities using spaCy's displacy tool.\n",
        "        Display the labels used by the NER component of the pipeline.\n",
        "\n",
        "    Basic Entity Extraction and Explanation:\n",
        "        Process another text to extract and print named entities, their labels, and explanations.\n",
        "\n",
        "    Extended Entity Extraction with Character Positions:\n",
        "        Process a text to extract named entities along with their start and end character positions in the text.\n",
        "        Process a variation of the text to extract and print named entities and their labels.\n",
        "\n",
        "    Span Operations and Custom Entity Creation:\n",
        "        Extract a span of tokens from the processed document.\n",
        "        Print the type of the extracted span.\n",
        "        Create new named entity spans with specific labels.\n",
        "        Add these custom entity spans to the document.\n",
        "        Print the updated named entities in the document, including the newly added custom entities."
      ],
      "metadata": {
        "id": "O5RXy9K5SNHG"
      }
    },
    {
      "cell_type": "markdown",
      "source": [
        "### Load and Inspect the NLP Pipeline / Named Entity Recognition (NER)"
      ],
      "metadata": {
        "id": "-ew3MIu2SjV3"
      }
    },
    {
      "cell_type": "code",
      "execution_count": 1,
      "metadata": {
        "id": "gs8sohqCMj0_"
      },
      "outputs": [],
      "source": [
        "import spacy\n",
        "from spacy.tokens import Span"
      ]
    },
    {
      "cell_type": "code",
      "source": [
        "# Load the pre-trained spaCy model for English\n",
        "nlp = spacy.load(\"en_core_web_sm\")\n",
        "# Display the pipeline components\n",
        "nlp.pipe_names"
      ],
      "metadata": {
        "colab": {
          "base_uri": "https://localhost:8080/"
        },
        "id": "PPkJBHkPMn1W",
        "outputId": "add906ce-5a63-4901-8b30-2181d17be711"
      },
      "execution_count": 2,
      "outputs": [
        {
          "output_type": "execute_result",
          "data": {
            "text/plain": [
              "['tok2vec', 'tagger', 'parser', 'attribute_ruler', 'lemmatizer', 'ner']"
            ]
          },
          "metadata": {},
          "execution_count": 2
        }
      ]
    },
    {
      "cell_type": "code",
      "source": [
        "# Create a document by processing a text through the NLP pipeline\n",
        "doc = nlp(\"Tesla Inc is going to acquire twitter for $45 billion\")\n",
        "# Iterate over the named entities in the document and print their text, label, and label explanation\n",
        "for ent in doc.ents:\n",
        "    print(ent.text, \" | \", ent.label_, \" | \", spacy.explain(ent.label_))"
      ],
      "metadata": {
        "colab": {
          "base_uri": "https://localhost:8080/"
        },
        "id": "x-JE6lFvMpex",
        "outputId": "3180c653-246e-4672-de62-3c0fb3eec214"
      },
      "execution_count": 3,
      "outputs": [
        {
          "output_type": "stream",
          "name": "stdout",
          "text": [
            "Tesla Inc  |  ORG  |  Companies, agencies, institutions, etc.\n",
            "$45 billion  |  MONEY  |  Monetary values, including unit\n"
          ]
        }
      ]
    },
    {
      "cell_type": "code",
      "source": [
        "from spacy import displacy\n",
        "# Visualize the named entities in the document using displaCy\n",
        "displacy.render(doc, style=\"ent\")"
      ],
      "metadata": {
        "colab": {
          "base_uri": "https://localhost:8080/",
          "height": 52
        },
        "id": "KCTv-nItMrnT",
        "outputId": "1273c476-6448-4f24-f609-94e46e0b3933"
      },
      "execution_count": 4,
      "outputs": [
        {
          "output_type": "display_data",
          "data": {
            "text/plain": [
              "<IPython.core.display.HTML object>"
            ],
            "text/html": [
              "<span class=\"tex2jax_ignore\"><div class=\"entities\" style=\"line-height: 2.5; direction: ltr\">\n",
              "<mark class=\"entity\" style=\"background: #7aecec; padding: 0.45em 0.6em; margin: 0 0.25em; line-height: 1; border-radius: 0.35em;\">\n",
              "    Tesla Inc\n",
              "    <span style=\"font-size: 0.8em; font-weight: bold; line-height: 1; border-radius: 0.35em; vertical-align: middle; margin-left: 0.5rem\">ORG</span>\n",
              "</mark>\n",
              " is going to acquire twitter for \n",
              "<mark class=\"entity\" style=\"background: #e4e7d2; padding: 0.45em 0.6em; margin: 0 0.25em; line-height: 1; border-radius: 0.35em;\">\n",
              "    $45 billion\n",
              "    <span style=\"font-size: 0.8em; font-weight: bold; line-height: 1; border-radius: 0.35em; vertical-align: middle; margin-left: 0.5rem\">MONEY</span>\n",
              "</mark>\n",
              "</div></span>"
            ]
          },
          "metadata": {}
        }
      ]
    },
    {
      "cell_type": "code",
      "source": [
        "# Display the labels used by the NER component\n",
        "nlp.pipe_labels['ner']"
      ],
      "metadata": {
        "colab": {
          "base_uri": "https://localhost:8080/"
        },
        "id": "o3y6Xf5kMukO",
        "outputId": "6984142f-ad63-441a-c04e-e1dae43acc6e"
      },
      "execution_count": 5,
      "outputs": [
        {
          "output_type": "execute_result",
          "data": {
            "text/plain": [
              "['CARDINAL',\n",
              " 'DATE',\n",
              " 'EVENT',\n",
              " 'FAC',\n",
              " 'GPE',\n",
              " 'LANGUAGE',\n",
              " 'LAW',\n",
              " 'LOC',\n",
              " 'MONEY',\n",
              " 'NORP',\n",
              " 'ORDINAL',\n",
              " 'ORG',\n",
              " 'PERCENT',\n",
              " 'PERSON',\n",
              " 'PRODUCT',\n",
              " 'QUANTITY',\n",
              " 'TIME',\n",
              " 'WORK_OF_ART']"
            ]
          },
          "metadata": {},
          "execution_count": 5
        }
      ]
    },
    {
      "cell_type": "markdown",
      "source": [
        "### 1. Basic Entity Extraction and Explanation\n",
        "\n",
        "\n",
        "\n",
        "\n"
      ],
      "metadata": {
        "id": "P3oB7OWXpW9l"
      }
    },
    {
      "cell_type": "code",
      "source": [
        "# Process a new text to create another document\n",
        "doc = nlp(\"Michael Bloomberg founded Bloomberg in 1982\")\n",
        "# Iterate over the named entities in the new document and print their text, label, and label explanation\n",
        "for ent in doc.ents:\n",
        "    print(ent.text, \"|\", ent.label_, \"|\", spacy.explain(ent.label_))"
      ],
      "metadata": {
        "colab": {
          "base_uri": "https://localhost:8080/"
        },
        "id": "_cgkypGVMv5P",
        "outputId": "81101669-0fd1-49b1-f9b7-7476f9572749"
      },
      "execution_count": 6,
      "outputs": [
        {
          "output_type": "stream",
          "name": "stdout",
          "text": [
            "Michael Bloomberg | PERSON | People, including fictional\n",
            "Bloomberg | PERSON | People, including fictional\n",
            "1982 | DATE | Absolute or relative dates or periods\n"
          ]
        }
      ]
    },
    {
      "cell_type": "markdown",
      "source": [
        "### 2. Extended Entity Extraction with Character Positions\n"
      ],
      "metadata": {
        "id": "TPXoZgsDpbt0"
      }
    },
    {
      "cell_type": "code",
      "source": [
        "# Process another text to create a new document\n",
        "doc = nlp(\"Tesla Inc is going to acquire Twitter Inc for $45 billion\")\n",
        "# Iterate over the named entities in the document and print their text, label, and character positions\n",
        "for ent in doc.ents:\n",
        "    print(ent.text, \" | \", ent.label_, \" | \", ent.start_char, \"|\", ent.end_char)"
      ],
      "metadata": {
        "colab": {
          "base_uri": "https://localhost:8080/"
        },
        "id": "g2SkyrsYM0QM",
        "outputId": "512a5ca7-89ea-4f37-c813-2baba9631887"
      },
      "execution_count": 7,
      "outputs": [
        {
          "output_type": "stream",
          "name": "stdout",
          "text": [
            "Tesla Inc  |  ORG  |  0 | 9\n",
            "Twitter Inc  |  ORG  |  30 | 41\n",
            "$45 billion  |  MONEY  |  46 | 57\n"
          ]
        }
      ]
    },
    {
      "cell_type": "code",
      "source": [
        "# Process another variation of the text to create a new document\n",
        "doc = nlp(\"Tesla is going to acquire Twitter for $45 billion\")\n",
        "# Iterate over the named entities in the document and print their text and label\n",
        "for ent in doc.ents:\n",
        "    print(ent.text, \" | \", ent.label_)"
      ],
      "metadata": {
        "colab": {
          "base_uri": "https://localhost:8080/"
        },
        "id": "y6aVX3TpM2K4",
        "outputId": "b17c4a62-2542-4876-e839-e10155318a8b"
      },
      "execution_count": 8,
      "outputs": [
        {
          "output_type": "stream",
          "name": "stdout",
          "text": [
            "Tesla  |  ORG\n",
            "Twitter  |  PRODUCT\n",
            "$45 billion  |  MONEY\n"
          ]
        }
      ]
    },
    {
      "cell_type": "markdown",
      "source": [
        "### 3. Span Operations and Custom Entity Creation"
      ],
      "metadata": {
        "id": "Iup1w6jqSX9R"
      }
    },
    {
      "cell_type": "code",
      "source": [
        "# Extract a span of tokens from the document\n",
        "s = doc[2:5]\n",
        "s"
      ],
      "metadata": {
        "colab": {
          "base_uri": "https://localhost:8080/"
        },
        "id": "0-YkvAe0M3qF",
        "outputId": "1a199c00-987c-4c06-f6ff-175456d74f7e"
      },
      "execution_count": 9,
      "outputs": [
        {
          "output_type": "execute_result",
          "data": {
            "text/plain": [
              "going to acquire"
            ]
          },
          "metadata": {},
          "execution_count": 9
        }
      ]
    },
    {
      "cell_type": "code",
      "source": [
        "# Display the type of the extracted span\n",
        "type(s)"
      ],
      "metadata": {
        "colab": {
          "base_uri": "https://localhost:8080/"
        },
        "id": "LaVE37zJM5Qn",
        "outputId": "cf37ee69-62e8-4d67-cf4e-4bde496b348c"
      },
      "execution_count": 10,
      "outputs": [
        {
          "output_type": "execute_result",
          "data": {
            "text/plain": [
              "spacy.tokens.span.Span"
            ]
          },
          "metadata": {},
          "execution_count": 10
        }
      ]
    },
    {
      "cell_type": "code",
      "source": [
        "# Create new named entity spans with specific labels\n",
        "s1 = Span(doc, 0, 1, label=\"ORG\")\n",
        "s2 = Span(doc, 5, 6, label=\"ORG\")\n",
        "\n",
        "# Set the newly created spans as entities in the document\n",
        "doc.set_ents([s1, s2], default=\"unmodified\")"
      ],
      "metadata": {
        "id": "xPVX0AbPM8ZJ"
      },
      "execution_count": 11,
      "outputs": []
    },
    {
      "cell_type": "code",
      "source": [
        "# Iterate over the named entities in the document and print their text and label\n",
        "for ent in doc.ents:\n",
        "    print(ent.text, \" | \", ent.label_)"
      ],
      "metadata": {
        "id": "rMv8mkvhM-EX",
        "outputId": "6b0e1e1c-8b7c-47ad-b75c-086c6eb41906",
        "colab": {
          "base_uri": "https://localhost:8080/"
        }
      },
      "execution_count": 12,
      "outputs": [
        {
          "output_type": "stream",
          "name": "stdout",
          "text": [
            "Tesla  |  ORG\n",
            "Twitter  |  ORG\n",
            "$45 billion  |  MONEY\n"
          ]
        }
      ]
    }
  ]
}