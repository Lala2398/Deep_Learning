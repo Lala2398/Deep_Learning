{
  "cells": [
    {
      "cell_type": "markdown",
      "metadata": {
        "id": "ibF7pjNyhBrR"
      },
      "source": [
        "###                     **Named Entity Recognition (NER): Exercises**"
      ]
    },
    {
      "cell_type": "code",
      "execution_count": 1,
      "metadata": {
        "id": "liI13P5Eg_w-"
      },
      "outputs": [],
      "source": [
        "#importing necessary libraries\n",
        "import spacy\n",
        "\n",
        "nlp = spacy.load(\"en_core_web_sm\")  #creating an object and loading the pre-trained model for \"English\""
      ]
    },
    {
      "cell_type": "markdown",
      "metadata": {
        "id": "LFR-Ep2DhXXa"
      },
      "source": [
        "#### **Exercise: 1**\n",
        "\n",
        "- Extract all the Geographical (cities, Countries, states) names from a given text"
      ]
    },
    {
      "cell_type": "code",
      "execution_count": 2,
      "metadata": {
        "id": "HgYXmU3phKbg"
      },
      "outputs": [],
      "source": [
        "# The given text\n",
        "text = text = \"\"\"Sarah is interested in learning about the traditional dishes from various countries around the world.\n",
        "She used her favorite search engine, Bing, to find this information.Bing revealed that in Italy it is Pasta, in Japan it is Sushi, in Mexico it is Tacos, in France it is Baguette, in China it is Peking Duck, in Greece it is Moussaka, in Spain it is Paella, and so on for many other countries.\"\"\"\n",
        "\n",
        "\n",
        "# Process the text\n",
        "doc = nlp(text)"
      ]
    },
    {
      "cell_type": "code",
      "source": [
        "# Extract geographical location names\n",
        "geo_locations = [ent.text for ent in doc.ents if ent.label_ in [\"GPE\", \"LOC\"]]\n",
        "\n",
        "# Print the results\n",
        "print(\"Geographical location Names: \", geo_locations)\n",
        "print(\"Count: \", len(geo_locations))\n"
      ],
      "metadata": {
        "id": "VCGHKBDvKkf-",
        "outputId": "cae8b8d7-408f-409a-cb5f-e4502abf7d36",
        "colab": {
          "base_uri": "https://localhost:8080/"
        }
      },
      "execution_count": 3,
      "outputs": [
        {
          "output_type": "stream",
          "name": "stdout",
          "text": [
            "Geographical location Names:  ['Italy', 'Japan', 'Mexico', 'France', 'Baguette', 'China', 'Greece', 'Spain']\n",
            "Count:  8\n"
          ]
        }
      ]
    },
    {
      "cell_type": "markdown",
      "metadata": {
        "id": "fJT4UnUYkpSP"
      },
      "source": [
        "#### **Exercise: 2**\n",
        "\n",
        "- Extract all the birth dates of cricketers in the given Text"
      ]
    },
    {
      "cell_type": "code",
      "execution_count": 4,
      "metadata": {
        "id": "pOMngJ2chKda"
      },
      "outputs": [],
      "source": [
        "# The given text\n",
        "text = text = \"\"\"Barack Obama was born on August 4, 1961, Angela Merkel was born on July 17, 1954,\n",
        "Nelson Mandela was born on July 18, 1918, and Mahatma Gandhi was born on October 2, 1869.\"\"\"\n",
        "\n",
        "# Process the text\n",
        "doc = nlp(text)\n"
      ]
    },
    {
      "cell_type": "code",
      "source": [
        "# Extract birth dates\n",
        "birth_dates = [ent.text for ent in doc.ents if ent.label_ == \"DATE\"]\n",
        "\n",
        "# Print the results\n",
        "print(\"All Birth Dates: \", birth_dates)\n",
        "print(\"Count: \", len(birth_dates))"
      ],
      "metadata": {
        "id": "T68duwiSLI7X",
        "outputId": "dc62cb4d-d1a5-495b-b24b-5bc009444682",
        "colab": {
          "base_uri": "https://localhost:8080/"
        }
      },
      "execution_count": 5,
      "outputs": [
        {
          "output_type": "stream",
          "name": "stdout",
          "text": [
            "All Birth Dates:  ['August 4, 1961', 'July 17, 1954', 'July 18, 1918', 'October 2, 1869']\n",
            "Count:  4\n"
          ]
        }
      ]
    }
  ],
  "metadata": {
    "colab": {
      "provenance": [],
      "gpuType": "T4"
    },
    "kernelspec": {
      "display_name": "Python 3",
      "name": "python3"
    },
    "language_info": {
      "codemirror_mode": {
        "name": "ipython",
        "version": 3
      },
      "file_extension": ".py",
      "mimetype": "text/x-python",
      "name": "python",
      "nbconvert_exporter": "python",
      "pygments_lexer": "ipython3",
      "version": "3.8.10"
    },
    "accelerator": "GPU"
  },
  "nbformat": 4,
  "nbformat_minor": 0
}