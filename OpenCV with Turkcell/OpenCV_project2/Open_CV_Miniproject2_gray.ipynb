{
 "cells": [
  {
   "cell_type": "markdown",
   "id": "ff898ab3",
   "metadata": {},
   "source": [
    "## gray image"
   ]
  },
  {
   "cell_type": "code",
   "execution_count": 1,
   "id": "f2368932",
   "metadata": {},
   "outputs": [
    {
     "name": "stdout",
     "output_type": "stream",
     "text": [
      "Requirement already satisfied: opencv-python in /home/lala/.local/lib/python3.8/site-packages (4.10.0.84)\n",
      "Requirement already satisfied: numpy>=1.17.3; python_version >= \"3.8\" in /home/lala/.local/lib/python3.8/site-packages (from opencv-python) (1.24.4)\n"
     ]
    }
   ],
   "source": [
    "!pip install opencv-python"
   ]
  },
  {
   "cell_type": "code",
   "execution_count": 2,
   "id": "c7cb703f",
   "metadata": {},
   "outputs": [],
   "source": [
    "import cv2 as cv"
   ]
  },
  {
   "cell_type": "code",
   "execution_count": 3,
   "id": "16d01548",
   "metadata": {},
   "outputs": [],
   "source": [
    "path = \"/home/lala/Downloads/OpenCV_Logo_with_text.png\""
   ]
  },
  {
   "cell_type": "code",
   "execution_count": 4,
   "id": "0fd33bd4",
   "metadata": {},
   "outputs": [
    {
     "data": {
      "text/plain": [
       "-1"
      ]
     },
     "execution_count": 4,
     "metadata": {},
     "output_type": "execute_result"
    }
   ],
   "source": [
    "img=cv.imread(path)\n",
    "cv.namedWindow(\"colored\", cv.WINDOW_AUTOSIZE)\n",
    "cv.imshow(\"colored\",img)\n",
    "cv.waitKey(1)"
   ]
  },
  {
   "cell_type": "code",
   "execution_count": 5,
   "id": "294728e8",
   "metadata": {},
   "outputs": [
    {
     "data": {
      "text/plain": [
       "-1"
      ]
     },
     "execution_count": 5,
     "metadata": {},
     "output_type": "execute_result"
    }
   ],
   "source": [
    "gray=cv.cvtColor(img,cv.COLOR_BGR2GRAY)\n",
    "cv.imshow(\"gray\",gray)\n",
    "cv.waitKey(1)"
   ]
  },
  {
   "cell_type": "markdown",
   "id": "ce3cfc38",
   "metadata": {},
   "source": [
    "### imwrite"
   ]
  },
  {
   "cell_type": "code",
   "execution_count": 6,
   "id": "929f6d8b",
   "metadata": {},
   "outputs": [
    {
     "data": {
      "text/plain": [
       "True"
      ]
     },
     "execution_count": 6,
     "metadata": {},
     "output_type": "execute_result"
    }
   ],
   "source": [
    "cv.imwrite(path+\"gray_opencv.png\",gray)"
   ]
  },
  {
   "cell_type": "code",
   "execution_count": 7,
   "id": "862b0caa",
   "metadata": {},
   "outputs": [],
   "source": [
    "cv.destroyAllWindows()"
   ]
  },
  {
   "cell_type": "code",
   "execution_count": 10,
   "id": "d31194c7",
   "metadata": {},
   "outputs": [
    {
     "name": "stderr",
     "output_type": "stream",
     "text": [
      "[ WARN:0@124.374] global loadsave.cpp:241 findDecoder imread_('/home/lala/Downloads/opencv.png'): can't open/read file: check file path/integrity\n"
     ]
    },
    {
     "data": {
      "text/plain": [
       "-1"
      ]
     },
     "execution_count": 10,
     "metadata": {},
     "output_type": "execute_result"
    }
   ],
   "source": [
    "#or \n",
    "\n",
    "img=cv.imread(\"/home/lala/Downloads/\"+\"opencv.png\", cv.IMREAD_GRAYSCALE)\n",
    "cv.namedWindow(\"gray\",cv.WINDOW_AUTOSIZE)\n",
    "cv.imshow(\"gray\",gray)\n",
    "cv.waitKey(1)"
   ]
  },
  {
   "cell_type": "code",
   "execution_count": 11,
   "id": "c6656f7f",
   "metadata": {},
   "outputs": [],
   "source": [
    "cv.destroyAllWindows()"
   ]
  }
 ],
 "metadata": {
  "kernelspec": {
   "display_name": "Python 3 (ipykernel)",
   "language": "python",
   "name": "python3"
  },
  "language_info": {
   "codemirror_mode": {
    "name": "ipython",
    "version": 3
   },
   "file_extension": ".py",
   "mimetype": "text/x-python",
   "name": "python",
   "nbconvert_exporter": "python",
   "pygments_lexer": "ipython3",
   "version": "3.8.10"
  }
 },
 "nbformat": 4,
 "nbformat_minor": 5
}
